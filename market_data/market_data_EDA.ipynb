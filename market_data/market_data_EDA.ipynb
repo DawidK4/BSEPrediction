{
 "cells": [
  {
   "cell_type": "code",
   "id": "initial_id",
   "metadata": {
    "collapsed": true,
    "ExecuteTime": {
     "end_time": "2025-10-11T18:51:04.231045Z",
     "start_time": "2025-10-11T18:51:04.004162Z"
    }
   },
   "source": "import pandas as pd",
   "outputs": [],
   "execution_count": 1
  },
  {
   "metadata": {
    "ExecuteTime": {
     "end_time": "2025-10-11T18:51:04.384515Z",
     "start_time": "2025-10-11T18:51:04.235646Z"
    }
   },
   "cell_type": "code",
   "source": [
    "ten_year_treasury_yield = pd.read_csv('data/10-Year Treasury Yield.csv')\n",
    "dow_jones = pd.read_csv('data/Dow Jones Industrial Average.csv')\n",
    "nasdaq = pd.read_csv('data/NASDAQ Composite.csv')\n",
    "oil_index = pd.read_csv('data/NYSE Arca Oil Index.csv')\n",
    "nyse_composite = pd.read_csv('data/NYSE Composite.csv')\n",
    "phlx_semiconductor_index = pd.read_csv('data/PHLX Semiconductor Index.csv')\n",
    "russel_2000 = pd.read_csv('data/Russell 2000.csv')\n",
    "sp_500 = pd.read_csv('data/S&P 500.csv')"
   ],
   "id": "57e4e89861097c37",
   "outputs": [],
   "execution_count": 2
  },
  {
   "metadata": {},
   "cell_type": "markdown",
   "source": "# 10-Year Treasury Yield",
   "id": "3b3be6c3721cd174"
  },
  {
   "metadata": {
    "ExecuteTime": {
     "end_time": "2025-10-11T18:51:04.400342Z",
     "start_time": "2025-10-11T18:51:04.391865Z"
    }
   },
   "cell_type": "code",
   "source": "ten_year_treasury_yield.tail()",
   "id": "85d1025f60eb6e46",
   "outputs": [
    {
     "data": {
      "text/plain": [
       "            Price               Close                High                 Low  \\\n",
       "15956  2025-10-06  4.1620001792907715   4.165999889373779   4.132999897003174   \n",
       "15957  2025-10-07   4.126999855041504   4.171000003814697    4.11299991607666   \n",
       "15958  2025-10-08   4.129000186920166   4.136000156402588  4.0960001945495605   \n",
       "15959  2025-10-09  4.1479997634887695  4.1519999504089355   4.126999855041504   \n",
       "15960  2025-10-10   4.054999828338623   4.105000019073486   4.052999973297119   \n",
       "\n",
       "                     Open Volume  \n",
       "15956  4.1620001792907715      0  \n",
       "15957   4.164000034332275      0  \n",
       "15958   4.104000091552734      0  \n",
       "15959   4.132999897003174      0  \n",
       "15960  4.0980000495910645      0  "
      ],
      "text/html": [
       "<div>\n",
       "<style scoped>\n",
       "    .dataframe tbody tr th:only-of-type {\n",
       "        vertical-align: middle;\n",
       "    }\n",
       "\n",
       "    .dataframe tbody tr th {\n",
       "        vertical-align: top;\n",
       "    }\n",
       "\n",
       "    .dataframe thead th {\n",
       "        text-align: right;\n",
       "    }\n",
       "</style>\n",
       "<table border=\"1\" class=\"dataframe\">\n",
       "  <thead>\n",
       "    <tr style=\"text-align: right;\">\n",
       "      <th></th>\n",
       "      <th>Price</th>\n",
       "      <th>Close</th>\n",
       "      <th>High</th>\n",
       "      <th>Low</th>\n",
       "      <th>Open</th>\n",
       "      <th>Volume</th>\n",
       "    </tr>\n",
       "  </thead>\n",
       "  <tbody>\n",
       "    <tr>\n",
       "      <th>15956</th>\n",
       "      <td>2025-10-06</td>\n",
       "      <td>4.1620001792907715</td>\n",
       "      <td>4.165999889373779</td>\n",
       "      <td>4.132999897003174</td>\n",
       "      <td>4.1620001792907715</td>\n",
       "      <td>0</td>\n",
       "    </tr>\n",
       "    <tr>\n",
       "      <th>15957</th>\n",
       "      <td>2025-10-07</td>\n",
       "      <td>4.126999855041504</td>\n",
       "      <td>4.171000003814697</td>\n",
       "      <td>4.11299991607666</td>\n",
       "      <td>4.164000034332275</td>\n",
       "      <td>0</td>\n",
       "    </tr>\n",
       "    <tr>\n",
       "      <th>15958</th>\n",
       "      <td>2025-10-08</td>\n",
       "      <td>4.129000186920166</td>\n",
       "      <td>4.136000156402588</td>\n",
       "      <td>4.0960001945495605</td>\n",
       "      <td>4.104000091552734</td>\n",
       "      <td>0</td>\n",
       "    </tr>\n",
       "    <tr>\n",
       "      <th>15959</th>\n",
       "      <td>2025-10-09</td>\n",
       "      <td>4.1479997634887695</td>\n",
       "      <td>4.1519999504089355</td>\n",
       "      <td>4.126999855041504</td>\n",
       "      <td>4.132999897003174</td>\n",
       "      <td>0</td>\n",
       "    </tr>\n",
       "    <tr>\n",
       "      <th>15960</th>\n",
       "      <td>2025-10-10</td>\n",
       "      <td>4.054999828338623</td>\n",
       "      <td>4.105000019073486</td>\n",
       "      <td>4.052999973297119</td>\n",
       "      <td>4.0980000495910645</td>\n",
       "      <td>0</td>\n",
       "    </tr>\n",
       "  </tbody>\n",
       "</table>\n",
       "</div>"
      ]
     },
     "execution_count": 3,
     "metadata": {},
     "output_type": "execute_result"
    }
   ],
   "execution_count": 3
  },
  {
   "metadata": {
    "ExecuteTime": {
     "end_time": "2025-10-11T18:51:04.516430Z",
     "start_time": "2025-10-11T18:51:04.508694Z"
    }
   },
   "cell_type": "code",
   "source": "ten_year_treasury_yield[ten_year_treasury_yield['Volume'] != 0]",
   "id": "b3e7f9b547ae3f2",
   "outputs": [
    {
     "data": {
      "text/plain": [
       "            Price               Close                High                 Low  \\\n",
       "0          Ticker                ^TNX                ^TNX                ^TNX   \n",
       "1            Date                 NaN                 NaN                 NaN   \n",
       "2      1962-01-02   4.059999942779541   4.059999942779541   4.059999942779541   \n",
       "3      1962-01-03    4.03000020980835    4.03000020980835    4.03000020980835   \n",
       "4      1962-01-04   3.990000009536743   3.990000009536743   3.990000009536743   \n",
       "...           ...                 ...                 ...                 ...   \n",
       "15956  2025-10-06  4.1620001792907715   4.165999889373779   4.132999897003174   \n",
       "15957  2025-10-07   4.126999855041504   4.171000003814697    4.11299991607666   \n",
       "15958  2025-10-08   4.129000186920166   4.136000156402588  4.0960001945495605   \n",
       "15959  2025-10-09  4.1479997634887695  4.1519999504089355   4.126999855041504   \n",
       "15960  2025-10-10   4.054999828338623   4.105000019073486   4.052999973297119   \n",
       "\n",
       "                     Open Volume  \n",
       "0                    ^TNX   ^TNX  \n",
       "1                     NaN    NaN  \n",
       "2       4.059999942779541      0  \n",
       "3        4.03000020980835      0  \n",
       "4       3.990000009536743      0  \n",
       "...                   ...    ...  \n",
       "15956  4.1620001792907715      0  \n",
       "15957   4.164000034332275      0  \n",
       "15958   4.104000091552734      0  \n",
       "15959   4.132999897003174      0  \n",
       "15960  4.0980000495910645      0  \n",
       "\n",
       "[15961 rows x 6 columns]"
      ],
      "text/html": [
       "<div>\n",
       "<style scoped>\n",
       "    .dataframe tbody tr th:only-of-type {\n",
       "        vertical-align: middle;\n",
       "    }\n",
       "\n",
       "    .dataframe tbody tr th {\n",
       "        vertical-align: top;\n",
       "    }\n",
       "\n",
       "    .dataframe thead th {\n",
       "        text-align: right;\n",
       "    }\n",
       "</style>\n",
       "<table border=\"1\" class=\"dataframe\">\n",
       "  <thead>\n",
       "    <tr style=\"text-align: right;\">\n",
       "      <th></th>\n",
       "      <th>Price</th>\n",
       "      <th>Close</th>\n",
       "      <th>High</th>\n",
       "      <th>Low</th>\n",
       "      <th>Open</th>\n",
       "      <th>Volume</th>\n",
       "    </tr>\n",
       "  </thead>\n",
       "  <tbody>\n",
       "    <tr>\n",
       "      <th>0</th>\n",
       "      <td>Ticker</td>\n",
       "      <td>^TNX</td>\n",
       "      <td>^TNX</td>\n",
       "      <td>^TNX</td>\n",
       "      <td>^TNX</td>\n",
       "      <td>^TNX</td>\n",
       "    </tr>\n",
       "    <tr>\n",
       "      <th>1</th>\n",
       "      <td>Date</td>\n",
       "      <td>NaN</td>\n",
       "      <td>NaN</td>\n",
       "      <td>NaN</td>\n",
       "      <td>NaN</td>\n",
       "      <td>NaN</td>\n",
       "    </tr>\n",
       "    <tr>\n",
       "      <th>2</th>\n",
       "      <td>1962-01-02</td>\n",
       "      <td>4.059999942779541</td>\n",
       "      <td>4.059999942779541</td>\n",
       "      <td>4.059999942779541</td>\n",
       "      <td>4.059999942779541</td>\n",
       "      <td>0</td>\n",
       "    </tr>\n",
       "    <tr>\n",
       "      <th>3</th>\n",
       "      <td>1962-01-03</td>\n",
       "      <td>4.03000020980835</td>\n",
       "      <td>4.03000020980835</td>\n",
       "      <td>4.03000020980835</td>\n",
       "      <td>4.03000020980835</td>\n",
       "      <td>0</td>\n",
       "    </tr>\n",
       "    <tr>\n",
       "      <th>4</th>\n",
       "      <td>1962-01-04</td>\n",
       "      <td>3.990000009536743</td>\n",
       "      <td>3.990000009536743</td>\n",
       "      <td>3.990000009536743</td>\n",
       "      <td>3.990000009536743</td>\n",
       "      <td>0</td>\n",
       "    </tr>\n",
       "    <tr>\n",
       "      <th>...</th>\n",
       "      <td>...</td>\n",
       "      <td>...</td>\n",
       "      <td>...</td>\n",
       "      <td>...</td>\n",
       "      <td>...</td>\n",
       "      <td>...</td>\n",
       "    </tr>\n",
       "    <tr>\n",
       "      <th>15956</th>\n",
       "      <td>2025-10-06</td>\n",
       "      <td>4.1620001792907715</td>\n",
       "      <td>4.165999889373779</td>\n",
       "      <td>4.132999897003174</td>\n",
       "      <td>4.1620001792907715</td>\n",
       "      <td>0</td>\n",
       "    </tr>\n",
       "    <tr>\n",
       "      <th>15957</th>\n",
       "      <td>2025-10-07</td>\n",
       "      <td>4.126999855041504</td>\n",
       "      <td>4.171000003814697</td>\n",
       "      <td>4.11299991607666</td>\n",
       "      <td>4.164000034332275</td>\n",
       "      <td>0</td>\n",
       "    </tr>\n",
       "    <tr>\n",
       "      <th>15958</th>\n",
       "      <td>2025-10-08</td>\n",
       "      <td>4.129000186920166</td>\n",
       "      <td>4.136000156402588</td>\n",
       "      <td>4.0960001945495605</td>\n",
       "      <td>4.104000091552734</td>\n",
       "      <td>0</td>\n",
       "    </tr>\n",
       "    <tr>\n",
       "      <th>15959</th>\n",
       "      <td>2025-10-09</td>\n",
       "      <td>4.1479997634887695</td>\n",
       "      <td>4.1519999504089355</td>\n",
       "      <td>4.126999855041504</td>\n",
       "      <td>4.132999897003174</td>\n",
       "      <td>0</td>\n",
       "    </tr>\n",
       "    <tr>\n",
       "      <th>15960</th>\n",
       "      <td>2025-10-10</td>\n",
       "      <td>4.054999828338623</td>\n",
       "      <td>4.105000019073486</td>\n",
       "      <td>4.052999973297119</td>\n",
       "      <td>4.0980000495910645</td>\n",
       "      <td>0</td>\n",
       "    </tr>\n",
       "  </tbody>\n",
       "</table>\n",
       "<p>15961 rows × 6 columns</p>\n",
       "</div>"
      ]
     },
     "execution_count": 4,
     "metadata": {},
     "output_type": "execute_result"
    }
   ],
   "execution_count": 4
  },
  {
   "metadata": {
    "ExecuteTime": {
     "end_time": "2025-10-11T18:51:04.795369Z",
     "start_time": "2025-10-11T18:51:04.772438Z"
    }
   },
   "cell_type": "code",
   "source": "ten_year_treasury_yield.describe()",
   "id": "662f190fbe2b615e",
   "outputs": [
    {
     "data": {
      "text/plain": [
       "         Price              Close               High                Low  \\\n",
       "count    15961              15960              15960              15960   \n",
       "unique   15961               5131               5109               5122   \n",
       "top     Ticker  4.199999809265137  4.190000057220459  4.199999809265137   \n",
       "freq         1                 79                 80                 81   \n",
       "\n",
       "                     Open Volume  \n",
       "count               15960  15960  \n",
       "unique               5144     13  \n",
       "top     4.190000057220459      0  \n",
       "freq                   79  15917  "
      ],
      "text/html": [
       "<div>\n",
       "<style scoped>\n",
       "    .dataframe tbody tr th:only-of-type {\n",
       "        vertical-align: middle;\n",
       "    }\n",
       "\n",
       "    .dataframe tbody tr th {\n",
       "        vertical-align: top;\n",
       "    }\n",
       "\n",
       "    .dataframe thead th {\n",
       "        text-align: right;\n",
       "    }\n",
       "</style>\n",
       "<table border=\"1\" class=\"dataframe\">\n",
       "  <thead>\n",
       "    <tr style=\"text-align: right;\">\n",
       "      <th></th>\n",
       "      <th>Price</th>\n",
       "      <th>Close</th>\n",
       "      <th>High</th>\n",
       "      <th>Low</th>\n",
       "      <th>Open</th>\n",
       "      <th>Volume</th>\n",
       "    </tr>\n",
       "  </thead>\n",
       "  <tbody>\n",
       "    <tr>\n",
       "      <th>count</th>\n",
       "      <td>15961</td>\n",
       "      <td>15960</td>\n",
       "      <td>15960</td>\n",
       "      <td>15960</td>\n",
       "      <td>15960</td>\n",
       "      <td>15960</td>\n",
       "    </tr>\n",
       "    <tr>\n",
       "      <th>unique</th>\n",
       "      <td>15961</td>\n",
       "      <td>5131</td>\n",
       "      <td>5109</td>\n",
       "      <td>5122</td>\n",
       "      <td>5144</td>\n",
       "      <td>13</td>\n",
       "    </tr>\n",
       "    <tr>\n",
       "      <th>top</th>\n",
       "      <td>Ticker</td>\n",
       "      <td>4.199999809265137</td>\n",
       "      <td>4.190000057220459</td>\n",
       "      <td>4.199999809265137</td>\n",
       "      <td>4.190000057220459</td>\n",
       "      <td>0</td>\n",
       "    </tr>\n",
       "    <tr>\n",
       "      <th>freq</th>\n",
       "      <td>1</td>\n",
       "      <td>79</td>\n",
       "      <td>80</td>\n",
       "      <td>81</td>\n",
       "      <td>79</td>\n",
       "      <td>15917</td>\n",
       "    </tr>\n",
       "  </tbody>\n",
       "</table>\n",
       "</div>"
      ]
     },
     "execution_count": 5,
     "metadata": {},
     "output_type": "execute_result"
    }
   ],
   "execution_count": 5
  },
  {
   "metadata": {
    "ExecuteTime": {
     "end_time": "2025-10-11T18:51:05.077912Z",
     "start_time": "2025-10-11T18:51:05.073416Z"
    }
   },
   "cell_type": "code",
   "source": "ten_year_treasury_yield.dtypes",
   "id": "32aaef44028d4e31",
   "outputs": [
    {
     "data": {
      "text/plain": [
       "Price     object\n",
       "Close     object\n",
       "High      object\n",
       "Low       object\n",
       "Open      object\n",
       "Volume    object\n",
       "dtype: object"
      ]
     },
     "execution_count": 6,
     "metadata": {},
     "output_type": "execute_result"
    }
   ],
   "execution_count": 6
  },
  {
   "metadata": {
    "ExecuteTime": {
     "end_time": "2025-10-11T18:51:05.261498Z",
     "start_time": "2025-10-11T18:51:05.235155Z"
    }
   },
   "cell_type": "code",
   "source": [
    "numeric_cols = [\"Open\", \"High\", \"Low\", \"Close\", \"Volume\"]\n",
    "ten_year_treasury_yield[numeric_cols] = ten_year_treasury_yield[numeric_cols].apply(pd.to_numeric, errors='coerce')"
   ],
   "id": "554221537d756253",
   "outputs": [],
   "execution_count": 7
  },
  {
   "metadata": {
    "ExecuteTime": {
     "end_time": "2025-10-11T18:51:05.365347Z",
     "start_time": "2025-10-11T18:51:05.361006Z"
    }
   },
   "cell_type": "code",
   "source": "ten_year_treasury_yield.dtypes",
   "id": "a0b064a54a6e342",
   "outputs": [
    {
     "data": {
      "text/plain": [
       "Price      object\n",
       "Close     float64\n",
       "High      float64\n",
       "Low       float64\n",
       "Open      float64\n",
       "Volume    float64\n",
       "dtype: object"
      ]
     },
     "execution_count": 8,
     "metadata": {},
     "output_type": "execute_result"
    }
   ],
   "execution_count": 8
  },
  {
   "metadata": {
    "ExecuteTime": {
     "end_time": "2025-10-11T18:51:05.476482Z",
     "start_time": "2025-10-11T18:51:05.474255Z"
    }
   },
   "cell_type": "code",
   "source": "ten_year_treasury_yield.rename(columns={'Price': 'Date'}, inplace=True)",
   "id": "7b52eb0bb6306937",
   "outputs": [],
   "execution_count": 9
  },
  {
   "metadata": {
    "ExecuteTime": {
     "end_time": "2025-10-11T18:51:05.590407Z",
     "start_time": "2025-10-11T18:51:05.588082Z"
    }
   },
   "cell_type": "code",
   "source": "ten_year_treasury_yield = ten_year_treasury_yield.iloc[2:]",
   "id": "cfd1c14ac0a2730c",
   "outputs": [],
   "execution_count": 10
  },
  {
   "metadata": {
    "ExecuteTime": {
     "end_time": "2025-10-11T18:51:05.643701Z",
     "start_time": "2025-10-11T18:51:05.637126Z"
    }
   },
   "cell_type": "code",
   "source": "ten_year_treasury_yield.tail()",
   "id": "7432fc58139b5f3b",
   "outputs": [
    {
     "data": {
      "text/plain": [
       "             Date  Close   High    Low   Open  Volume\n",
       "15956  2025-10-06  4.162  4.166  4.133  4.162     0.0\n",
       "15957  2025-10-07  4.127  4.171  4.113  4.164     0.0\n",
       "15958  2025-10-08  4.129  4.136  4.096  4.104     0.0\n",
       "15959  2025-10-09  4.148  4.152  4.127  4.133     0.0\n",
       "15960  2025-10-10  4.055  4.105  4.053  4.098     0.0"
      ],
      "text/html": [
       "<div>\n",
       "<style scoped>\n",
       "    .dataframe tbody tr th:only-of-type {\n",
       "        vertical-align: middle;\n",
       "    }\n",
       "\n",
       "    .dataframe tbody tr th {\n",
       "        vertical-align: top;\n",
       "    }\n",
       "\n",
       "    .dataframe thead th {\n",
       "        text-align: right;\n",
       "    }\n",
       "</style>\n",
       "<table border=\"1\" class=\"dataframe\">\n",
       "  <thead>\n",
       "    <tr style=\"text-align: right;\">\n",
       "      <th></th>\n",
       "      <th>Date</th>\n",
       "      <th>Close</th>\n",
       "      <th>High</th>\n",
       "      <th>Low</th>\n",
       "      <th>Open</th>\n",
       "      <th>Volume</th>\n",
       "    </tr>\n",
       "  </thead>\n",
       "  <tbody>\n",
       "    <tr>\n",
       "      <th>15956</th>\n",
       "      <td>2025-10-06</td>\n",
       "      <td>4.162</td>\n",
       "      <td>4.166</td>\n",
       "      <td>4.133</td>\n",
       "      <td>4.162</td>\n",
       "      <td>0.0</td>\n",
       "    </tr>\n",
       "    <tr>\n",
       "      <th>15957</th>\n",
       "      <td>2025-10-07</td>\n",
       "      <td>4.127</td>\n",
       "      <td>4.171</td>\n",
       "      <td>4.113</td>\n",
       "      <td>4.164</td>\n",
       "      <td>0.0</td>\n",
       "    </tr>\n",
       "    <tr>\n",
       "      <th>15958</th>\n",
       "      <td>2025-10-08</td>\n",
       "      <td>4.129</td>\n",
       "      <td>4.136</td>\n",
       "      <td>4.096</td>\n",
       "      <td>4.104</td>\n",
       "      <td>0.0</td>\n",
       "    </tr>\n",
       "    <tr>\n",
       "      <th>15959</th>\n",
       "      <td>2025-10-09</td>\n",
       "      <td>4.148</td>\n",
       "      <td>4.152</td>\n",
       "      <td>4.127</td>\n",
       "      <td>4.133</td>\n",
       "      <td>0.0</td>\n",
       "    </tr>\n",
       "    <tr>\n",
       "      <th>15960</th>\n",
       "      <td>2025-10-10</td>\n",
       "      <td>4.055</td>\n",
       "      <td>4.105</td>\n",
       "      <td>4.053</td>\n",
       "      <td>4.098</td>\n",
       "      <td>0.0</td>\n",
       "    </tr>\n",
       "  </tbody>\n",
       "</table>\n",
       "</div>"
      ]
     },
     "execution_count": 11,
     "metadata": {},
     "output_type": "execute_result"
    }
   ],
   "execution_count": 11
  },
  {
   "metadata": {
    "ExecuteTime": {
     "end_time": "2025-10-11T18:51:05.758488Z",
     "start_time": "2025-10-11T18:51:05.753187Z"
    }
   },
   "cell_type": "code",
   "source": "ten_year_treasury_yield['Date'] = pd.to_datetime(ten_year_treasury_yield['Date'])",
   "id": "5e95ff26ec694eaa",
   "outputs": [],
   "execution_count": 12
  },
  {
   "metadata": {
    "ExecuteTime": {
     "end_time": "2025-10-11T18:51:05.881163Z",
     "start_time": "2025-10-11T18:51:05.872822Z"
    }
   },
   "cell_type": "code",
   "source": "ten_year_treasury_yield.tail()",
   "id": "99c4513167556dbb",
   "outputs": [
    {
     "data": {
      "text/plain": [
       "            Date  Close   High    Low   Open  Volume\n",
       "15956 2025-10-06  4.162  4.166  4.133  4.162     0.0\n",
       "15957 2025-10-07  4.127  4.171  4.113  4.164     0.0\n",
       "15958 2025-10-08  4.129  4.136  4.096  4.104     0.0\n",
       "15959 2025-10-09  4.148  4.152  4.127  4.133     0.0\n",
       "15960 2025-10-10  4.055  4.105  4.053  4.098     0.0"
      ],
      "text/html": [
       "<div>\n",
       "<style scoped>\n",
       "    .dataframe tbody tr th:only-of-type {\n",
       "        vertical-align: middle;\n",
       "    }\n",
       "\n",
       "    .dataframe tbody tr th {\n",
       "        vertical-align: top;\n",
       "    }\n",
       "\n",
       "    .dataframe thead th {\n",
       "        text-align: right;\n",
       "    }\n",
       "</style>\n",
       "<table border=\"1\" class=\"dataframe\">\n",
       "  <thead>\n",
       "    <tr style=\"text-align: right;\">\n",
       "      <th></th>\n",
       "      <th>Date</th>\n",
       "      <th>Close</th>\n",
       "      <th>High</th>\n",
       "      <th>Low</th>\n",
       "      <th>Open</th>\n",
       "      <th>Volume</th>\n",
       "    </tr>\n",
       "  </thead>\n",
       "  <tbody>\n",
       "    <tr>\n",
       "      <th>15956</th>\n",
       "      <td>2025-10-06</td>\n",
       "      <td>4.162</td>\n",
       "      <td>4.166</td>\n",
       "      <td>4.133</td>\n",
       "      <td>4.162</td>\n",
       "      <td>0.0</td>\n",
       "    </tr>\n",
       "    <tr>\n",
       "      <th>15957</th>\n",
       "      <td>2025-10-07</td>\n",
       "      <td>4.127</td>\n",
       "      <td>4.171</td>\n",
       "      <td>4.113</td>\n",
       "      <td>4.164</td>\n",
       "      <td>0.0</td>\n",
       "    </tr>\n",
       "    <tr>\n",
       "      <th>15958</th>\n",
       "      <td>2025-10-08</td>\n",
       "      <td>4.129</td>\n",
       "      <td>4.136</td>\n",
       "      <td>4.096</td>\n",
       "      <td>4.104</td>\n",
       "      <td>0.0</td>\n",
       "    </tr>\n",
       "    <tr>\n",
       "      <th>15959</th>\n",
       "      <td>2025-10-09</td>\n",
       "      <td>4.148</td>\n",
       "      <td>4.152</td>\n",
       "      <td>4.127</td>\n",
       "      <td>4.133</td>\n",
       "      <td>0.0</td>\n",
       "    </tr>\n",
       "    <tr>\n",
       "      <th>15960</th>\n",
       "      <td>2025-10-10</td>\n",
       "      <td>4.055</td>\n",
       "      <td>4.105</td>\n",
       "      <td>4.053</td>\n",
       "      <td>4.098</td>\n",
       "      <td>0.0</td>\n",
       "    </tr>\n",
       "  </tbody>\n",
       "</table>\n",
       "</div>"
      ]
     },
     "execution_count": 13,
     "metadata": {},
     "output_type": "execute_result"
    }
   ],
   "execution_count": 13
  },
  {
   "metadata": {
    "ExecuteTime": {
     "end_time": "2025-10-11T18:51:05.998296Z",
     "start_time": "2025-10-11T18:51:05.994788Z"
    }
   },
   "cell_type": "code",
   "source": "ten_year_treasury_yield.dtypes",
   "id": "f81c1ad60b1a6419",
   "outputs": [
    {
     "data": {
      "text/plain": [
       "Date      datetime64[ns]\n",
       "Close            float64\n",
       "High             float64\n",
       "Low              float64\n",
       "Open             float64\n",
       "Volume           float64\n",
       "dtype: object"
      ]
     },
     "execution_count": 14,
     "metadata": {},
     "output_type": "execute_result"
    }
   ],
   "execution_count": 14
  },
  {
   "metadata": {},
   "cell_type": "markdown",
   "source": "# Dow Jones",
   "id": "fd50a6c1a9e326a1"
  },
  {
   "metadata": {
    "ExecuteTime": {
     "end_time": "2025-10-11T18:51:06.256577Z",
     "start_time": "2025-10-11T18:51:06.249304Z"
    }
   },
   "cell_type": "code",
   "source": "dow_jones.tail()",
   "id": "d6677513940a4037",
   "outputs": [
    {
     "data": {
      "text/plain": [
       "           Price           Close            High             Low  \\\n",
       "8501  2025-10-03     46758.28125    47049.640625  46566.87109375   \n",
       "8502  2025-10-06     46694.96875  46846.44921875   46426.9609375   \n",
       "8503  2025-10-07  46602.98046875  46868.48828125  46448.01953125   \n",
       "8504  2025-10-08     46601.78125     46816.28125    46498.390625   \n",
       "8505  2025-10-09    46358.421875  46684.41015625   46271.3984375   \n",
       "\n",
       "                Open     Volume  \n",
       "8501  46583.94921875  425050000  \n",
       "8502   46776.0390625  500000000  \n",
       "8503   46700.8984375  411280000  \n",
       "8504   46649.3203125  423510000  \n",
       "8505  46622.30859375  493080000  "
      ],
      "text/html": [
       "<div>\n",
       "<style scoped>\n",
       "    .dataframe tbody tr th:only-of-type {\n",
       "        vertical-align: middle;\n",
       "    }\n",
       "\n",
       "    .dataframe tbody tr th {\n",
       "        vertical-align: top;\n",
       "    }\n",
       "\n",
       "    .dataframe thead th {\n",
       "        text-align: right;\n",
       "    }\n",
       "</style>\n",
       "<table border=\"1\" class=\"dataframe\">\n",
       "  <thead>\n",
       "    <tr style=\"text-align: right;\">\n",
       "      <th></th>\n",
       "      <th>Price</th>\n",
       "      <th>Close</th>\n",
       "      <th>High</th>\n",
       "      <th>Low</th>\n",
       "      <th>Open</th>\n",
       "      <th>Volume</th>\n",
       "    </tr>\n",
       "  </thead>\n",
       "  <tbody>\n",
       "    <tr>\n",
       "      <th>8501</th>\n",
       "      <td>2025-10-03</td>\n",
       "      <td>46758.28125</td>\n",
       "      <td>47049.640625</td>\n",
       "      <td>46566.87109375</td>\n",
       "      <td>46583.94921875</td>\n",
       "      <td>425050000</td>\n",
       "    </tr>\n",
       "    <tr>\n",
       "      <th>8502</th>\n",
       "      <td>2025-10-06</td>\n",
       "      <td>46694.96875</td>\n",
       "      <td>46846.44921875</td>\n",
       "      <td>46426.9609375</td>\n",
       "      <td>46776.0390625</td>\n",
       "      <td>500000000</td>\n",
       "    </tr>\n",
       "    <tr>\n",
       "      <th>8503</th>\n",
       "      <td>2025-10-07</td>\n",
       "      <td>46602.98046875</td>\n",
       "      <td>46868.48828125</td>\n",
       "      <td>46448.01953125</td>\n",
       "      <td>46700.8984375</td>\n",
       "      <td>411280000</td>\n",
       "    </tr>\n",
       "    <tr>\n",
       "      <th>8504</th>\n",
       "      <td>2025-10-08</td>\n",
       "      <td>46601.78125</td>\n",
       "      <td>46816.28125</td>\n",
       "      <td>46498.390625</td>\n",
       "      <td>46649.3203125</td>\n",
       "      <td>423510000</td>\n",
       "    </tr>\n",
       "    <tr>\n",
       "      <th>8505</th>\n",
       "      <td>2025-10-09</td>\n",
       "      <td>46358.421875</td>\n",
       "      <td>46684.41015625</td>\n",
       "      <td>46271.3984375</td>\n",
       "      <td>46622.30859375</td>\n",
       "      <td>493080000</td>\n",
       "    </tr>\n",
       "  </tbody>\n",
       "</table>\n",
       "</div>"
      ]
     },
     "execution_count": 15,
     "metadata": {},
     "output_type": "execute_result"
    }
   ],
   "execution_count": 15
  },
  {
   "metadata": {
    "ExecuteTime": {
     "end_time": "2025-10-11T18:51:06.389664Z",
     "start_time": "2025-10-11T18:51:06.385219Z"
    }
   },
   "cell_type": "code",
   "source": "dow_jones.dtypes",
   "id": "736831a495be3742",
   "outputs": [
    {
     "data": {
      "text/plain": [
       "Price     object\n",
       "Close     object\n",
       "High      object\n",
       "Low       object\n",
       "Open      object\n",
       "Volume    object\n",
       "dtype: object"
      ]
     },
     "execution_count": 16,
     "metadata": {},
     "output_type": "execute_result"
    }
   ],
   "execution_count": 16
  },
  {
   "metadata": {
    "ExecuteTime": {
     "end_time": "2025-10-11T18:51:06.656208Z",
     "start_time": "2025-10-11T18:51:06.636170Z"
    }
   },
   "cell_type": "code",
   "source": [
    "numeric_cols = [\"Open\", \"High\", \"Low\", \"Close\", \"Volume\"]\n",
    "dow_jones[numeric_cols] = dow_jones[numeric_cols].apply(pd.to_numeric, errors='coerce')\n",
    "\n",
    "dow_jones = dow_jones.iloc[2:]\n",
    "\n",
    "dow_jones.rename(columns={'Price': 'Date'}, inplace=True)\n",
    "dow_jones['Date'] = pd.to_datetime(dow_jones['Date'])"
   ],
   "id": "c607d5208775a5e5",
   "outputs": [],
   "execution_count": 17
  },
  {
   "metadata": {
    "ExecuteTime": {
     "end_time": "2025-10-11T18:51:13.261561Z",
     "start_time": "2025-10-11T18:51:13.255315Z"
    }
   },
   "cell_type": "code",
   "source": "dow_jones.tail()",
   "id": "252aa532e9d0b9c7",
   "outputs": [
    {
     "data": {
      "text/plain": [
       "           Date         Close          High           Low          Open  \\\n",
       "8501 2025-10-03  46758.281250  47049.640625  46566.871094  46583.949219   \n",
       "8502 2025-10-06  46694.968750  46846.449219  46426.960938  46776.039062   \n",
       "8503 2025-10-07  46602.980469  46868.488281  46448.019531  46700.898438   \n",
       "8504 2025-10-08  46601.781250  46816.281250  46498.390625  46649.320312   \n",
       "8505 2025-10-09  46358.421875  46684.410156  46271.398438  46622.308594   \n",
       "\n",
       "           Volume  \n",
       "8501  425050000.0  \n",
       "8502  500000000.0  \n",
       "8503  411280000.0  \n",
       "8504  423510000.0  \n",
       "8505  493080000.0  "
      ],
      "text/html": [
       "<div>\n",
       "<style scoped>\n",
       "    .dataframe tbody tr th:only-of-type {\n",
       "        vertical-align: middle;\n",
       "    }\n",
       "\n",
       "    .dataframe tbody tr th {\n",
       "        vertical-align: top;\n",
       "    }\n",
       "\n",
       "    .dataframe thead th {\n",
       "        text-align: right;\n",
       "    }\n",
       "</style>\n",
       "<table border=\"1\" class=\"dataframe\">\n",
       "  <thead>\n",
       "    <tr style=\"text-align: right;\">\n",
       "      <th></th>\n",
       "      <th>Date</th>\n",
       "      <th>Close</th>\n",
       "      <th>High</th>\n",
       "      <th>Low</th>\n",
       "      <th>Open</th>\n",
       "      <th>Volume</th>\n",
       "    </tr>\n",
       "  </thead>\n",
       "  <tbody>\n",
       "    <tr>\n",
       "      <th>8501</th>\n",
       "      <td>2025-10-03</td>\n",
       "      <td>46758.281250</td>\n",
       "      <td>47049.640625</td>\n",
       "      <td>46566.871094</td>\n",
       "      <td>46583.949219</td>\n",
       "      <td>425050000.0</td>\n",
       "    </tr>\n",
       "    <tr>\n",
       "      <th>8502</th>\n",
       "      <td>2025-10-06</td>\n",
       "      <td>46694.968750</td>\n",
       "      <td>46846.449219</td>\n",
       "      <td>46426.960938</td>\n",
       "      <td>46776.039062</td>\n",
       "      <td>500000000.0</td>\n",
       "    </tr>\n",
       "    <tr>\n",
       "      <th>8503</th>\n",
       "      <td>2025-10-07</td>\n",
       "      <td>46602.980469</td>\n",
       "      <td>46868.488281</td>\n",
       "      <td>46448.019531</td>\n",
       "      <td>46700.898438</td>\n",
       "      <td>411280000.0</td>\n",
       "    </tr>\n",
       "    <tr>\n",
       "      <th>8504</th>\n",
       "      <td>2025-10-08</td>\n",
       "      <td>46601.781250</td>\n",
       "      <td>46816.281250</td>\n",
       "      <td>46498.390625</td>\n",
       "      <td>46649.320312</td>\n",
       "      <td>423510000.0</td>\n",
       "    </tr>\n",
       "    <tr>\n",
       "      <th>8505</th>\n",
       "      <td>2025-10-09</td>\n",
       "      <td>46358.421875</td>\n",
       "      <td>46684.410156</td>\n",
       "      <td>46271.398438</td>\n",
       "      <td>46622.308594</td>\n",
       "      <td>493080000.0</td>\n",
       "    </tr>\n",
       "  </tbody>\n",
       "</table>\n",
       "</div>"
      ]
     },
     "execution_count": 18,
     "metadata": {},
     "output_type": "execute_result"
    }
   ],
   "execution_count": 18
  },
  {
   "metadata": {
    "ExecuteTime": {
     "end_time": "2025-10-11T18:51:18.258797Z",
     "start_time": "2025-10-11T18:51:18.255049Z"
    }
   },
   "cell_type": "code",
   "source": "dow_jones.dtypes",
   "id": "c4b69a32f75dbaf6",
   "outputs": [
    {
     "data": {
      "text/plain": [
       "Date      datetime64[ns]\n",
       "Close            float64\n",
       "High             float64\n",
       "Low              float64\n",
       "Open             float64\n",
       "Volume           float64\n",
       "dtype: object"
      ]
     },
     "execution_count": 19,
     "metadata": {},
     "output_type": "execute_result"
    }
   ],
   "execution_count": 19
  },
  {
   "metadata": {
    "ExecuteTime": {
     "end_time": "2025-10-11T18:53:06.043415Z",
     "start_time": "2025-10-11T18:53:06.019824Z"
    }
   },
   "cell_type": "code",
   "source": "dow_jones.corr(numeric_only=True)",
   "id": "f11427efdc54a05",
   "outputs": [
    {
     "data": {
      "text/plain": [
       "           Close      High       Low      Open    Volume\n",
       "Close   1.000000  0.999937  0.999940  0.999875  0.666043\n",
       "High    0.999937  1.000000  0.999904  0.999945  0.668718\n",
       "Low     0.999940  0.999904  1.000000  0.999928  0.663607\n",
       "Open    0.999875  0.999945  0.999928  1.000000  0.666641\n",
       "Volume  0.666043  0.668718  0.663607  0.666641  1.000000"
      ],
      "text/html": [
       "<div>\n",
       "<style scoped>\n",
       "    .dataframe tbody tr th:only-of-type {\n",
       "        vertical-align: middle;\n",
       "    }\n",
       "\n",
       "    .dataframe tbody tr th {\n",
       "        vertical-align: top;\n",
       "    }\n",
       "\n",
       "    .dataframe thead th {\n",
       "        text-align: right;\n",
       "    }\n",
       "</style>\n",
       "<table border=\"1\" class=\"dataframe\">\n",
       "  <thead>\n",
       "    <tr style=\"text-align: right;\">\n",
       "      <th></th>\n",
       "      <th>Close</th>\n",
       "      <th>High</th>\n",
       "      <th>Low</th>\n",
       "      <th>Open</th>\n",
       "      <th>Volume</th>\n",
       "    </tr>\n",
       "  </thead>\n",
       "  <tbody>\n",
       "    <tr>\n",
       "      <th>Close</th>\n",
       "      <td>1.000000</td>\n",
       "      <td>0.999937</td>\n",
       "      <td>0.999940</td>\n",
       "      <td>0.999875</td>\n",
       "      <td>0.666043</td>\n",
       "    </tr>\n",
       "    <tr>\n",
       "      <th>High</th>\n",
       "      <td>0.999937</td>\n",
       "      <td>1.000000</td>\n",
       "      <td>0.999904</td>\n",
       "      <td>0.999945</td>\n",
       "      <td>0.668718</td>\n",
       "    </tr>\n",
       "    <tr>\n",
       "      <th>Low</th>\n",
       "      <td>0.999940</td>\n",
       "      <td>0.999904</td>\n",
       "      <td>1.000000</td>\n",
       "      <td>0.999928</td>\n",
       "      <td>0.663607</td>\n",
       "    </tr>\n",
       "    <tr>\n",
       "      <th>Open</th>\n",
       "      <td>0.999875</td>\n",
       "      <td>0.999945</td>\n",
       "      <td>0.999928</td>\n",
       "      <td>1.000000</td>\n",
       "      <td>0.666641</td>\n",
       "    </tr>\n",
       "    <tr>\n",
       "      <th>Volume</th>\n",
       "      <td>0.666043</td>\n",
       "      <td>0.668718</td>\n",
       "      <td>0.663607</td>\n",
       "      <td>0.666641</td>\n",
       "      <td>1.000000</td>\n",
       "    </tr>\n",
       "  </tbody>\n",
       "</table>\n",
       "</div>"
      ]
     },
     "execution_count": 20,
     "metadata": {},
     "output_type": "execute_result"
    }
   ],
   "execution_count": 20
  },
  {
   "metadata": {},
   "cell_type": "markdown",
   "source": "# NASDAQ",
   "id": "d03ccc3753fbd3f9"
  },
  {
   "metadata": {
    "ExecuteTime": {
     "end_time": "2025-10-11T18:54:08.832173Z",
     "start_time": "2025-10-11T18:54:08.827041Z"
    }
   },
   "cell_type": "code",
   "source": "nasdaq.tail()",
   "id": "51cb1c1104c3e743",
   "outputs": [
    {
     "data": {
      "text/plain": [
       "            Price            Close             High              Low  \\\n",
       "13784  2025-10-06  22941.669921875  22991.720703125  22827.560546875   \n",
       "13785  2025-10-07     22788.359375    23006.0703125  22718.759765625   \n",
       "13786  2025-10-08  23043.380859375     23045.140625  22845.419921875   \n",
       "13787  2025-10-09  23024.630859375  23062.619140625   22899.16015625   \n",
       "13788  2025-10-10  22487.650390625      23119.90625  22387.474609375   \n",
       "\n",
       "                  Open       Volume  \n",
       "13784  22894.349609375  10468830000  \n",
       "13785  22972.369140625  10375920000  \n",
       "13786    22852.3203125  10925520000  \n",
       "13787  23045.330078125  10713200000  \n",
       "13788   23045.30078125   6609513000  "
      ],
      "text/html": [
       "<div>\n",
       "<style scoped>\n",
       "    .dataframe tbody tr th:only-of-type {\n",
       "        vertical-align: middle;\n",
       "    }\n",
       "\n",
       "    .dataframe tbody tr th {\n",
       "        vertical-align: top;\n",
       "    }\n",
       "\n",
       "    .dataframe thead th {\n",
       "        text-align: right;\n",
       "    }\n",
       "</style>\n",
       "<table border=\"1\" class=\"dataframe\">\n",
       "  <thead>\n",
       "    <tr style=\"text-align: right;\">\n",
       "      <th></th>\n",
       "      <th>Price</th>\n",
       "      <th>Close</th>\n",
       "      <th>High</th>\n",
       "      <th>Low</th>\n",
       "      <th>Open</th>\n",
       "      <th>Volume</th>\n",
       "    </tr>\n",
       "  </thead>\n",
       "  <tbody>\n",
       "    <tr>\n",
       "      <th>13784</th>\n",
       "      <td>2025-10-06</td>\n",
       "      <td>22941.669921875</td>\n",
       "      <td>22991.720703125</td>\n",
       "      <td>22827.560546875</td>\n",
       "      <td>22894.349609375</td>\n",
       "      <td>10468830000</td>\n",
       "    </tr>\n",
       "    <tr>\n",
       "      <th>13785</th>\n",
       "      <td>2025-10-07</td>\n",
       "      <td>22788.359375</td>\n",
       "      <td>23006.0703125</td>\n",
       "      <td>22718.759765625</td>\n",
       "      <td>22972.369140625</td>\n",
       "      <td>10375920000</td>\n",
       "    </tr>\n",
       "    <tr>\n",
       "      <th>13786</th>\n",
       "      <td>2025-10-08</td>\n",
       "      <td>23043.380859375</td>\n",
       "      <td>23045.140625</td>\n",
       "      <td>22845.419921875</td>\n",
       "      <td>22852.3203125</td>\n",
       "      <td>10925520000</td>\n",
       "    </tr>\n",
       "    <tr>\n",
       "      <th>13787</th>\n",
       "      <td>2025-10-09</td>\n",
       "      <td>23024.630859375</td>\n",
       "      <td>23062.619140625</td>\n",
       "      <td>22899.16015625</td>\n",
       "      <td>23045.330078125</td>\n",
       "      <td>10713200000</td>\n",
       "    </tr>\n",
       "    <tr>\n",
       "      <th>13788</th>\n",
       "      <td>2025-10-10</td>\n",
       "      <td>22487.650390625</td>\n",
       "      <td>23119.90625</td>\n",
       "      <td>22387.474609375</td>\n",
       "      <td>23045.30078125</td>\n",
       "      <td>6609513000</td>\n",
       "    </tr>\n",
       "  </tbody>\n",
       "</table>\n",
       "</div>"
      ]
     },
     "execution_count": 21,
     "metadata": {},
     "output_type": "execute_result"
    }
   ],
   "execution_count": 21
  },
  {
   "metadata": {
    "ExecuteTime": {
     "end_time": "2025-10-11T18:55:37.913852Z",
     "start_time": "2025-10-11T18:55:37.904810Z"
    }
   },
   "cell_type": "code",
   "source": [
    "numeric_cols = [\"Open\", \"High\", \"Low\", \"Close\", \"Volume\"]\n",
    "nasdaq[numeric_cols] = nasdaq[numeric_cols].apply(pd.to_numeric, errors='coerce')\n",
    "\n",
    "nasdaq = nasdaq.iloc[2:]\n",
    "\n",
    "nasdaq.rename(columns={'Price': 'Date'}, inplace=True)\n",
    "nasdaq['Date'] = pd.to_datetime(nasdaq['Date'])"
   ],
   "id": "e8e28428c20d901f",
   "outputs": [],
   "execution_count": 24
  },
  {
   "metadata": {},
   "cell_type": "markdown",
   "source": "# OIL",
   "id": "426a6acc48178215"
  },
  {
   "metadata": {
    "ExecuteTime": {
     "end_time": "2025-10-11T18:55:04.700860Z",
     "start_time": "2025-10-11T18:55:04.695285Z"
    }
   },
   "cell_type": "code",
   "source": "oil_index.tail()",
   "id": "cdc47a70b716d1d1",
   "outputs": [
    {
     "data": {
      "text/plain": [
       "            Price               Close                High                 Low  \\\n",
       "10612  2025-10-06  1903.4300537109375    1919.06005859375   1890.530029296875   \n",
       "10613  2025-10-07   1900.699951171875  1903.9100341796875  1865.6300048828125   \n",
       "10614  2025-10-08  1888.9100341796875   1900.699951171875  1876.0899658203125   \n",
       "10615  2025-10-09   1869.010009765625   1911.300048828125   1866.280029296875   \n",
       "10616  2025-10-10   1817.565673828125  1869.0101318359375     1816.3994140625   \n",
       "\n",
       "                     Open Volume  \n",
       "10612   1890.530029296875      0  \n",
       "10613  1903.4300537109375      0  \n",
       "10614   1900.699951171875      0  \n",
       "10615  1888.9100341796875      0  \n",
       "10616   1869.010009765625      0  "
      ],
      "text/html": [
       "<div>\n",
       "<style scoped>\n",
       "    .dataframe tbody tr th:only-of-type {\n",
       "        vertical-align: middle;\n",
       "    }\n",
       "\n",
       "    .dataframe tbody tr th {\n",
       "        vertical-align: top;\n",
       "    }\n",
       "\n",
       "    .dataframe thead th {\n",
       "        text-align: right;\n",
       "    }\n",
       "</style>\n",
       "<table border=\"1\" class=\"dataframe\">\n",
       "  <thead>\n",
       "    <tr style=\"text-align: right;\">\n",
       "      <th></th>\n",
       "      <th>Price</th>\n",
       "      <th>Close</th>\n",
       "      <th>High</th>\n",
       "      <th>Low</th>\n",
       "      <th>Open</th>\n",
       "      <th>Volume</th>\n",
       "    </tr>\n",
       "  </thead>\n",
       "  <tbody>\n",
       "    <tr>\n",
       "      <th>10612</th>\n",
       "      <td>2025-10-06</td>\n",
       "      <td>1903.4300537109375</td>\n",
       "      <td>1919.06005859375</td>\n",
       "      <td>1890.530029296875</td>\n",
       "      <td>1890.530029296875</td>\n",
       "      <td>0</td>\n",
       "    </tr>\n",
       "    <tr>\n",
       "      <th>10613</th>\n",
       "      <td>2025-10-07</td>\n",
       "      <td>1900.699951171875</td>\n",
       "      <td>1903.9100341796875</td>\n",
       "      <td>1865.6300048828125</td>\n",
       "      <td>1903.4300537109375</td>\n",
       "      <td>0</td>\n",
       "    </tr>\n",
       "    <tr>\n",
       "      <th>10614</th>\n",
       "      <td>2025-10-08</td>\n",
       "      <td>1888.9100341796875</td>\n",
       "      <td>1900.699951171875</td>\n",
       "      <td>1876.0899658203125</td>\n",
       "      <td>1900.699951171875</td>\n",
       "      <td>0</td>\n",
       "    </tr>\n",
       "    <tr>\n",
       "      <th>10615</th>\n",
       "      <td>2025-10-09</td>\n",
       "      <td>1869.010009765625</td>\n",
       "      <td>1911.300048828125</td>\n",
       "      <td>1866.280029296875</td>\n",
       "      <td>1888.9100341796875</td>\n",
       "      <td>0</td>\n",
       "    </tr>\n",
       "    <tr>\n",
       "      <th>10616</th>\n",
       "      <td>2025-10-10</td>\n",
       "      <td>1817.565673828125</td>\n",
       "      <td>1869.0101318359375</td>\n",
       "      <td>1816.3994140625</td>\n",
       "      <td>1869.010009765625</td>\n",
       "      <td>0</td>\n",
       "    </tr>\n",
       "  </tbody>\n",
       "</table>\n",
       "</div>"
      ]
     },
     "execution_count": 23,
     "metadata": {},
     "output_type": "execute_result"
    }
   ],
   "execution_count": 23
  },
  {
   "metadata": {
    "ExecuteTime": {
     "end_time": "2025-10-11T18:55:39.776846Z",
     "start_time": "2025-10-11T18:55:39.748815Z"
    }
   },
   "cell_type": "code",
   "source": [
    "numeric_cols = [\"Open\", \"High\", \"Low\", \"Close\", \"Volume\"]\n",
    "oil_index[numeric_cols] = oil_index[numeric_cols].apply(pd.to_numeric, errors='coerce')\n",
    "\n",
    "oil_index = oil_index.iloc[2:]\n",
    "\n",
    "oil_index.rename(columns={'Price': 'Date'}, inplace=True)\n",
    "oil_index['Date'] = pd.to_datetime(oil_index['Date'])"
   ],
   "id": "7dec9d22294f4d55",
   "outputs": [],
   "execution_count": 25
  },
  {
   "metadata": {},
   "cell_type": "markdown",
   "source": "# NYSE",
   "id": "924363c4bed548be"
  },
  {
   "metadata": {
    "ExecuteTime": {
     "end_time": "2025-10-11T18:56:10.699199Z",
     "start_time": "2025-10-11T18:56:10.692546Z"
    }
   },
   "cell_type": "code",
   "source": "nyse_composite.tail()",
   "id": "c26063de88f4af6a",
   "outputs": [
    {
     "data": {
      "text/plain": [
       "            Price            Close             High              Low  \\\n",
       "15041  2025-10-06          21765.0    21820.2890625  21718.509765625   \n",
       "15042  2025-10-07  21663.099609375    21809.9609375  21618.330078125   \n",
       "15043  2025-10-08  21725.810546875   21778.33984375   21649.66015625   \n",
       "15044  2025-10-09  21548.259765625  21747.259765625   21512.41015625   \n",
       "15045  2025-10-10  21217.388671875  21603.927734375  21195.833984375   \n",
       "\n",
       "                  Open      Volume  \n",
       "15041  21725.400390625  5604460000  \n",
       "15042          21765.0  5546150000  \n",
       "15043  21663.099609375  5383130000  \n",
       "15044  21725.810546875  5385020000  \n",
       "15045   21548.30078125           0  "
      ],
      "text/html": [
       "<div>\n",
       "<style scoped>\n",
       "    .dataframe tbody tr th:only-of-type {\n",
       "        vertical-align: middle;\n",
       "    }\n",
       "\n",
       "    .dataframe tbody tr th {\n",
       "        vertical-align: top;\n",
       "    }\n",
       "\n",
       "    .dataframe thead th {\n",
       "        text-align: right;\n",
       "    }\n",
       "</style>\n",
       "<table border=\"1\" class=\"dataframe\">\n",
       "  <thead>\n",
       "    <tr style=\"text-align: right;\">\n",
       "      <th></th>\n",
       "      <th>Price</th>\n",
       "      <th>Close</th>\n",
       "      <th>High</th>\n",
       "      <th>Low</th>\n",
       "      <th>Open</th>\n",
       "      <th>Volume</th>\n",
       "    </tr>\n",
       "  </thead>\n",
       "  <tbody>\n",
       "    <tr>\n",
       "      <th>15041</th>\n",
       "      <td>2025-10-06</td>\n",
       "      <td>21765.0</td>\n",
       "      <td>21820.2890625</td>\n",
       "      <td>21718.509765625</td>\n",
       "      <td>21725.400390625</td>\n",
       "      <td>5604460000</td>\n",
       "    </tr>\n",
       "    <tr>\n",
       "      <th>15042</th>\n",
       "      <td>2025-10-07</td>\n",
       "      <td>21663.099609375</td>\n",
       "      <td>21809.9609375</td>\n",
       "      <td>21618.330078125</td>\n",
       "      <td>21765.0</td>\n",
       "      <td>5546150000</td>\n",
       "    </tr>\n",
       "    <tr>\n",
       "      <th>15043</th>\n",
       "      <td>2025-10-08</td>\n",
       "      <td>21725.810546875</td>\n",
       "      <td>21778.33984375</td>\n",
       "      <td>21649.66015625</td>\n",
       "      <td>21663.099609375</td>\n",
       "      <td>5383130000</td>\n",
       "    </tr>\n",
       "    <tr>\n",
       "      <th>15044</th>\n",
       "      <td>2025-10-09</td>\n",
       "      <td>21548.259765625</td>\n",
       "      <td>21747.259765625</td>\n",
       "      <td>21512.41015625</td>\n",
       "      <td>21725.810546875</td>\n",
       "      <td>5385020000</td>\n",
       "    </tr>\n",
       "    <tr>\n",
       "      <th>15045</th>\n",
       "      <td>2025-10-10</td>\n",
       "      <td>21217.388671875</td>\n",
       "      <td>21603.927734375</td>\n",
       "      <td>21195.833984375</td>\n",
       "      <td>21548.30078125</td>\n",
       "      <td>0</td>\n",
       "    </tr>\n",
       "  </tbody>\n",
       "</table>\n",
       "</div>"
      ]
     },
     "execution_count": 26,
     "metadata": {},
     "output_type": "execute_result"
    }
   ],
   "execution_count": 26
  },
  {
   "metadata": {
    "ExecuteTime": {
     "end_time": "2025-10-11T18:56:37.755732Z",
     "start_time": "2025-10-11T18:56:37.724178Z"
    }
   },
   "cell_type": "code",
   "source": [
    "numeric_cols = [\"Open\", \"High\", \"Low\", \"Close\", \"Volume\"]\n",
    "nyse_composite[numeric_cols] = nyse_composite[numeric_cols].apply(pd.to_numeric, errors='coerce')\n",
    "\n",
    "nyse_composite = nyse_composite.iloc[2:]\n",
    "\n",
    "nyse_composite.rename(columns={'Price': 'Date'}, inplace=True)\n",
    "nyse_composite['Date'] = pd.to_datetime(nyse_composite['Date'])"
   ],
   "id": "ff991cc54b85195f",
   "outputs": [],
   "execution_count": 27
  },
  {
   "metadata": {},
   "cell_type": "markdown",
   "source": "# PHLX",
   "id": "ba7d12bdd29d9b9e"
  },
  {
   "metadata": {
    "ExecuteTime": {
     "end_time": "2025-10-11T18:57:03.296066Z",
     "start_time": "2025-10-11T18:57:03.290253Z"
    }
   },
   "cell_type": "code",
   "source": "phlx_semiconductor_index.tail()",
   "id": "e4c94ae40b6873a9",
   "outputs": [
    {
     "data": {
      "text/plain": [
       "           Price             Close              High               Low  \\\n",
       "7910  2025-10-03    6583.740234375  6683.43994140625  6547.39990234375   \n",
       "7911  2025-10-06  6774.06005859375     6881.91015625    6773.259765625   \n",
       "7912  2025-10-07    6634.759765625    6847.509765625   6622.6298828125   \n",
       "7913  2025-10-08   6860.2001953125     6867.08984375  6624.06982421875   \n",
       "7914  2025-10-09   6840.2001953125    6869.080078125    6776.830078125   \n",
       "\n",
       "                  Open Volume  \n",
       "7910  6655.06982421875      0  \n",
       "7911  6852.72021484375      0  \n",
       "7912    6837.669921875      0  \n",
       "7913   6625.2900390625      0  \n",
       "7914  6845.39013671875      0  "
      ],
      "text/html": [
       "<div>\n",
       "<style scoped>\n",
       "    .dataframe tbody tr th:only-of-type {\n",
       "        vertical-align: middle;\n",
       "    }\n",
       "\n",
       "    .dataframe tbody tr th {\n",
       "        vertical-align: top;\n",
       "    }\n",
       "\n",
       "    .dataframe thead th {\n",
       "        text-align: right;\n",
       "    }\n",
       "</style>\n",
       "<table border=\"1\" class=\"dataframe\">\n",
       "  <thead>\n",
       "    <tr style=\"text-align: right;\">\n",
       "      <th></th>\n",
       "      <th>Price</th>\n",
       "      <th>Close</th>\n",
       "      <th>High</th>\n",
       "      <th>Low</th>\n",
       "      <th>Open</th>\n",
       "      <th>Volume</th>\n",
       "    </tr>\n",
       "  </thead>\n",
       "  <tbody>\n",
       "    <tr>\n",
       "      <th>7910</th>\n",
       "      <td>2025-10-03</td>\n",
       "      <td>6583.740234375</td>\n",
       "      <td>6683.43994140625</td>\n",
       "      <td>6547.39990234375</td>\n",
       "      <td>6655.06982421875</td>\n",
       "      <td>0</td>\n",
       "    </tr>\n",
       "    <tr>\n",
       "      <th>7911</th>\n",
       "      <td>2025-10-06</td>\n",
       "      <td>6774.06005859375</td>\n",
       "      <td>6881.91015625</td>\n",
       "      <td>6773.259765625</td>\n",
       "      <td>6852.72021484375</td>\n",
       "      <td>0</td>\n",
       "    </tr>\n",
       "    <tr>\n",
       "      <th>7912</th>\n",
       "      <td>2025-10-07</td>\n",
       "      <td>6634.759765625</td>\n",
       "      <td>6847.509765625</td>\n",
       "      <td>6622.6298828125</td>\n",
       "      <td>6837.669921875</td>\n",
       "      <td>0</td>\n",
       "    </tr>\n",
       "    <tr>\n",
       "      <th>7913</th>\n",
       "      <td>2025-10-08</td>\n",
       "      <td>6860.2001953125</td>\n",
       "      <td>6867.08984375</td>\n",
       "      <td>6624.06982421875</td>\n",
       "      <td>6625.2900390625</td>\n",
       "      <td>0</td>\n",
       "    </tr>\n",
       "    <tr>\n",
       "      <th>7914</th>\n",
       "      <td>2025-10-09</td>\n",
       "      <td>6840.2001953125</td>\n",
       "      <td>6869.080078125</td>\n",
       "      <td>6776.830078125</td>\n",
       "      <td>6845.39013671875</td>\n",
       "      <td>0</td>\n",
       "    </tr>\n",
       "  </tbody>\n",
       "</table>\n",
       "</div>"
      ]
     },
     "execution_count": 28,
     "metadata": {},
     "output_type": "execute_result"
    }
   ],
   "execution_count": 28
  },
  {
   "metadata": {
    "ExecuteTime": {
     "end_time": "2025-10-11T18:57:37.478713Z",
     "start_time": "2025-10-11T18:57:37.456672Z"
    }
   },
   "cell_type": "code",
   "source": [
    "numeric_cols = [\"Open\", \"High\", \"Low\", \"Close\", \"Volume\"]\n",
    "phlx_semiconductor_index[numeric_cols] = phlx_semiconductor_index[numeric_cols].apply(pd.to_numeric, errors='coerce')\n",
    "\n",
    "phlx_semiconductor_index = phlx_semiconductor_index.iloc[2:]\n",
    "\n",
    "phlx_semiconductor_index.rename(columns={'Price': 'Date'}, inplace=True)\n",
    "phlx_semiconductor_index['Date'] = pd.to_datetime(nyse_composite['Date'])"
   ],
   "id": "cf885538239e8d08",
   "outputs": [],
   "execution_count": 29
  }
 ],
 "metadata": {
  "kernelspec": {
   "display_name": "Python 3",
   "language": "python",
   "name": "python3"
  },
  "language_info": {
   "codemirror_mode": {
    "name": "ipython",
    "version": 2
   },
   "file_extension": ".py",
   "mimetype": "text/x-python",
   "name": "python",
   "nbconvert_exporter": "python",
   "pygments_lexer": "ipython2",
   "version": "2.7.6"
  }
 },
 "nbformat": 4,
 "nbformat_minor": 5
}
