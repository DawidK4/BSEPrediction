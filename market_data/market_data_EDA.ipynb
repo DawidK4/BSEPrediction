{
 "cells": [
  {
   "cell_type": "code",
   "id": "initial_id",
   "metadata": {
    "collapsed": true,
    "ExecuteTime": {
     "end_time": "2025-10-10T17:39:15.527576Z",
     "start_time": "2025-10-10T17:39:15.523588Z"
    }
   },
   "source": "import pandas as pd",
   "outputs": [],
   "execution_count": 7
  },
  {
   "metadata": {
    "ExecuteTime": {
     "end_time": "2025-10-10T17:41:29.465775Z",
     "start_time": "2025-10-10T17:41:29.301210Z"
    }
   },
   "cell_type": "code",
   "source": [
    "ten_year_treasury_yield = pd.read_csv('data/10-Year Treasury Yield.csv')\n",
    "dow_jones = pd.read_csv('data/Dow Jones Industrial Average.csv')\n",
    "nasdaq = pd.read_csv('data/NASDAQ Composite.csv')\n",
    "oil_index = pd.read_csv('data/NYSE Arca Oil Index.csv')\n",
    "nyse_composite = pd.read_csv('data/NYSE Composite.csv')\n",
    "phlx_semiconductor_index = pd.read_csv('data/PHLX Semiconductor Index.csv')\n",
    "russel_2000 = pd.read_csv('data/Russell 2000.csv')\n",
    "sp_500 = pd.read_csv('data/S&P 500.csv')"
   ],
   "id": "57e4e89861097c37",
   "outputs": [],
   "execution_count": 10
  }
 ],
 "metadata": {
  "kernelspec": {
   "display_name": "Python 3",
   "language": "python",
   "name": "python3"
  },
  "language_info": {
   "codemirror_mode": {
    "name": "ipython",
    "version": 2
   },
   "file_extension": ".py",
   "mimetype": "text/x-python",
   "name": "python",
   "nbconvert_exporter": "python",
   "pygments_lexer": "ipython2",
   "version": "2.7.6"
  }
 },
 "nbformat": 4,
 "nbformat_minor": 5
}
