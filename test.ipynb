{
 "cells": [
  {
   "cell_type": "code",
   "execution_count": 1,
   "id": "f4f06ffe",
   "metadata": {},
   "outputs": [],
   "source": [
    "import numpy as np\n",
    "import pandas as pd\n",
    "import matplotlib.pyplot as plt\n",
    "import seaborn as sns\n",
    "\n",
    "import os\n",
    "import sys\n",
    "\n",
    "import tensorflow as tf\n",
    "import yfinance as yf"
   ]
  },
  {
   "cell_type": "code",
   "execution_count": 14,
   "id": "da5e875e",
   "metadata": {},
   "outputs": [
    {
     "name": "stdout",
     "output_type": "stream",
     "text": [
      "lazy-loading dict with keys = ['currency', 'dayHigh', 'dayLow', 'exchange', 'fiftyDayAverage', 'lastPrice', 'lastVolume', 'marketCap', 'open', 'previousClose', 'quoteType', 'regularMarketPreviousClose', 'shares', 'tenDayAverageVolume', 'threeMonthAverageVolume', 'timezone', 'twoHundredDayAverage', 'yearChange', 'yearHigh', 'yearLow']\n",
      "\n",
      "\n",
      "{'Dividend Date': datetime.date(2025, 5, 15), 'Ex-Dividend Date': datetime.date(2025, 5, 12), 'Earnings Date': [datetime.date(2025, 7, 30), datetime.date(2025, 8, 4)], 'Earnings High': 1.51, 'Earnings Low': 1.34, 'Earnings Average': 1.42517, 'Revenue High': 90627800000, 'Revenue Low': 86919000000, 'Revenue Average': 88686459560}\n",
      "\n",
      "\n",
      "                           EPS Estimate  Reported EPS  Surprise(%)\n",
      "Earnings Date                                                     \n",
      "2026-04-29 06:59:00-04:00           NaN           NaN          NaN\n",
      "2026-01-28 16:00:00-05:00           NaN           NaN          NaN\n",
      "2025-10-29 06:59:00-04:00           NaN           NaN          NaN\n",
      "2025-07-30 06:59:00-04:00           NaN           NaN          NaN\n",
      "2025-05-01 16:30:00-04:00          1.63          1.65         1.41\n",
      "2025-01-30 16:31:00-05:00          2.35          2.40         2.15\n",
      "2024-10-31 16:31:00-04:00          1.60          1.64         2.35\n",
      "2024-08-01 16:30:00-04:00          1.35          1.40         3.99\n",
      "2024-05-02 16:31:00-04:00          1.50          1.53         1.97\n",
      "2024-02-01 16:00:00-05:00          2.10          2.18         3.90\n",
      "2023-11-02 16:30:00-04:00          1.39          1.46         4.92\n",
      "2023-08-03 16:30:00-04:00          1.19          1.26         5.49\n",
      "\n",
      "\n"
     ]
    }
   ],
   "source": [
    "data = yf.Ticker(\"AAPL\")\n",
    "\n",
    "# splits = data.splits\n",
    "# print(splits)\n",
    "\n",
    "# action = data.actions\n",
    "# print(action)\n",
    "\n",
    "# capital_gains = data.capital_gains\n",
    "# print(capital_gains)\n",
    "\n",
    "# earnings = data.earnings\n",
    "# print(earnings)\n",
    "\n",
    "# info = data.info\n",
    "fast_info = data.fast_info\n",
    "calendar = data.calendar\n",
    "earnings_dates = data.earnings_dates\n",
    "\n",
    "# print(info)\n",
    "print(fast_info)\n",
    "print(\"\\n\")\n",
    "print(calendar)\n",
    "print(\"\\n\")\n",
    "print(earnings_dates)\n",
    "print(\"\\n\")"
   ]
  }
 ],
 "metadata": {
  "kernelspec": {
   "display_name": ".venv",
   "language": "python",
   "name": "python3"
  },
  "language_info": {
   "codemirror_mode": {
    "name": "ipython",
    "version": 3
   },
   "file_extension": ".py",
   "mimetype": "text/x-python",
   "name": "python",
   "nbconvert_exporter": "python",
   "pygments_lexer": "ipython3",
   "version": "3.11.9"
  }
 },
 "nbformat": 4,
 "nbformat_minor": 5
}
