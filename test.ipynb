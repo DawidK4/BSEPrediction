{
 "cells": [
  {
   "cell_type": "code",
   "execution_count": 1,
   "id": "105b659d",
   "metadata": {},
   "outputs": [
    {
     "name": "stdout",
     "output_type": "stream",
     "text": [
      "Data saved to 'AAPL_ohlc_data.csv'\n"
     ]
    }
   ],
   "source": [
    "import yfinance as yf\n",
    "\n",
    "aapl = yf.Ticker('AAPL')\n",
    "data = aapl.history(period='max')  \n",
    "\n",
    "data.to_csv('AAPL_ohlc_data.csv')\n",
    "\n",
    "print(\"Data saved to 'AAPL_ohlc_data.csv'\")"
   ]
  }
 ],
 "metadata": {
  "kernelspec": {
   "display_name": ".venv",
   "language": "python",
   "name": "python3"
  },
  "language_info": {
   "codemirror_mode": {
    "name": "ipython",
    "version": 3
   },
   "file_extension": ".py",
   "mimetype": "text/x-python",
   "name": "python",
   "nbconvert_exporter": "python",
   "pygments_lexer": "ipython3",
   "version": "3.11.9"
  }
 },
 "nbformat": 4,
 "nbformat_minor": 5
}
