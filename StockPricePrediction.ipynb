{
 "cells": [
  {
   "cell_type": "code",
   "execution_count": 4,
   "id": "85e1da11",
   "metadata": {},
   "outputs": [],
   "source": [
    "import numpy as np \n",
    "import pandas as pd \n",
    "import matplotlib.pyplot as plt \n",
    "import seaborn as sns \n",
    "\n",
    "import tensorflow as tf \n",
    "\n",
    "import yfinance as yf "
   ]
  },
  {
   "cell_type": "markdown",
   "id": "5be3d1a3",
   "metadata": {},
   "source": [
    "#    Fetching the stock data"
   ]
  },
  {
   "cell_type": "code",
   "execution_count": 5,
   "id": "c2f4cd68",
   "metadata": {
    "vscode": {
     "languageId": "ruby"
    }
   },
   "outputs": [],
   "source": [
    "ticker = 'AAPL'\n",
    "data = yf.Ticker(ticker)"
   ]
  },
  {
   "cell_type": "markdown",
   "id": "c8068c97",
   "metadata": {},
   "source": [
    "Latest quaterly financials "
   ]
  },
  {
   "cell_type": "code",
   "execution_count": 6,
   "id": "773d0331",
   "metadata": {
    "vscode": {
     "languageId": "ruby"
    }
   },
   "outputs": [
    {
     "name": "stderr",
     "output_type": "stream",
     "text": [
      "c:\\Users\\dawid\\Desktop\\BSEPrediction\\.venv\\Lib\\site-packages\\yfinance\\scrapers\\fundamentals.py:36: DeprecationWarning: 'Ticker.earnings' is deprecated as not available via API. Look for \"Net Income\" in Ticker.income_stmt.\n",
      "  warnings.warn(\"'Ticker.earnings' is deprecated as not available via API. Look for \\\"Net Income\\\" in Ticker.income_stmt.\", DeprecationWarning)\n"
     ]
    }
   ],
   "source": [
    "dividends = data.dividends\n",
    "splits = data.splits\n",
    "actions = data.actions\n",
    "capital_gains = data.capital_gains\n",
    "\n",
    "income_stmt = data.income_stmt\n",
    "balance_sheet = data.balance_sheet\n",
    "cashflow = data.cash_flow\n",
    "tmm_cashflow = data.ttm_cash_flow\n",
    "earnings = data.earnings"
   ]
  },
  {
   "cell_type": "markdown",
   "id": "b6be230e",
   "metadata": {},
   "source": [
    "Additional data"
   ]
  },
  {
   "cell_type": "code",
   "execution_count": null,
   "id": "5cd59f2b",
   "metadata": {
    "vscode": {
     "languageId": "ruby"
    }
   },
   "outputs": [
    {
     "ename": "AttributeError",
     "evalue": "'Ticker' object has no attribute 'sec_fillings'",
     "output_type": "error",
     "traceback": [
      "\u001b[31m---------------------------------------------------------------------------\u001b[39m",
      "\u001b[31mAttributeError\u001b[39m                            Traceback (most recent call last)",
      "\u001b[36mCell\u001b[39m\u001b[36m \u001b[39m\u001b[32mIn[7]\u001b[39m\u001b[32m, line 5\u001b[39m\n\u001b[32m      3\u001b[39m calendar = data.calendar\n\u001b[32m      4\u001b[39m earnings_dates = data.earnings_dates\n\u001b[32m----> \u001b[39m\u001b[32m5\u001b[39m sec_fillings = \u001b[43mdata\u001b[49m\u001b[43m.\u001b[49m\u001b[43msec_fillings\u001b[49m\n",
      "\u001b[31mAttributeError\u001b[39m: 'Ticker' object has no attribute 'sec_fillings'"
     ]
    }
   ],
   "source": [
    "info = data.info\n",
    "fast_info = data.fast_info\n",
    "calendar = data.calendar\n",
    "earnings_dates = data.earnings_dates\n",
    "# sec_fillings = data.sec_fillings"
   ]
  },
  {
   "cell_type": "markdown",
   "id": "5c17ab24",
   "metadata": {},
   "source": [
    "Analysis "
   ]
  },
  {
   "cell_type": "code",
   "execution_count": null,
   "id": "d496ce93",
   "metadata": {
    "vscode": {
     "languageId": "ruby"
    }
   },
   "outputs": [],
   "source": [
    "recommendations = data.recommendations\n",
    "recommendations_summary = data.recommendations_summary\n",
    "\n",
    "upgrades_downgrades = data.upgrades_downgrades\n",
    "sustainability = data.sustainability\n",
    "\n",
    "analyst_price_targets = data.analyst_price_targets\n",
    "earnings_estimate = data.earnings_estimate\n",
    "revenue_estimate = data.revenue_estimate\n",
    "\n",
    "earnings_history = data.earnings_history\n",
    "eps_trend = data.eps_trend\n",
    "eps_revision = data.eps_revision"
   ]
  },
  {
   "cell_type": "markdown",
   "id": "b4ab4464",
   "metadata": {},
   "source": [
    "Holdings"
   ]
  },
  {
   "cell_type": "code",
   "execution_count": null,
   "id": "045fb037",
   "metadata": {
    "vscode": {
     "languageId": "ruby"
    }
   },
   "outputs": [],
   "source": [
    "funds_data = data.funds_data\n",
    "insider_purchases = data.insider_purchases\n",
    "insider_transactions = data.insider_transactions\n",
    "insider_roster_holders = data.insider_roster_holders\n",
    "major_holders = data.major_holders\n",
    "institutional_holder = data.institutional_holder\n",
    "mutualfund_holders = data.mutualfund_holders"
   ]
  },
  {
   "cell_type": "markdown",
   "id": "44bdb7be",
   "metadata": {},
   "source": [
    "# Fetching the market data"
   ]
  },
  {
   "cell_type": "code",
   "execution_count": null,
   "id": "3c33a165",
   "metadata": {},
   "outputs": [],
   "source": [
    "us_market = yf.Market('US')\n",
    "gb_market = yf.Market('GB')\n",
    "\n",
    "asian_market = yf.Market('ASIA')\n",
    "european_market = yf.Market('EUROPE')\n",
    "\n",
    "rates = yf.Market('RATES')\n",
    "commodities = yf.Market('COMMODITIES')\n",
    "currencies = yf.Market('CURRENCIES')\n",
    "crypto = yf.Market('CRYPTOCURRENCIES')"
   ]
  },
  {
   "cell_type": "markdown",
   "id": "c25d4713",
   "metadata": {},
   "source": [
    "# Sector and industry"
   ]
  },
  {
   "cell_type": "code",
   "execution_count": null,
   "id": "be071929",
   "metadata": {},
   "outputs": [
    {
     "name": "stdout",
     "output_type": "stream",
     "text": [
      "<property object at 0x000002C5D2B0E020>\n"
     ]
    }
   ],
   "source": [
    "print(yf.Sector.industries) # to be continued "
   ]
  }
 ],
 "metadata": {
  "kernelspec": {
   "display_name": ".venv",
   "language": "python",
   "name": "python3"
  },
  "language_info": {
   "codemirror_mode": {
    "name": "ipython",
    "version": 3
   },
   "file_extension": ".py",
   "mimetype": "text/x-python",
   "name": "python",
   "nbconvert_exporter": "python",
   "pygments_lexer": "ipython3",
   "version": "3.11.9"
  }
 },
 "nbformat": 4,
 "nbformat_minor": 5
}
