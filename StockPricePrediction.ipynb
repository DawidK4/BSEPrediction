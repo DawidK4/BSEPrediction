{
 "cells": [
  {
   "cell_type": "code",
   "execution_count": null,
   "id": "85e1da11",
   "metadata": {},
   "outputs": [],
   "source": [
    "import numpy as np \n",
    "import pandas as pd \n",
    "import matplotlib.pyplot as plt \n",
    "import seaborn as sns \n",
    "\n",
    "import os\n",
    "import sys\n",
    "\n",
    "import tensorflow as tf \n",
    "\n",
    "import yfinance as yf "
   ]
  },
  {
   "cell_type": "markdown",
   "id": "5be3d1a3",
   "metadata": {},
   "source": [
    "#    Fetching the stock data"
   ]
  },
  {
   "cell_type": "markdown",
   "id": "e42f7266",
   "metadata": {},
   "source": [
    "Price and volume"
   ]
  },
  {
   "cell_type": "code",
   "execution_count": 2,
   "id": "85716bd8",
   "metadata": {
    "vscode": {
     "languageId": "ruby"
    }
   },
   "outputs": [],
   "source": [
    "data = yf.Ticker(\"AAPL\")\n",
    "\n",
    "ohlc = data.history(period=\"max\", interval=\"1d\")[['Open', 'High', 'Low', 'Close', 'Volume']]\n",
    "ohlc.index = ohlc.index.tz_localize(None)  # Make index timezone-naive\n",
    "volume = ohlc['Volume']"
   ]
  },
  {
   "cell_type": "markdown",
   "id": "c8068c97",
   "metadata": {},
   "source": [
    "Latest quaterly financials "
   ]
  },
  {
   "cell_type": "code",
   "execution_count": 3,
   "id": "773d0331",
   "metadata": {
    "vscode": {
     "languageId": "ruby"
    }
   },
   "outputs": [
    {
     "name": "stderr",
     "output_type": "stream",
     "text": [
      "c:\\Users\\dawid\\Desktop\\BSEPrediction\\.venv\\Lib\\site-packages\\yfinance\\scrapers\\fundamentals.py:36: DeprecationWarning: 'Ticker.earnings' is deprecated as not available via API. Look for \"Net Income\" in Ticker.income_stmt.\n",
      "  warnings.warn(\"'Ticker.earnings' is deprecated as not available via API. Look for \\\"Net Income\\\" in Ticker.income_stmt.\", DeprecationWarning)\n"
     ]
    }
   ],
   "source": [
    "dividends = data.dividends\n",
    "splits = data.splits\n",
    "actions = data.actions\n",
    "capital_gains = data.capital_gains\n",
    "\n",
    "income_stmt = data.income_stmt\n",
    "balance_sheet = data.balance_sheet\n",
    "cashflow = data.cash_flow\n",
    "tmm_cashflow = data.ttm_cash_flow\n",
    "earnings = data.earnings"
   ]
  },
  {
   "cell_type": "markdown",
   "id": "b6be230e",
   "metadata": {},
   "source": [
    "Additional data"
   ]
  },
  {
   "cell_type": "code",
   "execution_count": 4,
   "id": "5cd59f2b",
   "metadata": {
    "vscode": {
     "languageId": "ruby"
    }
   },
   "outputs": [
    {
     "ename": "HTTPError",
     "evalue": "HTTP Error 502: ",
     "output_type": "error",
     "traceback": [
      "\u001b[31m---------------------------------------------------------------------------\u001b[39m",
      "\u001b[31mHTTPError\u001b[39m                                 Traceback (most recent call last)",
      "\u001b[36mCell\u001b[39m\u001b[36m \u001b[39m\u001b[32mIn[4]\u001b[39m\u001b[32m, line 1\u001b[39m\n\u001b[32m----> \u001b[39m\u001b[32m1\u001b[39m info = \u001b[43mdata\u001b[49m\u001b[43m.\u001b[49m\u001b[43minfo\u001b[49m\n\u001b[32m      2\u001b[39m fast_info = data.fast_info\n\u001b[32m      3\u001b[39m calendar = data.calendar\n",
      "\u001b[36mFile \u001b[39m\u001b[32mc:\\Users\\dawid\\Desktop\\BSEPrediction\\.venv\\Lib\\site-packages\\yfinance\\ticker.py:159\u001b[39m, in \u001b[36mTicker.info\u001b[39m\u001b[34m(self)\u001b[39m\n\u001b[32m    157\u001b[39m \u001b[38;5;129m@property\u001b[39m\n\u001b[32m    158\u001b[39m \u001b[38;5;28;01mdef\u001b[39;00m\u001b[38;5;250m \u001b[39m\u001b[34minfo\u001b[39m(\u001b[38;5;28mself\u001b[39m) -> \u001b[38;5;28mdict\u001b[39m:\n\u001b[32m--> \u001b[39m\u001b[32m159\u001b[39m     \u001b[38;5;28;01mreturn\u001b[39;00m \u001b[38;5;28;43mself\u001b[39;49m\u001b[43m.\u001b[49m\u001b[43mget_info\u001b[49m\u001b[43m(\u001b[49m\u001b[43m)\u001b[49m\n",
      "\u001b[36mFile \u001b[39m\u001b[32mc:\\Users\\dawid\\Desktop\\BSEPrediction\\.venv\\Lib\\site-packages\\yfinance\\base.py:293\u001b[39m, in \u001b[36mTickerBase.get_info\u001b[39m\u001b[34m(self, proxy)\u001b[39m\n\u001b[32m    290\u001b[39m     utils.print_once(\u001b[33m\"\u001b[39m\u001b[33mYF deprecation warning: set proxy via new config function: yf.set_config(proxy=proxy)\u001b[39m\u001b[33m\"\u001b[39m)\n\u001b[32m    291\u001b[39m     \u001b[38;5;28mself\u001b[39m._data._set_proxy(proxy)\n\u001b[32m--> \u001b[39m\u001b[32m293\u001b[39m data = \u001b[38;5;28;43mself\u001b[39;49m\u001b[43m.\u001b[49m\u001b[43m_quote\u001b[49m\u001b[43m.\u001b[49m\u001b[43minfo\u001b[49m\n\u001b[32m    294\u001b[39m \u001b[38;5;28;01mreturn\u001b[39;00m data\n",
      "\u001b[36mFile \u001b[39m\u001b[32mc:\\Users\\dawid\\Desktop\\BSEPrediction\\.venv\\Lib\\site-packages\\yfinance\\scrapers\\quote.py:511\u001b[39m, in \u001b[36mQuote.info\u001b[39m\u001b[34m(self)\u001b[39m\n\u001b[32m    508\u001b[39m \u001b[38;5;129m@property\u001b[39m\n\u001b[32m    509\u001b[39m \u001b[38;5;28;01mdef\u001b[39;00m\u001b[38;5;250m \u001b[39m\u001b[34minfo\u001b[39m(\u001b[38;5;28mself\u001b[39m) -> \u001b[38;5;28mdict\u001b[39m:\n\u001b[32m    510\u001b[39m     \u001b[38;5;28;01mif\u001b[39;00m \u001b[38;5;28mself\u001b[39m._info \u001b[38;5;129;01mis\u001b[39;00m \u001b[38;5;28;01mNone\u001b[39;00m:\n\u001b[32m--> \u001b[39m\u001b[32m511\u001b[39m         \u001b[38;5;28;43mself\u001b[39;49m\u001b[43m.\u001b[49m\u001b[43m_fetch_info\u001b[49m\u001b[43m(\u001b[49m\u001b[43m)\u001b[49m\n\u001b[32m    512\u001b[39m         \u001b[38;5;28mself\u001b[39m._fetch_complementary()\n\u001b[32m    514\u001b[39m     \u001b[38;5;28;01mreturn\u001b[39;00m \u001b[38;5;28mself\u001b[39m._info\n",
      "\u001b[36mFile \u001b[39m\u001b[32mc:\\Users\\dawid\\Desktop\\BSEPrediction\\.venv\\Lib\\site-packages\\yfinance\\scrapers\\quote.py:611\u001b[39m, in \u001b[36mQuote._fetch_info\u001b[39m\u001b[34m(self)\u001b[39m\n\u001b[32m    609\u001b[39m modules = [\u001b[33m'\u001b[39m\u001b[33mfinancialData\u001b[39m\u001b[33m'\u001b[39m, \u001b[33m'\u001b[39m\u001b[33mquoteType\u001b[39m\u001b[33m'\u001b[39m, \u001b[33m'\u001b[39m\u001b[33mdefaultKeyStatistics\u001b[39m\u001b[33m'\u001b[39m, \u001b[33m'\u001b[39m\u001b[33massetProfile\u001b[39m\u001b[33m'\u001b[39m, \u001b[33m'\u001b[39m\u001b[33msummaryDetail\u001b[39m\u001b[33m'\u001b[39m]\n\u001b[32m    610\u001b[39m result = \u001b[38;5;28mself\u001b[39m._fetch(modules=modules)\n\u001b[32m--> \u001b[39m\u001b[32m611\u001b[39m additional_info = \u001b[38;5;28;43mself\u001b[39;49m\u001b[43m.\u001b[49m\u001b[43m_fetch_additional_info\u001b[49m\u001b[43m(\u001b[49m\u001b[43m)\u001b[49m\n\u001b[32m    612\u001b[39m \u001b[38;5;28;01mif\u001b[39;00m additional_info \u001b[38;5;129;01mis\u001b[39;00m \u001b[38;5;129;01mnot\u001b[39;00m \u001b[38;5;28;01mNone\u001b[39;00m \u001b[38;5;129;01mand\u001b[39;00m result \u001b[38;5;129;01mis\u001b[39;00m \u001b[38;5;129;01mnot\u001b[39;00m \u001b[38;5;28;01mNone\u001b[39;00m:\n\u001b[32m    613\u001b[39m     result.update(additional_info)\n",
      "\u001b[36mFile \u001b[39m\u001b[32mc:\\Users\\dawid\\Desktop\\BSEPrediction\\.venv\\Lib\\site-packages\\yfinance\\scrapers\\quote.py:599\u001b[39m, in \u001b[36mQuote._fetch_additional_info\u001b[39m\u001b[34m(self)\u001b[39m\n\u001b[32m    597\u001b[39m params_dict = {\u001b[33m\"\u001b[39m\u001b[33msymbols\u001b[39m\u001b[33m\"\u001b[39m: \u001b[38;5;28mself\u001b[39m._symbol, \u001b[33m\"\u001b[39m\u001b[33mformatted\u001b[39m\u001b[33m\"\u001b[39m: \u001b[33m\"\u001b[39m\u001b[33mfalse\u001b[39m\u001b[33m\"\u001b[39m}\n\u001b[32m    598\u001b[39m \u001b[38;5;28;01mtry\u001b[39;00m:\n\u001b[32m--> \u001b[39m\u001b[32m599\u001b[39m     result = \u001b[38;5;28;43mself\u001b[39;49m\u001b[43m.\u001b[49m\u001b[43m_data\u001b[49m\u001b[43m.\u001b[49m\u001b[43mget_raw_json\u001b[49m\u001b[43m(\u001b[49m\u001b[33;43mf\u001b[39;49m\u001b[33;43m\"\u001b[39;49m\u001b[38;5;132;43;01m{\u001b[39;49;00m\u001b[43m_QUERY1_URL_\u001b[49m\u001b[38;5;132;43;01m}\u001b[39;49;00m\u001b[33;43m/v7/finance/quote?\u001b[39;49m\u001b[33;43m\"\u001b[39;49m\u001b[43m,\u001b[49m\u001b[43m \u001b[49m\u001b[43mparams\u001b[49m\u001b[43m=\u001b[49m\u001b[43mparams_dict\u001b[49m\u001b[43m)\u001b[49m\n\u001b[32m    600\u001b[39m \u001b[38;5;28;01mexcept\u001b[39;00m requests.exceptions.HTTPError \u001b[38;5;28;01mas\u001b[39;00m e:\n\u001b[32m    601\u001b[39m     utils.get_yf_logger().error(\u001b[38;5;28mstr\u001b[39m(e))\n",
      "\u001b[36mFile \u001b[39m\u001b[32mc:\\Users\\dawid\\Desktop\\BSEPrediction\\.venv\\Lib\\site-packages\\yfinance\\data.py:393\u001b[39m, in \u001b[36mYfData.get_raw_json\u001b[39m\u001b[34m(self, url, params, timeout)\u001b[39m\n\u001b[32m    391\u001b[39m utils.get_yf_logger().debug(\u001b[33mf\u001b[39m\u001b[33m'\u001b[39m\u001b[33mget_raw_json(): \u001b[39m\u001b[38;5;132;01m{\u001b[39;00murl\u001b[38;5;132;01m}\u001b[39;00m\u001b[33m'\u001b[39m)\n\u001b[32m    392\u001b[39m response = \u001b[38;5;28mself\u001b[39m.get(url, params=params, timeout=timeout)\n\u001b[32m--> \u001b[39m\u001b[32m393\u001b[39m \u001b[43mresponse\u001b[49m\u001b[43m.\u001b[49m\u001b[43mraise_for_status\u001b[49m\u001b[43m(\u001b[49m\u001b[43m)\u001b[49m\n\u001b[32m    394\u001b[39m \u001b[38;5;28;01mreturn\u001b[39;00m response.json()\n",
      "\u001b[36mFile \u001b[39m\u001b[32mc:\\Users\\dawid\\Desktop\\BSEPrediction\\.venv\\Lib\\site-packages\\curl_cffi\\requests\\models.py:155\u001b[39m, in \u001b[36mResponse.raise_for_status\u001b[39m\u001b[34m(self)\u001b[39m\n\u001b[32m    153\u001b[39m \u001b[38;5;250m\u001b[39m\u001b[33;03m\"\"\"Raise an error if status code is not in [200, 400)\"\"\"\u001b[39;00m\n\u001b[32m    154\u001b[39m \u001b[38;5;28;01mif\u001b[39;00m \u001b[38;5;129;01mnot\u001b[39;00m \u001b[38;5;28mself\u001b[39m.ok:\n\u001b[32m--> \u001b[39m\u001b[32m155\u001b[39m     \u001b[38;5;28;01mraise\u001b[39;00m HTTPError(\u001b[33mf\u001b[39m\u001b[33m\"\u001b[39m\u001b[33mHTTP Error \u001b[39m\u001b[38;5;132;01m{\u001b[39;00m\u001b[38;5;28mself\u001b[39m.status_code\u001b[38;5;132;01m}\u001b[39;00m\u001b[33m: \u001b[39m\u001b[38;5;132;01m{\u001b[39;00m\u001b[38;5;28mself\u001b[39m.reason\u001b[38;5;132;01m}\u001b[39;00m\u001b[33m\"\u001b[39m, \u001b[32m0\u001b[39m, \u001b[38;5;28mself\u001b[39m)\n",
      "\u001b[31mHTTPError\u001b[39m: HTTP Error 502: "
     ]
    }
   ],
   "source": [
    "info = data.info\n",
    "fast_info = data.fast_info\n",
    "calendar = data.calendar\n",
    "earnings_dates = data.earnings_dates\n",
    "# sec_fillings = data.sec_fillings"
   ]
  },
  {
   "cell_type": "markdown",
   "id": "5c17ab24",
   "metadata": {},
   "source": [
    "Analysis "
   ]
  },
  {
   "cell_type": "code",
   "execution_count": 5,
   "id": "d496ce93",
   "metadata": {
    "vscode": {
     "languageId": "ruby"
    }
   },
   "outputs": [],
   "source": [
    "recommendations = data.recommendations\n",
    "recommendations_summary = data.recommendations_summary\n",
    "\n",
    "upgrades_downgrades = data.upgrades_downgrades\n",
    "sustainability = data.sustainability\n",
    "\n",
    "analyst_price_targets = data.analyst_price_targets\n",
    "earnings_estimate = data.earnings_estimate\n",
    "revenue_estimate = data.revenue_estimate\n",
    "\n",
    "earnings_history = data.earnings_history\n",
    "eps_trend = data.eps_trend\n",
    "# eps_revision = data.eps_revision"
   ]
  },
  {
   "cell_type": "markdown",
   "id": "b4ab4464",
   "metadata": {},
   "source": [
    "Holdings"
   ]
  },
  {
   "cell_type": "code",
   "execution_count": 6,
   "id": "045fb037",
   "metadata": {
    "vscode": {
     "languageId": "ruby"
    }
   },
   "outputs": [],
   "source": [
    "funds_data = data.funds_data\n",
    "insider_purchases = data.insider_purchases\n",
    "insider_transactions = data.insider_transactions\n",
    "insider_roster_holders = data.insider_roster_holders\n",
    "major_holders = data.major_holders\n",
    "# institutional_holder = data.institutional_holder\n",
    "mutualfund_holders = data.mutualfund_holders"
   ]
  },
  {
   "cell_type": "markdown",
   "id": "44bdb7be",
   "metadata": {},
   "source": [
    "# Fetching the market data"
   ]
  },
  {
   "cell_type": "code",
   "execution_count": 7,
   "id": "3c33a165",
   "metadata": {},
   "outputs": [],
   "source": [
    "us_market = yf.Market('US')\n",
    "gb_market = yf.Market('GB')\n",
    "\n",
    "asian_market = yf.Market('ASIA')\n",
    "european_market = yf.Market('EUROPE')\n",
    "\n",
    "rates = yf.Market('RATES')\n",
    "commodities = yf.Market('COMMODITIES')\n",
    "currencies = yf.Market('CURRENCIES')\n",
    "crypto = yf.Market('CRYPTOCURRENCIES')"
   ]
  },
  {
   "cell_type": "markdown",
   "id": "c25d4713",
   "metadata": {},
   "source": [
    "# Sector and industry"
   ]
  },
  {
   "cell_type": "code",
   "execution_count": 8,
   "id": "be071929",
   "metadata": {},
   "outputs": [
    {
     "name": "stdout",
     "output_type": "stream",
     "text": [
      "<property object at 0x000002327AF1F560>\n"
     ]
    }
   ],
   "source": [
    "print(yf.Sector.industries) # to be continued"
   ]
  },
  {
   "cell_type": "markdown",
   "id": "e97fe2a7",
   "metadata": {},
   "source": [
    "# Data cleaning and preprocessing"
   ]
  },
  {
   "cell_type": "code",
   "execution_count": 9,
   "id": "d01bd2c4",
   "metadata": {},
   "outputs": [],
   "source": [
    "total_dividend_through_years = dividends.sum()\n",
    "total_number_of_stock_splits = len(splits)\n",
    "# Process capital gains "
   ]
  },
  {
   "cell_type": "markdown",
   "id": "83f8ad68",
   "metadata": {},
   "source": [
    "Financial statement transformation"
   ]
  },
  {
   "cell_type": "code",
   "execution_count": 20,
   "id": "2a7d4452",
   "metadata": {},
   "outputs": [
    {
     "name": "stderr",
     "output_type": "stream",
     "text": [
      "C:\\Users\\dawid\\AppData\\Local\\Temp\\ipykernel_14948\\2446286178.py:12: FutureWarning: DataFrame.fillna with 'method' is deprecated and will raise in a future version. Use obj.ffill() or obj.bfill() instead.\n",
      "  aligned_income.loc[mask] = aligned_income.loc[mask].fillna(method='ffill')\n",
      "C:\\Users\\dawid\\AppData\\Local\\Temp\\ipykernel_14948\\2446286178.py:12: FutureWarning: Downcasting object dtype arrays on .fillna, .ffill, .bfill is deprecated and will change in a future version. Call result.infer_objects(copy=False) instead. To opt-in to the future behavior, set `pd.set_option('future.no_silent_downcasting', True)`\n",
      "  aligned_income.loc[mask] = aligned_income.loc[mask].fillna(method='ffill')\n",
      "C:\\Users\\dawid\\AppData\\Local\\Temp\\ipykernel_14948\\2446286178.py:12: FutureWarning: DataFrame.fillna with 'method' is deprecated and will raise in a future version. Use obj.ffill() or obj.bfill() instead.\n",
      "  aligned_income.loc[mask] = aligned_income.loc[mask].fillna(method='ffill')\n",
      "C:\\Users\\dawid\\AppData\\Local\\Temp\\ipykernel_14948\\2446286178.py:12: FutureWarning: Downcasting object dtype arrays on .fillna, .ffill, .bfill is deprecated and will change in a future version. Call result.infer_objects(copy=False) instead. To opt-in to the future behavior, set `pd.set_option('future.no_silent_downcasting', True)`\n",
      "  aligned_income.loc[mask] = aligned_income.loc[mask].fillna(method='ffill')\n",
      "C:\\Users\\dawid\\AppData\\Local\\Temp\\ipykernel_14948\\2446286178.py:12: FutureWarning: DataFrame.fillna with 'method' is deprecated and will raise in a future version. Use obj.ffill() or obj.bfill() instead.\n",
      "  aligned_income.loc[mask] = aligned_income.loc[mask].fillna(method='ffill')\n",
      "C:\\Users\\dawid\\AppData\\Local\\Temp\\ipykernel_14948\\2446286178.py:12: FutureWarning: Downcasting object dtype arrays on .fillna, .ffill, .bfill is deprecated and will change in a future version. Call result.infer_objects(copy=False) instead. To opt-in to the future behavior, set `pd.set_option('future.no_silent_downcasting', True)`\n",
      "  aligned_income.loc[mask] = aligned_income.loc[mask].fillna(method='ffill')\n",
      "C:\\Users\\dawid\\AppData\\Local\\Temp\\ipykernel_14948\\2446286178.py:12: FutureWarning: DataFrame.fillna with 'method' is deprecated and will raise in a future version. Use obj.ffill() or obj.bfill() instead.\n",
      "  aligned_income.loc[mask] = aligned_income.loc[mask].fillna(method='ffill')\n",
      "C:\\Users\\dawid\\AppData\\Local\\Temp\\ipykernel_14948\\2446286178.py:12: FutureWarning: Downcasting object dtype arrays on .fillna, .ffill, .bfill is deprecated and will change in a future version. Call result.infer_objects(copy=False) instead. To opt-in to the future behavior, set `pd.set_option('future.no_silent_downcasting', True)`\n",
      "  aligned_income.loc[mask] = aligned_income.loc[mask].fillna(method='ffill')\n",
      "C:\\Users\\dawid\\AppData\\Local\\Temp\\ipykernel_14948\\2446286178.py:12: FutureWarning: DataFrame.fillna with 'method' is deprecated and will raise in a future version. Use obj.ffill() or obj.bfill() instead.\n",
      "  aligned_income.loc[mask] = aligned_income.loc[mask].fillna(method='ffill')\n",
      "C:\\Users\\dawid\\AppData\\Local\\Temp\\ipykernel_14948\\2446286178.py:12: FutureWarning: Downcasting object dtype arrays on .fillna, .ffill, .bfill is deprecated and will change in a future version. Call result.infer_objects(copy=False) instead. To opt-in to the future behavior, set `pd.set_option('future.no_silent_downcasting', True)`\n",
      "  aligned_income.loc[mask] = aligned_income.loc[mask].fillna(method='ffill')\n",
      "C:\\Users\\dawid\\AppData\\Local\\Temp\\ipykernel_14948\\2446286178.py:18: FutureWarning: DataFrame.fillna with 'method' is deprecated and will raise in a future version. Use obj.ffill() or obj.bfill() instead.\n",
      "  aligned_income.fillna(method='ffill', inplace=True)\n",
      "C:\\Users\\dawid\\AppData\\Local\\Temp\\ipykernel_14948\\2446286178.py:18: FutureWarning: Downcasting object dtype arrays on .fillna, .ffill, .bfill is deprecated and will change in a future version. Call result.infer_objects(copy=False) instead. To opt-in to the future behavior, set `pd.set_option('future.no_silent_downcasting', True)`\n",
      "  aligned_income.fillna(method='ffill', inplace=True)\n",
      "C:\\Users\\dawid\\AppData\\Local\\Temp\\ipykernel_14948\\2446286178.py:27: FutureWarning: DataFrame.fillna with 'method' is deprecated and will raise in a future version. Use obj.ffill() or obj.bfill() instead.\n",
      "  aligned_balance.loc[mask] = aligned_balance.loc[mask].fillna(method='ffill')\n",
      "C:\\Users\\dawid\\AppData\\Local\\Temp\\ipykernel_14948\\2446286178.py:27: FutureWarning: Downcasting object dtype arrays on .fillna, .ffill, .bfill is deprecated and will change in a future version. Call result.infer_objects(copy=False) instead. To opt-in to the future behavior, set `pd.set_option('future.no_silent_downcasting', True)`\n",
      "  aligned_balance.loc[mask] = aligned_balance.loc[mask].fillna(method='ffill')\n",
      "C:\\Users\\dawid\\AppData\\Local\\Temp\\ipykernel_14948\\2446286178.py:27: FutureWarning: DataFrame.fillna with 'method' is deprecated and will raise in a future version. Use obj.ffill() or obj.bfill() instead.\n",
      "  aligned_balance.loc[mask] = aligned_balance.loc[mask].fillna(method='ffill')\n",
      "C:\\Users\\dawid\\AppData\\Local\\Temp\\ipykernel_14948\\2446286178.py:27: FutureWarning: Downcasting object dtype arrays on .fillna, .ffill, .bfill is deprecated and will change in a future version. Call result.infer_objects(copy=False) instead. To opt-in to the future behavior, set `pd.set_option('future.no_silent_downcasting', True)`\n",
      "  aligned_balance.loc[mask] = aligned_balance.loc[mask].fillna(method='ffill')\n",
      "C:\\Users\\dawid\\AppData\\Local\\Temp\\ipykernel_14948\\2446286178.py:27: FutureWarning: DataFrame.fillna with 'method' is deprecated and will raise in a future version. Use obj.ffill() or obj.bfill() instead.\n",
      "  aligned_balance.loc[mask] = aligned_balance.loc[mask].fillna(method='ffill')\n",
      "C:\\Users\\dawid\\AppData\\Local\\Temp\\ipykernel_14948\\2446286178.py:27: FutureWarning: Downcasting object dtype arrays on .fillna, .ffill, .bfill is deprecated and will change in a future version. Call result.infer_objects(copy=False) instead. To opt-in to the future behavior, set `pd.set_option('future.no_silent_downcasting', True)`\n",
      "  aligned_balance.loc[mask] = aligned_balance.loc[mask].fillna(method='ffill')\n",
      "C:\\Users\\dawid\\AppData\\Local\\Temp\\ipykernel_14948\\2446286178.py:27: FutureWarning: DataFrame.fillna with 'method' is deprecated and will raise in a future version. Use obj.ffill() or obj.bfill() instead.\n",
      "  aligned_balance.loc[mask] = aligned_balance.loc[mask].fillna(method='ffill')\n",
      "C:\\Users\\dawid\\AppData\\Local\\Temp\\ipykernel_14948\\2446286178.py:27: FutureWarning: Downcasting object dtype arrays on .fillna, .ffill, .bfill is deprecated and will change in a future version. Call result.infer_objects(copy=False) instead. To opt-in to the future behavior, set `pd.set_option('future.no_silent_downcasting', True)`\n",
      "  aligned_balance.loc[mask] = aligned_balance.loc[mask].fillna(method='ffill')\n",
      "C:\\Users\\dawid\\AppData\\Local\\Temp\\ipykernel_14948\\2446286178.py:27: FutureWarning: DataFrame.fillna with 'method' is deprecated and will raise in a future version. Use obj.ffill() or obj.bfill() instead.\n",
      "  aligned_balance.loc[mask] = aligned_balance.loc[mask].fillna(method='ffill')\n",
      "C:\\Users\\dawid\\AppData\\Local\\Temp\\ipykernel_14948\\2446286178.py:27: FutureWarning: Downcasting object dtype arrays on .fillna, .ffill, .bfill is deprecated and will change in a future version. Call result.infer_objects(copy=False) instead. To opt-in to the future behavior, set `pd.set_option('future.no_silent_downcasting', True)`\n",
      "  aligned_balance.loc[mask] = aligned_balance.loc[mask].fillna(method='ffill')\n",
      "C:\\Users\\dawid\\AppData\\Local\\Temp\\ipykernel_14948\\2446286178.py:32: FutureWarning: DataFrame.fillna with 'method' is deprecated and will raise in a future version. Use obj.ffill() or obj.bfill() instead.\n",
      "  aligned_balance.fillna(method='ffill', inplace=True)\n",
      "C:\\Users\\dawid\\AppData\\Local\\Temp\\ipykernel_14948\\2446286178.py:32: FutureWarning: Downcasting object dtype arrays on .fillna, .ffill, .bfill is deprecated and will change in a future version. Call result.infer_objects(copy=False) instead. To opt-in to the future behavior, set `pd.set_option('future.no_silent_downcasting', True)`\n",
      "  aligned_balance.fillna(method='ffill', inplace=True)\n",
      "C:\\Users\\dawid\\AppData\\Local\\Temp\\ipykernel_14948\\2446286178.py:27: FutureWarning: DataFrame.fillna with 'method' is deprecated and will raise in a future version. Use obj.ffill() or obj.bfill() instead.\n",
      "  aligned_balance.loc[mask] = aligned_balance.loc[mask].fillna(method='ffill')\n",
      "C:\\Users\\dawid\\AppData\\Local\\Temp\\ipykernel_14948\\2446286178.py:27: FutureWarning: Downcasting object dtype arrays on .fillna, .ffill, .bfill is deprecated and will change in a future version. Call result.infer_objects(copy=False) instead. To opt-in to the future behavior, set `pd.set_option('future.no_silent_downcasting', True)`\n",
      "  aligned_balance.loc[mask] = aligned_balance.loc[mask].fillna(method='ffill')\n",
      "C:\\Users\\dawid\\AppData\\Local\\Temp\\ipykernel_14948\\2446286178.py:27: FutureWarning: DataFrame.fillna with 'method' is deprecated and will raise in a future version. Use obj.ffill() or obj.bfill() instead.\n",
      "  aligned_balance.loc[mask] = aligned_balance.loc[mask].fillna(method='ffill')\n",
      "C:\\Users\\dawid\\AppData\\Local\\Temp\\ipykernel_14948\\2446286178.py:27: FutureWarning: Downcasting object dtype arrays on .fillna, .ffill, .bfill is deprecated and will change in a future version. Call result.infer_objects(copy=False) instead. To opt-in to the future behavior, set `pd.set_option('future.no_silent_downcasting', True)`\n",
      "  aligned_balance.loc[mask] = aligned_balance.loc[mask].fillna(method='ffill')\n",
      "C:\\Users\\dawid\\AppData\\Local\\Temp\\ipykernel_14948\\2446286178.py:27: FutureWarning: DataFrame.fillna with 'method' is deprecated and will raise in a future version. Use obj.ffill() or obj.bfill() instead.\n",
      "  aligned_balance.loc[mask] = aligned_balance.loc[mask].fillna(method='ffill')\n",
      "C:\\Users\\dawid\\AppData\\Local\\Temp\\ipykernel_14948\\2446286178.py:27: FutureWarning: Downcasting object dtype arrays on .fillna, .ffill, .bfill is deprecated and will change in a future version. Call result.infer_objects(copy=False) instead. To opt-in to the future behavior, set `pd.set_option('future.no_silent_downcasting', True)`\n",
      "  aligned_balance.loc[mask] = aligned_balance.loc[mask].fillna(method='ffill')\n",
      "C:\\Users\\dawid\\AppData\\Local\\Temp\\ipykernel_14948\\2446286178.py:27: FutureWarning: DataFrame.fillna with 'method' is deprecated and will raise in a future version. Use obj.ffill() or obj.bfill() instead.\n",
      "  aligned_balance.loc[mask] = aligned_balance.loc[mask].fillna(method='ffill')\n",
      "C:\\Users\\dawid\\AppData\\Local\\Temp\\ipykernel_14948\\2446286178.py:27: FutureWarning: Downcasting object dtype arrays on .fillna, .ffill, .bfill is deprecated and will change in a future version. Call result.infer_objects(copy=False) instead. To opt-in to the future behavior, set `pd.set_option('future.no_silent_downcasting', True)`\n",
      "  aligned_balance.loc[mask] = aligned_balance.loc[mask].fillna(method='ffill')\n",
      "C:\\Users\\dawid\\AppData\\Local\\Temp\\ipykernel_14948\\2446286178.py:32: FutureWarning: DataFrame.fillna with 'method' is deprecated and will raise in a future version. Use obj.ffill() or obj.bfill() instead.\n",
      "  aligned_balance.fillna(method='ffill', inplace=True)\n",
      "C:\\Users\\dawid\\AppData\\Local\\Temp\\ipykernel_14948\\2446286178.py:32: FutureWarning: Downcasting object dtype arrays on .fillna, .ffill, .bfill is deprecated and will change in a future version. Call result.infer_objects(copy=False) instead. To opt-in to the future behavior, set `pd.set_option('future.no_silent_downcasting', True)`\n",
      "  aligned_balance.fillna(method='ffill', inplace=True)\n",
      "C:\\Users\\dawid\\AppData\\Local\\Temp\\ipykernel_14948\\2446286178.py:41: FutureWarning: DataFrame.fillna with 'method' is deprecated and will raise in a future version. Use obj.ffill() or obj.bfill() instead.\n",
      "  aligned_cashflow.loc[mask] = aligned_cashflow.loc[mask].fillna(method='ffill')\n",
      "C:\\Users\\dawid\\AppData\\Local\\Temp\\ipykernel_14948\\2446286178.py:41: FutureWarning: Downcasting object dtype arrays on .fillna, .ffill, .bfill is deprecated and will change in a future version. Call result.infer_objects(copy=False) instead. To opt-in to the future behavior, set `pd.set_option('future.no_silent_downcasting', True)`\n",
      "  aligned_cashflow.loc[mask] = aligned_cashflow.loc[mask].fillna(method='ffill')\n",
      "C:\\Users\\dawid\\AppData\\Local\\Temp\\ipykernel_14948\\2446286178.py:41: FutureWarning: DataFrame.fillna with 'method' is deprecated and will raise in a future version. Use obj.ffill() or obj.bfill() instead.\n",
      "  aligned_cashflow.loc[mask] = aligned_cashflow.loc[mask].fillna(method='ffill')\n",
      "C:\\Users\\dawid\\AppData\\Local\\Temp\\ipykernel_14948\\2446286178.py:41: FutureWarning: Downcasting object dtype arrays on .fillna, .ffill, .bfill is deprecated and will change in a future version. Call result.infer_objects(copy=False) instead. To opt-in to the future behavior, set `pd.set_option('future.no_silent_downcasting', True)`\n",
      "  aligned_cashflow.loc[mask] = aligned_cashflow.loc[mask].fillna(method='ffill')\n",
      "C:\\Users\\dawid\\AppData\\Local\\Temp\\ipykernel_14948\\2446286178.py:41: FutureWarning: DataFrame.fillna with 'method' is deprecated and will raise in a future version. Use obj.ffill() or obj.bfill() instead.\n",
      "  aligned_cashflow.loc[mask] = aligned_cashflow.loc[mask].fillna(method='ffill')\n",
      "C:\\Users\\dawid\\AppData\\Local\\Temp\\ipykernel_14948\\2446286178.py:41: FutureWarning: Downcasting object dtype arrays on .fillna, .ffill, .bfill is deprecated and will change in a future version. Call result.infer_objects(copy=False) instead. To opt-in to the future behavior, set `pd.set_option('future.no_silent_downcasting', True)`\n",
      "  aligned_cashflow.loc[mask] = aligned_cashflow.loc[mask].fillna(method='ffill')\n",
      "C:\\Users\\dawid\\AppData\\Local\\Temp\\ipykernel_14948\\2446286178.py:41: FutureWarning: DataFrame.fillna with 'method' is deprecated and will raise in a future version. Use obj.ffill() or obj.bfill() instead.\n",
      "  aligned_cashflow.loc[mask] = aligned_cashflow.loc[mask].fillna(method='ffill')\n",
      "C:\\Users\\dawid\\AppData\\Local\\Temp\\ipykernel_14948\\2446286178.py:41: FutureWarning: Downcasting object dtype arrays on .fillna, .ffill, .bfill is deprecated and will change in a future version. Call result.infer_objects(copy=False) instead. To opt-in to the future behavior, set `pd.set_option('future.no_silent_downcasting', True)`\n",
      "  aligned_cashflow.loc[mask] = aligned_cashflow.loc[mask].fillna(method='ffill')\n",
      "C:\\Users\\dawid\\AppData\\Local\\Temp\\ipykernel_14948\\2446286178.py:41: FutureWarning: DataFrame.fillna with 'method' is deprecated and will raise in a future version. Use obj.ffill() or obj.bfill() instead.\n",
      "  aligned_cashflow.loc[mask] = aligned_cashflow.loc[mask].fillna(method='ffill')\n",
      "C:\\Users\\dawid\\AppData\\Local\\Temp\\ipykernel_14948\\2446286178.py:41: FutureWarning: Downcasting object dtype arrays on .fillna, .ffill, .bfill is deprecated and will change in a future version. Call result.infer_objects(copy=False) instead. To opt-in to the future behavior, set `pd.set_option('future.no_silent_downcasting', True)`\n",
      "  aligned_cashflow.loc[mask] = aligned_cashflow.loc[mask].fillna(method='ffill')\n",
      "C:\\Users\\dawid\\AppData\\Local\\Temp\\ipykernel_14948\\2446286178.py:46: FutureWarning: DataFrame.fillna with 'method' is deprecated and will raise in a future version. Use obj.ffill() or obj.bfill() instead.\n",
      "  aligned_cashflow.fillna(method='ffill', inplace=True)\n",
      "C:\\Users\\dawid\\AppData\\Local\\Temp\\ipykernel_14948\\2446286178.py:46: FutureWarning: Downcasting object dtype arrays on .fillna, .ffill, .bfill is deprecated and will change in a future version. Call result.infer_objects(copy=False) instead. To opt-in to the future behavior, set `pd.set_option('future.no_silent_downcasting', True)`\n",
      "  aligned_cashflow.fillna(method='ffill', inplace=True)\n",
      "C:\\Users\\dawid\\AppData\\Local\\Temp\\ipykernel_14948\\2446286178.py:41: FutureWarning: DataFrame.fillna with 'method' is deprecated and will raise in a future version. Use obj.ffill() or obj.bfill() instead.\n",
      "  aligned_cashflow.loc[mask] = aligned_cashflow.loc[mask].fillna(method='ffill')\n",
      "C:\\Users\\dawid\\AppData\\Local\\Temp\\ipykernel_14948\\2446286178.py:41: FutureWarning: Downcasting object dtype arrays on .fillna, .ffill, .bfill is deprecated and will change in a future version. Call result.infer_objects(copy=False) instead. To opt-in to the future behavior, set `pd.set_option('future.no_silent_downcasting', True)`\n",
      "  aligned_cashflow.loc[mask] = aligned_cashflow.loc[mask].fillna(method='ffill')\n",
      "C:\\Users\\dawid\\AppData\\Local\\Temp\\ipykernel_14948\\2446286178.py:41: FutureWarning: DataFrame.fillna with 'method' is deprecated and will raise in a future version. Use obj.ffill() or obj.bfill() instead.\n",
      "  aligned_cashflow.loc[mask] = aligned_cashflow.loc[mask].fillna(method='ffill')\n",
      "C:\\Users\\dawid\\AppData\\Local\\Temp\\ipykernel_14948\\2446286178.py:41: FutureWarning: Downcasting object dtype arrays on .fillna, .ffill, .bfill is deprecated and will change in a future version. Call result.infer_objects(copy=False) instead. To opt-in to the future behavior, set `pd.set_option('future.no_silent_downcasting', True)`\n",
      "  aligned_cashflow.loc[mask] = aligned_cashflow.loc[mask].fillna(method='ffill')\n",
      "C:\\Users\\dawid\\AppData\\Local\\Temp\\ipykernel_14948\\2446286178.py:41: FutureWarning: DataFrame.fillna with 'method' is deprecated and will raise in a future version. Use obj.ffill() or obj.bfill() instead.\n",
      "  aligned_cashflow.loc[mask] = aligned_cashflow.loc[mask].fillna(method='ffill')\n",
      "C:\\Users\\dawid\\AppData\\Local\\Temp\\ipykernel_14948\\2446286178.py:41: FutureWarning: Downcasting object dtype arrays on .fillna, .ffill, .bfill is deprecated and will change in a future version. Call result.infer_objects(copy=False) instead. To opt-in to the future behavior, set `pd.set_option('future.no_silent_downcasting', True)`\n",
      "  aligned_cashflow.loc[mask] = aligned_cashflow.loc[mask].fillna(method='ffill')\n",
      "C:\\Users\\dawid\\AppData\\Local\\Temp\\ipykernel_14948\\2446286178.py:41: FutureWarning: DataFrame.fillna with 'method' is deprecated and will raise in a future version. Use obj.ffill() or obj.bfill() instead.\n",
      "  aligned_cashflow.loc[mask] = aligned_cashflow.loc[mask].fillna(method='ffill')\n",
      "C:\\Users\\dawid\\AppData\\Local\\Temp\\ipykernel_14948\\2446286178.py:41: FutureWarning: Downcasting object dtype arrays on .fillna, .ffill, .bfill is deprecated and will change in a future version. Call result.infer_objects(copy=False) instead. To opt-in to the future behavior, set `pd.set_option('future.no_silent_downcasting', True)`\n",
      "  aligned_cashflow.loc[mask] = aligned_cashflow.loc[mask].fillna(method='ffill')\n",
      "C:\\Users\\dawid\\AppData\\Local\\Temp\\ipykernel_14948\\2446286178.py:41: FutureWarning: DataFrame.fillna with 'method' is deprecated and will raise in a future version. Use obj.ffill() or obj.bfill() instead.\n",
      "  aligned_cashflow.loc[mask] = aligned_cashflow.loc[mask].fillna(method='ffill')\n",
      "C:\\Users\\dawid\\AppData\\Local\\Temp\\ipykernel_14948\\2446286178.py:41: FutureWarning: Downcasting object dtype arrays on .fillna, .ffill, .bfill is deprecated and will change in a future version. Call result.infer_objects(copy=False) instead. To opt-in to the future behavior, set `pd.set_option('future.no_silent_downcasting', True)`\n",
      "  aligned_cashflow.loc[mask] = aligned_cashflow.loc[mask].fillna(method='ffill')\n",
      "C:\\Users\\dawid\\AppData\\Local\\Temp\\ipykernel_14948\\2446286178.py:46: FutureWarning: DataFrame.fillna with 'method' is deprecated and will raise in a future version. Use obj.ffill() or obj.bfill() instead.\n",
      "  aligned_cashflow.fillna(method='ffill', inplace=True)\n",
      "C:\\Users\\dawid\\AppData\\Local\\Temp\\ipykernel_14948\\2446286178.py:46: FutureWarning: Downcasting object dtype arrays on .fillna, .ffill, .bfill is deprecated and will change in a future version. Call result.infer_objects(copy=False) instead. To opt-in to the future behavior, set `pd.set_option('future.no_silent_downcasting', True)`\n",
      "  aligned_cashflow.fillna(method='ffill', inplace=True)\n"
     ]
    }
   ],
   "source": [
    "final_df = pd.DataFrame(index=ohlc.index)\n",
    "\n",
    "# Income Statement\n",
    "income_stmt = data.financials.T  # Transpose so each row is a report\n",
    "income_stmt.index = pd.to_datetime(income_stmt.index)  # Ensure datetime index\n",
    "\n",
    "income_stmt_sorted = income_stmt.sort_index()\n",
    "aligned_income = pd.DataFrame(index=ohlc.index, columns=income_stmt.columns)\n",
    "\n",
    "for report_date in income_stmt_sorted.index:\n",
    "    mask = (aligned_income.index >= report_date)\n",
    "    aligned_income.loc[mask] = aligned_income.loc[mask].fillna(method='ffill')\n",
    "    aligned_income.loc[aligned_income.index >= report_date] = \\\n",
    "    pd.DataFrame([income_stmt.loc[report_date].values] * len(aligned_income.loc[aligned_income.index >= report_date]),\n",
    "                 index=aligned_income.loc[aligned_income.index >= report_date].index,\n",
    "                 columns=aligned_income.columns)\n",
    "    \n",
    "aligned_income.fillna(method='ffill', inplace=True)\n",
    "\n",
    "# Balance Sheet\n",
    "balance_sheet = data.balance_sheet.T\n",
    "balance_sheet.index = pd.to_datetime(balance_sheet.index)\n",
    "balance_sheet_sorted = balance_sheet.sort_index()\n",
    "aligned_balance = pd.DataFrame(index=ohlc.index, columns=balance_sheet.columns)\n",
    "for report_date in balance_sheet_sorted.index:\n",
    "    mask = (aligned_balance.index >= report_date)\n",
    "    aligned_balance.loc[mask] = aligned_balance.loc[mask].fillna(method='ffill')\n",
    "    aligned_balance.loc[aligned_balance.index >= report_date] = \\\n",
    "        pd.DataFrame([balance_sheet.loc[report_date].values] * len(aligned_balance.loc[aligned_balance.index >= report_date]),\n",
    "                     index=aligned_balance.loc[aligned_balance.index >= report_date].index,\n",
    "                     columns=aligned_balance.columns)\n",
    "aligned_balance.fillna(method='ffill', inplace=True)\n",
    "\n",
    "# Cash Flow\n",
    "cashflow = data.cashflow.T\n",
    "cashflow.index = pd.to_datetime(cashflow.index)\n",
    "cashflow_sorted = cashflow.sort_index()\n",
    "aligned_cashflow = pd.DataFrame(index=ohlc.index, columns=cashflow.columns)\n",
    "for report_date in cashflow_sorted.index:\n",
    "    mask = (aligned_cashflow.index >= report_date)\n",
    "    aligned_cashflow.loc[mask] = aligned_cashflow.loc[mask].fillna(method='ffill')\n",
    "    aligned_cashflow.loc[aligned_cashflow.index >= report_date] = \\\n",
    "        pd.DataFrame([cashflow.loc[report_date].values] * len(aligned_cashflow.loc[aligned_cashflow.index >= report_date]),\n",
    "                     index=aligned_cashflow.loc[aligned_cashflow.index >= report_date].index,\n",
    "                     columns=aligned_cashflow.columns)\n",
    "aligned_cashflow.fillna(method='ffill', inplace=True)"
   ]
  },
  {
   "cell_type": "code",
   "execution_count": 25,
   "id": "72885d61",
   "metadata": {},
   "outputs": [],
   "source": [
    "# Dividends\n",
    "# Align dividends to ohlc index (ensure both indexes are timezone-naive)\n",
    "dividends = data.dividends.copy()\n",
    "dividends.index = dividends.index.tz_localize(None)\n",
    "aligned_dividends = pd.DataFrame(index=ohlc.index)\n",
    "aligned_dividends['Dividends'] = dividends.reindex(ohlc.index, method='ffill').fillna(0)\n",
    "\n",
    "# Splits\n",
    "# Align splits to ohlc index (ensure both indexes are timezone-naive)\n",
    "splits = data.splits.copy()\n",
    "splits.index = splits.index.tz_localize(None)\n",
    "aligned_splits = pd.DataFrame(index=ohlc.index)\n",
    "aligned_splits['Splits'] = splits.reindex(ohlc.index, method='ffill').fillna(0)\n",
    "\n",
    "# Combine all dataframes\n",
    "combined_df = pd.concat([ohlc, aligned_income, aligned_balance, aligned_cashflow, aligned_dividends, aligned_splits], axis=1)"
   ]
  },
  {
   "cell_type": "code",
   "execution_count": 24,
   "id": "a7e23a90",
   "metadata": {},
   "outputs": [
    {
     "data": {
      "text/plain": [
       "Index(['Open', 'High', 'Low', 'Close', 'Volume', 'Tax Effect Of Unusual Items',\n",
       "       'Tax Rate For Calcs', 'Normalized EBITDA',\n",
       "       'Net Income From Continuing Operation Net Minority Interest',\n",
       "       'Reconciled Depreciation',\n",
       "       ...\n",
       "       'Change In Receivables', 'Changes In Account Receivables',\n",
       "       'Other Non Cash Items', 'Stock Based Compensation', 'Deferred Tax',\n",
       "       'Deferred Income Tax', 'Depreciation Amortization Depletion',\n",
       "       'Depreciation And Amortization',\n",
       "       'Net Income From Continuing Operations', 'Dividends'],\n",
       "      dtype='object', length=166)"
      ]
     },
     "execution_count": 24,
     "metadata": {},
     "output_type": "execute_result"
    }
   ],
   "source": [
    "combined_df.columns"
   ]
  },
  {
   "cell_type": "markdown",
   "id": "a8eb8edf",
   "metadata": {},
   "source": [
    "# Model creation"
   ]
  },
  {
   "cell_type": "markdown",
   "id": "7d716af8",
   "metadata": {},
   "source": [
    "Add features like technical indicators"
   ]
  },
  {
   "cell_type": "markdown",
   "id": "59311d1f",
   "metadata": {},
   "source": [
    "Random forest regressor"
   ]
  },
  {
   "cell_type": "code",
   "execution_count": null,
   "id": "edc644d3",
   "metadata": {},
   "outputs": [],
   "source": [
    "from sklearn.ensemble import RandomForestRegressor\n",
    "from sklearn.model_selection import train_test_split\n",
    "from sklearn.preprocessing import StandardScaler"
   ]
  }
 ],
 "metadata": {
  "kernelspec": {
   "display_name": ".venv",
   "language": "python",
   "name": "python3"
  },
  "language_info": {
   "codemirror_mode": {
    "name": "ipython",
    "version": 3
   },
   "file_extension": ".py",
   "mimetype": "text/x-python",
   "name": "python",
   "nbconvert_exporter": "python",
   "pygments_lexer": "ipython3",
   "version": "3.11.9"
  }
 },
 "nbformat": 4,
 "nbformat_minor": 5
}
