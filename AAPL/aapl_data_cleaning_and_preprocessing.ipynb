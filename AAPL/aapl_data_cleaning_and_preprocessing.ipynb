{
 "cells": [
  {
   "metadata": {
    "ExecuteTime": {
     "end_time": "2025-10-12T17:53:11.465143Z",
     "start_time": "2025-10-12T17:53:11.458033Z"
    }
   },
   "cell_type": "code",
   "source": [
    "import numpy as np\n",
    "import pandas as pd\n",
    "import matplotlib.pyplot as plt\n",
    "import seaborn as sns"
   ],
   "id": "d1ef733d5955bc0f",
   "outputs": [],
   "execution_count": 2
  },
  {
   "cell_type": "code",
   "id": "initial_id",
   "metadata": {
    "collapsed": true,
    "ExecuteTime": {
     "end_time": "2025-10-12T17:57:43.057209Z",
     "start_time": "2025-10-12T17:57:42.788015Z"
    }
   },
   "source": [
    "# Analysis and Holdings\n",
    "earnings_estimate = pd.read_csv('data/analysis_and_holdings/AAPL_earnings_estimate.csv')\n",
    "earnings_history = pd.read_csv('data/analysis_and_holdings/AAPL_earnings_history.csv')\n",
    "eps_revisions = pd.read_csv('data/analysis_and_holdings/AAPL_eps_revisions.csv')\n",
    "eps_trend = pd.read_csv('data/analysis_and_holdings/AAPL_eps_trend.csv')\n",
    "growth_estimates = pd.read_csv('data/analysis_and_holdings/AAPL_growth_estimates.csv')\n",
    "insider_purchases = pd.read_csv('data/analysis_and_holdings/AAPL_insider_purchases.csv')\n",
    "insider_roster_holders = pd.read_csv('data/analysis_and_holdings/AAPL_insider_roster_holders.csv')\n",
    "institutional_holders = pd.read_csv('data/analysis_and_holdings/AAPL_institutional_holders.csv')\n",
    "major_holders = pd.read_csv('data/analysis_and_holdings/AAPL_major_holders.csv')\n",
    "mutualfunds_holders = pd.read_csv('data/analysis_and_holdings/AAPL_mutualfund_holders.csv')\n",
    "reccomendations = pd.read_csv('data/analysis_and_holdings/AAPL_recommendations.csv')\n",
    "revenue_estimate = pd.read_csv('data/analysis_and_holdings/AAPL_revenue_estimate.csv')\n",
    "sustainability = pd.read_csv('data/analysis_and_holdings/AAPL_sustainability.csv')\n",
    "upgrades_downgrades = pd.read_csv('data/analysis_and_holdings/AAPL_upgrades_downgrades.csv')\n",
    "\n",
    "# Financials\n",
    "balance_sheet = pd.read_csv('data/financials/AAPL_balance_sheet.csv', index_col=0)\n",
    "cashflow = pd.read_csv('data/financials/AAPL_cashflow.csv', index_col=0)\n",
    "income_statement = pd.read_csv('data/financials/AAPL_income_statement.csv', index_col=0)\n",
    "\n",
    "# Info\n",
    "actions = pd.read_csv('data/info/AAPL_actions.csv', index_col=0)\n",
    "capital_gains = pd.read_csv('data/info/AAPL_capital_gains.csv', index_col=0)\n",
    "dividends = pd.read_csv('data/info/AAPL_dividends.csv', index_col=0)\n",
    "fast_info = pd.read_csv('data/info/AAPL_fast_info.csv', index_col=0)\n",
    "history = pd.read_csv('data/info/AAPL_history.csv', index_col=0)\n",
    "info = pd.read_csv('data/info/AAPL_info.csv')\n",
    "splits = pd.read_csv('data/info/AAPL_splits.csv', index_col=0)\n",
    "\n",
    "# Price and Volume\n",
    "ohlc = pd.read_csv('data/price/AAPL_price_volume.csv', index_col=0, skiprows=2)\n",
    "vix = pd.read_csv('../VIX/data/price/VIX_price_volume.csv', header=None, skiprows=3)\n",
    "\n",
    "# Macro data\n",
    "to_year_treasury_index = pd.read_csv('../market_data/data_transformed/10_year_treasury_index.csv')\n",
    "dow_jones = pd.read_csv('../market_data/data_transformed/Dow_Jones_index.csv')\n",
    "nasdaq = pd.read_csv('../market_data/data_transformed/Nasdaq_index.csv')\n",
    "nyse_composite = pd.read_csv('../market_data/data_transformed/NYSE_composite_index.csv')\n",
    "oil = pd.read_csv('../market_data/data_transformed/Oil_index.csv')\n",
    "phlx_semiconductor_index = pd.read_csv('../market_data/data_transformed/phlx_semiconductor_index.csv')\n",
    "russell_200 = pd.read_csv('../market_data/data_transformed/russell2000.csv')\n",
    "sp_500 = pd.read_csv('../market_data/data_transformed/sp500.csv')"
   ],
   "outputs": [],
   "execution_count": 18
  },
  {
   "metadata": {},
   "cell_type": "markdown",
   "source": "# Data preprocessing",
   "id": "be6d457f9f45b87c"
  },
  {
   "metadata": {
    "ExecuteTime": {
     "end_time": "2025-10-12T17:53:11.832010Z",
     "start_time": "2025-10-12T17:53:11.825985Z"
    }
   },
   "cell_type": "code",
   "source": [
    "numeric_cols = ['Open', 'High', 'Low', 'Close']\n",
    "\n",
    "ohlc.columns = ['Open', 'High', 'Low', 'Close', 'Volume']\n",
    "\n",
    "for col in numeric_cols:\n",
    "    ohlc[col] = pd.to_numeric(ohlc[col], errors='coerce')"
   ],
   "id": "40dd13c19176acea",
   "outputs": [],
   "execution_count": 4
  },
  {
   "metadata": {
    "ExecuteTime": {
     "end_time": "2025-10-12T17:53:11.859498Z",
     "start_time": "2025-10-12T17:53:11.846453Z"
    }
   },
   "cell_type": "code",
   "source": [
    "ohlc['Volume'] = pd.to_numeric(ohlc['Volume'], errors='coerce')\n",
    "ohlc['High'] = pd.to_numeric(ohlc['High'], errors='coerce')\n",
    "ohlc['Low'] = pd.to_numeric(ohlc['Low'], errors='coerce')\n",
    "ohlc['Open'] = pd.to_numeric(ohlc['Open'], errors='coerce')\n",
    "ohlc['Close'] = pd.to_numeric(ohlc['Close'], errors='coerce')\n",
    "\n",
    "\n",
    "all_time_low = ohlc['Low'].min()\n",
    "all_time_low_date = ohlc['Low'].idxmin()\n",
    "print(f'All time low: {all_time_low} on {all_time_low_date}')\n",
    "\n",
    "all_time_high = ohlc['High'].max()\n",
    "all_time_high_date = ohlc['High'].idxmax()\n",
    "print(f'All time high: {all_time_high} on {all_time_high_date}')\n",
    "\n",
    "all_time_low_vol = ohlc['Volume'].min()\n",
    "all_time_low_vol_date = ohlc['Volume'].idxmin()\n",
    "print(f'All time low volume: {all_time_low_vol} on {all_time_low_vol_date}')\n",
    "\n",
    "all_time_high_vol = ohlc['Volume'].max()\n",
    "all_time_high_vol_date = ohlc['Volume'].idxmax()\n",
    "print(f'All time high volume: {all_time_high_vol} on {all_time_high_vol_date}')"
   ],
   "id": "9a850ac8ddc04d72",
   "outputs": [
    {
     "name": "stdout",
     "output_type": "stream",
     "text": [
      "All time low: 0.037681121379137 on 1982-07-08\n",
      "All time high: 259.239990234375 on 2025-10-03\n",
      "All time low volume: 0 on 1981-08-10\n",
      "All time high volume: 7421640800 on 2000-09-29\n"
     ]
    }
   ],
   "execution_count": 5
  },
  {
   "metadata": {
    "ExecuteTime": {
     "end_time": "2025-10-12T17:53:11.887235Z",
     "start_time": "2025-10-12T17:53:11.873763Z"
    }
   },
   "cell_type": "code",
   "source": [
    "data = ohlc.copy()\n",
    "\n",
    "data.index = pd.to_datetime(data.index, format='%Y-%m-%d')"
   ],
   "id": "5131b051f0ac94fa",
   "outputs": [],
   "execution_count": 6
  },
  {
   "metadata": {},
   "cell_type": "markdown",
   "source": "Adding percentage change of the closing price# Feature Engineering",
   "id": "5cece4d1a704372e"
  },
  {
   "metadata": {},
   "cell_type": "markdown",
   "source": "",
   "id": "a0cf303c263770f2"
  },
  {
   "metadata": {
    "ExecuteTime": {
     "end_time": "2025-10-12T17:53:11.904597Z",
     "start_time": "2025-10-12T17:53:11.894744Z"
    }
   },
   "cell_type": "code",
   "source": "data['Return'] = data['Close'].pct_change()",
   "id": "91bd61f580e81be6",
   "outputs": [],
   "execution_count": 7
  },
  {
   "metadata": {},
   "cell_type": "markdown",
   "source": "Adding volatility indicators",
   "id": "583f16ffd822fcf3"
  },
  {
   "metadata": {
    "ExecuteTime": {
     "end_time": "2025-10-12T17:53:11.922517Z",
     "start_time": "2025-10-12T17:53:11.912256Z"
    }
   },
   "cell_type": "code",
   "source": [
    "data['Volatility_20'] = data['Close'].rolling(window=20).std()\n",
    "data['Volatility_50'] = data['Close'].rolling(window=50).std()"
   ],
   "id": "b23201e99c2c8cef",
   "outputs": [],
   "execution_count": 8
  },
  {
   "metadata": {},
   "cell_type": "markdown",
   "source": "Adding ATR (Average True Range) — captures volatility from high/low ranges",
   "id": "a4e616ce757630e3"
  },
  {
   "metadata": {
    "ExecuteTime": {
     "end_time": "2025-10-12T17:53:12.098597Z",
     "start_time": "2025-10-12T17:53:11.930252Z"
    }
   },
   "cell_type": "code",
   "source": [
    "high_low = data['High'] - data['Low']\n",
    "high_close = (data['High'] - data['Close'].shift()).abs()\n",
    "low_close = (data['Low'] - data['Close'].shift()).abs()\n",
    "\n",
    "data['TR'] = high_low.combine(high_close, max).combine(low_close, max)\n",
    "data['ATR_14'] = data['TR'].rolling(window=14).mean()"
   ],
   "id": "409721f70bc9530d",
   "outputs": [],
   "execution_count": 9
  },
  {
   "metadata": {},
   "cell_type": "markdown",
   "source": "Adding moving averages",
   "id": "db555f4f3475c6ac"
  },
  {
   "metadata": {
    "ExecuteTime": {
     "end_time": "2025-10-12T17:53:12.115746Z",
     "start_time": "2025-10-12T17:53:12.105280Z"
    }
   },
   "cell_type": "code",
   "source": [
    "windows = [5, 20, 50, 200]\n",
    "\n",
    "for w in windows:\n",
    "    data[f'SMA_{w}'] = data['Close'].rolling(window=w).mean()\n",
    "    data[f'EMA_{w}'] = data['Close'].ewm(span=w, adjust=False).mean()"
   ],
   "id": "8778098d8c121b8",
   "outputs": [],
   "execution_count": 10
  },
  {
   "metadata": {},
   "cell_type": "markdown",
   "source": "Momentum indicators",
   "id": "afa8f937f06dc765"
  },
  {
   "metadata": {
    "ExecuteTime": {
     "end_time": "2025-10-12T17:53:12.155417Z",
     "start_time": "2025-10-12T17:53:12.123830Z"
    }
   },
   "cell_type": "code",
   "source": [
    "# RSI (Relative Strength Index)\n",
    "delta = data['Close'].diff()\n",
    "gain = delta.clip(lower=0)\n",
    "loss = -delta.clip(upper=0)\n",
    "\n",
    "avg_gain = gain.rolling(window=14).mean()\n",
    "avg_loss = loss.rolling(window=14).mean()\n",
    "\n",
    "rs = avg_gain / avg_loss\n",
    "data['RSI_14'] = 100 - (100 / (1 + rs))\n",
    "\n",
    "# MACD (Moving Average Convergence Divergence)\n",
    "ema_12 = data['Close'].ewm(span=12, adjust=False).mean()\n",
    "ema_26 = data['Close'].ewm(span=26, adjust=False).mean()\n",
    "\n",
    "data['MACD'] = ema_12 - ema_26\n",
    "data['MACD_signal'] = data['MACD'].ewm(span=9, adjust=False).mean()\n",
    "\n",
    "# Stochastic Oscillator\n",
    "low_14 = data['Low'].rolling(14).min()\n",
    "high_14 = data['High'].rolling(14).max()\n",
    "\n",
    "data['Stochastic'] = 100 * (data['Close'] - low_14) / (high_14 - low_14)\n",
    "\n",
    "# ADX (Average Directional Index)\n",
    "high = data['High']\n",
    "low = data['Low']\n",
    "close = data['Close']\n",
    "\n",
    "plus_dm = high.diff()\n",
    "minus_dm = low.diff().abs()\n",
    "plus_dm[plus_dm < 0] = 0\n",
    "minus_dm[minus_dm < 0] = 0\n",
    "\n",
    "tr = pd.concat([high - low, (high - close.shift()).abs(), (low - close.shift()).abs()], axis=1).max(axis=1)\n",
    "atr = tr.rolling(14).mean()\n",
    "\n",
    "plus_di = 100 * (plus_dm.rolling(14).sum() / atr)\n",
    "minus_di = 100 * (minus_dm.rolling(14).sum() / atr)\n",
    "\n",
    "dx = 100 * (abs(plus_di - minus_di) / (plus_di + minus_di))\n",
    "data['ADX_14'] = dx.rolling(14).mean()\n",
    "\n",
    "# On-Balance Volume (OBV)\n",
    "data['OBV'] = (np.sign(data['Close'].diff()) * data['Volume']).fillna(0).cumsum()\n",
    "\n",
    "# Money Flow Index (MFI) - fully vectorized\n",
    "typical_price = (data['High'] + data['Low'] + data['Close']) / 3\n",
    "money_flow = typical_price * data['Volume']\n",
    "tp_diff = typical_price.diff()\n",
    "\n",
    "positive_mf = money_flow.where(tp_diff > 0, 0).rolling(14).sum()\n",
    "negative_mf = money_flow.where(tp_diff < 0, 0).rolling(14).sum()\n",
    "data['MFI_14'] = 100 * (positive_mf / (positive_mf + negative_mf))\n",
    "\n",
    "# Basic Candlestick Patterns\n",
    "data['Doji'] = abs(data['Close'] - data['Open']) <= 0.1 * (data['High'] - data['Low'])\n",
    "data['Hammer'] = ((data['High'] - data['Low']) > 3 * (data['Open'] - data['Close'])) & \\\n",
    "                 ((data['Close'] - data['Low']) / (0.001 + data['High'] - data['Low']) > 0.6)\n",
    "data['Engulfing'] = ((data['Close'] > data['Open'].shift()) &\n",
    "                     (data['Open'] < data['Close'].shift()) &\n",
    "                     (data['Close'] - data['Open'] > data['Open'].shift() - data['Close'].shift()))"
   ],
   "id": "289199e7558796f4",
   "outputs": [],
   "execution_count": 11
  },
  {
   "metadata": {},
   "cell_type": "markdown",
   "source": "Fundamental features",
   "id": "14b4526ab8ad2f6b"
  },
  {
   "metadata": {},
   "cell_type": "markdown",
   "source": "Dividends (0/1)",
   "id": "2fa1d72dd7779318"
  },
  {
   "metadata": {
    "ExecuteTime": {
     "end_time": "2025-10-12T17:53:12.235572Z",
     "start_time": "2025-10-12T17:53:12.162860Z"
    }
   },
   "cell_type": "code",
   "source": [
    "# Make sure data index is timezone-naive\n",
    "data.index = pd.to_datetime(data.index).tz_localize(None)\n",
    "\n",
    "# Convert dividends index to datetime (force conversion and make tz-naive safely)\n",
    "dividend_dates = pd.to_datetime(dividends.index, utc=True, errors='raise')  # convert all to UTC first\n",
    "dividend_dates = dividend_dates.tz_convert(None)  # then drop tz info\n",
    "\n",
    "# Remove any invalid (NaT) entries\n",
    "dividend_dates = dividend_dates.dropna()\n",
    "\n",
    "# Compare only by date (normalize removes the time part)\n",
    "dividend_dates = set(dividend_dates.normalize())\n",
    "\n",
    "# Create Dividends (0/1) column in data\n",
    "data['Dividends'] = data.index.normalize().isin(dividend_dates).astype(int)"
   ],
   "id": "cee27c21c74d7357",
   "outputs": [],
   "execution_count": 12
  },
  {
   "metadata": {},
   "cell_type": "markdown",
   "source": "Split (0/1)",
   "id": "7a0a6dd9f4766ed6"
  },
  {
   "metadata": {
    "ExecuteTime": {
     "end_time": "2025-10-12T17:53:12.251869Z",
     "start_time": "2025-10-12T17:53:12.243384Z"
    }
   },
   "cell_type": "code",
   "source": [
    "splits_dates = pd.to_datetime(splits.index, utc=True, errors='raise')\n",
    "splits_dates = splits_dates.tz_convert(None)\n",
    "\n",
    "splits_dates = splits_dates.dropna()\n",
    "\n",
    "splits_dates = set(splits_dates.normalize())\n",
    "\n",
    "data['Splits'] = data.index.normalize().isin(splits_dates).astype(int)"
   ],
   "id": "af6bab2e86fea86b",
   "outputs": [],
   "execution_count": 13
  },
  {
   "metadata": {},
   "cell_type": "markdown",
   "source": "Macro context",
   "id": "d10a5997cddb2429"
  },
  {
   "metadata": {},
   "cell_type": "markdown",
   "source": [
    "VIX\n",
    "\n",
    "The VIX (Volatility Index) is often called the “fear gauge” of the market. It represents the market’s expectation of 30-day forward-looking volatility in the S&P 500 index, derived from options prices.\n",
    "* High VIX → Market expects high volatility, often during market stress or uncertainty.\n",
    "* Low VIX → Market expects low volatility, generally in calm or bullish periods.\n",
    "* VIX is expressed in percentage points (e.g., VIX = 20 means the market expects ~20% annualized volatility over the next 30 days).\n",
    "\n",
    "Important: VIX is not a price index; it’s a measure of expected volatility."
   ],
   "id": "46fb61af34e42642"
  },
  {
   "metadata": {
    "ExecuteTime": {
     "end_time": "2025-10-12T17:53:12.317997Z",
     "start_time": "2025-10-12T17:53:12.300437Z"
    }
   },
   "cell_type": "code",
   "source": [
    "vix.columns = ['Date', 'Close', 'High', 'Low', 'Open', 'Volume']\n",
    "vix['Date'] = pd.to_datetime(vix['Date'])\n",
    "vix.set_index('Date', inplace=True)\n",
    "\n",
    "vix.drop(columns=['Volume'], inplace=True)\n",
    "\n",
    "data = data.join(vix, how='left', rsuffix='_VIX')"
   ],
   "id": "ee0c7b5e57ab0258",
   "outputs": [],
   "execution_count": 15
  },
  {
   "metadata": {
    "ExecuteTime": {
     "end_time": "2025-10-12T17:53:12.338648Z",
     "start_time": "2025-10-12T17:53:12.326554Z"
    }
   },
   "cell_type": "code",
   "source": [
    "# VIX returns\n",
    "data['VIX_Return'] = data['Close_VIX'].pct_change()\n",
    "\n",
    "# Volatility\n",
    "data['VIX_Volatility_20'] = data['Close_VIX'].rolling(window=20).std()\n",
    "data['VIX_Volatility_50'] = data['Close_VIX'].rolling(window=50).std()\n",
    "\n",
    "# Trend\n",
    "data['VIX_SMA_20'] = data['Close_VIX'].rolling(window=20).mean()\n",
    "data['VIX_EMA_20'] = data['Close_VIX'].ewm(span=20, adjust=False).mean()\n",
    "data['VIX_RollingVol'] = data['Close_VIX'].rolling(5).std()\n",
    "data['VIX_Change'] = data['Close_VIX'] - data['Close_VIX'].shift(1)\n",
    "\n",
    "# Lagged features\n",
    "for lag in range(1, 6):\n",
    "    data[f'VIX_Close_lag{lag}'] = data['Close_VIX'].shift(lag)"
   ],
   "id": "eb48b3c7addf0092",
   "outputs": [],
   "execution_count": 16
  }
 ],
 "metadata": {
  "kernelspec": {
   "display_name": "Python 3",
   "language": "python",
   "name": "python3"
  },
  "language_info": {
   "codemirror_mode": {
    "name": "ipython",
    "version": 2
   },
   "file_extension": ".py",
   "mimetype": "text/x-python",
   "name": "python",
   "nbconvert_exporter": "python",
   "pygments_lexer": "ipython2",
   "version": "2.7.6"
  }
 },
 "nbformat": 4,
 "nbformat_minor": 5
}
