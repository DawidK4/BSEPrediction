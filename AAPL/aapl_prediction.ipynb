{
 "cells": [
  {
   "cell_type": "code",
   "id": "85e1da11",
   "metadata": {
    "id": "85e1da11",
    "ExecuteTime": {
     "end_time": "2025-10-03T17:34:17.797046Z",
     "start_time": "2025-10-03T17:34:15.072351Z"
    }
   },
   "source": [
    "import numpy as np\n",
    "import pandas as pd\n",
    "import matplotlib.pyplot as plt\n",
    "import seaborn as sns\n",
    "\n",
    "import os\n",
    "import sys\n",
    "\n",
    "import tensorflow as tf\n",
    "\n",
    "import yfinance as yf"
   ],
   "outputs": [
    {
     "name": "stderr",
     "output_type": "stream",
     "text": [
      "2025-10-03 19:34:15.326960: I external/local_xla/xla/tsl/cuda/cudart_stub.cc:31] Could not find cuda drivers on your machine, GPU will not be used.\n",
      "2025-10-03 19:34:15.327476: I tensorflow/core/util/port.cc:153] oneDNN custom operations are on. You may see slightly different numerical results due to floating-point round-off errors from different computation orders. To turn them off, set the environment variable `TF_ENABLE_ONEDNN_OPTS=0`.\n",
      "2025-10-03 19:34:15.384329: I tensorflow/core/platform/cpu_feature_guard.cc:210] This TensorFlow binary is optimized to use available CPU instructions in performance-critical operations.\n",
      "To enable the following instructions: AVX2 AVX512F AVX512_VNNI FMA, in other operations, rebuild TensorFlow with the appropriate compiler flags.\n",
      "2025-10-03 19:34:17.119096: I tensorflow/core/util/port.cc:153] oneDNN custom operations are on. You may see slightly different numerical results due to floating-point round-off errors from different computation orders. To turn them off, set the environment variable `TF_ENABLE_ONEDNN_OPTS=0`.\n",
      "2025-10-03 19:34:17.119549: I external/local_xla/xla/tsl/cuda/cudart_stub.cc:31] Could not find cuda drivers on your machine, GPU will not be used.\n"
     ]
    }
   ],
   "execution_count": 1
  },
  {
   "metadata": {},
   "cell_type": "markdown",
   "source": "# Loading the data",
   "id": "e313f7dd85387be4"
  },
  {
   "metadata": {},
   "cell_type": "markdown",
   "source": "Financials",
   "id": "53f3c7da5e164c90"
  },
  {
   "metadata": {
    "ExecuteTime": {
     "end_time": "2025-10-03T17:34:17.818268Z",
     "start_time": "2025-10-03T17:34:17.803485Z"
    }
   },
   "cell_type": "code",
   "source": [
    "balance_sheet = pd.read_csv('data/financials/AAPL_balance_sheet.csv', header=None)\n",
    "capital_gains = pd.read_csv('data/financials/AAPL_capital_gains.csv', header=None)\n",
    "cash_flow = pd.read_csv('data/financials/AAPL_cash_flow.csv', header=None)\n",
    "income_statement = pd.read_csv('data/financials/AAPL_income_statement.csv', header=None)\n",
    "ttm_cash_flow = pd.read_csv('data/financials/AAPL_ttm_cash_flow.csv', header=None)"
   ],
   "id": "2570581d0e5c9614",
   "outputs": [],
   "execution_count": 2
  },
  {
   "metadata": {},
   "cell_type": "markdown",
   "source": "Holders",
   "id": "2770b00712e4a493"
  },
  {
   "metadata": {
    "ExecuteTime": {
     "end_time": "2025-10-03T17:34:17.873631Z",
     "start_time": "2025-10-03T17:34:17.855504Z"
    }
   },
   "cell_type": "code",
   "source": [
    "insider_roster_holders = pd.read_csv('data/holders/AAPL_insider_roster_holders.csv')\n",
    "institutional_holders = pd.read_csv('data/holders/AAPL_institutional_holders.csv')\n",
    "mutualfund_holders = pd.read_csv('data/holders/AAPL_mutualfund_holders.csv')\n",
    "major_holders = pd.read_csv('data/holders/AAPL_major_holders.csv')"
   ],
   "id": "5ccf8740ff004275",
   "outputs": [],
   "execution_count": 3
  },
  {
   "metadata": {},
   "cell_type": "markdown",
   "source": "Insider",
   "id": "f96f955fbba25827"
  },
  {
   "metadata": {
    "ExecuteTime": {
     "end_time": "2025-10-03T17:34:17.919330Z",
     "start_time": "2025-10-03T17:34:17.907904Z"
    }
   },
   "cell_type": "code",
   "source": [
    "insider_purchases = pd.read_csv('data/insider/AAPL_insider_purchases.csv')\n",
    "insider_transactions = pd.read_csv('data/insider/AAPL_insider_transactions.csv')"
   ],
   "id": "1d37aeda7df5e54d",
   "outputs": [],
   "execution_count": 4
  },
  {
   "metadata": {},
   "cell_type": "markdown",
   "source": "Price",
   "id": "3e95245f785451a5"
  },
  {
   "metadata": {
    "ExecuteTime": {
     "end_time": "2025-10-03T17:34:18.041046Z",
     "start_time": "2025-10-03T17:34:17.965231Z"
    }
   },
   "cell_type": "code",
   "source": [
    "actions = pd.read_csv('data/price/AAPL_actions.csv')\n",
    "dividends = pd.read_csv('data/price/AAPL_dividends.csv', index_col=0, parse_dates=True)\n",
    "options = pd.read_csv('data/price/AAPL_options.csv')\n",
    "ohlc = pd.read_csv('data/price/AAPL_ohlc_and_volume.csv', index_col=0, parse_dates=True)"
   ],
   "id": "870378c587d6f5c",
   "outputs": [
    {
     "name": "stderr",
     "output_type": "stream",
     "text": [
      "/tmp/ipykernel_11754/2735305265.py:4: UserWarning: Could not infer format, so each element will be parsed individually, falling back to `dateutil`. To ensure parsing is consistent and as-expected, please specify a format.\n",
      "  ohlc = pd.read_csv('data/price/AAPL_ohlc_and_volume.csv', index_col=0, parse_dates=True)\n"
     ]
    }
   ],
   "execution_count": 5
  },
  {
   "metadata": {},
   "cell_type": "markdown",
   "source": "# Data exploration",
   "id": "77118a9921cf3be4"
  },
  {
   "metadata": {},
   "cell_type": "markdown",
   "source": "Price",
   "id": "aaa1357625167d0f"
  },
  {
   "metadata": {
    "ExecuteTime": {
     "end_time": "2025-10-03T17:34:18.065971Z",
     "start_time": "2025-10-03T17:34:18.050206Z"
    }
   },
   "cell_type": "code",
   "source": "ohlc.tail()",
   "id": "8f3c3c86df37a53d",
   "outputs": [
    {
     "data": {
      "text/plain": [
       "                         Close                High                 Low  \\\n",
       "Price                                                                    \n",
       "2025-09-29  254.42999267578125               255.0  253.00999450683594   \n",
       "2025-09-30   254.6300048828125   255.9199981689453  253.11000061035156   \n",
       "2025-10-01   255.4499969482422   258.7900085449219  254.92999267578125   \n",
       "2025-10-02   257.1300048828125  258.17999267578125  254.14999389648438   \n",
       "2025-10-03   258.2699890136719    259.239990234375   253.9600067138672   \n",
       "\n",
       "                          Open    Volume  \n",
       "Price                                     \n",
       "2025-09-29  254.55999755859375  40127700  \n",
       "2025-09-30  254.86000061035156  37704300  \n",
       "2025-10-01   255.0399932861328  48713900  \n",
       "2025-10-02   256.5799865722656  42597200  \n",
       "2025-10-03   254.6649932861328  28958803  "
      ],
      "text/html": [
       "<div>\n",
       "<style scoped>\n",
       "    .dataframe tbody tr th:only-of-type {\n",
       "        vertical-align: middle;\n",
       "    }\n",
       "\n",
       "    .dataframe tbody tr th {\n",
       "        vertical-align: top;\n",
       "    }\n",
       "\n",
       "    .dataframe thead th {\n",
       "        text-align: right;\n",
       "    }\n",
       "</style>\n",
       "<table border=\"1\" class=\"dataframe\">\n",
       "  <thead>\n",
       "    <tr style=\"text-align: right;\">\n",
       "      <th></th>\n",
       "      <th>Close</th>\n",
       "      <th>High</th>\n",
       "      <th>Low</th>\n",
       "      <th>Open</th>\n",
       "      <th>Volume</th>\n",
       "    </tr>\n",
       "    <tr>\n",
       "      <th>Price</th>\n",
       "      <th></th>\n",
       "      <th></th>\n",
       "      <th></th>\n",
       "      <th></th>\n",
       "      <th></th>\n",
       "    </tr>\n",
       "  </thead>\n",
       "  <tbody>\n",
       "    <tr>\n",
       "      <th>2025-09-29</th>\n",
       "      <td>254.42999267578125</td>\n",
       "      <td>255.0</td>\n",
       "      <td>253.00999450683594</td>\n",
       "      <td>254.55999755859375</td>\n",
       "      <td>40127700</td>\n",
       "    </tr>\n",
       "    <tr>\n",
       "      <th>2025-09-30</th>\n",
       "      <td>254.6300048828125</td>\n",
       "      <td>255.9199981689453</td>\n",
       "      <td>253.11000061035156</td>\n",
       "      <td>254.86000061035156</td>\n",
       "      <td>37704300</td>\n",
       "    </tr>\n",
       "    <tr>\n",
       "      <th>2025-10-01</th>\n",
       "      <td>255.4499969482422</td>\n",
       "      <td>258.7900085449219</td>\n",
       "      <td>254.92999267578125</td>\n",
       "      <td>255.0399932861328</td>\n",
       "      <td>48713900</td>\n",
       "    </tr>\n",
       "    <tr>\n",
       "      <th>2025-10-02</th>\n",
       "      <td>257.1300048828125</td>\n",
       "      <td>258.17999267578125</td>\n",
       "      <td>254.14999389648438</td>\n",
       "      <td>256.5799865722656</td>\n",
       "      <td>42597200</td>\n",
       "    </tr>\n",
       "    <tr>\n",
       "      <th>2025-10-03</th>\n",
       "      <td>258.2699890136719</td>\n",
       "      <td>259.239990234375</td>\n",
       "      <td>253.9600067138672</td>\n",
       "      <td>254.6649932861328</td>\n",
       "      <td>28958803</td>\n",
       "    </tr>\n",
       "  </tbody>\n",
       "</table>\n",
       "</div>"
      ]
     },
     "execution_count": 6,
     "metadata": {},
     "output_type": "execute_result"
    }
   ],
   "execution_count": 6
  },
  {
   "metadata": {
    "ExecuteTime": {
     "end_time": "2025-10-03T17:34:18.185916Z",
     "start_time": "2025-10-03T17:34:18.173297Z"
    }
   },
   "cell_type": "code",
   "source": "ohlc.info()",
   "id": "68dca1b9294f0c27",
   "outputs": [
    {
     "name": "stdout",
     "output_type": "stream",
     "text": [
      "<class 'pandas.core.frame.DataFrame'>\n",
      "Index: 11296 entries, Ticker to 2025-10-03\n",
      "Data columns (total 5 columns):\n",
      " #   Column  Non-Null Count  Dtype \n",
      "---  ------  --------------  ----- \n",
      " 0   Close   11295 non-null  object\n",
      " 1   High    11295 non-null  object\n",
      " 2   Low     11295 non-null  object\n",
      " 3   Open    11295 non-null  object\n",
      " 4   Volume  11295 non-null  object\n",
      "dtypes: object(5)\n",
      "memory usage: 529.5+ KB\n"
     ]
    }
   ],
   "execution_count": 7
  },
  {
   "metadata": {
    "ExecuteTime": {
     "end_time": "2025-10-03T17:34:18.331311Z",
     "start_time": "2025-10-03T17:34:18.319836Z"
    }
   },
   "cell_type": "code",
   "source": "ohlc.dtypes",
   "id": "bec98539ad82ecf5",
   "outputs": [
    {
     "data": {
      "text/plain": [
       "Close     object\n",
       "High      object\n",
       "Low       object\n",
       "Open      object\n",
       "Volume    object\n",
       "dtype: object"
      ]
     },
     "execution_count": 8,
     "metadata": {},
     "output_type": "execute_result"
    }
   ],
   "execution_count": 8
  },
  {
   "metadata": {
    "ExecuteTime": {
     "end_time": "2025-10-03T17:34:18.502031Z",
     "start_time": "2025-10-03T17:34:18.463631Z"
    }
   },
   "cell_type": "code",
   "source": [
    "numeric_cols = ['Open', 'High', 'Low', 'Close']\n",
    "\n",
    "for col in numeric_cols:\n",
    "    ohlc[col] = pd.to_numeric(ohlc[col], errors='coerce')\n"
   ],
   "id": "d26e2cc372b8ebf1",
   "outputs": [],
   "execution_count": 9
  },
  {
   "metadata": {
    "ExecuteTime": {
     "end_time": "2025-10-03T17:34:18.672617Z",
     "start_time": "2025-10-03T17:34:18.627188Z"
    }
   },
   "cell_type": "code",
   "source": "ohlc.describe(include='all')",
   "id": "f3ff13592ea85358",
   "outputs": [
    {
     "data": {
      "text/plain": [
       "               Close          High           Low          Open     Volume\n",
       "count   11294.000000  11294.000000  11294.000000  11294.000000      11295\n",
       "unique           NaN           NaN           NaN           NaN      10731\n",
       "top              NaN           NaN           NaN           NaN  246400000\n",
       "freq             NaN           NaN           NaN           NaN          7\n",
       "mean       26.689622     26.958130     26.394176     26.666813        NaN\n",
       "std        55.240133     55.781888     54.632918     55.179855        NaN\n",
       "min         0.037681      0.038109      0.037681      0.038109        NaN\n",
       "25%         0.245137      0.250706      0.240161      0.245127        NaN\n",
       "50%         0.466639      0.474725      0.459261      0.466445        NaN\n",
       "75%        20.927644     21.097475     20.743931     20.965366        NaN\n",
       "max       258.269989    259.239990    256.718662    257.276679        NaN"
      ],
      "text/html": [
       "<div>\n",
       "<style scoped>\n",
       "    .dataframe tbody tr th:only-of-type {\n",
       "        vertical-align: middle;\n",
       "    }\n",
       "\n",
       "    .dataframe tbody tr th {\n",
       "        vertical-align: top;\n",
       "    }\n",
       "\n",
       "    .dataframe thead th {\n",
       "        text-align: right;\n",
       "    }\n",
       "</style>\n",
       "<table border=\"1\" class=\"dataframe\">\n",
       "  <thead>\n",
       "    <tr style=\"text-align: right;\">\n",
       "      <th></th>\n",
       "      <th>Close</th>\n",
       "      <th>High</th>\n",
       "      <th>Low</th>\n",
       "      <th>Open</th>\n",
       "      <th>Volume</th>\n",
       "    </tr>\n",
       "  </thead>\n",
       "  <tbody>\n",
       "    <tr>\n",
       "      <th>count</th>\n",
       "      <td>11294.000000</td>\n",
       "      <td>11294.000000</td>\n",
       "      <td>11294.000000</td>\n",
       "      <td>11294.000000</td>\n",
       "      <td>11295</td>\n",
       "    </tr>\n",
       "    <tr>\n",
       "      <th>unique</th>\n",
       "      <td>NaN</td>\n",
       "      <td>NaN</td>\n",
       "      <td>NaN</td>\n",
       "      <td>NaN</td>\n",
       "      <td>10731</td>\n",
       "    </tr>\n",
       "    <tr>\n",
       "      <th>top</th>\n",
       "      <td>NaN</td>\n",
       "      <td>NaN</td>\n",
       "      <td>NaN</td>\n",
       "      <td>NaN</td>\n",
       "      <td>246400000</td>\n",
       "    </tr>\n",
       "    <tr>\n",
       "      <th>freq</th>\n",
       "      <td>NaN</td>\n",
       "      <td>NaN</td>\n",
       "      <td>NaN</td>\n",
       "      <td>NaN</td>\n",
       "      <td>7</td>\n",
       "    </tr>\n",
       "    <tr>\n",
       "      <th>mean</th>\n",
       "      <td>26.689622</td>\n",
       "      <td>26.958130</td>\n",
       "      <td>26.394176</td>\n",
       "      <td>26.666813</td>\n",
       "      <td>NaN</td>\n",
       "    </tr>\n",
       "    <tr>\n",
       "      <th>std</th>\n",
       "      <td>55.240133</td>\n",
       "      <td>55.781888</td>\n",
       "      <td>54.632918</td>\n",
       "      <td>55.179855</td>\n",
       "      <td>NaN</td>\n",
       "    </tr>\n",
       "    <tr>\n",
       "      <th>min</th>\n",
       "      <td>0.037681</td>\n",
       "      <td>0.038109</td>\n",
       "      <td>0.037681</td>\n",
       "      <td>0.038109</td>\n",
       "      <td>NaN</td>\n",
       "    </tr>\n",
       "    <tr>\n",
       "      <th>25%</th>\n",
       "      <td>0.245137</td>\n",
       "      <td>0.250706</td>\n",
       "      <td>0.240161</td>\n",
       "      <td>0.245127</td>\n",
       "      <td>NaN</td>\n",
       "    </tr>\n",
       "    <tr>\n",
       "      <th>50%</th>\n",
       "      <td>0.466639</td>\n",
       "      <td>0.474725</td>\n",
       "      <td>0.459261</td>\n",
       "      <td>0.466445</td>\n",
       "      <td>NaN</td>\n",
       "    </tr>\n",
       "    <tr>\n",
       "      <th>75%</th>\n",
       "      <td>20.927644</td>\n",
       "      <td>21.097475</td>\n",
       "      <td>20.743931</td>\n",
       "      <td>20.965366</td>\n",
       "      <td>NaN</td>\n",
       "    </tr>\n",
       "    <tr>\n",
       "      <th>max</th>\n",
       "      <td>258.269989</td>\n",
       "      <td>259.239990</td>\n",
       "      <td>256.718662</td>\n",
       "      <td>257.276679</td>\n",
       "      <td>NaN</td>\n",
       "    </tr>\n",
       "  </tbody>\n",
       "</table>\n",
       "</div>"
      ]
     },
     "execution_count": 10,
     "metadata": {},
     "output_type": "execute_result"
    }
   ],
   "execution_count": 10
  },
  {
   "metadata": {
    "ExecuteTime": {
     "end_time": "2025-10-03T17:34:18.764862Z",
     "start_time": "2025-10-03T17:34:18.760191Z"
    }
   },
   "cell_type": "code",
   "source": "ohlc.memory_usage()",
   "id": "9ad57df1951a4e9e",
   "outputs": [
    {
     "data": {
      "text/plain": [
       "Index     90368\n",
       "Close     90368\n",
       "High      90368\n",
       "Low       90368\n",
       "Open      90368\n",
       "Volume    90368\n",
       "dtype: int64"
      ]
     },
     "execution_count": 11,
     "metadata": {},
     "output_type": "execute_result"
    }
   ],
   "execution_count": 11
  },
  {
   "metadata": {
    "ExecuteTime": {
     "end_time": "2025-10-03T17:34:19.085449Z",
     "start_time": "2025-10-03T17:34:19.080806Z"
    }
   },
   "cell_type": "code",
   "source": "print(len(ohlc['Close'].unique()))",
   "id": "93559ceaf7684b93",
   "outputs": [
    {
     "name": "stdout",
     "output_type": "stream",
     "text": [
      "8281\n"
     ]
    }
   ],
   "execution_count": 12
  },
  {
   "metadata": {
    "ExecuteTime": {
     "end_time": "2025-10-03T17:34:19.155802Z",
     "start_time": "2025-10-03T17:34:19.138663Z"
    }
   },
   "cell_type": "code",
   "source": [
    "ohlc['Volume'] = pd.to_numeric(ohlc['Volume'], errors='coerce')\n",
    "ohlc['High'] = pd.to_numeric(ohlc['High'], errors='coerce')\n",
    "ohlc['Low'] = pd.to_numeric(ohlc['Low'], errors='coerce')\n",
    "ohlc['Open'] = pd.to_numeric(ohlc['Open'], errors='coerce')\n",
    "ohlc['Close'] = pd.to_numeric(ohlc['Close'], errors='coerce')\n",
    "\n",
    "\n",
    "all_time_low = ohlc['Low'].min()\n",
    "all_time_low_date = ohlc['Low'].idxmin()\n",
    "print(f'All time low: {all_time_low} on {all_time_low_date}')\n",
    "\n",
    "all_time_high = ohlc['High'].max()\n",
    "all_time_high_date = ohlc['High'].idxmax()\n",
    "print(f'All time high: {all_time_high} on {all_time_high_date}')\n",
    "\n",
    "all_time_low_vol = ohlc['Volume'].min()\n",
    "all_time_low_vol_date = ohlc['Volume'].idxmin()\n",
    "print(f'All time low volume: {all_time_low_vol} on {all_time_low_vol_date}')\n",
    "\n",
    "all_time_high_vol = ohlc['Volume'].max()\n",
    "all_time_high_vol_date = ohlc['Volume'].idxmax()\n",
    "print(f'All time high volume: {all_time_high_vol} on {all_time_high_vol_date}')"
   ],
   "id": "97dabcddce2368cb",
   "outputs": [
    {
     "name": "stdout",
     "output_type": "stream",
     "text": [
      "All time low: 0.0376811176538467 on 1982-07-08\n",
      "All time high: 259.239990234375 on 2025-10-03\n",
      "All time low volume: 0.0 on 1981-08-10\n",
      "All time high volume: 7421640800.0 on 2000-09-29\n"
     ]
    }
   ],
   "execution_count": 13
  },
  {
   "metadata": {},
   "cell_type": "markdown",
   "source": "Balance Sheet",
   "id": "1f1c8f641a448fff"
  },
  {
   "metadata": {
    "ExecuteTime": {
     "end_time": "2025-10-03T17:34:19.207868Z",
     "start_time": "2025-10-03T17:34:19.201140Z"
    }
   },
   "cell_type": "code",
   "source": "balance_sheet.tail()",
   "id": "a42cbbeebeec3fee",
   "outputs": [
    {
     "data": {
      "text/plain": [
       "                                                   0              1  \\\n",
       "64  Cash Cash Equivalents And Short Term Investments  65171000000.0   \n",
       "65                      Other Short Term Investments  35228000000.0   \n",
       "66                         Cash And Cash Equivalents  29943000000.0   \n",
       "67                                  Cash Equivalents   2744000000.0   \n",
       "68                                    Cash Financial  27199000000.0   \n",
       "\n",
       "                2              3              4  \n",
       "64  61555000000.0  48304000000.0  62639000000.0  \n",
       "65  31590000000.0  24658000000.0  27699000000.0  \n",
       "66  29965000000.0  23646000000.0  34940000000.0  \n",
       "67   1606000000.0   5100000000.0  17635000000.0  \n",
       "68  28359000000.0  18546000000.0  17305000000.0  "
      ],
      "text/html": [
       "<div>\n",
       "<style scoped>\n",
       "    .dataframe tbody tr th:only-of-type {\n",
       "        vertical-align: middle;\n",
       "    }\n",
       "\n",
       "    .dataframe tbody tr th {\n",
       "        vertical-align: top;\n",
       "    }\n",
       "\n",
       "    .dataframe thead th {\n",
       "        text-align: right;\n",
       "    }\n",
       "</style>\n",
       "<table border=\"1\" class=\"dataframe\">\n",
       "  <thead>\n",
       "    <tr style=\"text-align: right;\">\n",
       "      <th></th>\n",
       "      <th>0</th>\n",
       "      <th>1</th>\n",
       "      <th>2</th>\n",
       "      <th>3</th>\n",
       "      <th>4</th>\n",
       "    </tr>\n",
       "  </thead>\n",
       "  <tbody>\n",
       "    <tr>\n",
       "      <th>64</th>\n",
       "      <td>Cash Cash Equivalents And Short Term Investments</td>\n",
       "      <td>65171000000.0</td>\n",
       "      <td>61555000000.0</td>\n",
       "      <td>48304000000.0</td>\n",
       "      <td>62639000000.0</td>\n",
       "    </tr>\n",
       "    <tr>\n",
       "      <th>65</th>\n",
       "      <td>Other Short Term Investments</td>\n",
       "      <td>35228000000.0</td>\n",
       "      <td>31590000000.0</td>\n",
       "      <td>24658000000.0</td>\n",
       "      <td>27699000000.0</td>\n",
       "    </tr>\n",
       "    <tr>\n",
       "      <th>66</th>\n",
       "      <td>Cash And Cash Equivalents</td>\n",
       "      <td>29943000000.0</td>\n",
       "      <td>29965000000.0</td>\n",
       "      <td>23646000000.0</td>\n",
       "      <td>34940000000.0</td>\n",
       "    </tr>\n",
       "    <tr>\n",
       "      <th>67</th>\n",
       "      <td>Cash Equivalents</td>\n",
       "      <td>2744000000.0</td>\n",
       "      <td>1606000000.0</td>\n",
       "      <td>5100000000.0</td>\n",
       "      <td>17635000000.0</td>\n",
       "    </tr>\n",
       "    <tr>\n",
       "      <th>68</th>\n",
       "      <td>Cash Financial</td>\n",
       "      <td>27199000000.0</td>\n",
       "      <td>28359000000.0</td>\n",
       "      <td>18546000000.0</td>\n",
       "      <td>17305000000.0</td>\n",
       "    </tr>\n",
       "  </tbody>\n",
       "</table>\n",
       "</div>"
      ]
     },
     "execution_count": 14,
     "metadata": {},
     "output_type": "execute_result"
    }
   ],
   "execution_count": 14
  },
  {
   "metadata": {},
   "cell_type": "markdown",
   "source": "# Data preprocessing",
   "id": "ff9a5fe7536ceba7"
  }
 ],
 "metadata": {
  "colab": {
   "provenance": []
  },
  "kernelspec": {
   "display_name": "Python 3 (ipykernel)",
   "language": "python",
   "name": "python3"
  },
  "language_info": {
   "codemirror_mode": {
    "name": "ipython",
    "version": 3
   },
   "file_extension": ".py",
   "mimetype": "text/x-python",
   "name": "python",
   "nbconvert_exporter": "python",
   "pygments_lexer": "ipython3",
   "version": "3.12.5"
  }
 },
 "nbformat": 4,
 "nbformat_minor": 5
}
