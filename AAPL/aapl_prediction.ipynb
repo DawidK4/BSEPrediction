{
 "cells": [
  {
   "cell_type": "code",
   "id": "85e1da11",
   "metadata": {
    "id": "85e1da11",
    "ExecuteTime": {
     "end_time": "2025-10-02T16:13:43.212451Z",
     "start_time": "2025-10-02T16:13:40.515600Z"
    }
   },
   "source": [
    "import numpy as np\n",
    "import pandas as pd\n",
    "import matplotlib.pyplot as plt\n",
    "import seaborn as sns\n",
    "\n",
    "import os\n",
    "import sys\n",
    "\n",
    "import tensorflow as tf\n",
    "\n",
    "import yfinance as yf"
   ],
   "outputs": [
    {
     "name": "stderr",
     "output_type": "stream",
     "text": [
      "2025-10-02 18:13:40.817455: I external/local_xla/xla/tsl/cuda/cudart_stub.cc:31] Could not find cuda drivers on your machine, GPU will not be used.\n",
      "2025-10-02 18:13:40.817892: I tensorflow/core/util/port.cc:153] oneDNN custom operations are on. You may see slightly different numerical results due to floating-point round-off errors from different computation orders. To turn them off, set the environment variable `TF_ENABLE_ONEDNN_OPTS=0`.\n",
      "2025-10-02 18:13:40.876386: I tensorflow/core/platform/cpu_feature_guard.cc:210] This TensorFlow binary is optimized to use available CPU instructions in performance-critical operations.\n",
      "To enable the following instructions: AVX2 AVX512F AVX512_VNNI FMA, in other operations, rebuild TensorFlow with the appropriate compiler flags.\n",
      "2025-10-02 18:13:42.586843: I tensorflow/core/util/port.cc:153] oneDNN custom operations are on. You may see slightly different numerical results due to floating-point round-off errors from different computation orders. To turn them off, set the environment variable `TF_ENABLE_ONEDNN_OPTS=0`.\n",
      "2025-10-02 18:13:42.587413: I external/local_xla/xla/tsl/cuda/cudart_stub.cc:31] Could not find cuda drivers on your machine, GPU will not be used.\n"
     ]
    }
   ],
   "execution_count": 1
  },
  {
   "metadata": {},
   "cell_type": "markdown",
   "source": "# Loading the data",
   "id": "e313f7dd85387be4"
  },
  {
   "metadata": {},
   "cell_type": "markdown",
   "source": "Financials",
   "id": "53f3c7da5e164c90"
  },
  {
   "metadata": {
    "ExecuteTime": {
     "end_time": "2025-10-02T16:13:43.245023Z",
     "start_time": "2025-10-02T16:13:43.221351Z"
    }
   },
   "cell_type": "code",
   "source": [
    "balance_sheet = pd.read_csv('data/financials/AAPL_balance_sheet.csv', header=None)\n",
    "capital_gains = pd.read_csv('data/financials/AAPL_capital_gains.csv', header=None)\n",
    "cash_flow = pd.read_csv('data/financials/AAPL_cash_flow.csv', header=None)\n",
    "income_statement = pd.read_csv('data/financials/AAPL_income_statement.csv', header=None)\n",
    "ttm_cash_flow = pd.read_csv('data/financials/AAPL_ttm_cash_flow.csv', header=None)"
   ],
   "id": "2570581d0e5c9614",
   "outputs": [],
   "execution_count": 2
  },
  {
   "metadata": {},
   "cell_type": "markdown",
   "source": "Holders",
   "id": "2770b00712e4a493"
  },
  {
   "metadata": {
    "ExecuteTime": {
     "end_time": "2025-10-02T16:13:43.294774Z",
     "start_time": "2025-10-02T16:13:43.276107Z"
    }
   },
   "cell_type": "code",
   "source": [
    "insider_roster_holders = pd.read_csv('data/holders/AAPL_insider_roster_holders.csv')\n",
    "institutional_holders = pd.read_csv('data/holders/AAPL_institutional_holders.csv')\n",
    "mutualfund_holders = pd.read_csv('data/holders/AAPL_mutualfund_holders.csv')\n",
    "major_holders = pd.read_csv('data/holders/AAPL_major_holders.csv')"
   ],
   "id": "5ccf8740ff004275",
   "outputs": [],
   "execution_count": 3
  },
  {
   "metadata": {},
   "cell_type": "markdown",
   "source": "Insider",
   "id": "f96f955fbba25827"
  },
  {
   "metadata": {
    "ExecuteTime": {
     "end_time": "2025-10-02T16:13:43.341437Z",
     "start_time": "2025-10-02T16:13:43.330143Z"
    }
   },
   "cell_type": "code",
   "source": [
    "insider_purchases = pd.read_csv('data/insider/AAPL_insider_purchases.csv')\n",
    "insider_transactions = pd.read_csv('data/insider/AAPL_insider_transactions.csv')"
   ],
   "id": "1d37aeda7df5e54d",
   "outputs": [],
   "execution_count": 4
  },
  {
   "metadata": {},
   "cell_type": "markdown",
   "source": "Price",
   "id": "3e95245f785451a5"
  },
  {
   "metadata": {
    "ExecuteTime": {
     "end_time": "2025-10-02T16:13:43.491091Z",
     "start_time": "2025-10-02T16:13:43.393523Z"
    }
   },
   "cell_type": "code",
   "source": [
    "actions = pd.read_csv('data/price/AAPL_actions.csv')\n",
    "dividends = pd.read_csv('data/price/AAPL_dividends.csv', index_col=0, parse_dates=True)\n",
    "ohlc = pd.read_csv('data/price/AAPL_ohlc.csv', index_col=0, parse_dates=True)\n",
    "options = pd.read_csv('data/price/AAPL_options.csv')\n",
    "volume = pd.read_csv('data/price/AAPL_volume.csv', index_col=0, parse_dates=True)"
   ],
   "id": "870378c587d6f5c",
   "outputs": [
    {
     "name": "stderr",
     "output_type": "stream",
     "text": [
      "/tmp/ipykernel_29729/3647304182.py:3: UserWarning: Could not infer format, so each element will be parsed individually, falling back to `dateutil`. To ensure parsing is consistent and as-expected, please specify a format.\n",
      "  ohlc = pd.read_csv('data/price/AAPL_ohlc.csv', index_col=0, parse_dates=True)\n"
     ]
    }
   ],
   "execution_count": 5
  },
  {
   "metadata": {},
   "cell_type": "markdown",
   "source": "# Data exploration",
   "id": "77118a9921cf3be4"
  },
  {
   "metadata": {},
   "cell_type": "markdown",
   "source": "Price",
   "id": "aaa1357625167d0f"
  },
  {
   "metadata": {
    "ExecuteTime": {
     "end_time": "2025-10-02T16:13:43.520795Z",
     "start_time": "2025-10-02T16:13:43.504152Z"
    }
   },
   "cell_type": "code",
   "source": "ohlc.tail()",
   "id": "8f3c3c86df37a53d",
   "outputs": [
    {
     "data": {
      "text/plain": [
       "                         Close                High                 Low  \\\n",
       "Price                                                                    \n",
       "2025-09-24  252.30999755859375  255.74000549316406   251.0399932861328   \n",
       "2025-09-25   256.8699951171875   257.1700134277344   251.7100067138672   \n",
       "2025-09-26   255.4600067138672   257.6000061035156  253.77999877929688   \n",
       "2025-09-29  254.42999267578125               255.0  253.00999450683594   \n",
       "2025-09-30   254.5749969482422  255.91900634765625  253.82009887695312   \n",
       "\n",
       "                          Open  \n",
       "Price                           \n",
       "2025-09-24  255.22000122070312  \n",
       "2025-09-25   253.2100067138672  \n",
       "2025-09-26  254.10000610351562  \n",
       "2025-09-29  254.55999755859375  \n",
       "2025-09-30   254.8249969482422  "
      ],
      "text/html": [
       "<div>\n",
       "<style scoped>\n",
       "    .dataframe tbody tr th:only-of-type {\n",
       "        vertical-align: middle;\n",
       "    }\n",
       "\n",
       "    .dataframe tbody tr th {\n",
       "        vertical-align: top;\n",
       "    }\n",
       "\n",
       "    .dataframe thead th {\n",
       "        text-align: right;\n",
       "    }\n",
       "</style>\n",
       "<table border=\"1\" class=\"dataframe\">\n",
       "  <thead>\n",
       "    <tr style=\"text-align: right;\">\n",
       "      <th></th>\n",
       "      <th>Close</th>\n",
       "      <th>High</th>\n",
       "      <th>Low</th>\n",
       "      <th>Open</th>\n",
       "    </tr>\n",
       "    <tr>\n",
       "      <th>Price</th>\n",
       "      <th></th>\n",
       "      <th></th>\n",
       "      <th></th>\n",
       "      <th></th>\n",
       "    </tr>\n",
       "  </thead>\n",
       "  <tbody>\n",
       "    <tr>\n",
       "      <th>2025-09-24</th>\n",
       "      <td>252.30999755859375</td>\n",
       "      <td>255.74000549316406</td>\n",
       "      <td>251.0399932861328</td>\n",
       "      <td>255.22000122070312</td>\n",
       "    </tr>\n",
       "    <tr>\n",
       "      <th>2025-09-25</th>\n",
       "      <td>256.8699951171875</td>\n",
       "      <td>257.1700134277344</td>\n",
       "      <td>251.7100067138672</td>\n",
       "      <td>253.2100067138672</td>\n",
       "    </tr>\n",
       "    <tr>\n",
       "      <th>2025-09-26</th>\n",
       "      <td>255.4600067138672</td>\n",
       "      <td>257.6000061035156</td>\n",
       "      <td>253.77999877929688</td>\n",
       "      <td>254.10000610351562</td>\n",
       "    </tr>\n",
       "    <tr>\n",
       "      <th>2025-09-29</th>\n",
       "      <td>254.42999267578125</td>\n",
       "      <td>255.0</td>\n",
       "      <td>253.00999450683594</td>\n",
       "      <td>254.55999755859375</td>\n",
       "    </tr>\n",
       "    <tr>\n",
       "      <th>2025-09-30</th>\n",
       "      <td>254.5749969482422</td>\n",
       "      <td>255.91900634765625</td>\n",
       "      <td>253.82009887695312</td>\n",
       "      <td>254.8249969482422</td>\n",
       "    </tr>\n",
       "  </tbody>\n",
       "</table>\n",
       "</div>"
      ]
     },
     "execution_count": 6,
     "metadata": {},
     "output_type": "execute_result"
    }
   ],
   "execution_count": 6
  },
  {
   "metadata": {
    "ExecuteTime": {
     "end_time": "2025-10-02T16:13:43.674269Z",
     "start_time": "2025-10-02T16:13:43.657579Z"
    }
   },
   "cell_type": "code",
   "source": "ohlc.info()",
   "id": "68dca1b9294f0c27",
   "outputs": [
    {
     "name": "stdout",
     "output_type": "stream",
     "text": [
      "<class 'pandas.core.frame.DataFrame'>\n",
      "Index: 11293 entries, Ticker to 2025-09-30\n",
      "Data columns (total 4 columns):\n",
      " #   Column  Non-Null Count  Dtype \n",
      "---  ------  --------------  ----- \n",
      " 0   Close   11292 non-null  object\n",
      " 1   High    11292 non-null  object\n",
      " 2   Low     11292 non-null  object\n",
      " 3   Open    11292 non-null  object\n",
      "dtypes: object(4)\n",
      "memory usage: 441.1+ KB\n"
     ]
    }
   ],
   "execution_count": 7
  },
  {
   "metadata": {
    "ExecuteTime": {
     "end_time": "2025-10-02T16:13:43.813976Z",
     "start_time": "2025-10-02T16:13:43.809634Z"
    }
   },
   "cell_type": "code",
   "source": "ohlc.dtypes",
   "id": "bec98539ad82ecf5",
   "outputs": [
    {
     "data": {
      "text/plain": [
       "Close    object\n",
       "High     object\n",
       "Low      object\n",
       "Open     object\n",
       "dtype: object"
      ]
     },
     "execution_count": 8,
     "metadata": {},
     "output_type": "execute_result"
    }
   ],
   "execution_count": 8
  },
  {
   "metadata": {
    "ExecuteTime": {
     "end_time": "2025-10-02T16:15:06.955632Z",
     "start_time": "2025-10-02T16:15:06.934143Z"
    }
   },
   "cell_type": "code",
   "source": [
    "numeric_cols = ['Open', 'High', 'Low', 'Close']\n",
    "\n",
    "for col in numeric_cols:\n",
    "    ohlc[col] = pd.to_numeric(ohlc[col], errors='coerce')\n"
   ],
   "id": "d26e2cc372b8ebf1",
   "outputs": [],
   "execution_count": 10
  },
  {
   "metadata": {
    "ExecuteTime": {
     "end_time": "2025-10-02T16:15:08.707062Z",
     "start_time": "2025-10-02T16:15:08.668591Z"
    }
   },
   "cell_type": "code",
   "source": "ohlc.describe(include='all')",
   "id": "f3ff13592ea85358",
   "outputs": [
    {
     "data": {
      "text/plain": [
       "              Close          High           Low          Open\n",
       "count  11291.000000  11291.000000  11291.000000  11291.000000\n",
       "mean      26.628438     26.896547     26.333672     26.606028\n",
       "std       55.119763     55.661181     54.513908     55.061007\n",
       "min        0.037681      0.038109      0.037681      0.038109\n",
       "25%        0.245132      0.250684      0.240161      0.245127\n",
       "50%        0.466513      0.473755      0.458864      0.465311\n",
       "75%       20.886218     21.058807     20.690546     20.888417\n",
       "max      258.103729    259.179926    256.718662    257.276679"
      ],
      "text/html": [
       "<div>\n",
       "<style scoped>\n",
       "    .dataframe tbody tr th:only-of-type {\n",
       "        vertical-align: middle;\n",
       "    }\n",
       "\n",
       "    .dataframe tbody tr th {\n",
       "        vertical-align: top;\n",
       "    }\n",
       "\n",
       "    .dataframe thead th {\n",
       "        text-align: right;\n",
       "    }\n",
       "</style>\n",
       "<table border=\"1\" class=\"dataframe\">\n",
       "  <thead>\n",
       "    <tr style=\"text-align: right;\">\n",
       "      <th></th>\n",
       "      <th>Close</th>\n",
       "      <th>High</th>\n",
       "      <th>Low</th>\n",
       "      <th>Open</th>\n",
       "    </tr>\n",
       "  </thead>\n",
       "  <tbody>\n",
       "    <tr>\n",
       "      <th>count</th>\n",
       "      <td>11291.000000</td>\n",
       "      <td>11291.000000</td>\n",
       "      <td>11291.000000</td>\n",
       "      <td>11291.000000</td>\n",
       "    </tr>\n",
       "    <tr>\n",
       "      <th>mean</th>\n",
       "      <td>26.628438</td>\n",
       "      <td>26.896547</td>\n",
       "      <td>26.333672</td>\n",
       "      <td>26.606028</td>\n",
       "    </tr>\n",
       "    <tr>\n",
       "      <th>std</th>\n",
       "      <td>55.119763</td>\n",
       "      <td>55.661181</td>\n",
       "      <td>54.513908</td>\n",
       "      <td>55.061007</td>\n",
       "    </tr>\n",
       "    <tr>\n",
       "      <th>min</th>\n",
       "      <td>0.037681</td>\n",
       "      <td>0.038109</td>\n",
       "      <td>0.037681</td>\n",
       "      <td>0.038109</td>\n",
       "    </tr>\n",
       "    <tr>\n",
       "      <th>25%</th>\n",
       "      <td>0.245132</td>\n",
       "      <td>0.250684</td>\n",
       "      <td>0.240161</td>\n",
       "      <td>0.245127</td>\n",
       "    </tr>\n",
       "    <tr>\n",
       "      <th>50%</th>\n",
       "      <td>0.466513</td>\n",
       "      <td>0.473755</td>\n",
       "      <td>0.458864</td>\n",
       "      <td>0.465311</td>\n",
       "    </tr>\n",
       "    <tr>\n",
       "      <th>75%</th>\n",
       "      <td>20.886218</td>\n",
       "      <td>21.058807</td>\n",
       "      <td>20.690546</td>\n",
       "      <td>20.888417</td>\n",
       "    </tr>\n",
       "    <tr>\n",
       "      <th>max</th>\n",
       "      <td>258.103729</td>\n",
       "      <td>259.179926</td>\n",
       "      <td>256.718662</td>\n",
       "      <td>257.276679</td>\n",
       "    </tr>\n",
       "  </tbody>\n",
       "</table>\n",
       "</div>"
      ]
     },
     "execution_count": 11,
     "metadata": {},
     "output_type": "execute_result"
    }
   ],
   "execution_count": 11
  },
  {
   "metadata": {
    "ExecuteTime": {
     "end_time": "2025-10-02T16:15:12.083993Z",
     "start_time": "2025-10-02T16:15:12.073638Z"
    }
   },
   "cell_type": "code",
   "source": "ohlc.memory_usage()",
   "id": "9ad57df1951a4e9e",
   "outputs": [
    {
     "data": {
      "text/plain": [
       "Index    90344\n",
       "Close    90344\n",
       "High     90344\n",
       "Low      90344\n",
       "Open     90344\n",
       "dtype: int64"
      ]
     },
     "execution_count": 12,
     "metadata": {},
     "output_type": "execute_result"
    }
   ],
   "execution_count": 12
  },
  {
   "metadata": {
    "ExecuteTime": {
     "end_time": "2025-10-02T16:15:15.027342Z",
     "start_time": "2025-10-02T16:15:15.018925Z"
    }
   },
   "cell_type": "code",
   "source": "print(len(ohlc['Close'].unique()))",
   "id": "93559ceaf7684b93",
   "outputs": [
    {
     "name": "stdout",
     "output_type": "stream",
     "text": [
      "8279\n"
     ]
    }
   ],
   "execution_count": 13
  },
  {
   "metadata": {
    "ExecuteTime": {
     "end_time": "2025-10-02T16:15:18.020409Z",
     "start_time": "2025-10-02T16:15:18.010228Z"
    }
   },
   "cell_type": "code",
   "source": [
    "all_time_low = ohlc['Low'].min()\n",
    "all_time_low_date = ohlc['Low'].idxmin()\n",
    "print(f'All time low: {all_time_low} on {all_time_low_date}')\n",
    "\n",
    "all_time_high = ohlc['High'].max()\n",
    "all_time_high_date = ohlc['High'].idxmax()\n",
    "print(f'All time high: {all_time_high} on {all_time_high_date}')"
   ],
   "id": "97dabcddce2368cb",
   "outputs": [
    {
     "name": "stdout",
     "output_type": "stream",
     "text": [
      "All time low: 0.0376811251044273 on 1982-07-08\n",
      "All time high: 259.1799258751944 on 2024-12-26\n"
     ]
    }
   ],
   "execution_count": 14
  },
  {
   "metadata": {
    "ExecuteTime": {
     "end_time": "2025-10-02T16:16:23.011211Z",
     "start_time": "2025-10-02T16:16:22.999835Z"
    }
   },
   "cell_type": "code",
   "source": "ohlc.corr()",
   "id": "42c3998a40df5cdb",
   "outputs": [
    {
     "data": {
      "text/plain": [
       "          Close      High       Low      Open\n",
       "Close  1.000000  0.999940  0.999937  0.999868\n",
       "High   0.999940  1.000000  0.999911  0.999933\n",
       "Low    0.999937  0.999911  1.000000  0.999940\n",
       "Open   0.999868  0.999933  0.999940  1.000000"
      ],
      "text/html": [
       "<div>\n",
       "<style scoped>\n",
       "    .dataframe tbody tr th:only-of-type {\n",
       "        vertical-align: middle;\n",
       "    }\n",
       "\n",
       "    .dataframe tbody tr th {\n",
       "        vertical-align: top;\n",
       "    }\n",
       "\n",
       "    .dataframe thead th {\n",
       "        text-align: right;\n",
       "    }\n",
       "</style>\n",
       "<table border=\"1\" class=\"dataframe\">\n",
       "  <thead>\n",
       "    <tr style=\"text-align: right;\">\n",
       "      <th></th>\n",
       "      <th>Close</th>\n",
       "      <th>High</th>\n",
       "      <th>Low</th>\n",
       "      <th>Open</th>\n",
       "    </tr>\n",
       "  </thead>\n",
       "  <tbody>\n",
       "    <tr>\n",
       "      <th>Close</th>\n",
       "      <td>1.000000</td>\n",
       "      <td>0.999940</td>\n",
       "      <td>0.999937</td>\n",
       "      <td>0.999868</td>\n",
       "    </tr>\n",
       "    <tr>\n",
       "      <th>High</th>\n",
       "      <td>0.999940</td>\n",
       "      <td>1.000000</td>\n",
       "      <td>0.999911</td>\n",
       "      <td>0.999933</td>\n",
       "    </tr>\n",
       "    <tr>\n",
       "      <th>Low</th>\n",
       "      <td>0.999937</td>\n",
       "      <td>0.999911</td>\n",
       "      <td>1.000000</td>\n",
       "      <td>0.999940</td>\n",
       "    </tr>\n",
       "    <tr>\n",
       "      <th>Open</th>\n",
       "      <td>0.999868</td>\n",
       "      <td>0.999933</td>\n",
       "      <td>0.999940</td>\n",
       "      <td>1.000000</td>\n",
       "    </tr>\n",
       "  </tbody>\n",
       "</table>\n",
       "</div>"
      ]
     },
     "execution_count": 15,
     "metadata": {},
     "output_type": "execute_result"
    }
   ],
   "execution_count": 15
  },
  {
   "metadata": {},
   "cell_type": "markdown",
   "source": "Volume",
   "id": "ef97fcbd66c2b8b3"
  },
  {
   "metadata": {
    "ExecuteTime": {
     "end_time": "2025-10-02T16:17:55.696362Z",
     "start_time": "2025-10-02T16:17:55.682961Z"
    }
   },
   "cell_type": "code",
   "source": "volume.tail()",
   "id": "bc8e8096c1300173",
   "outputs": [
    {
     "data": {
      "text/plain": [
       "              Volume\n",
       "Date                \n",
       "2025-09-24  42303700\n",
       "2025-09-25  55202100\n",
       "2025-09-26  46076300\n",
       "2025-09-29  40091100\n",
       "2025-09-30  13712214"
      ],
      "text/html": [
       "<div>\n",
       "<style scoped>\n",
       "    .dataframe tbody tr th:only-of-type {\n",
       "        vertical-align: middle;\n",
       "    }\n",
       "\n",
       "    .dataframe tbody tr th {\n",
       "        vertical-align: top;\n",
       "    }\n",
       "\n",
       "    .dataframe thead th {\n",
       "        text-align: right;\n",
       "    }\n",
       "</style>\n",
       "<table border=\"1\" class=\"dataframe\">\n",
       "  <thead>\n",
       "    <tr style=\"text-align: right;\">\n",
       "      <th></th>\n",
       "      <th>Volume</th>\n",
       "    </tr>\n",
       "    <tr>\n",
       "      <th>Date</th>\n",
       "      <th></th>\n",
       "    </tr>\n",
       "  </thead>\n",
       "  <tbody>\n",
       "    <tr>\n",
       "      <th>2025-09-24</th>\n",
       "      <td>42303700</td>\n",
       "    </tr>\n",
       "    <tr>\n",
       "      <th>2025-09-25</th>\n",
       "      <td>55202100</td>\n",
       "    </tr>\n",
       "    <tr>\n",
       "      <th>2025-09-26</th>\n",
       "      <td>46076300</td>\n",
       "    </tr>\n",
       "    <tr>\n",
       "      <th>2025-09-29</th>\n",
       "      <td>40091100</td>\n",
       "    </tr>\n",
       "    <tr>\n",
       "      <th>2025-09-30</th>\n",
       "      <td>13712214</td>\n",
       "    </tr>\n",
       "  </tbody>\n",
       "</table>\n",
       "</div>"
      ]
     },
     "execution_count": 16,
     "metadata": {},
     "output_type": "execute_result"
    }
   ],
   "execution_count": 16
  },
  {
   "metadata": {
    "ExecuteTime": {
     "end_time": "2025-10-02T16:18:10.082877Z",
     "start_time": "2025-10-02T16:18:10.071040Z"
    }
   },
   "cell_type": "code",
   "source": "volume.info()",
   "id": "c7ad3d42db6f166c",
   "outputs": [
    {
     "name": "stdout",
     "output_type": "stream",
     "text": [
      "<class 'pandas.core.frame.DataFrame'>\n",
      "DatetimeIndex: 11291 entries, 1980-12-12 to 2025-09-30\n",
      "Data columns (total 1 columns):\n",
      " #   Column  Non-Null Count  Dtype\n",
      "---  ------  --------------  -----\n",
      " 0   Volume  11291 non-null  int64\n",
      "dtypes: int64(1)\n",
      "memory usage: 176.4 KB\n"
     ]
    }
   ],
   "execution_count": 17
  },
  {
   "metadata": {
    "ExecuteTime": {
     "end_time": "2025-10-02T16:18:39.131726Z",
     "start_time": "2025-10-02T16:18:39.125625Z"
    }
   },
   "cell_type": "code",
   "source": "volume.dtypes",
   "id": "50120aa59fc9a1e4",
   "outputs": [
    {
     "data": {
      "text/plain": [
       "Volume    int64\n",
       "dtype: object"
      ]
     },
     "execution_count": 18,
     "metadata": {},
     "output_type": "execute_result"
    }
   ],
   "execution_count": 18
  },
  {
   "metadata": {
    "ExecuteTime": {
     "end_time": "2025-10-02T16:59:59.732850Z",
     "start_time": "2025-10-02T16:59:59.722014Z"
    }
   },
   "cell_type": "code",
   "source": "volume.describe(include='all')",
   "id": "d2b878bad75cc0ba",
   "outputs": [
    {
     "data": {
      "text/plain": [
       "             Volume\n",
       "count  1.129100e+04\n",
       "mean   3.112278e+08\n",
       "std    3.337518e+08\n",
       "min    0.000000e+00\n",
       "25%    1.076945e+08\n",
       "50%    1.999520e+08\n",
       "75%    3.911250e+08\n",
       "max    7.421641e+09"
      ],
      "text/html": [
       "<div>\n",
       "<style scoped>\n",
       "    .dataframe tbody tr th:only-of-type {\n",
       "        vertical-align: middle;\n",
       "    }\n",
       "\n",
       "    .dataframe tbody tr th {\n",
       "        vertical-align: top;\n",
       "    }\n",
       "\n",
       "    .dataframe thead th {\n",
       "        text-align: right;\n",
       "    }\n",
       "</style>\n",
       "<table border=\"1\" class=\"dataframe\">\n",
       "  <thead>\n",
       "    <tr style=\"text-align: right;\">\n",
       "      <th></th>\n",
       "      <th>Volume</th>\n",
       "    </tr>\n",
       "  </thead>\n",
       "  <tbody>\n",
       "    <tr>\n",
       "      <th>count</th>\n",
       "      <td>1.129100e+04</td>\n",
       "    </tr>\n",
       "    <tr>\n",
       "      <th>mean</th>\n",
       "      <td>3.112278e+08</td>\n",
       "    </tr>\n",
       "    <tr>\n",
       "      <th>std</th>\n",
       "      <td>3.337518e+08</td>\n",
       "    </tr>\n",
       "    <tr>\n",
       "      <th>min</th>\n",
       "      <td>0.000000e+00</td>\n",
       "    </tr>\n",
       "    <tr>\n",
       "      <th>25%</th>\n",
       "      <td>1.076945e+08</td>\n",
       "    </tr>\n",
       "    <tr>\n",
       "      <th>50%</th>\n",
       "      <td>1.999520e+08</td>\n",
       "    </tr>\n",
       "    <tr>\n",
       "      <th>75%</th>\n",
       "      <td>3.911250e+08</td>\n",
       "    </tr>\n",
       "    <tr>\n",
       "      <th>max</th>\n",
       "      <td>7.421641e+09</td>\n",
       "    </tr>\n",
       "  </tbody>\n",
       "</table>\n",
       "</div>"
      ]
     },
     "execution_count": 20,
     "metadata": {},
     "output_type": "execute_result"
    }
   ],
   "execution_count": 20
  },
  {
   "metadata": {
    "ExecuteTime": {
     "end_time": "2025-10-02T17:00:57.264350Z",
     "start_time": "2025-10-02T17:00:57.256026Z"
    }
   },
   "cell_type": "code",
   "source": [
    "all_time_low_vol = volume['Volume'].min()\n",
    "all_time_low_vol_date = volume['Volume'].idxmin()\n",
    "print(f'All time low volume: {all_time_low_vol} on {all_time_low_date}')\n",
    "\n",
    "all_time_high_vol = volume['Volume'].max()\n",
    "all_time_high_vol_date = volume['Volume'].idxmax()\n",
    "print(f'All time high volume: {all_time_high_vol} on {all_time_high_date}')"
   ],
   "id": "48794abaaa061cb4",
   "outputs": [
    {
     "name": "stdout",
     "output_type": "stream",
     "text": [
      "All time low volume: 0 on 1982-07-08\n",
      "All time high volume: 7421640800 on 2024-12-26\n"
     ]
    }
   ],
   "execution_count": 23
  },
  {
   "metadata": {},
   "cell_type": "markdown",
   "source": "",
   "id": "b510577b9a458eab"
  }
 ],
 "metadata": {
  "colab": {
   "provenance": []
  },
  "kernelspec": {
   "display_name": "Python 3 (ipykernel)",
   "language": "python",
   "name": "python3"
  },
  "language_info": {
   "codemirror_mode": {
    "name": "ipython",
    "version": 3
   },
   "file_extension": ".py",
   "mimetype": "text/x-python",
   "name": "python",
   "nbconvert_exporter": "python",
   "pygments_lexer": "ipython3",
   "version": "3.12.5"
  }
 },
 "nbformat": 4,
 "nbformat_minor": 5
}
