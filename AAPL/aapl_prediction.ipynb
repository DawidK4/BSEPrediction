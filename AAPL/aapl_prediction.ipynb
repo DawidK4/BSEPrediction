{
 "cells": [
  {
   "cell_type": "code",
   "id": "85e1da11",
   "metadata": {
    "id": "85e1da11",
    "ExecuteTime": {
     "end_time": "2025-10-05T13:09:26.883389Z",
     "start_time": "2025-10-05T13:09:22.341943Z"
    }
   },
   "source": [
    "import numpy as np\n",
    "import pandas as pd\n",
    "import matplotlib.pyplot as plt\n",
    "import seaborn as sns\n",
    "\n",
    "import os\n",
    "import sys\n",
    "\n",
    "import tensorflow as tf\n",
    "\n",
    "import yfinance as yf"
   ],
   "outputs": [
    {
     "name": "stderr",
     "output_type": "stream",
     "text": [
      "2025-10-05 15:09:23.101212: I external/local_xla/xla/tsl/cuda/cudart_stub.cc:31] Could not find cuda drivers on your machine, GPU will not be used.\n",
      "2025-10-05 15:09:23.107647: I tensorflow/core/util/port.cc:153] oneDNN custom operations are on. You may see slightly different numerical results due to floating-point round-off errors from different computation orders. To turn them off, set the environment variable `TF_ENABLE_ONEDNN_OPTS=0`.\n",
      "2025-10-05 15:09:23.561221: I tensorflow/core/platform/cpu_feature_guard.cc:210] This TensorFlow binary is optimized to use available CPU instructions in performance-critical operations.\n",
      "To enable the following instructions: AVX2 AVX512F AVX512_VNNI FMA, in other operations, rebuild TensorFlow with the appropriate compiler flags.\n",
      "2025-10-05 15:09:25.994863: I tensorflow/core/util/port.cc:153] oneDNN custom operations are on. You may see slightly different numerical results due to floating-point round-off errors from different computation orders. To turn them off, set the environment variable `TF_ENABLE_ONEDNN_OPTS=0`.\n",
      "2025-10-05 15:09:25.995324: I external/local_xla/xla/tsl/cuda/cudart_stub.cc:31] Could not find cuda drivers on your machine, GPU will not be used.\n"
     ]
    }
   ],
   "execution_count": 1
  },
  {
   "metadata": {},
   "cell_type": "markdown",
   "source": "# Loading the data",
   "id": "e313f7dd85387be4"
  },
  {
   "metadata": {},
   "cell_type": "markdown",
   "source": "Analysis and holdings",
   "id": "23d5d7622f5ccb82"
  },
  {
   "metadata": {
    "ExecuteTime": {
     "end_time": "2025-10-05T13:09:26.949541Z",
     "start_time": "2025-10-05T13:09:26.901719Z"
    }
   },
   "cell_type": "code",
   "source": [
    "earnings_estimate = pd.read_csv('data/analysis_and_holdings/AAPL_earnings_estimate.csv')\n",
    "earnings_history = pd.read_csv('data/analysis_and_holdings/AAPL_earnings_history.csv')\n",
    "eps_revisions = pd.read_csv('data/analysis_and_holdings/AAPL_eps_revisions.csv')\n",
    "eps_trend = pd.read_csv('data/analysis_and_holdings/AAPL_eps_trend.csv')\n",
    "growth_estimates = pd.read_csv('data/analysis_and_holdings/AAPL_growth_estimates.csv')\n",
    "insider_purchases = pd.read_csv('data/analysis_and_holdings/AAPL_insider_purchases.csv')\n",
    "insider_roster_holders = pd.read_csv('data/analysis_and_holdings/AAPL_insider_roster_holders.csv')\n",
    "institutional_holders = pd.read_csv('data/analysis_and_holdings/AAPL_institutional_holders.csv')\n",
    "major_holders = pd.read_csv('data/analysis_and_holdings/AAPL_major_holders.csv')\n",
    "mutualfunds_holders = pd.read_csv('data/analysis_and_holdings/AAPL_mutualfund_holders.csv')\n",
    "reccomendations = pd.read_csv('data/analysis_and_holdings/AAPL_recommendations.csv')\n",
    "revenue_estimate = pd.read_csv('data/analysis_and_holdings/AAPL_revenue_estimate.csv')\n",
    "sustainability = pd.read_csv('data/analysis_and_holdings/AAPL_sustainability.csv')\n",
    "upgrades_downgrades = pd.read_csv('data/analysis_and_holdings/AAPL_upgrades_downgrades.csv')"
   ],
   "id": "1d7b715f28886112",
   "outputs": [],
   "execution_count": 2
  },
  {
   "metadata": {},
   "cell_type": "markdown",
   "source": "Financials",
   "id": "e5ff00e261447684"
  },
  {
   "metadata": {
    "ExecuteTime": {
     "end_time": "2025-10-05T13:09:26.975274Z",
     "start_time": "2025-10-05T13:09:26.962941Z"
    }
   },
   "cell_type": "code",
   "source": [
    "balance_sheet = pd.read_csv('data/financials/AAPL_balance_sheet.csv', index_col=0)\n",
    "cashflow = pd.read_csv('data/financials/AAPL_cashflow.csv', index_col=0)\n",
    "income_statement = pd.read_csv('data/financials/AAPL_income_statement.csv', index_col=0)"
   ],
   "id": "809746760d6b43a0",
   "outputs": [],
   "execution_count": 3
  },
  {
   "metadata": {},
   "cell_type": "markdown",
   "source": "Info",
   "id": "bf9fda3851df6d66"
  },
  {
   "metadata": {
    "ExecuteTime": {
     "end_time": "2025-10-05T13:09:27.072004Z",
     "start_time": "2025-10-05T13:09:27.025811Z"
    }
   },
   "cell_type": "code",
   "source": [
    "actions = pd.read_csv('data/info/AAPL_actions.csv', index_col=0)\n",
    "capital_gains = pd.read_csv('data/info/AAPL_capital_gains.csv', index_col=0)\n",
    "dividends = pd.read_csv('data/info/AAPL_dividends.csv', index_col=0)\n",
    "fast_info = pd.read_csv('data/info/AAPL_fast_info.csv', index_col=0)\n",
    "history = pd.read_csv('data/info/AAPL_history.csv', index_col=0)\n",
    "info = pd.read_csv('data/info/AAPL_info.csv')\n",
    "splits = pd.read_csv('data/info/AAPL_splits.csv', index_col=0)"
   ],
   "id": "1065ca4ffc2a1e2",
   "outputs": [],
   "execution_count": 4
  },
  {
   "metadata": {},
   "cell_type": "markdown",
   "source": "Price",
   "id": "b987d7ea2ea71405"
  },
  {
   "metadata": {
    "ExecuteTime": {
     "end_time": "2025-10-05T13:09:27.124998Z",
     "start_time": "2025-10-05T13:09:27.081678Z"
    }
   },
   "cell_type": "code",
   "source": "ohlc = pd.read_csv('data/price/AAPL_price_volume.csv', index_col=0)",
   "id": "fa58cf3145abe1eb",
   "outputs": [],
   "execution_count": 5
  },
  {
   "metadata": {},
   "cell_type": "markdown",
   "source": "# Data exploration",
   "id": "77118a9921cf3be4"
  },
  {
   "metadata": {},
   "cell_type": "markdown",
   "source": "Price",
   "id": "aaa1357625167d0f"
  },
  {
   "metadata": {
    "ExecuteTime": {
     "end_time": "2025-10-05T13:09:27.155106Z",
     "start_time": "2025-10-05T13:09:27.137276Z"
    }
   },
   "cell_type": "code",
   "source": "ohlc.tail()",
   "id": "8f3c3c86df37a53d",
   "outputs": [
    {
     "data": {
      "text/plain": [
       "                         Close                High                 Low  \\\n",
       "Price                                                                    \n",
       "2025-09-29  254.42999267578125               255.0  253.00999450683594   \n",
       "2025-09-30   254.6300048828125   255.9199981689453  253.11000061035156   \n",
       "2025-10-01   255.4499969482422   258.7900085449219  254.92999267578125   \n",
       "2025-10-02   257.1300048828125  258.17999267578125  254.14999389648438   \n",
       "2025-10-03   258.0199890136719    259.239990234375   253.9499969482422   \n",
       "\n",
       "                          Open    Volume  \n",
       "Price                                     \n",
       "2025-09-29  254.55999755859375  40127700  \n",
       "2025-09-30  254.86000061035156  37704300  \n",
       "2025-10-01   255.0399932861328  48713900  \n",
       "2025-10-02   256.5799865722656  42630200  \n",
       "2025-10-03   254.6699981689453  49107000  "
      ],
      "text/html": [
       "<div>\n",
       "<style scoped>\n",
       "    .dataframe tbody tr th:only-of-type {\n",
       "        vertical-align: middle;\n",
       "    }\n",
       "\n",
       "    .dataframe tbody tr th {\n",
       "        vertical-align: top;\n",
       "    }\n",
       "\n",
       "    .dataframe thead th {\n",
       "        text-align: right;\n",
       "    }\n",
       "</style>\n",
       "<table border=\"1\" class=\"dataframe\">\n",
       "  <thead>\n",
       "    <tr style=\"text-align: right;\">\n",
       "      <th></th>\n",
       "      <th>Close</th>\n",
       "      <th>High</th>\n",
       "      <th>Low</th>\n",
       "      <th>Open</th>\n",
       "      <th>Volume</th>\n",
       "    </tr>\n",
       "    <tr>\n",
       "      <th>Price</th>\n",
       "      <th></th>\n",
       "      <th></th>\n",
       "      <th></th>\n",
       "      <th></th>\n",
       "      <th></th>\n",
       "    </tr>\n",
       "  </thead>\n",
       "  <tbody>\n",
       "    <tr>\n",
       "      <th>2025-09-29</th>\n",
       "      <td>254.42999267578125</td>\n",
       "      <td>255.0</td>\n",
       "      <td>253.00999450683594</td>\n",
       "      <td>254.55999755859375</td>\n",
       "      <td>40127700</td>\n",
       "    </tr>\n",
       "    <tr>\n",
       "      <th>2025-09-30</th>\n",
       "      <td>254.6300048828125</td>\n",
       "      <td>255.9199981689453</td>\n",
       "      <td>253.11000061035156</td>\n",
       "      <td>254.86000061035156</td>\n",
       "      <td>37704300</td>\n",
       "    </tr>\n",
       "    <tr>\n",
       "      <th>2025-10-01</th>\n",
       "      <td>255.4499969482422</td>\n",
       "      <td>258.7900085449219</td>\n",
       "      <td>254.92999267578125</td>\n",
       "      <td>255.0399932861328</td>\n",
       "      <td>48713900</td>\n",
       "    </tr>\n",
       "    <tr>\n",
       "      <th>2025-10-02</th>\n",
       "      <td>257.1300048828125</td>\n",
       "      <td>258.17999267578125</td>\n",
       "      <td>254.14999389648438</td>\n",
       "      <td>256.5799865722656</td>\n",
       "      <td>42630200</td>\n",
       "    </tr>\n",
       "    <tr>\n",
       "      <th>2025-10-03</th>\n",
       "      <td>258.0199890136719</td>\n",
       "      <td>259.239990234375</td>\n",
       "      <td>253.9499969482422</td>\n",
       "      <td>254.6699981689453</td>\n",
       "      <td>49107000</td>\n",
       "    </tr>\n",
       "  </tbody>\n",
       "</table>\n",
       "</div>"
      ]
     },
     "execution_count": 6,
     "metadata": {},
     "output_type": "execute_result"
    }
   ],
   "execution_count": 6
  },
  {
   "metadata": {
    "ExecuteTime": {
     "end_time": "2025-10-05T13:09:27.289499Z",
     "start_time": "2025-10-05T13:09:27.268511Z"
    }
   },
   "cell_type": "code",
   "source": "ohlc.info()",
   "id": "68dca1b9294f0c27",
   "outputs": [
    {
     "name": "stdout",
     "output_type": "stream",
     "text": [
      "<class 'pandas.core.frame.DataFrame'>\n",
      "Index: 11296 entries, Ticker to 2025-10-03\n",
      "Data columns (total 5 columns):\n",
      " #   Column  Non-Null Count  Dtype \n",
      "---  ------  --------------  ----- \n",
      " 0   Close   11295 non-null  object\n",
      " 1   High    11295 non-null  object\n",
      " 2   Low     11295 non-null  object\n",
      " 3   Open    11295 non-null  object\n",
      " 4   Volume  11295 non-null  object\n",
      "dtypes: object(5)\n",
      "memory usage: 529.5+ KB\n"
     ]
    }
   ],
   "execution_count": 7
  },
  {
   "metadata": {
    "ExecuteTime": {
     "end_time": "2025-10-05T13:09:27.418367Z",
     "start_time": "2025-10-05T13:09:27.413245Z"
    }
   },
   "cell_type": "code",
   "source": "ohlc.dtypes",
   "id": "bec98539ad82ecf5",
   "outputs": [
    {
     "data": {
      "text/plain": [
       "Close     object\n",
       "High      object\n",
       "Low       object\n",
       "Open      object\n",
       "Volume    object\n",
       "dtype: object"
      ]
     },
     "execution_count": 8,
     "metadata": {},
     "output_type": "execute_result"
    }
   ],
   "execution_count": 8
  },
  {
   "metadata": {
    "ExecuteTime": {
     "end_time": "2025-10-05T13:09:27.521318Z",
     "start_time": "2025-10-05T13:09:27.499541Z"
    }
   },
   "cell_type": "code",
   "source": [
    "numeric_cols = ['Open', 'High', 'Low', 'Close']\n",
    "\n",
    "for col in numeric_cols:\n",
    "    ohlc[col] = pd.to_numeric(ohlc[col], errors='coerce')\n"
   ],
   "id": "d26e2cc372b8ebf1",
   "outputs": [],
   "execution_count": 9
  },
  {
   "metadata": {
    "ExecuteTime": {
     "end_time": "2025-10-05T13:09:27.678051Z",
     "start_time": "2025-10-05T13:09:27.639573Z"
    }
   },
   "cell_type": "code",
   "source": "ohlc.describe(include='all')",
   "id": "f3ff13592ea85358",
   "outputs": [
    {
     "data": {
      "text/plain": [
       "               Close          High           Low          Open     Volume\n",
       "count   11294.000000  11294.000000  11294.000000  11294.000000      11295\n",
       "unique           NaN           NaN           NaN           NaN      10731\n",
       "top              NaN           NaN           NaN           NaN  246400000\n",
       "freq             NaN           NaN           NaN           NaN          7\n",
       "mean       26.689600     26.958130     26.394175     26.666814        NaN\n",
       "std        55.240040     55.781888     54.632914     55.179857        NaN\n",
       "min         0.037681      0.038109      0.037681      0.038109        NaN\n",
       "25%         0.245137      0.250706      0.240161      0.245127        NaN\n",
       "50%         0.466639      0.474725      0.459261      0.466445        NaN\n",
       "75%        20.927646     21.097477     20.743933     20.965368        NaN\n",
       "max       258.103729    259.239990    256.718662    257.276679        NaN"
      ],
      "text/html": [
       "<div>\n",
       "<style scoped>\n",
       "    .dataframe tbody tr th:only-of-type {\n",
       "        vertical-align: middle;\n",
       "    }\n",
       "\n",
       "    .dataframe tbody tr th {\n",
       "        vertical-align: top;\n",
       "    }\n",
       "\n",
       "    .dataframe thead th {\n",
       "        text-align: right;\n",
       "    }\n",
       "</style>\n",
       "<table border=\"1\" class=\"dataframe\">\n",
       "  <thead>\n",
       "    <tr style=\"text-align: right;\">\n",
       "      <th></th>\n",
       "      <th>Close</th>\n",
       "      <th>High</th>\n",
       "      <th>Low</th>\n",
       "      <th>Open</th>\n",
       "      <th>Volume</th>\n",
       "    </tr>\n",
       "  </thead>\n",
       "  <tbody>\n",
       "    <tr>\n",
       "      <th>count</th>\n",
       "      <td>11294.000000</td>\n",
       "      <td>11294.000000</td>\n",
       "      <td>11294.000000</td>\n",
       "      <td>11294.000000</td>\n",
       "      <td>11295</td>\n",
       "    </tr>\n",
       "    <tr>\n",
       "      <th>unique</th>\n",
       "      <td>NaN</td>\n",
       "      <td>NaN</td>\n",
       "      <td>NaN</td>\n",
       "      <td>NaN</td>\n",
       "      <td>10731</td>\n",
       "    </tr>\n",
       "    <tr>\n",
       "      <th>top</th>\n",
       "      <td>NaN</td>\n",
       "      <td>NaN</td>\n",
       "      <td>NaN</td>\n",
       "      <td>NaN</td>\n",
       "      <td>246400000</td>\n",
       "    </tr>\n",
       "    <tr>\n",
       "      <th>freq</th>\n",
       "      <td>NaN</td>\n",
       "      <td>NaN</td>\n",
       "      <td>NaN</td>\n",
       "      <td>NaN</td>\n",
       "      <td>7</td>\n",
       "    </tr>\n",
       "    <tr>\n",
       "      <th>mean</th>\n",
       "      <td>26.689600</td>\n",
       "      <td>26.958130</td>\n",
       "      <td>26.394175</td>\n",
       "      <td>26.666814</td>\n",
       "      <td>NaN</td>\n",
       "    </tr>\n",
       "    <tr>\n",
       "      <th>std</th>\n",
       "      <td>55.240040</td>\n",
       "      <td>55.781888</td>\n",
       "      <td>54.632914</td>\n",
       "      <td>55.179857</td>\n",
       "      <td>NaN</td>\n",
       "    </tr>\n",
       "    <tr>\n",
       "      <th>min</th>\n",
       "      <td>0.037681</td>\n",
       "      <td>0.038109</td>\n",
       "      <td>0.037681</td>\n",
       "      <td>0.038109</td>\n",
       "      <td>NaN</td>\n",
       "    </tr>\n",
       "    <tr>\n",
       "      <th>25%</th>\n",
       "      <td>0.245137</td>\n",
       "      <td>0.250706</td>\n",
       "      <td>0.240161</td>\n",
       "      <td>0.245127</td>\n",
       "      <td>NaN</td>\n",
       "    </tr>\n",
       "    <tr>\n",
       "      <th>50%</th>\n",
       "      <td>0.466639</td>\n",
       "      <td>0.474725</td>\n",
       "      <td>0.459261</td>\n",
       "      <td>0.466445</td>\n",
       "      <td>NaN</td>\n",
       "    </tr>\n",
       "    <tr>\n",
       "      <th>75%</th>\n",
       "      <td>20.927646</td>\n",
       "      <td>21.097477</td>\n",
       "      <td>20.743933</td>\n",
       "      <td>20.965368</td>\n",
       "      <td>NaN</td>\n",
       "    </tr>\n",
       "    <tr>\n",
       "      <th>max</th>\n",
       "      <td>258.103729</td>\n",
       "      <td>259.239990</td>\n",
       "      <td>256.718662</td>\n",
       "      <td>257.276679</td>\n",
       "      <td>NaN</td>\n",
       "    </tr>\n",
       "  </tbody>\n",
       "</table>\n",
       "</div>"
      ]
     },
     "execution_count": 10,
     "metadata": {},
     "output_type": "execute_result"
    }
   ],
   "execution_count": 10
  },
  {
   "metadata": {
    "ExecuteTime": {
     "end_time": "2025-10-05T13:09:27.948099Z",
     "start_time": "2025-10-05T13:09:27.942064Z"
    }
   },
   "cell_type": "code",
   "source": "ohlc.memory_usage()",
   "id": "9ad57df1951a4e9e",
   "outputs": [
    {
     "data": {
      "text/plain": [
       "Index     90368\n",
       "Close     90368\n",
       "High      90368\n",
       "Low       90368\n",
       "Open      90368\n",
       "Volume    90368\n",
       "dtype: int64"
      ]
     },
     "execution_count": 11,
     "metadata": {},
     "output_type": "execute_result"
    }
   ],
   "execution_count": 11
  },
  {
   "metadata": {
    "ExecuteTime": {
     "end_time": "2025-10-05T13:09:28.087187Z",
     "start_time": "2025-10-05T13:09:28.082912Z"
    }
   },
   "cell_type": "code",
   "source": "print(len(ohlc['Close'].unique()))",
   "id": "93559ceaf7684b93",
   "outputs": [
    {
     "name": "stdout",
     "output_type": "stream",
     "text": [
      "8282\n"
     ]
    }
   ],
   "execution_count": 12
  },
  {
   "metadata": {
    "ExecuteTime": {
     "end_time": "2025-10-05T13:09:28.226860Z",
     "start_time": "2025-10-05T13:09:28.192906Z"
    }
   },
   "cell_type": "code",
   "source": [
    "ohlc['Volume'] = pd.to_numeric(ohlc['Volume'], errors='coerce')\n",
    "ohlc['High'] = pd.to_numeric(ohlc['High'], errors='coerce')\n",
    "ohlc['Low'] = pd.to_numeric(ohlc['Low'], errors='coerce')\n",
    "ohlc['Open'] = pd.to_numeric(ohlc['Open'], errors='coerce')\n",
    "ohlc['Close'] = pd.to_numeric(ohlc['Close'], errors='coerce')\n",
    "\n",
    "\n",
    "all_time_low = ohlc['Low'].min()\n",
    "all_time_low_date = ohlc['Low'].idxmin()\n",
    "print(f'All time low: {all_time_low} on {all_time_low_date}')\n",
    "\n",
    "all_time_high = ohlc['High'].max()\n",
    "all_time_high_date = ohlc['High'].idxmax()\n",
    "print(f'All time high: {all_time_high} on {all_time_high_date}')\n",
    "\n",
    "all_time_low_vol = ohlc['Volume'].min()\n",
    "all_time_low_vol_date = ohlc['Volume'].idxmin()\n",
    "print(f'All time low volume: {all_time_low_vol} on {all_time_low_vol_date}')\n",
    "\n",
    "all_time_high_vol = ohlc['Volume'].max()\n",
    "all_time_high_vol_date = ohlc['Volume'].idxmax()\n",
    "print(f'All time high volume: {all_time_high_vol} on {all_time_high_vol_date}')"
   ],
   "id": "97dabcddce2368cb",
   "outputs": [
    {
     "name": "stdout",
     "output_type": "stream",
     "text": [
      "All time low: 0.037681121379137 on 1982-07-08\n",
      "All time high: 259.239990234375 on 2025-10-03\n",
      "All time low volume: 0.0 on 1981-08-10\n",
      "All time high volume: 7421640800.0 on 2000-09-29\n"
     ]
    }
   ],
   "execution_count": 13
  },
  {
   "metadata": {},
   "cell_type": "markdown",
   "source": "Balance Sheet",
   "id": "1f1c8f641a448fff"
  },
  {
   "metadata": {
    "ExecuteTime": {
     "end_time": "2025-10-05T13:09:28.276008Z",
     "start_time": "2025-10-05T13:09:28.263736Z"
    }
   },
   "cell_type": "code",
   "source": "balance_sheet.tail()",
   "id": "a42cbbeebeec3fee",
   "outputs": [
    {
     "data": {
      "text/plain": [
       "                                                    2024-09-30    2023-09-30  \\\n",
       "Cash Cash Equivalents And Short Term Investments  6.517100e+10  6.155500e+10   \n",
       "Other Short Term Investments                      3.522800e+10  3.159000e+10   \n",
       "Cash And Cash Equivalents                         2.994300e+10  2.996500e+10   \n",
       "Cash Equivalents                                  2.744000e+09  1.606000e+09   \n",
       "Cash Financial                                    2.719900e+10  2.835900e+10   \n",
       "\n",
       "                                                    2022-09-30    2021-09-30  \n",
       "Cash Cash Equivalents And Short Term Investments  4.830400e+10  6.263900e+10  \n",
       "Other Short Term Investments                      2.465800e+10  2.769900e+10  \n",
       "Cash And Cash Equivalents                         2.364600e+10  3.494000e+10  \n",
       "Cash Equivalents                                  5.100000e+09  1.763500e+10  \n",
       "Cash Financial                                    1.854600e+10  1.730500e+10  "
      ],
      "text/html": [
       "<div>\n",
       "<style scoped>\n",
       "    .dataframe tbody tr th:only-of-type {\n",
       "        vertical-align: middle;\n",
       "    }\n",
       "\n",
       "    .dataframe tbody tr th {\n",
       "        vertical-align: top;\n",
       "    }\n",
       "\n",
       "    .dataframe thead th {\n",
       "        text-align: right;\n",
       "    }\n",
       "</style>\n",
       "<table border=\"1\" class=\"dataframe\">\n",
       "  <thead>\n",
       "    <tr style=\"text-align: right;\">\n",
       "      <th></th>\n",
       "      <th>2024-09-30</th>\n",
       "      <th>2023-09-30</th>\n",
       "      <th>2022-09-30</th>\n",
       "      <th>2021-09-30</th>\n",
       "    </tr>\n",
       "  </thead>\n",
       "  <tbody>\n",
       "    <tr>\n",
       "      <th>Cash Cash Equivalents And Short Term Investments</th>\n",
       "      <td>6.517100e+10</td>\n",
       "      <td>6.155500e+10</td>\n",
       "      <td>4.830400e+10</td>\n",
       "      <td>6.263900e+10</td>\n",
       "    </tr>\n",
       "    <tr>\n",
       "      <th>Other Short Term Investments</th>\n",
       "      <td>3.522800e+10</td>\n",
       "      <td>3.159000e+10</td>\n",
       "      <td>2.465800e+10</td>\n",
       "      <td>2.769900e+10</td>\n",
       "    </tr>\n",
       "    <tr>\n",
       "      <th>Cash And Cash Equivalents</th>\n",
       "      <td>2.994300e+10</td>\n",
       "      <td>2.996500e+10</td>\n",
       "      <td>2.364600e+10</td>\n",
       "      <td>3.494000e+10</td>\n",
       "    </tr>\n",
       "    <tr>\n",
       "      <th>Cash Equivalents</th>\n",
       "      <td>2.744000e+09</td>\n",
       "      <td>1.606000e+09</td>\n",
       "      <td>5.100000e+09</td>\n",
       "      <td>1.763500e+10</td>\n",
       "    </tr>\n",
       "    <tr>\n",
       "      <th>Cash Financial</th>\n",
       "      <td>2.719900e+10</td>\n",
       "      <td>2.835900e+10</td>\n",
       "      <td>1.854600e+10</td>\n",
       "      <td>1.730500e+10</td>\n",
       "    </tr>\n",
       "  </tbody>\n",
       "</table>\n",
       "</div>"
      ]
     },
     "execution_count": 14,
     "metadata": {},
     "output_type": "execute_result"
    }
   ],
   "execution_count": 14
  },
  {
   "metadata": {},
   "cell_type": "markdown",
   "source": "# Data preprocessing",
   "id": "dcd1d7d435229d0f"
  },
  {
   "metadata": {
    "ExecuteTime": {
     "end_time": "2025-10-05T13:09:28.419010Z",
     "start_time": "2025-10-05T13:09:28.412907Z"
    }
   },
   "cell_type": "code",
   "source": "data = ohlc.copy()",
   "id": "200daac9f35fd7f3",
   "outputs": [],
   "execution_count": 15
  },
  {
   "metadata": {},
   "cell_type": "markdown",
   "source": "# Feature engineering",
   "id": "ff9a5fe7536ceba7"
  },
  {
   "metadata": {},
   "cell_type": "markdown",
   "source": "Adding percentage change of the closing price",
   "id": "fa87261ca54ce755"
  },
  {
   "metadata": {
    "ExecuteTime": {
     "end_time": "2025-10-05T13:09:28.571452Z",
     "start_time": "2025-10-05T13:09:28.565793Z"
    }
   },
   "cell_type": "code",
   "source": "data['Return'] = data['Close'].pct_change()",
   "id": "408f7dbd79e92acc",
   "outputs": [],
   "execution_count": 16
  },
  {
   "metadata": {},
   "cell_type": "markdown",
   "source": "Adding volatility indicators",
   "id": "c27cd4f9c88e4710"
  },
  {
   "metadata": {
    "ExecuteTime": {
     "end_time": "2025-10-05T13:09:28.623954Z",
     "start_time": "2025-10-05T13:09:28.618350Z"
    }
   },
   "cell_type": "code",
   "source": [
    "data['Volatility_20'] = data['Close'].rolling(window=20).std()\n",
    "data['Volatility_50'] = data['Close'].rolling(window=50).std()"
   ],
   "id": "f7c726f26948a3e4",
   "outputs": [],
   "execution_count": 17
  },
  {
   "metadata": {},
   "cell_type": "markdown",
   "source": "Adding ATR (Average True Range) — captures volatility from high/low ranges",
   "id": "fff92b8a35744add"
  },
  {
   "metadata": {
    "ExecuteTime": {
     "end_time": "2025-10-05T13:09:28.780516Z",
     "start_time": "2025-10-05T13:09:28.669021Z"
    }
   },
   "cell_type": "code",
   "source": [
    "high_low = data['High'] - data['Low']\n",
    "high_close = (data['High'] - data['Close'].shift()).abs()\n",
    "low_close = (data['Low'] - data['Close'].shift()).abs()\n",
    "\n",
    "data['TR'] = high_low.combine(high_close, max).combine(low_close, max)\n",
    "data['ATR_14'] = data['TR'].rolling(window=14).mean()"
   ],
   "id": "b8d6fa15e79c9e98",
   "outputs": [],
   "execution_count": 18
  },
  {
   "metadata": {},
   "cell_type": "markdown",
   "source": "Adding moving averages",
   "id": "66a197511ccb2499"
  },
  {
   "metadata": {
    "ExecuteTime": {
     "end_time": "2025-10-05T13:09:28.823345Z",
     "start_time": "2025-10-05T13:09:28.804787Z"
    }
   },
   "cell_type": "code",
   "source": [
    "windows = [5, 20, 50, 200]\n",
    "\n",
    "for w in windows:\n",
    "    data[f'SMA_{w}'] = data['Close'].rolling(window=w).mean()\n",
    "    data[f'EMA_{w}'] = data['Close'].ewm(span=w, adjust=False).mean()"
   ],
   "id": "e32f1e1043e970da",
   "outputs": [],
   "execution_count": 19
  },
  {
   "metadata": {},
   "cell_type": "markdown",
   "source": "Momentum indicators",
   "id": "37e76de9c8d01a39"
  },
  {
   "metadata": {
    "ExecuteTime": {
     "end_time": "2025-10-05T13:09:28.897922Z",
     "start_time": "2025-10-05T13:09:28.858748Z"
    }
   },
   "cell_type": "code",
   "source": [
    "# RSI (Relative Strength Index)\n",
    "delta = data['Close'].diff()\n",
    "gain = delta.clip(lower=0)\n",
    "loss = -delta.clip(upper=0)\n",
    "\n",
    "avg_gain = gain.rolling(window=14).mean()\n",
    "avg_loss = loss.rolling(window=14).mean()\n",
    "\n",
    "rs = avg_gain / avg_loss\n",
    "data['RSI_14'] = 100 - (100 / (1 + rs))\n",
    "\n",
    "# MACD (Moving Average Convergence Divergence)\n",
    "ema_12 = data['Close'].ewm(span=12, adjust=False).mean()\n",
    "ema_26 = data['Close'].ewm(span=26, adjust=False).mean()\n",
    "\n",
    "data['MACD'] = ema_12 - ema_26\n",
    "data['MACD_signal'] = data['MACD'].ewm(span=9, adjust=False).mean()\n",
    "\n",
    "# Stochastic Oscillator\n",
    "low_14 = data['Low'].rolling(14).min()\n",
    "high_14 = data['High'].rolling(14).max()\n",
    "\n",
    "data['Stochastic'] = 100 * (data['Close'] - low_14) / (high_14 - low_14)\n",
    "\n",
    "# ADX (Average Directional Index)\n",
    "high = data['High']\n",
    "low = data['Low']\n",
    "close = data['Close']\n",
    "\n",
    "plus_dm = high.diff()\n",
    "minus_dm = low.diff().abs()\n",
    "plus_dm[plus_dm < 0] = 0\n",
    "minus_dm[minus_dm < 0] = 0\n",
    "\n",
    "tr = pd.concat([high - low, (high - close.shift()).abs(), (low - close.shift()).abs()], axis=1).max(axis=1)\n",
    "atr = tr.rolling(14).mean()\n",
    "\n",
    "plus_di = 100 * (plus_dm.rolling(14).sum() / atr)\n",
    "minus_di = 100 * (minus_dm.rolling(14).sum() / atr)\n",
    "\n",
    "dx = 100 * (abs(plus_di - minus_di) / (plus_di + minus_di))\n",
    "data['ADX_14'] = dx.rolling(14).mean()\n",
    "\n",
    "# On-Balance Volume (OBV)\n",
    "data['OBV'] = (np.sign(data['Close'].diff()) * data['Volume']).fillna(0).cumsum()\n",
    "\n",
    "# Money Flow Index (MFI) - fully vectorized\n",
    "typical_price = (data['High'] + data['Low'] + data['Close']) / 3\n",
    "money_flow = typical_price * data['Volume']\n",
    "tp_diff = typical_price.diff()\n",
    "\n",
    "positive_mf = money_flow.where(tp_diff > 0, 0).rolling(14).sum()\n",
    "negative_mf = money_flow.where(tp_diff < 0, 0).rolling(14).sum()\n",
    "data['MFI_14'] = 100 * (positive_mf / (positive_mf + negative_mf))\n",
    "\n",
    "# Basic Candlestick Patterns\n",
    "data['Doji'] = abs(data['Close'] - data['Open']) <= 0.1 * (data['High'] - data['Low'])\n",
    "data['Hammer'] = ((data['High'] - data['Low']) > 3 * (data['Open'] - data['Close'])) & \\\n",
    "                 ((data['Close'] - data['Low']) / (0.001 + data['High'] - data['Low']) > 0.6)\n",
    "data['Engulfing'] = ((data['Close'] > data['Open'].shift()) &\n",
    "                     (data['Open'] < data['Close'].shift()) &\n",
    "                     (data['Close'] - data['Open'] > data['Open'].shift() - data['Close'].shift()))"
   ],
   "id": "1595e24afb50f076",
   "outputs": [],
   "execution_count": 20
  },
  {
   "metadata": {
    "ExecuteTime": {
     "end_time": "2025-10-05T13:09:28.949065Z",
     "start_time": "2025-10-05T13:09:28.919434Z"
    }
   },
   "cell_type": "code",
   "source": [
    "# --- 1. Dividends ---\n",
    "dividends = dividends.reindex(data.index, method='ffill').fillna(0)\n",
    "data['Dividend'] = dividends\n",
    "\n",
    "# # --- 2. Splits ---\n",
    "# splits = splits.reindex(data.index, method='ffill').fillna(0)\n",
    "# data['Split'] = splits\n",
    "\n",
    "# # --- 3. Analyst Ratings Changes ---\n",
    "# # Upgrade/downgrade info\n",
    "# recs = stock.recommendations\n",
    "# if recs is not None:\n",
    "#     recs.index = pd.to_datetime(recs.index)\n",
    "#     # Flag days with upgrades/downgrades\n",
    "#     recs['Upgrade'] = recs['To Grade'].apply(lambda x: 1 if x in ['Buy', 'Outperform'] else 0)\n",
    "#     recs['Downgrade'] = recs['To Grade'].apply(lambda x: 1 if x in ['Underperform', 'Sell'] else 0)\n",
    "#     upgrades = recs['Upgrade'].reindex(data.index, method='ffill').fillna(0)\n",
    "#     downgrades = recs['Downgrade'].reindex(data.index, method='ffill').fillna(0)\n",
    "#     data['Upgrade'] = upgrades\n",
    "#     data['Downgrade'] = downgrades\n",
    "# else:\n",
    "#     data['Upgrade'] = 0\n",
    "#     data['Downgrade'] = 0\n",
    "\n",
    "# # --- 4. Earnings Announcements ---\n",
    "# earnings_dates = stock.earnings_dates\n",
    "# if earnings_dates is not None:\n",
    "#     earnings_dates.index = pd.to_datetime(earnings_dates.index)\n",
    "#     # Create a flag for earnings day\n",
    "#     data['Earnings'] = 0\n",
    "#     for date in earnings_dates.index:\n",
    "#         if date in data.index:\n",
    "#             data.loc[date, 'Earnings'] = 1\n",
    "# else:\n",
    "#     data['Earnings'] = 0\n",
    "#\n",
    "# # --- 5. News Headlines (optional sentiment) ---\n",
    "# news = stock.news\n",
    "# # Convert news to daily count\n",
    "# news_dates = [pd.to_datetime(item['providerPublishTime'], unit='s').date() for item in news]\n",
    "# news_series = pd.Series(1, index=pd.to_datetime(news_dates))\n",
    "# news_series = news_series.groupby(news_series.index).sum()\n",
    "# data['NewsCount'] = news_series.reindex(data.index, method='ffill').fillna(0)\n",
    "#\n",
    "# # --- Optional: EPS surprises, buybacks from Financial Modeling Prep (requires API key) ---\n",
    "# # You can fetch via FMP and merge similarly to earnings/dividends\n",
    "\n",
    "data.tail()\n"
   ],
   "id": "c7ea59ff6c02e501",
   "outputs": [
    {
     "data": {
      "text/plain": [
       "                 Close        High         Low        Open      Volume  \\\n",
       "Price                                                                    \n",
       "2025-09-29  254.429993  255.000000  253.009995  254.559998  40127700.0   \n",
       "2025-09-30  254.630005  255.919998  253.110001  254.860001  37704300.0   \n",
       "2025-10-01  255.449997  258.790009  254.929993  255.039993  48713900.0   \n",
       "2025-10-02  257.130005  258.179993  254.149994  256.579987  42630200.0   \n",
       "2025-10-03  258.019989  259.239990  253.949997  254.669998  49107000.0   \n",
       "\n",
       "              Return  Volatility_20  Volatility_50        TR    ATR_14  ...  \\\n",
       "Price                                                                   ...   \n",
       "2025-09-29 -0.004032       9.687960      14.471440  2.450012  5.241432  ...   \n",
       "2025-09-30  0.000786       9.643641      14.694921  2.809998  4.842146  ...   \n",
       "2025-10-01  0.003220       9.954723      14.939439  4.160004  4.867860  ...   \n",
       "2025-10-02  0.006577      10.319350      15.183616  4.029999  4.763575  ...   \n",
       "2025-10-03  0.003461      10.646582      15.394036  5.289993  4.847146  ...   \n",
       "\n",
       "                MACD  MACD_signal  Stochastic     ADX_14           OBV  \\\n",
       "Price                                                                    \n",
       "2025-09-29  7.548993     6.324068   89.984163  27.225712  1.636864e+11   \n",
       "2025-09-30  7.496484     6.558551   90.403877  24.874888  1.637241e+11   \n",
       "2025-10-01  7.435327     6.733906   88.780614  22.411863  1.637728e+11   \n",
       "2025-10-02  7.436696     6.874464   93.013455  20.445273  1.638154e+11   \n",
       "2025-10-03  7.424016     6.984375   94.677129  18.323960  1.638645e+11   \n",
       "\n",
       "               MFI_14   Doji  Hammer  Engulfing  Dividend  \n",
       "Price                                                      \n",
       "2025-09-29  76.965186   True    True       True      0.26  \n",
       "2025-09-30  85.008244   True   False      False      0.26  \n",
       "2025-10-01  85.078627  False   False      False      0.26  \n",
       "2025-10-02  84.932340  False    True      False      0.26  \n",
       "2025-10-03  85.112000  False    True       True      0.26  \n",
       "\n",
       "[5 rows x 29 columns]"
      ],
      "text/html": [
       "<div>\n",
       "<style scoped>\n",
       "    .dataframe tbody tr th:only-of-type {\n",
       "        vertical-align: middle;\n",
       "    }\n",
       "\n",
       "    .dataframe tbody tr th {\n",
       "        vertical-align: top;\n",
       "    }\n",
       "\n",
       "    .dataframe thead th {\n",
       "        text-align: right;\n",
       "    }\n",
       "</style>\n",
       "<table border=\"1\" class=\"dataframe\">\n",
       "  <thead>\n",
       "    <tr style=\"text-align: right;\">\n",
       "      <th></th>\n",
       "      <th>Close</th>\n",
       "      <th>High</th>\n",
       "      <th>Low</th>\n",
       "      <th>Open</th>\n",
       "      <th>Volume</th>\n",
       "      <th>Return</th>\n",
       "      <th>Volatility_20</th>\n",
       "      <th>Volatility_50</th>\n",
       "      <th>TR</th>\n",
       "      <th>ATR_14</th>\n",
       "      <th>...</th>\n",
       "      <th>MACD</th>\n",
       "      <th>MACD_signal</th>\n",
       "      <th>Stochastic</th>\n",
       "      <th>ADX_14</th>\n",
       "      <th>OBV</th>\n",
       "      <th>MFI_14</th>\n",
       "      <th>Doji</th>\n",
       "      <th>Hammer</th>\n",
       "      <th>Engulfing</th>\n",
       "      <th>Dividend</th>\n",
       "    </tr>\n",
       "    <tr>\n",
       "      <th>Price</th>\n",
       "      <th></th>\n",
       "      <th></th>\n",
       "      <th></th>\n",
       "      <th></th>\n",
       "      <th></th>\n",
       "      <th></th>\n",
       "      <th></th>\n",
       "      <th></th>\n",
       "      <th></th>\n",
       "      <th></th>\n",
       "      <th></th>\n",
       "      <th></th>\n",
       "      <th></th>\n",
       "      <th></th>\n",
       "      <th></th>\n",
       "      <th></th>\n",
       "      <th></th>\n",
       "      <th></th>\n",
       "      <th></th>\n",
       "      <th></th>\n",
       "      <th></th>\n",
       "    </tr>\n",
       "  </thead>\n",
       "  <tbody>\n",
       "    <tr>\n",
       "      <th>2025-09-29</th>\n",
       "      <td>254.429993</td>\n",
       "      <td>255.000000</td>\n",
       "      <td>253.009995</td>\n",
       "      <td>254.559998</td>\n",
       "      <td>40127700.0</td>\n",
       "      <td>-0.004032</td>\n",
       "      <td>9.687960</td>\n",
       "      <td>14.471440</td>\n",
       "      <td>2.450012</td>\n",
       "      <td>5.241432</td>\n",
       "      <td>...</td>\n",
       "      <td>7.548993</td>\n",
       "      <td>6.324068</td>\n",
       "      <td>89.984163</td>\n",
       "      <td>27.225712</td>\n",
       "      <td>1.636864e+11</td>\n",
       "      <td>76.965186</td>\n",
       "      <td>True</td>\n",
       "      <td>True</td>\n",
       "      <td>True</td>\n",
       "      <td>0.26</td>\n",
       "    </tr>\n",
       "    <tr>\n",
       "      <th>2025-09-30</th>\n",
       "      <td>254.630005</td>\n",
       "      <td>255.919998</td>\n",
       "      <td>253.110001</td>\n",
       "      <td>254.860001</td>\n",
       "      <td>37704300.0</td>\n",
       "      <td>0.000786</td>\n",
       "      <td>9.643641</td>\n",
       "      <td>14.694921</td>\n",
       "      <td>2.809998</td>\n",
       "      <td>4.842146</td>\n",
       "      <td>...</td>\n",
       "      <td>7.496484</td>\n",
       "      <td>6.558551</td>\n",
       "      <td>90.403877</td>\n",
       "      <td>24.874888</td>\n",
       "      <td>1.637241e+11</td>\n",
       "      <td>85.008244</td>\n",
       "      <td>True</td>\n",
       "      <td>False</td>\n",
       "      <td>False</td>\n",
       "      <td>0.26</td>\n",
       "    </tr>\n",
       "    <tr>\n",
       "      <th>2025-10-01</th>\n",
       "      <td>255.449997</td>\n",
       "      <td>258.790009</td>\n",
       "      <td>254.929993</td>\n",
       "      <td>255.039993</td>\n",
       "      <td>48713900.0</td>\n",
       "      <td>0.003220</td>\n",
       "      <td>9.954723</td>\n",
       "      <td>14.939439</td>\n",
       "      <td>4.160004</td>\n",
       "      <td>4.867860</td>\n",
       "      <td>...</td>\n",
       "      <td>7.435327</td>\n",
       "      <td>6.733906</td>\n",
       "      <td>88.780614</td>\n",
       "      <td>22.411863</td>\n",
       "      <td>1.637728e+11</td>\n",
       "      <td>85.078627</td>\n",
       "      <td>False</td>\n",
       "      <td>False</td>\n",
       "      <td>False</td>\n",
       "      <td>0.26</td>\n",
       "    </tr>\n",
       "    <tr>\n",
       "      <th>2025-10-02</th>\n",
       "      <td>257.130005</td>\n",
       "      <td>258.179993</td>\n",
       "      <td>254.149994</td>\n",
       "      <td>256.579987</td>\n",
       "      <td>42630200.0</td>\n",
       "      <td>0.006577</td>\n",
       "      <td>10.319350</td>\n",
       "      <td>15.183616</td>\n",
       "      <td>4.029999</td>\n",
       "      <td>4.763575</td>\n",
       "      <td>...</td>\n",
       "      <td>7.436696</td>\n",
       "      <td>6.874464</td>\n",
       "      <td>93.013455</td>\n",
       "      <td>20.445273</td>\n",
       "      <td>1.638154e+11</td>\n",
       "      <td>84.932340</td>\n",
       "      <td>False</td>\n",
       "      <td>True</td>\n",
       "      <td>False</td>\n",
       "      <td>0.26</td>\n",
       "    </tr>\n",
       "    <tr>\n",
       "      <th>2025-10-03</th>\n",
       "      <td>258.019989</td>\n",
       "      <td>259.239990</td>\n",
       "      <td>253.949997</td>\n",
       "      <td>254.669998</td>\n",
       "      <td>49107000.0</td>\n",
       "      <td>0.003461</td>\n",
       "      <td>10.646582</td>\n",
       "      <td>15.394036</td>\n",
       "      <td>5.289993</td>\n",
       "      <td>4.847146</td>\n",
       "      <td>...</td>\n",
       "      <td>7.424016</td>\n",
       "      <td>6.984375</td>\n",
       "      <td>94.677129</td>\n",
       "      <td>18.323960</td>\n",
       "      <td>1.638645e+11</td>\n",
       "      <td>85.112000</td>\n",
       "      <td>False</td>\n",
       "      <td>True</td>\n",
       "      <td>True</td>\n",
       "      <td>0.26</td>\n",
       "    </tr>\n",
       "  </tbody>\n",
       "</table>\n",
       "<p>5 rows × 29 columns</p>\n",
       "</div>"
      ]
     },
     "execution_count": 21,
     "metadata": {},
     "output_type": "execute_result"
    }
   ],
   "execution_count": 21
  }
 ],
 "metadata": {
  "colab": {
   "provenance": []
  },
  "kernelspec": {
   "display_name": "Python 3 (ipykernel)",
   "language": "python",
   "name": "python3"
  },
  "language_info": {
   "codemirror_mode": {
    "name": "ipython",
    "version": 3
   },
   "file_extension": ".py",
   "mimetype": "text/x-python",
   "name": "python",
   "nbconvert_exporter": "python",
   "pygments_lexer": "ipython3",
   "version": "3.12.5"
  }
 },
 "nbformat": 4,
 "nbformat_minor": 5
}
