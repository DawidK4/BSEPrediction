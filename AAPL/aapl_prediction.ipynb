{
 "cells": [
  {
   "cell_type": "code",
   "id": "85e1da11",
   "metadata": {
    "id": "85e1da11",
    "ExecuteTime": {
     "end_time": "2025-10-04T16:41:53.759561Z",
     "start_time": "2025-10-04T16:41:50.690921Z"
    }
   },
   "source": [
    "import numpy as np\n",
    "import pandas as pd\n",
    "import matplotlib.pyplot as plt\n",
    "import seaborn as sns\n",
    "\n",
    "import os\n",
    "import sys\n",
    "\n",
    "import tensorflow as tf\n",
    "\n",
    "import yfinance as yf"
   ],
   "outputs": [
    {
     "name": "stderr",
     "output_type": "stream",
     "text": [
      "2025-10-04 18:41:51.018761: I external/local_xla/xla/tsl/cuda/cudart_stub.cc:31] Could not find cuda drivers on your machine, GPU will not be used.\n",
      "2025-10-04 18:41:51.021235: I tensorflow/core/util/port.cc:153] oneDNN custom operations are on. You may see slightly different numerical results due to floating-point round-off errors from different computation orders. To turn them off, set the environment variable `TF_ENABLE_ONEDNN_OPTS=0`.\n",
      "2025-10-04 18:41:51.087348: I tensorflow/core/platform/cpu_feature_guard.cc:210] This TensorFlow binary is optimized to use available CPU instructions in performance-critical operations.\n",
      "To enable the following instructions: AVX2 AVX512F AVX512_VNNI FMA, in other operations, rebuild TensorFlow with the appropriate compiler flags.\n",
      "2025-10-04 18:41:53.102924: I tensorflow/core/util/port.cc:153] oneDNN custom operations are on. You may see slightly different numerical results due to floating-point round-off errors from different computation orders. To turn them off, set the environment variable `TF_ENABLE_ONEDNN_OPTS=0`.\n",
      "2025-10-04 18:41:53.103386: I external/local_xla/xla/tsl/cuda/cudart_stub.cc:31] Could not find cuda drivers on your machine, GPU will not be used.\n"
     ]
    }
   ],
   "execution_count": 1
  },
  {
   "metadata": {},
   "cell_type": "markdown",
   "source": "# Loading the data",
   "id": "e313f7dd85387be4"
  },
  {
   "metadata": {},
   "cell_type": "markdown",
   "source": "Financials",
   "id": "53f3c7da5e164c90"
  },
  {
   "metadata": {
    "ExecuteTime": {
     "end_time": "2025-10-04T16:41:53.835881Z",
     "start_time": "2025-10-04T16:41:53.776796Z"
    }
   },
   "cell_type": "code",
   "source": [
    "balance_sheet = pd.read_csv('data/financials/AAPL_balance_sheet.csv', header=None)\n",
    "capital_gains = pd.read_csv('data/financials/AAPL_capital_gains.csv', header=None)\n",
    "cash_flow = pd.read_csv('data/financials/AAPL_cash_flow.csv', header=None)\n",
    "income_statement = pd.read_csv('data/financials/AAPL_income_statement.csv', header=None)\n",
    "ttm_cash_flow = pd.read_csv('data/financials/AAPL_ttm_cash_flow.csv', header=None)"
   ],
   "id": "2570581d0e5c9614",
   "outputs": [],
   "execution_count": 2
  },
  {
   "metadata": {},
   "cell_type": "markdown",
   "source": "Holders",
   "id": "2770b00712e4a493"
  },
  {
   "metadata": {
    "ExecuteTime": {
     "end_time": "2025-10-04T16:41:53.909336Z",
     "start_time": "2025-10-04T16:41:53.852905Z"
    }
   },
   "cell_type": "code",
   "source": [
    "insider_roster_holders = pd.read_csv('data/holders/AAPL_insider_roster_holders.csv')\n",
    "institutional_holders = pd.read_csv('data/holders/AAPL_institutional_holders.csv')\n",
    "mutualfund_holders = pd.read_csv('data/holders/AAPL_mutualfund_holders.csv')\n",
    "major_holders = pd.read_csv('data/holders/AAPL_major_holders.csv')"
   ],
   "id": "5ccf8740ff004275",
   "outputs": [],
   "execution_count": 3
  },
  {
   "metadata": {},
   "cell_type": "markdown",
   "source": "Insider",
   "id": "f96f955fbba25827"
  },
  {
   "metadata": {
    "ExecuteTime": {
     "end_time": "2025-10-04T16:41:53.957914Z",
     "start_time": "2025-10-04T16:41:53.949903Z"
    }
   },
   "cell_type": "code",
   "source": [
    "insider_purchases = pd.read_csv('data/insider/AAPL_insider_purchases.csv')\n",
    "insider_transactions = pd.read_csv('data/insider/AAPL_insider_transactions.csv')"
   ],
   "id": "1d37aeda7df5e54d",
   "outputs": [],
   "execution_count": 4
  },
  {
   "metadata": {},
   "cell_type": "markdown",
   "source": "Price",
   "id": "3e95245f785451a5"
  },
  {
   "metadata": {
    "ExecuteTime": {
     "end_time": "2025-10-04T16:41:54.094745Z",
     "start_time": "2025-10-04T16:41:54.019354Z"
    }
   },
   "cell_type": "code",
   "source": [
    "actions = pd.read_csv('data/price/AAPL_actions.csv')\n",
    "dividends = pd.read_csv('data/price/AAPL_dividends.csv', index_col=0, parse_dates=True)\n",
    "options = pd.read_csv('data/price/AAPL_options.csv')\n",
    "ohlc = pd.read_csv('data/price/AAPL_ohlc_and_volume.csv', index_col=0, parse_dates=True)"
   ],
   "id": "870378c587d6f5c",
   "outputs": [
    {
     "name": "stderr",
     "output_type": "stream",
     "text": [
      "/tmp/ipykernel_42655/2735305265.py:4: UserWarning: Could not infer format, so each element will be parsed individually, falling back to `dateutil`. To ensure parsing is consistent and as-expected, please specify a format.\n",
      "  ohlc = pd.read_csv('data/price/AAPL_ohlc_and_volume.csv', index_col=0, parse_dates=True)\n"
     ]
    }
   ],
   "execution_count": 5
  },
  {
   "metadata": {},
   "cell_type": "markdown",
   "source": "# Data exploration",
   "id": "77118a9921cf3be4"
  },
  {
   "metadata": {},
   "cell_type": "markdown",
   "source": "Price",
   "id": "aaa1357625167d0f"
  },
  {
   "metadata": {
    "ExecuteTime": {
     "end_time": "2025-10-04T16:41:54.145327Z",
     "start_time": "2025-10-04T16:41:54.122275Z"
    }
   },
   "cell_type": "code",
   "source": "ohlc.tail()",
   "id": "8f3c3c86df37a53d",
   "outputs": [
    {
     "data": {
      "text/plain": [
       "                         Close                High                 Low  \\\n",
       "Price                                                                    \n",
       "2025-09-29  254.42999267578125               255.0  253.00999450683594   \n",
       "2025-09-30   254.6300048828125   255.9199981689453  253.11000061035156   \n",
       "2025-10-01   255.4499969482422   258.7900085449219  254.92999267578125   \n",
       "2025-10-02   257.1300048828125  258.17999267578125  254.14999389648438   \n",
       "2025-10-03   258.2699890136719    259.239990234375   253.9600067138672   \n",
       "\n",
       "                          Open    Volume  \n",
       "Price                                     \n",
       "2025-09-29  254.55999755859375  40127700  \n",
       "2025-09-30  254.86000061035156  37704300  \n",
       "2025-10-01   255.0399932861328  48713900  \n",
       "2025-10-02   256.5799865722656  42597200  \n",
       "2025-10-03   254.6649932861328  28958803  "
      ],
      "text/html": [
       "<div>\n",
       "<style scoped>\n",
       "    .dataframe tbody tr th:only-of-type {\n",
       "        vertical-align: middle;\n",
       "    }\n",
       "\n",
       "    .dataframe tbody tr th {\n",
       "        vertical-align: top;\n",
       "    }\n",
       "\n",
       "    .dataframe thead th {\n",
       "        text-align: right;\n",
       "    }\n",
       "</style>\n",
       "<table border=\"1\" class=\"dataframe\">\n",
       "  <thead>\n",
       "    <tr style=\"text-align: right;\">\n",
       "      <th></th>\n",
       "      <th>Close</th>\n",
       "      <th>High</th>\n",
       "      <th>Low</th>\n",
       "      <th>Open</th>\n",
       "      <th>Volume</th>\n",
       "    </tr>\n",
       "    <tr>\n",
       "      <th>Price</th>\n",
       "      <th></th>\n",
       "      <th></th>\n",
       "      <th></th>\n",
       "      <th></th>\n",
       "      <th></th>\n",
       "    </tr>\n",
       "  </thead>\n",
       "  <tbody>\n",
       "    <tr>\n",
       "      <th>2025-09-29</th>\n",
       "      <td>254.42999267578125</td>\n",
       "      <td>255.0</td>\n",
       "      <td>253.00999450683594</td>\n",
       "      <td>254.55999755859375</td>\n",
       "      <td>40127700</td>\n",
       "    </tr>\n",
       "    <tr>\n",
       "      <th>2025-09-30</th>\n",
       "      <td>254.6300048828125</td>\n",
       "      <td>255.9199981689453</td>\n",
       "      <td>253.11000061035156</td>\n",
       "      <td>254.86000061035156</td>\n",
       "      <td>37704300</td>\n",
       "    </tr>\n",
       "    <tr>\n",
       "      <th>2025-10-01</th>\n",
       "      <td>255.4499969482422</td>\n",
       "      <td>258.7900085449219</td>\n",
       "      <td>254.92999267578125</td>\n",
       "      <td>255.0399932861328</td>\n",
       "      <td>48713900</td>\n",
       "    </tr>\n",
       "    <tr>\n",
       "      <th>2025-10-02</th>\n",
       "      <td>257.1300048828125</td>\n",
       "      <td>258.17999267578125</td>\n",
       "      <td>254.14999389648438</td>\n",
       "      <td>256.5799865722656</td>\n",
       "      <td>42597200</td>\n",
       "    </tr>\n",
       "    <tr>\n",
       "      <th>2025-10-03</th>\n",
       "      <td>258.2699890136719</td>\n",
       "      <td>259.239990234375</td>\n",
       "      <td>253.9600067138672</td>\n",
       "      <td>254.6649932861328</td>\n",
       "      <td>28958803</td>\n",
       "    </tr>\n",
       "  </tbody>\n",
       "</table>\n",
       "</div>"
      ]
     },
     "execution_count": 6,
     "metadata": {},
     "output_type": "execute_result"
    }
   ],
   "execution_count": 6
  },
  {
   "metadata": {
    "ExecuteTime": {
     "end_time": "2025-10-04T16:41:54.246094Z",
     "start_time": "2025-10-04T16:41:54.227805Z"
    }
   },
   "cell_type": "code",
   "source": "ohlc.info()",
   "id": "68dca1b9294f0c27",
   "outputs": [
    {
     "name": "stdout",
     "output_type": "stream",
     "text": [
      "<class 'pandas.core.frame.DataFrame'>\n",
      "Index: 11296 entries, Ticker to 2025-10-03\n",
      "Data columns (total 5 columns):\n",
      " #   Column  Non-Null Count  Dtype \n",
      "---  ------  --------------  ----- \n",
      " 0   Close   11295 non-null  object\n",
      " 1   High    11295 non-null  object\n",
      " 2   Low     11295 non-null  object\n",
      " 3   Open    11295 non-null  object\n",
      " 4   Volume  11295 non-null  object\n",
      "dtypes: object(5)\n",
      "memory usage: 529.5+ KB\n"
     ]
    }
   ],
   "execution_count": 7
  },
  {
   "metadata": {
    "ExecuteTime": {
     "end_time": "2025-10-04T16:41:54.335822Z",
     "start_time": "2025-10-04T16:41:54.329120Z"
    }
   },
   "cell_type": "code",
   "source": "ohlc.dtypes",
   "id": "bec98539ad82ecf5",
   "outputs": [
    {
     "data": {
      "text/plain": [
       "Close     object\n",
       "High      object\n",
       "Low       object\n",
       "Open      object\n",
       "Volume    object\n",
       "dtype: object"
      ]
     },
     "execution_count": 8,
     "metadata": {},
     "output_type": "execute_result"
    }
   ],
   "execution_count": 8
  },
  {
   "metadata": {
    "ExecuteTime": {
     "end_time": "2025-10-04T16:41:54.794832Z",
     "start_time": "2025-10-04T16:41:54.767538Z"
    }
   },
   "cell_type": "code",
   "source": [
    "numeric_cols = ['Open', 'High', 'Low', 'Close']\n",
    "\n",
    "for col in numeric_cols:\n",
    "    ohlc[col] = pd.to_numeric(ohlc[col], errors='coerce')\n"
   ],
   "id": "d26e2cc372b8ebf1",
   "outputs": [],
   "execution_count": 9
  },
  {
   "metadata": {
    "ExecuteTime": {
     "end_time": "2025-10-04T16:41:55.008308Z",
     "start_time": "2025-10-04T16:41:54.952029Z"
    }
   },
   "cell_type": "code",
   "source": "ohlc.describe(include='all')",
   "id": "f3ff13592ea85358",
   "outputs": [
    {
     "data": {
      "text/plain": [
       "               Close          High           Low          Open     Volume\n",
       "count   11294.000000  11294.000000  11294.000000  11294.000000      11295\n",
       "unique           NaN           NaN           NaN           NaN      10731\n",
       "top              NaN           NaN           NaN           NaN  246400000\n",
       "freq             NaN           NaN           NaN           NaN          7\n",
       "mean       26.689622     26.958130     26.394176     26.666813        NaN\n",
       "std        55.240133     55.781888     54.632918     55.179855        NaN\n",
       "min         0.037681      0.038109      0.037681      0.038109        NaN\n",
       "25%         0.245137      0.250706      0.240161      0.245127        NaN\n",
       "50%         0.466639      0.474725      0.459261      0.466445        NaN\n",
       "75%        20.927644     21.097475     20.743931     20.965366        NaN\n",
       "max       258.269989    259.239990    256.718662    257.276679        NaN"
      ],
      "text/html": [
       "<div>\n",
       "<style scoped>\n",
       "    .dataframe tbody tr th:only-of-type {\n",
       "        vertical-align: middle;\n",
       "    }\n",
       "\n",
       "    .dataframe tbody tr th {\n",
       "        vertical-align: top;\n",
       "    }\n",
       "\n",
       "    .dataframe thead th {\n",
       "        text-align: right;\n",
       "    }\n",
       "</style>\n",
       "<table border=\"1\" class=\"dataframe\">\n",
       "  <thead>\n",
       "    <tr style=\"text-align: right;\">\n",
       "      <th></th>\n",
       "      <th>Close</th>\n",
       "      <th>High</th>\n",
       "      <th>Low</th>\n",
       "      <th>Open</th>\n",
       "      <th>Volume</th>\n",
       "    </tr>\n",
       "  </thead>\n",
       "  <tbody>\n",
       "    <tr>\n",
       "      <th>count</th>\n",
       "      <td>11294.000000</td>\n",
       "      <td>11294.000000</td>\n",
       "      <td>11294.000000</td>\n",
       "      <td>11294.000000</td>\n",
       "      <td>11295</td>\n",
       "    </tr>\n",
       "    <tr>\n",
       "      <th>unique</th>\n",
       "      <td>NaN</td>\n",
       "      <td>NaN</td>\n",
       "      <td>NaN</td>\n",
       "      <td>NaN</td>\n",
       "      <td>10731</td>\n",
       "    </tr>\n",
       "    <tr>\n",
       "      <th>top</th>\n",
       "      <td>NaN</td>\n",
       "      <td>NaN</td>\n",
       "      <td>NaN</td>\n",
       "      <td>NaN</td>\n",
       "      <td>246400000</td>\n",
       "    </tr>\n",
       "    <tr>\n",
       "      <th>freq</th>\n",
       "      <td>NaN</td>\n",
       "      <td>NaN</td>\n",
       "      <td>NaN</td>\n",
       "      <td>NaN</td>\n",
       "      <td>7</td>\n",
       "    </tr>\n",
       "    <tr>\n",
       "      <th>mean</th>\n",
       "      <td>26.689622</td>\n",
       "      <td>26.958130</td>\n",
       "      <td>26.394176</td>\n",
       "      <td>26.666813</td>\n",
       "      <td>NaN</td>\n",
       "    </tr>\n",
       "    <tr>\n",
       "      <th>std</th>\n",
       "      <td>55.240133</td>\n",
       "      <td>55.781888</td>\n",
       "      <td>54.632918</td>\n",
       "      <td>55.179855</td>\n",
       "      <td>NaN</td>\n",
       "    </tr>\n",
       "    <tr>\n",
       "      <th>min</th>\n",
       "      <td>0.037681</td>\n",
       "      <td>0.038109</td>\n",
       "      <td>0.037681</td>\n",
       "      <td>0.038109</td>\n",
       "      <td>NaN</td>\n",
       "    </tr>\n",
       "    <tr>\n",
       "      <th>25%</th>\n",
       "      <td>0.245137</td>\n",
       "      <td>0.250706</td>\n",
       "      <td>0.240161</td>\n",
       "      <td>0.245127</td>\n",
       "      <td>NaN</td>\n",
       "    </tr>\n",
       "    <tr>\n",
       "      <th>50%</th>\n",
       "      <td>0.466639</td>\n",
       "      <td>0.474725</td>\n",
       "      <td>0.459261</td>\n",
       "      <td>0.466445</td>\n",
       "      <td>NaN</td>\n",
       "    </tr>\n",
       "    <tr>\n",
       "      <th>75%</th>\n",
       "      <td>20.927644</td>\n",
       "      <td>21.097475</td>\n",
       "      <td>20.743931</td>\n",
       "      <td>20.965366</td>\n",
       "      <td>NaN</td>\n",
       "    </tr>\n",
       "    <tr>\n",
       "      <th>max</th>\n",
       "      <td>258.269989</td>\n",
       "      <td>259.239990</td>\n",
       "      <td>256.718662</td>\n",
       "      <td>257.276679</td>\n",
       "      <td>NaN</td>\n",
       "    </tr>\n",
       "  </tbody>\n",
       "</table>\n",
       "</div>"
      ]
     },
     "execution_count": 10,
     "metadata": {},
     "output_type": "execute_result"
    }
   ],
   "execution_count": 10
  },
  {
   "metadata": {
    "ExecuteTime": {
     "end_time": "2025-10-04T16:41:55.196414Z",
     "start_time": "2025-10-04T16:41:55.190234Z"
    }
   },
   "cell_type": "code",
   "source": "ohlc.memory_usage()",
   "id": "9ad57df1951a4e9e",
   "outputs": [
    {
     "data": {
      "text/plain": [
       "Index     90368\n",
       "Close     90368\n",
       "High      90368\n",
       "Low       90368\n",
       "Open      90368\n",
       "Volume    90368\n",
       "dtype: int64"
      ]
     },
     "execution_count": 11,
     "metadata": {},
     "output_type": "execute_result"
    }
   ],
   "execution_count": 11
  },
  {
   "metadata": {
    "ExecuteTime": {
     "end_time": "2025-10-04T16:41:55.563007Z",
     "start_time": "2025-10-04T16:41:55.559747Z"
    }
   },
   "cell_type": "code",
   "source": "print(len(ohlc['Close'].unique()))",
   "id": "93559ceaf7684b93",
   "outputs": [
    {
     "name": "stdout",
     "output_type": "stream",
     "text": [
      "8281\n"
     ]
    }
   ],
   "execution_count": 12
  },
  {
   "metadata": {
    "ExecuteTime": {
     "end_time": "2025-10-04T16:41:55.759090Z",
     "start_time": "2025-10-04T16:41:55.738013Z"
    }
   },
   "cell_type": "code",
   "source": [
    "ohlc['Volume'] = pd.to_numeric(ohlc['Volume'], errors='coerce')\n",
    "ohlc['High'] = pd.to_numeric(ohlc['High'], errors='coerce')\n",
    "ohlc['Low'] = pd.to_numeric(ohlc['Low'], errors='coerce')\n",
    "ohlc['Open'] = pd.to_numeric(ohlc['Open'], errors='coerce')\n",
    "ohlc['Close'] = pd.to_numeric(ohlc['Close'], errors='coerce')\n",
    "\n",
    "\n",
    "all_time_low = ohlc['Low'].min()\n",
    "all_time_low_date = ohlc['Low'].idxmin()\n",
    "print(f'All time low: {all_time_low} on {all_time_low_date}')\n",
    "\n",
    "all_time_high = ohlc['High'].max()\n",
    "all_time_high_date = ohlc['High'].idxmax()\n",
    "print(f'All time high: {all_time_high} on {all_time_high_date}')\n",
    "\n",
    "all_time_low_vol = ohlc['Volume'].min()\n",
    "all_time_low_vol_date = ohlc['Volume'].idxmin()\n",
    "print(f'All time low volume: {all_time_low_vol} on {all_time_low_vol_date}')\n",
    "\n",
    "all_time_high_vol = ohlc['Volume'].max()\n",
    "all_time_high_vol_date = ohlc['Volume'].idxmax()\n",
    "print(f'All time high volume: {all_time_high_vol} on {all_time_high_vol_date}')"
   ],
   "id": "97dabcddce2368cb",
   "outputs": [
    {
     "name": "stdout",
     "output_type": "stream",
     "text": [
      "All time low: 0.0376811176538467 on 1982-07-08\n",
      "All time high: 259.239990234375 on 2025-10-03\n",
      "All time low volume: 0.0 on 1981-08-10\n",
      "All time high volume: 7421640800.0 on 2000-09-29\n"
     ]
    }
   ],
   "execution_count": 13
  },
  {
   "metadata": {},
   "cell_type": "markdown",
   "source": "Balance Sheet",
   "id": "1f1c8f641a448fff"
  },
  {
   "metadata": {
    "ExecuteTime": {
     "end_time": "2025-10-04T16:41:55.852746Z",
     "start_time": "2025-10-04T16:41:55.843935Z"
    }
   },
   "cell_type": "code",
   "source": "balance_sheet.tail()",
   "id": "a42cbbeebeec3fee",
   "outputs": [
    {
     "data": {
      "text/plain": [
       "                                                   0              1  \\\n",
       "64  Cash Cash Equivalents And Short Term Investments  65171000000.0   \n",
       "65                      Other Short Term Investments  35228000000.0   \n",
       "66                         Cash And Cash Equivalents  29943000000.0   \n",
       "67                                  Cash Equivalents   2744000000.0   \n",
       "68                                    Cash Financial  27199000000.0   \n",
       "\n",
       "                2              3              4  \n",
       "64  61555000000.0  48304000000.0  62639000000.0  \n",
       "65  31590000000.0  24658000000.0  27699000000.0  \n",
       "66  29965000000.0  23646000000.0  34940000000.0  \n",
       "67   1606000000.0   5100000000.0  17635000000.0  \n",
       "68  28359000000.0  18546000000.0  17305000000.0  "
      ],
      "text/html": [
       "<div>\n",
       "<style scoped>\n",
       "    .dataframe tbody tr th:only-of-type {\n",
       "        vertical-align: middle;\n",
       "    }\n",
       "\n",
       "    .dataframe tbody tr th {\n",
       "        vertical-align: top;\n",
       "    }\n",
       "\n",
       "    .dataframe thead th {\n",
       "        text-align: right;\n",
       "    }\n",
       "</style>\n",
       "<table border=\"1\" class=\"dataframe\">\n",
       "  <thead>\n",
       "    <tr style=\"text-align: right;\">\n",
       "      <th></th>\n",
       "      <th>0</th>\n",
       "      <th>1</th>\n",
       "      <th>2</th>\n",
       "      <th>3</th>\n",
       "      <th>4</th>\n",
       "    </tr>\n",
       "  </thead>\n",
       "  <tbody>\n",
       "    <tr>\n",
       "      <th>64</th>\n",
       "      <td>Cash Cash Equivalents And Short Term Investments</td>\n",
       "      <td>65171000000.0</td>\n",
       "      <td>61555000000.0</td>\n",
       "      <td>48304000000.0</td>\n",
       "      <td>62639000000.0</td>\n",
       "    </tr>\n",
       "    <tr>\n",
       "      <th>65</th>\n",
       "      <td>Other Short Term Investments</td>\n",
       "      <td>35228000000.0</td>\n",
       "      <td>31590000000.0</td>\n",
       "      <td>24658000000.0</td>\n",
       "      <td>27699000000.0</td>\n",
       "    </tr>\n",
       "    <tr>\n",
       "      <th>66</th>\n",
       "      <td>Cash And Cash Equivalents</td>\n",
       "      <td>29943000000.0</td>\n",
       "      <td>29965000000.0</td>\n",
       "      <td>23646000000.0</td>\n",
       "      <td>34940000000.0</td>\n",
       "    </tr>\n",
       "    <tr>\n",
       "      <th>67</th>\n",
       "      <td>Cash Equivalents</td>\n",
       "      <td>2744000000.0</td>\n",
       "      <td>1606000000.0</td>\n",
       "      <td>5100000000.0</td>\n",
       "      <td>17635000000.0</td>\n",
       "    </tr>\n",
       "    <tr>\n",
       "      <th>68</th>\n",
       "      <td>Cash Financial</td>\n",
       "      <td>27199000000.0</td>\n",
       "      <td>28359000000.0</td>\n",
       "      <td>18546000000.0</td>\n",
       "      <td>17305000000.0</td>\n",
       "    </tr>\n",
       "  </tbody>\n",
       "</table>\n",
       "</div>"
      ]
     },
     "execution_count": 14,
     "metadata": {},
     "output_type": "execute_result"
    }
   ],
   "execution_count": 14
  },
  {
   "metadata": {},
   "cell_type": "markdown",
   "source": "# Data preprocessing",
   "id": "dcd1d7d435229d0f"
  },
  {
   "metadata": {
    "ExecuteTime": {
     "end_time": "2025-10-04T16:41:55.972792Z",
     "start_time": "2025-10-04T16:41:55.968399Z"
    }
   },
   "cell_type": "code",
   "source": "data = ohlc.copy()",
   "id": "200daac9f35fd7f3",
   "outputs": [],
   "execution_count": 15
  },
  {
   "metadata": {},
   "cell_type": "markdown",
   "source": "# Feature engineering",
   "id": "ff9a5fe7536ceba7"
  },
  {
   "metadata": {},
   "cell_type": "markdown",
   "source": "Adding percentage change of the closing price",
   "id": "fa87261ca54ce755"
  },
  {
   "metadata": {
    "ExecuteTime": {
     "end_time": "2025-10-04T16:41:56.130918Z",
     "start_time": "2025-10-04T16:41:56.123770Z"
    }
   },
   "cell_type": "code",
   "source": "data['Return'] = data['Close'].pct_change()",
   "id": "408f7dbd79e92acc",
   "outputs": [],
   "execution_count": 16
  },
  {
   "metadata": {},
   "cell_type": "markdown",
   "source": "Adding volatility indicators",
   "id": "c27cd4f9c88e4710"
  },
  {
   "metadata": {
    "ExecuteTime": {
     "end_time": "2025-10-04T16:41:56.216317Z",
     "start_time": "2025-10-04T16:41:56.195825Z"
    }
   },
   "cell_type": "code",
   "source": [
    "data['Volatility_20'] = data['Close'].rolling(window=20).std()\n",
    "data['Volatility_50'] = data['Close'].rolling(window=50).std()"
   ],
   "id": "f7c726f26948a3e4",
   "outputs": [],
   "execution_count": 17
  },
  {
   "metadata": {},
   "cell_type": "markdown",
   "source": "Adding ATR (Average True Range) — captures volatility from high/low ranges",
   "id": "fff92b8a35744add"
  },
  {
   "metadata": {
    "ExecuteTime": {
     "end_time": "2025-10-04T16:41:56.409595Z",
     "start_time": "2025-10-04T16:41:56.250417Z"
    }
   },
   "cell_type": "code",
   "source": [
    "high_low = data['High'] - data['Low']\n",
    "high_close = (data['High'] - data['Close'].shift()).abs()\n",
    "low_close = (data['Low'] - data['Close'].shift()).abs()\n",
    "\n",
    "data['TR'] = high_low.combine(high_close, max).combine(low_close, max)\n",
    "data['ATR_14'] = data['TR'].rolling(window=14).mean()"
   ],
   "id": "b8d6fa15e79c9e98",
   "outputs": [],
   "execution_count": 18
  },
  {
   "metadata": {},
   "cell_type": "markdown",
   "source": "Adding moving averages",
   "id": "66a197511ccb2499"
  },
  {
   "metadata": {
    "ExecuteTime": {
     "end_time": "2025-10-04T16:41:56.428211Z",
     "start_time": "2025-10-04T16:41:56.418440Z"
    }
   },
   "cell_type": "code",
   "source": [
    "windows = [5, 20, 50, 200]\n",
    "\n",
    "for w in windows:\n",
    "    data[f'SMA_{w}'] = data['Close'].rolling(window=w).mean()\n",
    "    data[f'EMA_{w}'] = data['Close'].ewm(span=w, adjust=False).mean()"
   ],
   "id": "e32f1e1043e970da",
   "outputs": [],
   "execution_count": 19
  },
  {
   "metadata": {},
   "cell_type": "markdown",
   "source": "Momentum indicators",
   "id": "37e76de9c8d01a39"
  },
  {
   "metadata": {
    "ExecuteTime": {
     "end_time": "2025-10-04T16:46:13.530319Z",
     "start_time": "2025-10-04T16:46:13.492925Z"
    }
   },
   "cell_type": "code",
   "source": [
    "# RSI (Relative Strength Index)\n",
    "delta = data['Close'].diff()\n",
    "gain = delta.clip(lower=0)\n",
    "loss = -delta.clip(upper=0)\n",
    "\n",
    "avg_gain = gain.rolling(window=14).mean()\n",
    "avg_loss = loss.rolling(window=14).mean()\n",
    "\n",
    "rs = avg_gain / avg_loss\n",
    "data['RSI_14'] = 100 - (100 / (1 + rs))\n",
    "\n",
    "# MACD (Moving Average Convergence Divergence)\n",
    "ema_12 = data['Close'].ewm(span=12, adjust=False).mean()\n",
    "ema_26 = data['Close'].ewm(span=26, adjust=False).mean()\n",
    "\n",
    "data['MACD'] = ema_12 - ema_26\n",
    "data['MACD_signal'] = data['MACD'].ewm(span=9, adjust=False).mean()\n",
    "\n",
    "# Stochastic Oscillator\n",
    "low_14 = data['Low'].rolling(14).min()\n",
    "high_14 = data['High'].rolling(14).max()\n",
    "\n",
    "data['Stochastic'] = 100 * (data['Close'] - low_14) / (high_14 - low_14)\n",
    "\n",
    "# ADX (Average Directional Index)\n",
    "high = data['High']\n",
    "low = data['Low']\n",
    "close = data['Close']\n",
    "\n",
    "plus_dm = high.diff()\n",
    "minus_dm = low.diff().abs()\n",
    "plus_dm[plus_dm < 0] = 0\n",
    "minus_dm[minus_dm < 0] = 0\n",
    "\n",
    "tr = pd.concat([high - low, (high - close.shift()).abs(), (low - close.shift()).abs()], axis=1).max(axis=1)\n",
    "atr = tr.rolling(14).mean()\n",
    "\n",
    "plus_di = 100 * (plus_dm.rolling(14).sum() / atr)\n",
    "minus_di = 100 * (minus_dm.rolling(14).sum() / atr)\n",
    "\n",
    "dx = 100 * (abs(plus_di - minus_di) / (plus_di + minus_di))\n",
    "data['ADX_14'] = dx.rolling(14).mean()\n",
    "\n",
    "# On-Balance Volume (OBV)\n",
    "data['OBV'] = (np.sign(data['Close'].diff()) * data['Volume']).fillna(0).cumsum()\n",
    "\n",
    "# Money Flow Index (MFI) - fully vectorized\n",
    "typical_price = (data['High'] + data['Low'] + data['Close']) / 3\n",
    "money_flow = typical_price * data['Volume']\n",
    "tp_diff = typical_price.diff()\n",
    "\n",
    "positive_mf = money_flow.where(tp_diff > 0, 0).rolling(14).sum()\n",
    "negative_mf = money_flow.where(tp_diff < 0, 0).rolling(14).sum()\n",
    "data['MFI_14'] = 100 * (positive_mf / (positive_mf + negative_mf))\n",
    "\n",
    "# Basic Candlestick Patterns\n",
    "data['Doji'] = abs(data['Close'] - data['Open']) <= 0.1 * (data['High'] - data['Low'])\n",
    "data['Hammer'] = ((data['High'] - data['Low']) > 3 * (data['Open'] - data['Close'])) & \\\n",
    "                 ((data['Close'] - data['Low']) / (0.001 + data['High'] - data['Low']) > 0.6)\n",
    "data['Engulfing'] = ((data['Close'] > data['Open'].shift()) &\n",
    "                     (data['Open'] < data['Close'].shift()) &\n",
    "                     (data['Close'] - data['Open'] > data['Open'].shift() - data['Close'].shift()))"
   ],
   "id": "1595e24afb50f076",
   "outputs": [],
   "execution_count": 25
  },
  {
   "metadata": {
    "ExecuteTime": {
     "end_time": "2025-10-04T16:49:43.472411Z",
     "start_time": "2025-10-04T16:49:43.449543Z"
    }
   },
   "cell_type": "code",
   "source": [
    "# --- 1. Dividends ---\n",
    "dividends = dividends.reindex(data.index, method='ffill').fillna(0)\n",
    "data['Dividend'] = dividends\n",
    "\n",
    "# # --- 2. Splits ---\n",
    "# splits = splits.reindex(data.index, method='ffill').fillna(0)\n",
    "# data['Split'] = splits\n",
    "\n",
    "# # --- 3. Analyst Ratings Changes ---\n",
    "# # Upgrade/downgrade info\n",
    "# recs = stock.recommendations\n",
    "# if recs is not None:\n",
    "#     recs.index = pd.to_datetime(recs.index)\n",
    "#     # Flag days with upgrades/downgrades\n",
    "#     recs['Upgrade'] = recs['To Grade'].apply(lambda x: 1 if x in ['Buy', 'Outperform'] else 0)\n",
    "#     recs['Downgrade'] = recs['To Grade'].apply(lambda x: 1 if x in ['Underperform', 'Sell'] else 0)\n",
    "#     upgrades = recs['Upgrade'].reindex(data.index, method='ffill').fillna(0)\n",
    "#     downgrades = recs['Downgrade'].reindex(data.index, method='ffill').fillna(0)\n",
    "#     data['Upgrade'] = upgrades\n",
    "#     data['Downgrade'] = downgrades\n",
    "# else:\n",
    "#     data['Upgrade'] = 0\n",
    "#     data['Downgrade'] = 0\n",
    "\n",
    "# # --- 4. Earnings Announcements ---\n",
    "# earnings_dates = stock.earnings_dates\n",
    "# if earnings_dates is not None:\n",
    "#     earnings_dates.index = pd.to_datetime(earnings_dates.index)\n",
    "#     # Create a flag for earnings day\n",
    "#     data['Earnings'] = 0\n",
    "#     for date in earnings_dates.index:\n",
    "#         if date in data.index:\n",
    "#             data.loc[date, 'Earnings'] = 1\n",
    "# else:\n",
    "#     data['Earnings'] = 0\n",
    "#\n",
    "# # --- 5. News Headlines (optional sentiment) ---\n",
    "# news = stock.news\n",
    "# # Convert news to daily count\n",
    "# news_dates = [pd.to_datetime(item['providerPublishTime'], unit='s').date() for item in news]\n",
    "# news_series = pd.Series(1, index=pd.to_datetime(news_dates))\n",
    "# news_series = news_series.groupby(news_series.index).sum()\n",
    "# data['NewsCount'] = news_series.reindex(data.index, method='ffill').fillna(0)\n",
    "#\n",
    "# # --- Optional: EPS surprises, buybacks from Financial Modeling Prep (requires API key) ---\n",
    "# # You can fetch via FMP and merge similarly to earnings/dividends\n",
    "\n",
    "data.tail()\n"
   ],
   "id": "c7ea59ff6c02e501",
   "outputs": [
    {
     "data": {
      "text/plain": [
       "                 Close        High         Low        Open      Volume  \\\n",
       "Price                                                                    \n",
       "2025-09-29  254.429993  255.000000  253.009995  254.559998  40127700.0   \n",
       "2025-09-30  254.630005  255.919998  253.110001  254.860001  37704300.0   \n",
       "2025-10-01  255.449997  258.790009  254.929993  255.039993  48713900.0   \n",
       "2025-10-02  257.130005  258.179993  254.149994  256.579987  42597200.0   \n",
       "2025-10-03  258.269989  259.239990  253.960007  254.664993  28958803.0   \n",
       "\n",
       "              Return  Volatility_20  Volatility_50        TR    ATR_14  ...  \\\n",
       "Price                                                                   ...   \n",
       "2025-09-29 -0.004032       9.687960      14.471440  2.450012  5.241432  ...   \n",
       "2025-09-30  0.000786       9.643641      14.694921  2.809998  4.842146  ...   \n",
       "2025-10-01  0.003220       9.954723      14.939439  4.160004  4.867860  ...   \n",
       "2025-10-02  0.006577      10.319350      15.183616  4.029999  4.763575  ...   \n",
       "2025-10-03  0.004433      10.661873      15.402476  5.279984  4.846431  ...   \n",
       "\n",
       "            MACD_signal  Stochastic     ADX_14           OBV     MFI_14  \\\n",
       "Price                                                                     \n",
       "2025-09-29     6.324068   89.984163  27.225712  1.636864e+11  76.965186   \n",
       "2025-09-30     6.558551   90.403877  24.874888  1.637241e+11  85.008244   \n",
       "2025-10-01     6.733906   88.780614  22.411863  1.637728e+11  85.078627   \n",
       "2025-10-02     6.874464   93.013455  20.445273  1.638154e+11  84.931729   \n",
       "2025-10-03     6.988363   95.767880  18.322757  1.638444e+11  84.737459   \n",
       "\n",
       "             Doji  Hammer  Engulfing  Dividend  Split  \n",
       "Price                                                  \n",
       "2025-09-29   True    True       True         0      0  \n",
       "2025-09-30   True   False      False         0      0  \n",
       "2025-10-01  False   False      False         0      0  \n",
       "2025-10-02  False    True      False         0      0  \n",
       "2025-10-03  False    True       True         0      0  \n",
       "\n",
       "[5 rows x 30 columns]"
      ],
      "text/html": [
       "<div>\n",
       "<style scoped>\n",
       "    .dataframe tbody tr th:only-of-type {\n",
       "        vertical-align: middle;\n",
       "    }\n",
       "\n",
       "    .dataframe tbody tr th {\n",
       "        vertical-align: top;\n",
       "    }\n",
       "\n",
       "    .dataframe thead th {\n",
       "        text-align: right;\n",
       "    }\n",
       "</style>\n",
       "<table border=\"1\" class=\"dataframe\">\n",
       "  <thead>\n",
       "    <tr style=\"text-align: right;\">\n",
       "      <th></th>\n",
       "      <th>Close</th>\n",
       "      <th>High</th>\n",
       "      <th>Low</th>\n",
       "      <th>Open</th>\n",
       "      <th>Volume</th>\n",
       "      <th>Return</th>\n",
       "      <th>Volatility_20</th>\n",
       "      <th>Volatility_50</th>\n",
       "      <th>TR</th>\n",
       "      <th>ATR_14</th>\n",
       "      <th>...</th>\n",
       "      <th>MACD_signal</th>\n",
       "      <th>Stochastic</th>\n",
       "      <th>ADX_14</th>\n",
       "      <th>OBV</th>\n",
       "      <th>MFI_14</th>\n",
       "      <th>Doji</th>\n",
       "      <th>Hammer</th>\n",
       "      <th>Engulfing</th>\n",
       "      <th>Dividend</th>\n",
       "      <th>Split</th>\n",
       "    </tr>\n",
       "    <tr>\n",
       "      <th>Price</th>\n",
       "      <th></th>\n",
       "      <th></th>\n",
       "      <th></th>\n",
       "      <th></th>\n",
       "      <th></th>\n",
       "      <th></th>\n",
       "      <th></th>\n",
       "      <th></th>\n",
       "      <th></th>\n",
       "      <th></th>\n",
       "      <th></th>\n",
       "      <th></th>\n",
       "      <th></th>\n",
       "      <th></th>\n",
       "      <th></th>\n",
       "      <th></th>\n",
       "      <th></th>\n",
       "      <th></th>\n",
       "      <th></th>\n",
       "      <th></th>\n",
       "      <th></th>\n",
       "    </tr>\n",
       "  </thead>\n",
       "  <tbody>\n",
       "    <tr>\n",
       "      <th>2025-09-29</th>\n",
       "      <td>254.429993</td>\n",
       "      <td>255.000000</td>\n",
       "      <td>253.009995</td>\n",
       "      <td>254.559998</td>\n",
       "      <td>40127700.0</td>\n",
       "      <td>-0.004032</td>\n",
       "      <td>9.687960</td>\n",
       "      <td>14.471440</td>\n",
       "      <td>2.450012</td>\n",
       "      <td>5.241432</td>\n",
       "      <td>...</td>\n",
       "      <td>6.324068</td>\n",
       "      <td>89.984163</td>\n",
       "      <td>27.225712</td>\n",
       "      <td>1.636864e+11</td>\n",
       "      <td>76.965186</td>\n",
       "      <td>True</td>\n",
       "      <td>True</td>\n",
       "      <td>True</td>\n",
       "      <td>0</td>\n",
       "      <td>0</td>\n",
       "    </tr>\n",
       "    <tr>\n",
       "      <th>2025-09-30</th>\n",
       "      <td>254.630005</td>\n",
       "      <td>255.919998</td>\n",
       "      <td>253.110001</td>\n",
       "      <td>254.860001</td>\n",
       "      <td>37704300.0</td>\n",
       "      <td>0.000786</td>\n",
       "      <td>9.643641</td>\n",
       "      <td>14.694921</td>\n",
       "      <td>2.809998</td>\n",
       "      <td>4.842146</td>\n",
       "      <td>...</td>\n",
       "      <td>6.558551</td>\n",
       "      <td>90.403877</td>\n",
       "      <td>24.874888</td>\n",
       "      <td>1.637241e+11</td>\n",
       "      <td>85.008244</td>\n",
       "      <td>True</td>\n",
       "      <td>False</td>\n",
       "      <td>False</td>\n",
       "      <td>0</td>\n",
       "      <td>0</td>\n",
       "    </tr>\n",
       "    <tr>\n",
       "      <th>2025-10-01</th>\n",
       "      <td>255.449997</td>\n",
       "      <td>258.790009</td>\n",
       "      <td>254.929993</td>\n",
       "      <td>255.039993</td>\n",
       "      <td>48713900.0</td>\n",
       "      <td>0.003220</td>\n",
       "      <td>9.954723</td>\n",
       "      <td>14.939439</td>\n",
       "      <td>4.160004</td>\n",
       "      <td>4.867860</td>\n",
       "      <td>...</td>\n",
       "      <td>6.733906</td>\n",
       "      <td>88.780614</td>\n",
       "      <td>22.411863</td>\n",
       "      <td>1.637728e+11</td>\n",
       "      <td>85.078627</td>\n",
       "      <td>False</td>\n",
       "      <td>False</td>\n",
       "      <td>False</td>\n",
       "      <td>0</td>\n",
       "      <td>0</td>\n",
       "    </tr>\n",
       "    <tr>\n",
       "      <th>2025-10-02</th>\n",
       "      <td>257.130005</td>\n",
       "      <td>258.179993</td>\n",
       "      <td>254.149994</td>\n",
       "      <td>256.579987</td>\n",
       "      <td>42597200.0</td>\n",
       "      <td>0.006577</td>\n",
       "      <td>10.319350</td>\n",
       "      <td>15.183616</td>\n",
       "      <td>4.029999</td>\n",
       "      <td>4.763575</td>\n",
       "      <td>...</td>\n",
       "      <td>6.874464</td>\n",
       "      <td>93.013455</td>\n",
       "      <td>20.445273</td>\n",
       "      <td>1.638154e+11</td>\n",
       "      <td>84.931729</td>\n",
       "      <td>False</td>\n",
       "      <td>True</td>\n",
       "      <td>False</td>\n",
       "      <td>0</td>\n",
       "      <td>0</td>\n",
       "    </tr>\n",
       "    <tr>\n",
       "      <th>2025-10-03</th>\n",
       "      <td>258.269989</td>\n",
       "      <td>259.239990</td>\n",
       "      <td>253.960007</td>\n",
       "      <td>254.664993</td>\n",
       "      <td>28958803.0</td>\n",
       "      <td>0.004433</td>\n",
       "      <td>10.661873</td>\n",
       "      <td>15.402476</td>\n",
       "      <td>5.279984</td>\n",
       "      <td>4.846431</td>\n",
       "      <td>...</td>\n",
       "      <td>6.988363</td>\n",
       "      <td>95.767880</td>\n",
       "      <td>18.322757</td>\n",
       "      <td>1.638444e+11</td>\n",
       "      <td>84.737459</td>\n",
       "      <td>False</td>\n",
       "      <td>True</td>\n",
       "      <td>True</td>\n",
       "      <td>0</td>\n",
       "      <td>0</td>\n",
       "    </tr>\n",
       "  </tbody>\n",
       "</table>\n",
       "<p>5 rows × 30 columns</p>\n",
       "</div>"
      ]
     },
     "execution_count": 27,
     "metadata": {},
     "output_type": "execute_result"
    }
   ],
   "execution_count": 27
  }
 ],
 "metadata": {
  "colab": {
   "provenance": []
  },
  "kernelspec": {
   "display_name": "Python 3 (ipykernel)",
   "language": "python",
   "name": "python3"
  },
  "language_info": {
   "codemirror_mode": {
    "name": "ipython",
    "version": 3
   },
   "file_extension": ".py",
   "mimetype": "text/x-python",
   "name": "python",
   "nbconvert_exporter": "python",
   "pygments_lexer": "ipython3",
   "version": "3.12.5"
  }
 },
 "nbformat": 4,
 "nbformat_minor": 5
}
