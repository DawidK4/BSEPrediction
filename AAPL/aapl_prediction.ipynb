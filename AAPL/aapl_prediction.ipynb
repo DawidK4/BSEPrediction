{
 "cells": [
  {
   "cell_type": "code",
   "id": "85e1da11",
   "metadata": {
    "id": "85e1da11",
    "ExecuteTime": {
     "end_time": "2025-10-01T17:49:28.544170Z",
     "start_time": "2025-10-01T17:49:17.211193Z"
    }
   },
   "source": [
    "import numpy as np\n",
    "import pandas as pd\n",
    "import matplotlib.pyplot as plt\n",
    "import seaborn as sns\n",
    "\n",
    "import os\n",
    "import sys\n",
    "\n",
    "import tensorflow as tf\n",
    "\n",
    "import yfinance as yf"
   ],
   "outputs": [
    {
     "name": "stderr",
     "output_type": "stream",
     "text": [
      "2025-10-01 19:49:17.689720: I external/local_xla/xla/tsl/cuda/cudart_stub.cc:31] Could not find cuda drivers on your machine, GPU will not be used.\n",
      "2025-10-01 19:49:17.690240: I tensorflow/core/util/port.cc:153] oneDNN custom operations are on. You may see slightly different numerical results due to floating-point round-off errors from different computation orders. To turn them off, set the environment variable `TF_ENABLE_ONEDNN_OPTS=0`.\n",
      "2025-10-01 19:49:17.787163: I tensorflow/core/platform/cpu_feature_guard.cc:210] This TensorFlow binary is optimized to use available CPU instructions in performance-critical operations.\n",
      "To enable the following instructions: AVX2 AVX512F AVX512_VNNI FMA, in other operations, rebuild TensorFlow with the appropriate compiler flags.\n",
      "2025-10-01 19:49:24.378945: I tensorflow/core/util/port.cc:153] oneDNN custom operations are on. You may see slightly different numerical results due to floating-point round-off errors from different computation orders. To turn them off, set the environment variable `TF_ENABLE_ONEDNN_OPTS=0`.\n",
      "2025-10-01 19:49:24.379578: I external/local_xla/xla/tsl/cuda/cudart_stub.cc:31] Could not find cuda drivers on your machine, GPU will not be used.\n"
     ]
    }
   ],
   "execution_count": 1
  },
  {
   "metadata": {},
   "cell_type": "markdown",
   "source": "# Loading the data",
   "id": "e313f7dd85387be4"
  },
  {
   "metadata": {},
   "cell_type": "markdown",
   "source": "Financials",
   "id": "53f3c7da5e164c90"
  },
  {
   "metadata": {
    "ExecuteTime": {
     "end_time": "2025-10-01T17:54:24.988940Z",
     "start_time": "2025-10-01T17:54:24.955116Z"
    }
   },
   "cell_type": "code",
   "source": [
    "balance_sheet = pd.read_csv('data/financials/AAPL_balance_sheet.csv')\n",
    "capital_gains = pd.read_csv('data/financials/AAPL_capital_gains.csv')\n",
    "cash_flow = pd.read_csv('data/financials/AAPL_cash_flow.csv')\n",
    "income_statement = pd.read_csv('data/financials/AAPL_income_statement.csv')\n",
    "ttm_cash_flow = pd.read_csv('data/financials/AAPL_ttm_cash_flow.csv')"
   ],
   "id": "2570581d0e5c9614",
   "outputs": [],
   "execution_count": 7
  },
  {
   "metadata": {},
   "cell_type": "markdown",
   "source": "Holders",
   "id": "2770b00712e4a493"
  },
  {
   "metadata": {
    "ExecuteTime": {
     "end_time": "2025-10-01T17:55:00.578264Z",
     "start_time": "2025-10-01T17:55:00.551849Z"
    }
   },
   "cell_type": "code",
   "source": [
    "insider_roster_holders = pd.read_csv('data/holders/AAPL_insider_roster_holders.csv')\n",
    "institutional_holders = pd.read_csv('data/holders/AAPL_institutional_holders.csv')\n",
    "mutualfund_holders = pd.read_csv('data/holders/AAPL_mutualfund_holders.csv')\n",
    "major_holders = pd.read_csv('data/holders/AAPL_major_holders.csv')"
   ],
   "id": "5ccf8740ff004275",
   "outputs": [],
   "execution_count": 8
  },
  {
   "metadata": {},
   "cell_type": "markdown",
   "source": "Insider",
   "id": "f96f955fbba25827"
  },
  {
   "metadata": {
    "ExecuteTime": {
     "end_time": "2025-10-01T17:55:15.371842Z",
     "start_time": "2025-10-01T17:55:15.355803Z"
    }
   },
   "cell_type": "code",
   "source": [
    "insider_purchases = pd.read_csv('data/insider/AAPL_insider_purchases.csv')\n",
    "insider_transactions = pd.read_csv('data/insider/AAPL_insider_transactions.csv')"
   ],
   "id": "1d37aeda7df5e54d",
   "outputs": [],
   "execution_count": 9
  },
  {
   "metadata": {},
   "cell_type": "markdown",
   "source": "Price",
   "id": "3e95245f785451a5"
  },
  {
   "metadata": {
    "ExecuteTime": {
     "end_time": "2025-10-01T17:55:43.027653Z",
     "start_time": "2025-10-01T17:55:42.968161Z"
    }
   },
   "cell_type": "code",
   "source": [
    "actions = pd.read_csv('data/price/AAPL_actions.csv')\n",
    "dividends = pd.read_csv('data/price/AAPL_dividends.csv', index_col=0, parse_dates=True)\n",
    "ohlc = pd.read_csv('data/price/AAPL_ohlc.csv', index_col=0, parse_dates=True)\n",
    "options = pd.read_csv('data/price/AAPL_options.csv')\n",
    "volume = pd.read_csv('data/price/AAPL_volume.csv', index_col=0, parse_dates=True)"
   ],
   "id": "870378c587d6f5c",
   "outputs": [
    {
     "name": "stderr",
     "output_type": "stream",
     "text": [
      "/tmp/ipykernel_7074/3647304182.py:3: UserWarning: Could not infer format, so each element will be parsed individually, falling back to `dateutil`. To ensure parsing is consistent and as-expected, please specify a format.\n",
      "  ohlc = pd.read_csv('data/price/AAPL_ohlc.csv', index_col=0, parse_dates=True)\n"
     ]
    }
   ],
   "execution_count": 10
  },
  {
   "metadata": {},
   "cell_type": "markdown",
   "source": "# Data exploration",
   "id": "77118a9921cf3be4"
  },
  {
   "metadata": {},
   "cell_type": "markdown",
   "source": "Financials",
   "id": "1172b71c9fc4b651"
  },
  {
   "metadata": {},
   "cell_type": "code",
   "outputs": [],
   "execution_count": null,
   "source": "",
   "id": "462d602073cdfff6"
  }
 ],
 "metadata": {
  "colab": {
   "provenance": []
  },
  "kernelspec": {
   "display_name": "Python 3 (ipykernel)",
   "language": "python",
   "name": "python3"
  },
  "language_info": {
   "codemirror_mode": {
    "name": "ipython",
    "version": 3
   },
   "file_extension": ".py",
   "mimetype": "text/x-python",
   "name": "python",
   "nbconvert_exporter": "python",
   "pygments_lexer": "ipython3",
   "version": "3.12.5"
  }
 },
 "nbformat": 4,
 "nbformat_minor": 5
}
