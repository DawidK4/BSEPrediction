{
 "cells": [
  {
   "cell_type": "code",
   "id": "85e1da11",
   "metadata": {
    "id": "85e1da11",
    "ExecuteTime": {
     "end_time": "2025-10-09T10:40:07.114393Z",
     "start_time": "2025-10-09T10:40:03.072004Z"
    }
   },
   "source": [
    "import numpy as np\n",
    "import pandas as pd\n",
    "import matplotlib.pyplot as plt\n",
    "import seaborn as sns\n",
    "\n",
    "import os\n",
    "import sys\n",
    "\n",
    "import tensorflow as tf\n",
    "\n",
    "import yfinance as yf"
   ],
   "outputs": [
    {
     "name": "stderr",
     "output_type": "stream",
     "text": [
      "2025-10-09 12:40:03.357728: I external/local_xla/xla/tsl/cuda/cudart_stub.cc:31] Could not find cuda drivers on your machine, GPU will not be used.\n",
      "2025-10-09 12:40:03.358200: I tensorflow/core/util/port.cc:153] oneDNN custom operations are on. You may see slightly different numerical results due to floating-point round-off errors from different computation orders. To turn them off, set the environment variable `TF_ENABLE_ONEDNN_OPTS=0`.\n",
      "2025-10-09 12:40:03.439995: I tensorflow/core/platform/cpu_feature_guard.cc:210] This TensorFlow binary is optimized to use available CPU instructions in performance-critical operations.\n",
      "To enable the following instructions: AVX2 AVX512F AVX512_VNNI FMA, in other operations, rebuild TensorFlow with the appropriate compiler flags.\n",
      "2025-10-09 12:40:05.880933: I tensorflow/core/util/port.cc:153] oneDNN custom operations are on. You may see slightly different numerical results due to floating-point round-off errors from different computation orders. To turn them off, set the environment variable `TF_ENABLE_ONEDNN_OPTS=0`.\n",
      "2025-10-09 12:40:05.881476: I external/local_xla/xla/tsl/cuda/cudart_stub.cc:31] Could not find cuda drivers on your machine, GPU will not be used.\n"
     ]
    }
   ],
   "execution_count": 1
  },
  {
   "metadata": {},
   "cell_type": "markdown",
   "source": [
    "# Important!\n",
    "#  Data is from 1980-12-12 to 2025-10-03"
   ],
   "id": "fd27fd180fa8b820"
  },
  {
   "metadata": {},
   "cell_type": "markdown",
   "source": "# Loading the data",
   "id": "e313f7dd85387be4"
  },
  {
   "metadata": {},
   "cell_type": "markdown",
   "source": "Analysis and holdings",
   "id": "23d5d7622f5ccb82"
  },
  {
   "metadata": {
    "ExecuteTime": {
     "end_time": "2025-10-09T10:40:07.192476Z",
     "start_time": "2025-10-09T10:40:07.124739Z"
    }
   },
   "cell_type": "code",
   "source": [
    "earnings_estimate = pd.read_csv('data/analysis_and_holdings/AAPL_earnings_estimate.csv')\n",
    "earnings_history = pd.read_csv('data/analysis_and_holdings/AAPL_earnings_history.csv')\n",
    "eps_revisions = pd.read_csv('data/analysis_and_holdings/AAPL_eps_revisions.csv')\n",
    "eps_trend = pd.read_csv('data/analysis_and_holdings/AAPL_eps_trend.csv')\n",
    "growth_estimates = pd.read_csv('data/analysis_and_holdings/AAPL_growth_estimates.csv')\n",
    "insider_purchases = pd.read_csv('data/analysis_and_holdings/AAPL_insider_purchases.csv')\n",
    "insider_roster_holders = pd.read_csv('data/analysis_and_holdings/AAPL_insider_roster_holders.csv')\n",
    "institutional_holders = pd.read_csv('data/analysis_and_holdings/AAPL_institutional_holders.csv')\n",
    "major_holders = pd.read_csv('data/analysis_and_holdings/AAPL_major_holders.csv')\n",
    "mutualfunds_holders = pd.read_csv('data/analysis_and_holdings/AAPL_mutualfund_holders.csv')\n",
    "reccomendations = pd.read_csv('data/analysis_and_holdings/AAPL_recommendations.csv')\n",
    "revenue_estimate = pd.read_csv('data/analysis_and_holdings/AAPL_revenue_estimate.csv')\n",
    "sustainability = pd.read_csv('data/analysis_and_holdings/AAPL_sustainability.csv')\n",
    "upgrades_downgrades = pd.read_csv('data/analysis_and_holdings/AAPL_upgrades_downgrades.csv')"
   ],
   "id": "1d7b715f28886112",
   "outputs": [],
   "execution_count": 2
  },
  {
   "metadata": {},
   "cell_type": "markdown",
   "source": "Financials",
   "id": "e5ff00e261447684"
  },
  {
   "metadata": {
    "ExecuteTime": {
     "end_time": "2025-10-09T10:40:07.219624Z",
     "start_time": "2025-10-09T10:40:07.201170Z"
    }
   },
   "cell_type": "code",
   "source": [
    "balance_sheet = pd.read_csv('data/financials/AAPL_balance_sheet.csv', index_col=0)\n",
    "cashflow = pd.read_csv('data/financials/AAPL_cashflow.csv', index_col=0)\n",
    "income_statement = pd.read_csv('data/financials/AAPL_income_statement.csv', index_col=0)"
   ],
   "id": "809746760d6b43a0",
   "outputs": [],
   "execution_count": 3
  },
  {
   "metadata": {},
   "cell_type": "markdown",
   "source": "Info",
   "id": "bf9fda3851df6d66"
  },
  {
   "metadata": {
    "ExecuteTime": {
     "end_time": "2025-10-09T10:40:07.371620Z",
     "start_time": "2025-10-09T10:40:07.254453Z"
    }
   },
   "cell_type": "code",
   "source": [
    "actions = pd.read_csv('data/info/AAPL_actions.csv', index_col=0)\n",
    "capital_gains = pd.read_csv('data/info/AAPL_capital_gains.csv', index_col=0)\n",
    "dividends = pd.read_csv('data/info/AAPL_dividends.csv', index_col=0)\n",
    "fast_info = pd.read_csv('data/info/AAPL_fast_info.csv', index_col=0)\n",
    "history = pd.read_csv('data/info/AAPL_history.csv', index_col=0)\n",
    "info = pd.read_csv('data/info/AAPL_info.csv')\n",
    "splits = pd.read_csv('data/info/AAPL_splits.csv', index_col=0)"
   ],
   "id": "1065ca4ffc2a1e2",
   "outputs": [],
   "execution_count": 4
  },
  {
   "metadata": {},
   "cell_type": "markdown",
   "source": "Price",
   "id": "b987d7ea2ea71405"
  },
  {
   "metadata": {
    "ExecuteTime": {
     "end_time": "2025-10-09T10:40:07.434929Z",
     "start_time": "2025-10-09T10:40:07.382837Z"
    }
   },
   "cell_type": "code",
   "source": [
    "ohlc = pd.read_csv('data/price/AAPL_price_volume.csv', index_col=0, skiprows=2)\n",
    "vix = pd.read_csv('../VIX/data/price/VIX_price_volume.csv', header=None, skiprows=3)"
   ],
   "id": "fa58cf3145abe1eb",
   "outputs": [],
   "execution_count": 5
  },
  {
   "metadata": {},
   "cell_type": "markdown",
   "source": "# Data exploration",
   "id": "77118a9921cf3be4"
  },
  {
   "metadata": {},
   "cell_type": "markdown",
   "source": "Price",
   "id": "aaa1357625167d0f"
  },
  {
   "metadata": {
    "ExecuteTime": {
     "end_time": "2025-10-09T10:40:07.485729Z",
     "start_time": "2025-10-09T10:40:07.454544Z"
    }
   },
   "cell_type": "code",
   "source": "ohlc.tail()",
   "id": "8f3c3c86df37a53d",
   "outputs": [
    {
     "data": {
      "text/plain": [
       "            Unnamed: 1  Unnamed: 2  Unnamed: 3  Unnamed: 4  Unnamed: 5\n",
       "Date                                                                  \n",
       "2025-09-29  254.429993  255.000000  253.009995  254.559998    40127700\n",
       "2025-09-30  254.630005  255.919998  253.110001  254.860001    37704300\n",
       "2025-10-01  255.449997  258.790009  254.929993  255.039993    48713900\n",
       "2025-10-02  257.130005  258.179993  254.149994  256.579987    42630200\n",
       "2025-10-03  258.019989  259.239990  253.949997  254.669998    49107000"
      ],
      "text/html": [
       "<div>\n",
       "<style scoped>\n",
       "    .dataframe tbody tr th:only-of-type {\n",
       "        vertical-align: middle;\n",
       "    }\n",
       "\n",
       "    .dataframe tbody tr th {\n",
       "        vertical-align: top;\n",
       "    }\n",
       "\n",
       "    .dataframe thead th {\n",
       "        text-align: right;\n",
       "    }\n",
       "</style>\n",
       "<table border=\"1\" class=\"dataframe\">\n",
       "  <thead>\n",
       "    <tr style=\"text-align: right;\">\n",
       "      <th></th>\n",
       "      <th>Unnamed: 1</th>\n",
       "      <th>Unnamed: 2</th>\n",
       "      <th>Unnamed: 3</th>\n",
       "      <th>Unnamed: 4</th>\n",
       "      <th>Unnamed: 5</th>\n",
       "    </tr>\n",
       "    <tr>\n",
       "      <th>Date</th>\n",
       "      <th></th>\n",
       "      <th></th>\n",
       "      <th></th>\n",
       "      <th></th>\n",
       "      <th></th>\n",
       "    </tr>\n",
       "  </thead>\n",
       "  <tbody>\n",
       "    <tr>\n",
       "      <th>2025-09-29</th>\n",
       "      <td>254.429993</td>\n",
       "      <td>255.000000</td>\n",
       "      <td>253.009995</td>\n",
       "      <td>254.559998</td>\n",
       "      <td>40127700</td>\n",
       "    </tr>\n",
       "    <tr>\n",
       "      <th>2025-09-30</th>\n",
       "      <td>254.630005</td>\n",
       "      <td>255.919998</td>\n",
       "      <td>253.110001</td>\n",
       "      <td>254.860001</td>\n",
       "      <td>37704300</td>\n",
       "    </tr>\n",
       "    <tr>\n",
       "      <th>2025-10-01</th>\n",
       "      <td>255.449997</td>\n",
       "      <td>258.790009</td>\n",
       "      <td>254.929993</td>\n",
       "      <td>255.039993</td>\n",
       "      <td>48713900</td>\n",
       "    </tr>\n",
       "    <tr>\n",
       "      <th>2025-10-02</th>\n",
       "      <td>257.130005</td>\n",
       "      <td>258.179993</td>\n",
       "      <td>254.149994</td>\n",
       "      <td>256.579987</td>\n",
       "      <td>42630200</td>\n",
       "    </tr>\n",
       "    <tr>\n",
       "      <th>2025-10-03</th>\n",
       "      <td>258.019989</td>\n",
       "      <td>259.239990</td>\n",
       "      <td>253.949997</td>\n",
       "      <td>254.669998</td>\n",
       "      <td>49107000</td>\n",
       "    </tr>\n",
       "  </tbody>\n",
       "</table>\n",
       "</div>"
      ]
     },
     "execution_count": 6,
     "metadata": {},
     "output_type": "execute_result"
    }
   ],
   "execution_count": 6
  },
  {
   "metadata": {
    "ExecuteTime": {
     "end_time": "2025-10-09T10:40:07.615663Z",
     "start_time": "2025-10-09T10:40:07.605440Z"
    }
   },
   "cell_type": "code",
   "source": "ohlc.info()",
   "id": "68dca1b9294f0c27",
   "outputs": [
    {
     "name": "stdout",
     "output_type": "stream",
     "text": [
      "<class 'pandas.core.frame.DataFrame'>\n",
      "Index: 11294 entries, 1980-12-12 to 2025-10-03\n",
      "Data columns (total 5 columns):\n",
      " #   Column      Non-Null Count  Dtype  \n",
      "---  ------      --------------  -----  \n",
      " 0   Unnamed: 1  11294 non-null  float64\n",
      " 1   Unnamed: 2  11294 non-null  float64\n",
      " 2   Unnamed: 3  11294 non-null  float64\n",
      " 3   Unnamed: 4  11294 non-null  float64\n",
      " 4   Unnamed: 5  11294 non-null  int64  \n",
      "dtypes: float64(4), int64(1)\n",
      "memory usage: 529.4+ KB\n"
     ]
    }
   ],
   "execution_count": 7
  },
  {
   "metadata": {
    "ExecuteTime": {
     "end_time": "2025-10-09T10:40:07.761033Z",
     "start_time": "2025-10-09T10:40:07.755884Z"
    }
   },
   "cell_type": "code",
   "source": "ohlc.dtypes",
   "id": "bec98539ad82ecf5",
   "outputs": [
    {
     "data": {
      "text/plain": [
       "Unnamed: 1    float64\n",
       "Unnamed: 2    float64\n",
       "Unnamed: 3    float64\n",
       "Unnamed: 4    float64\n",
       "Unnamed: 5      int64\n",
       "dtype: object"
      ]
     },
     "execution_count": 8,
     "metadata": {},
     "output_type": "execute_result"
    }
   ],
   "execution_count": 8
  },
  {
   "metadata": {
    "ExecuteTime": {
     "end_time": "2025-10-09T10:40:07.923740Z",
     "start_time": "2025-10-09T10:40:07.910774Z"
    }
   },
   "cell_type": "code",
   "source": "ohlc.tail()",
   "id": "d5229e617a7b2a74",
   "outputs": [
    {
     "data": {
      "text/plain": [
       "            Unnamed: 1  Unnamed: 2  Unnamed: 3  Unnamed: 4  Unnamed: 5\n",
       "Date                                                                  \n",
       "2025-09-29  254.429993  255.000000  253.009995  254.559998    40127700\n",
       "2025-09-30  254.630005  255.919998  253.110001  254.860001    37704300\n",
       "2025-10-01  255.449997  258.790009  254.929993  255.039993    48713900\n",
       "2025-10-02  257.130005  258.179993  254.149994  256.579987    42630200\n",
       "2025-10-03  258.019989  259.239990  253.949997  254.669998    49107000"
      ],
      "text/html": [
       "<div>\n",
       "<style scoped>\n",
       "    .dataframe tbody tr th:only-of-type {\n",
       "        vertical-align: middle;\n",
       "    }\n",
       "\n",
       "    .dataframe tbody tr th {\n",
       "        vertical-align: top;\n",
       "    }\n",
       "\n",
       "    .dataframe thead th {\n",
       "        text-align: right;\n",
       "    }\n",
       "</style>\n",
       "<table border=\"1\" class=\"dataframe\">\n",
       "  <thead>\n",
       "    <tr style=\"text-align: right;\">\n",
       "      <th></th>\n",
       "      <th>Unnamed: 1</th>\n",
       "      <th>Unnamed: 2</th>\n",
       "      <th>Unnamed: 3</th>\n",
       "      <th>Unnamed: 4</th>\n",
       "      <th>Unnamed: 5</th>\n",
       "    </tr>\n",
       "    <tr>\n",
       "      <th>Date</th>\n",
       "      <th></th>\n",
       "      <th></th>\n",
       "      <th></th>\n",
       "      <th></th>\n",
       "      <th></th>\n",
       "    </tr>\n",
       "  </thead>\n",
       "  <tbody>\n",
       "    <tr>\n",
       "      <th>2025-09-29</th>\n",
       "      <td>254.429993</td>\n",
       "      <td>255.000000</td>\n",
       "      <td>253.009995</td>\n",
       "      <td>254.559998</td>\n",
       "      <td>40127700</td>\n",
       "    </tr>\n",
       "    <tr>\n",
       "      <th>2025-09-30</th>\n",
       "      <td>254.630005</td>\n",
       "      <td>255.919998</td>\n",
       "      <td>253.110001</td>\n",
       "      <td>254.860001</td>\n",
       "      <td>37704300</td>\n",
       "    </tr>\n",
       "    <tr>\n",
       "      <th>2025-10-01</th>\n",
       "      <td>255.449997</td>\n",
       "      <td>258.790009</td>\n",
       "      <td>254.929993</td>\n",
       "      <td>255.039993</td>\n",
       "      <td>48713900</td>\n",
       "    </tr>\n",
       "    <tr>\n",
       "      <th>2025-10-02</th>\n",
       "      <td>257.130005</td>\n",
       "      <td>258.179993</td>\n",
       "      <td>254.149994</td>\n",
       "      <td>256.579987</td>\n",
       "      <td>42630200</td>\n",
       "    </tr>\n",
       "    <tr>\n",
       "      <th>2025-10-03</th>\n",
       "      <td>258.019989</td>\n",
       "      <td>259.239990</td>\n",
       "      <td>253.949997</td>\n",
       "      <td>254.669998</td>\n",
       "      <td>49107000</td>\n",
       "    </tr>\n",
       "  </tbody>\n",
       "</table>\n",
       "</div>"
      ]
     },
     "execution_count": 9,
     "metadata": {},
     "output_type": "execute_result"
    }
   ],
   "execution_count": 9
  },
  {
   "metadata": {
    "ExecuteTime": {
     "end_time": "2025-10-09T10:40:08.327097Z",
     "start_time": "2025-10-09T10:40:08.317929Z"
    }
   },
   "cell_type": "code",
   "source": [
    "numeric_cols = ['Open', 'High', 'Low', 'Close']\n",
    "\n",
    "ohlc.columns = ['Open', 'High', 'Low', 'Close', 'Volume']\n",
    "\n",
    "for col in numeric_cols:\n",
    "    ohlc[col] = pd.to_numeric(ohlc[col], errors='coerce')\n"
   ],
   "id": "d26e2cc372b8ebf1",
   "outputs": [],
   "execution_count": 10
  },
  {
   "metadata": {
    "ExecuteTime": {
     "end_time": "2025-10-09T10:40:08.472701Z",
     "start_time": "2025-10-09T10:40:08.437093Z"
    }
   },
   "cell_type": "code",
   "source": "ohlc.describe(include='all')",
   "id": "f3ff13592ea85358",
   "outputs": [
    {
     "data": {
      "text/plain": [
       "               Open          High           Low         Close        Volume\n",
       "count  11294.000000  11294.000000  11294.000000  11294.000000  1.129400e+04\n",
       "mean      26.689600     26.958130     26.394175     26.666814  3.111597e+08\n",
       "std       55.240040     55.781888     54.632914     55.179857  3.337334e+08\n",
       "min        0.037681      0.038109      0.037681      0.038109  0.000000e+00\n",
       "25%        0.245137      0.250706      0.240161      0.245127  1.076768e+08\n",
       "50%        0.466639      0.474725      0.459261      0.466445  1.998388e+08\n",
       "75%       20.927646     21.097477     20.743933     20.965368  3.910452e+08\n",
       "max      258.103729    259.239990    256.718662    257.276679  7.421641e+09"
      ],
      "text/html": [
       "<div>\n",
       "<style scoped>\n",
       "    .dataframe tbody tr th:only-of-type {\n",
       "        vertical-align: middle;\n",
       "    }\n",
       "\n",
       "    .dataframe tbody tr th {\n",
       "        vertical-align: top;\n",
       "    }\n",
       "\n",
       "    .dataframe thead th {\n",
       "        text-align: right;\n",
       "    }\n",
       "</style>\n",
       "<table border=\"1\" class=\"dataframe\">\n",
       "  <thead>\n",
       "    <tr style=\"text-align: right;\">\n",
       "      <th></th>\n",
       "      <th>Open</th>\n",
       "      <th>High</th>\n",
       "      <th>Low</th>\n",
       "      <th>Close</th>\n",
       "      <th>Volume</th>\n",
       "    </tr>\n",
       "  </thead>\n",
       "  <tbody>\n",
       "    <tr>\n",
       "      <th>count</th>\n",
       "      <td>11294.000000</td>\n",
       "      <td>11294.000000</td>\n",
       "      <td>11294.000000</td>\n",
       "      <td>11294.000000</td>\n",
       "      <td>1.129400e+04</td>\n",
       "    </tr>\n",
       "    <tr>\n",
       "      <th>mean</th>\n",
       "      <td>26.689600</td>\n",
       "      <td>26.958130</td>\n",
       "      <td>26.394175</td>\n",
       "      <td>26.666814</td>\n",
       "      <td>3.111597e+08</td>\n",
       "    </tr>\n",
       "    <tr>\n",
       "      <th>std</th>\n",
       "      <td>55.240040</td>\n",
       "      <td>55.781888</td>\n",
       "      <td>54.632914</td>\n",
       "      <td>55.179857</td>\n",
       "      <td>3.337334e+08</td>\n",
       "    </tr>\n",
       "    <tr>\n",
       "      <th>min</th>\n",
       "      <td>0.037681</td>\n",
       "      <td>0.038109</td>\n",
       "      <td>0.037681</td>\n",
       "      <td>0.038109</td>\n",
       "      <td>0.000000e+00</td>\n",
       "    </tr>\n",
       "    <tr>\n",
       "      <th>25%</th>\n",
       "      <td>0.245137</td>\n",
       "      <td>0.250706</td>\n",
       "      <td>0.240161</td>\n",
       "      <td>0.245127</td>\n",
       "      <td>1.076768e+08</td>\n",
       "    </tr>\n",
       "    <tr>\n",
       "      <th>50%</th>\n",
       "      <td>0.466639</td>\n",
       "      <td>0.474725</td>\n",
       "      <td>0.459261</td>\n",
       "      <td>0.466445</td>\n",
       "      <td>1.998388e+08</td>\n",
       "    </tr>\n",
       "    <tr>\n",
       "      <th>75%</th>\n",
       "      <td>20.927646</td>\n",
       "      <td>21.097477</td>\n",
       "      <td>20.743933</td>\n",
       "      <td>20.965368</td>\n",
       "      <td>3.910452e+08</td>\n",
       "    </tr>\n",
       "    <tr>\n",
       "      <th>max</th>\n",
       "      <td>258.103729</td>\n",
       "      <td>259.239990</td>\n",
       "      <td>256.718662</td>\n",
       "      <td>257.276679</td>\n",
       "      <td>7.421641e+09</td>\n",
       "    </tr>\n",
       "  </tbody>\n",
       "</table>\n",
       "</div>"
      ]
     },
     "execution_count": 11,
     "metadata": {},
     "output_type": "execute_result"
    }
   ],
   "execution_count": 11
  },
  {
   "metadata": {
    "ExecuteTime": {
     "end_time": "2025-10-09T10:40:08.606877Z",
     "start_time": "2025-10-09T10:40:08.598594Z"
    }
   },
   "cell_type": "code",
   "source": "ohlc.memory_usage()",
   "id": "9ad57df1951a4e9e",
   "outputs": [
    {
     "data": {
      "text/plain": [
       "Index     90352\n",
       "Open      90352\n",
       "High      90352\n",
       "Low       90352\n",
       "Close     90352\n",
       "Volume    90352\n",
       "dtype: int64"
      ]
     },
     "execution_count": 12,
     "metadata": {},
     "output_type": "execute_result"
    }
   ],
   "execution_count": 12
  },
  {
   "metadata": {
    "ExecuteTime": {
     "end_time": "2025-10-09T10:40:09.006926Z",
     "start_time": "2025-10-09T10:40:09.003180Z"
    }
   },
   "cell_type": "code",
   "source": "print(len(ohlc['Close'].unique()))",
   "id": "93559ceaf7684b93",
   "outputs": [
    {
     "name": "stdout",
     "output_type": "stream",
     "text": [
      "10673\n"
     ]
    }
   ],
   "execution_count": 13
  },
  {
   "metadata": {
    "ExecuteTime": {
     "end_time": "2025-10-09T10:40:09.131981Z",
     "start_time": "2025-10-09T10:40:09.123743Z"
    }
   },
   "cell_type": "code",
   "source": [
    "ohlc['Volume'] = pd.to_numeric(ohlc['Volume'], errors='coerce')\n",
    "ohlc['High'] = pd.to_numeric(ohlc['High'], errors='coerce')\n",
    "ohlc['Low'] = pd.to_numeric(ohlc['Low'], errors='coerce')\n",
    "ohlc['Open'] = pd.to_numeric(ohlc['Open'], errors='coerce')\n",
    "ohlc['Close'] = pd.to_numeric(ohlc['Close'], errors='coerce')\n",
    "\n",
    "\n",
    "all_time_low = ohlc['Low'].min()\n",
    "all_time_low_date = ohlc['Low'].idxmin()\n",
    "print(f'All time low: {all_time_low} on {all_time_low_date}')\n",
    "\n",
    "all_time_high = ohlc['High'].max()\n",
    "all_time_high_date = ohlc['High'].idxmax()\n",
    "print(f'All time high: {all_time_high} on {all_time_high_date}')\n",
    "\n",
    "all_time_low_vol = ohlc['Volume'].min()\n",
    "all_time_low_vol_date = ohlc['Volume'].idxmin()\n",
    "print(f'All time low volume: {all_time_low_vol} on {all_time_low_vol_date}')\n",
    "\n",
    "all_time_high_vol = ohlc['Volume'].max()\n",
    "all_time_high_vol_date = ohlc['Volume'].idxmax()\n",
    "print(f'All time high volume: {all_time_high_vol} on {all_time_high_vol_date}')"
   ],
   "id": "97dabcddce2368cb",
   "outputs": [
    {
     "name": "stdout",
     "output_type": "stream",
     "text": [
      "All time low: 0.037681121379137 on 1982-07-08\n",
      "All time high: 259.239990234375 on 2025-10-03\n",
      "All time low volume: 0 on 1981-08-10\n",
      "All time high volume: 7421640800 on 2000-09-29\n"
     ]
    }
   ],
   "execution_count": 14
  },
  {
   "metadata": {},
   "cell_type": "markdown",
   "source": "Financials",
   "id": "1f1c8f641a448fff"
  },
  {
   "metadata": {
    "ExecuteTime": {
     "end_time": "2025-10-09T10:40:09.173140Z",
     "start_time": "2025-10-09T10:40:09.163865Z"
    }
   },
   "cell_type": "code",
   "source": "balance_sheet.tail()",
   "id": "a42cbbeebeec3fee",
   "outputs": [
    {
     "data": {
      "text/plain": [
       "                                                    2024-09-30    2023-09-30  \\\n",
       "Cash Cash Equivalents And Short Term Investments  6.517100e+10  6.155500e+10   \n",
       "Other Short Term Investments                      3.522800e+10  3.159000e+10   \n",
       "Cash And Cash Equivalents                         2.994300e+10  2.996500e+10   \n",
       "Cash Equivalents                                  2.744000e+09  1.606000e+09   \n",
       "Cash Financial                                    2.719900e+10  2.835900e+10   \n",
       "\n",
       "                                                    2022-09-30    2021-09-30  \n",
       "Cash Cash Equivalents And Short Term Investments  4.830400e+10  6.263900e+10  \n",
       "Other Short Term Investments                      2.465800e+10  2.769900e+10  \n",
       "Cash And Cash Equivalents                         2.364600e+10  3.494000e+10  \n",
       "Cash Equivalents                                  5.100000e+09  1.763500e+10  \n",
       "Cash Financial                                    1.854600e+10  1.730500e+10  "
      ],
      "text/html": [
       "<div>\n",
       "<style scoped>\n",
       "    .dataframe tbody tr th:only-of-type {\n",
       "        vertical-align: middle;\n",
       "    }\n",
       "\n",
       "    .dataframe tbody tr th {\n",
       "        vertical-align: top;\n",
       "    }\n",
       "\n",
       "    .dataframe thead th {\n",
       "        text-align: right;\n",
       "    }\n",
       "</style>\n",
       "<table border=\"1\" class=\"dataframe\">\n",
       "  <thead>\n",
       "    <tr style=\"text-align: right;\">\n",
       "      <th></th>\n",
       "      <th>2024-09-30</th>\n",
       "      <th>2023-09-30</th>\n",
       "      <th>2022-09-30</th>\n",
       "      <th>2021-09-30</th>\n",
       "    </tr>\n",
       "  </thead>\n",
       "  <tbody>\n",
       "    <tr>\n",
       "      <th>Cash Cash Equivalents And Short Term Investments</th>\n",
       "      <td>6.517100e+10</td>\n",
       "      <td>6.155500e+10</td>\n",
       "      <td>4.830400e+10</td>\n",
       "      <td>6.263900e+10</td>\n",
       "    </tr>\n",
       "    <tr>\n",
       "      <th>Other Short Term Investments</th>\n",
       "      <td>3.522800e+10</td>\n",
       "      <td>3.159000e+10</td>\n",
       "      <td>2.465800e+10</td>\n",
       "      <td>2.769900e+10</td>\n",
       "    </tr>\n",
       "    <tr>\n",
       "      <th>Cash And Cash Equivalents</th>\n",
       "      <td>2.994300e+10</td>\n",
       "      <td>2.996500e+10</td>\n",
       "      <td>2.364600e+10</td>\n",
       "      <td>3.494000e+10</td>\n",
       "    </tr>\n",
       "    <tr>\n",
       "      <th>Cash Equivalents</th>\n",
       "      <td>2.744000e+09</td>\n",
       "      <td>1.606000e+09</td>\n",
       "      <td>5.100000e+09</td>\n",
       "      <td>1.763500e+10</td>\n",
       "    </tr>\n",
       "    <tr>\n",
       "      <th>Cash Financial</th>\n",
       "      <td>2.719900e+10</td>\n",
       "      <td>2.835900e+10</td>\n",
       "      <td>1.854600e+10</td>\n",
       "      <td>1.730500e+10</td>\n",
       "    </tr>\n",
       "  </tbody>\n",
       "</table>\n",
       "</div>"
      ]
     },
     "execution_count": 15,
     "metadata": {},
     "output_type": "execute_result"
    }
   ],
   "execution_count": 15
  },
  {
   "metadata": {
    "ExecuteTime": {
     "end_time": "2025-10-09T10:40:09.323549Z",
     "start_time": "2025-10-09T10:40:09.298695Z"
    }
   },
   "cell_type": "code",
   "source": "cashflow.tail()",
   "id": "dbd316ead0980e29",
   "outputs": [
    {
     "data": {
      "text/plain": [
       "                                         2024-09-30    2023-09-30  \\\n",
       "Deferred Tax                                    NaN           NaN   \n",
       "Deferred Income Tax                             NaN           NaN   \n",
       "Depreciation Amortization Depletion    1.144500e+10  1.151900e+10   \n",
       "Depreciation And Amortization          1.144500e+10  1.151900e+10   \n",
       "Net Income From Continuing Operations  9.373600e+10  9.699500e+10   \n",
       "\n",
       "                                         2022-09-30    2021-09-30  \n",
       "Deferred Tax                           8.950000e+08 -4.774000e+09  \n",
       "Deferred Income Tax                    8.950000e+08 -4.774000e+09  \n",
       "Depreciation Amortization Depletion    1.110400e+10  1.128400e+10  \n",
       "Depreciation And Amortization          1.110400e+10  1.128400e+10  \n",
       "Net Income From Continuing Operations  9.980300e+10  9.468000e+10  "
      ],
      "text/html": [
       "<div>\n",
       "<style scoped>\n",
       "    .dataframe tbody tr th:only-of-type {\n",
       "        vertical-align: middle;\n",
       "    }\n",
       "\n",
       "    .dataframe tbody tr th {\n",
       "        vertical-align: top;\n",
       "    }\n",
       "\n",
       "    .dataframe thead th {\n",
       "        text-align: right;\n",
       "    }\n",
       "</style>\n",
       "<table border=\"1\" class=\"dataframe\">\n",
       "  <thead>\n",
       "    <tr style=\"text-align: right;\">\n",
       "      <th></th>\n",
       "      <th>2024-09-30</th>\n",
       "      <th>2023-09-30</th>\n",
       "      <th>2022-09-30</th>\n",
       "      <th>2021-09-30</th>\n",
       "    </tr>\n",
       "  </thead>\n",
       "  <tbody>\n",
       "    <tr>\n",
       "      <th>Deferred Tax</th>\n",
       "      <td>NaN</td>\n",
       "      <td>NaN</td>\n",
       "      <td>8.950000e+08</td>\n",
       "      <td>-4.774000e+09</td>\n",
       "    </tr>\n",
       "    <tr>\n",
       "      <th>Deferred Income Tax</th>\n",
       "      <td>NaN</td>\n",
       "      <td>NaN</td>\n",
       "      <td>8.950000e+08</td>\n",
       "      <td>-4.774000e+09</td>\n",
       "    </tr>\n",
       "    <tr>\n",
       "      <th>Depreciation Amortization Depletion</th>\n",
       "      <td>1.144500e+10</td>\n",
       "      <td>1.151900e+10</td>\n",
       "      <td>1.110400e+10</td>\n",
       "      <td>1.128400e+10</td>\n",
       "    </tr>\n",
       "    <tr>\n",
       "      <th>Depreciation And Amortization</th>\n",
       "      <td>1.144500e+10</td>\n",
       "      <td>1.151900e+10</td>\n",
       "      <td>1.110400e+10</td>\n",
       "      <td>1.128400e+10</td>\n",
       "    </tr>\n",
       "    <tr>\n",
       "      <th>Net Income From Continuing Operations</th>\n",
       "      <td>9.373600e+10</td>\n",
       "      <td>9.699500e+10</td>\n",
       "      <td>9.980300e+10</td>\n",
       "      <td>9.468000e+10</td>\n",
       "    </tr>\n",
       "  </tbody>\n",
       "</table>\n",
       "</div>"
      ]
     },
     "execution_count": 16,
     "metadata": {},
     "output_type": "execute_result"
    }
   ],
   "execution_count": 16
  },
  {
   "metadata": {
    "ExecuteTime": {
     "end_time": "2025-10-09T10:40:09.760385Z",
     "start_time": "2025-10-09T10:40:09.752275Z"
    }
   },
   "cell_type": "code",
   "source": "income_statement.tail()",
   "id": "56ad2a32df3fe9b7",
   "outputs": [
    {
     "data": {
      "text/plain": [
       "                                      2024-09-30    2023-09-30    2022-09-30  \\\n",
       "Selling General And Administration  2.609700e+10  2.493200e+10  2.509400e+10   \n",
       "Gross Profit                        1.806830e+11  1.691480e+11  1.707820e+11   \n",
       "Cost Of Revenue                     2.103520e+11  2.141370e+11  2.235460e+11   \n",
       "Total Revenue                       3.910350e+11  3.832850e+11  3.943280e+11   \n",
       "Operating Revenue                   3.910350e+11  3.832850e+11  3.943280e+11   \n",
       "\n",
       "                                      2021-09-30  \n",
       "Selling General And Administration  2.197300e+10  \n",
       "Gross Profit                        1.528360e+11  \n",
       "Cost Of Revenue                     2.129810e+11  \n",
       "Total Revenue                       3.658170e+11  \n",
       "Operating Revenue                   3.658170e+11  "
      ],
      "text/html": [
       "<div>\n",
       "<style scoped>\n",
       "    .dataframe tbody tr th:only-of-type {\n",
       "        vertical-align: middle;\n",
       "    }\n",
       "\n",
       "    .dataframe tbody tr th {\n",
       "        vertical-align: top;\n",
       "    }\n",
       "\n",
       "    .dataframe thead th {\n",
       "        text-align: right;\n",
       "    }\n",
       "</style>\n",
       "<table border=\"1\" class=\"dataframe\">\n",
       "  <thead>\n",
       "    <tr style=\"text-align: right;\">\n",
       "      <th></th>\n",
       "      <th>2024-09-30</th>\n",
       "      <th>2023-09-30</th>\n",
       "      <th>2022-09-30</th>\n",
       "      <th>2021-09-30</th>\n",
       "    </tr>\n",
       "  </thead>\n",
       "  <tbody>\n",
       "    <tr>\n",
       "      <th>Selling General And Administration</th>\n",
       "      <td>2.609700e+10</td>\n",
       "      <td>2.493200e+10</td>\n",
       "      <td>2.509400e+10</td>\n",
       "      <td>2.197300e+10</td>\n",
       "    </tr>\n",
       "    <tr>\n",
       "      <th>Gross Profit</th>\n",
       "      <td>1.806830e+11</td>\n",
       "      <td>1.691480e+11</td>\n",
       "      <td>1.707820e+11</td>\n",
       "      <td>1.528360e+11</td>\n",
       "    </tr>\n",
       "    <tr>\n",
       "      <th>Cost Of Revenue</th>\n",
       "      <td>2.103520e+11</td>\n",
       "      <td>2.141370e+11</td>\n",
       "      <td>2.235460e+11</td>\n",
       "      <td>2.129810e+11</td>\n",
       "    </tr>\n",
       "    <tr>\n",
       "      <th>Total Revenue</th>\n",
       "      <td>3.910350e+11</td>\n",
       "      <td>3.832850e+11</td>\n",
       "      <td>3.943280e+11</td>\n",
       "      <td>3.658170e+11</td>\n",
       "    </tr>\n",
       "    <tr>\n",
       "      <th>Operating Revenue</th>\n",
       "      <td>3.910350e+11</td>\n",
       "      <td>3.832850e+11</td>\n",
       "      <td>3.943280e+11</td>\n",
       "      <td>3.658170e+11</td>\n",
       "    </tr>\n",
       "  </tbody>\n",
       "</table>\n",
       "</div>"
      ]
     },
     "execution_count": 17,
     "metadata": {},
     "output_type": "execute_result"
    }
   ],
   "execution_count": 17
  },
  {
   "metadata": {},
   "cell_type": "markdown",
   "source": [
    "Info\n",
    "\n",
    "capital_gains, fast_info, history and splits are redunant"
   ],
   "id": "bccc0b9f22f52563"
  },
  {
   "metadata": {
    "ExecuteTime": {
     "end_time": "2025-10-09T10:40:09.920809Z",
     "start_time": "2025-10-09T10:40:09.906808Z"
    }
   },
   "cell_type": "code",
   "source": "actions.tail()",
   "id": "3f0f084efe265b05",
   "outputs": [
    {
     "data": {
      "text/plain": [
       "                           Dividends  Stock Splits\n",
       "Date                                              \n",
       "2024-08-12 00:00:00-04:00       0.25           0.0\n",
       "2024-11-08 00:00:00-05:00       0.25           0.0\n",
       "2025-02-10 00:00:00-05:00       0.25           0.0\n",
       "2025-05-12 00:00:00-04:00       0.26           0.0\n",
       "2025-08-11 00:00:00-04:00       0.26           0.0"
      ],
      "text/html": [
       "<div>\n",
       "<style scoped>\n",
       "    .dataframe tbody tr th:only-of-type {\n",
       "        vertical-align: middle;\n",
       "    }\n",
       "\n",
       "    .dataframe tbody tr th {\n",
       "        vertical-align: top;\n",
       "    }\n",
       "\n",
       "    .dataframe thead th {\n",
       "        text-align: right;\n",
       "    }\n",
       "</style>\n",
       "<table border=\"1\" class=\"dataframe\">\n",
       "  <thead>\n",
       "    <tr style=\"text-align: right;\">\n",
       "      <th></th>\n",
       "      <th>Dividends</th>\n",
       "      <th>Stock Splits</th>\n",
       "    </tr>\n",
       "    <tr>\n",
       "      <th>Date</th>\n",
       "      <th></th>\n",
       "      <th></th>\n",
       "    </tr>\n",
       "  </thead>\n",
       "  <tbody>\n",
       "    <tr>\n",
       "      <th>2024-08-12 00:00:00-04:00</th>\n",
       "      <td>0.25</td>\n",
       "      <td>0.0</td>\n",
       "    </tr>\n",
       "    <tr>\n",
       "      <th>2024-11-08 00:00:00-05:00</th>\n",
       "      <td>0.25</td>\n",
       "      <td>0.0</td>\n",
       "    </tr>\n",
       "    <tr>\n",
       "      <th>2025-02-10 00:00:00-05:00</th>\n",
       "      <td>0.25</td>\n",
       "      <td>0.0</td>\n",
       "    </tr>\n",
       "    <tr>\n",
       "      <th>2025-05-12 00:00:00-04:00</th>\n",
       "      <td>0.26</td>\n",
       "      <td>0.0</td>\n",
       "    </tr>\n",
       "    <tr>\n",
       "      <th>2025-08-11 00:00:00-04:00</th>\n",
       "      <td>0.26</td>\n",
       "      <td>0.0</td>\n",
       "    </tr>\n",
       "  </tbody>\n",
       "</table>\n",
       "</div>"
      ]
     },
     "execution_count": 18,
     "metadata": {},
     "output_type": "execute_result"
    }
   ],
   "execution_count": 18
  },
  {
   "metadata": {
    "ExecuteTime": {
     "end_time": "2025-10-09T10:40:10.356719Z",
     "start_time": "2025-10-09T10:40:10.349382Z"
    }
   },
   "cell_type": "code",
   "source": "capital_gains.tail()",
   "id": "234993cabc28096a",
   "outputs": [
    {
     "data": {
      "text/plain": [
       "Empty DataFrame\n",
       "Columns: [0]\n",
       "Index: []"
      ],
      "text/html": [
       "<div>\n",
       "<style scoped>\n",
       "    .dataframe tbody tr th:only-of-type {\n",
       "        vertical-align: middle;\n",
       "    }\n",
       "\n",
       "    .dataframe tbody tr th {\n",
       "        vertical-align: top;\n",
       "    }\n",
       "\n",
       "    .dataframe thead th {\n",
       "        text-align: right;\n",
       "    }\n",
       "</style>\n",
       "<table border=\"1\" class=\"dataframe\">\n",
       "  <thead>\n",
       "    <tr style=\"text-align: right;\">\n",
       "      <th></th>\n",
       "      <th>0</th>\n",
       "    </tr>\n",
       "  </thead>\n",
       "  <tbody>\n",
       "  </tbody>\n",
       "</table>\n",
       "</div>"
      ]
     },
     "execution_count": 19,
     "metadata": {},
     "output_type": "execute_result"
    }
   ],
   "execution_count": 19
  },
  {
   "metadata": {
    "ExecuteTime": {
     "end_time": "2025-10-09T10:40:10.499368Z",
     "start_time": "2025-10-09T10:40:10.491263Z"
    }
   },
   "cell_type": "code",
   "source": "info.tail() # Might be useful",
   "id": "5d96fa290030a809",
   "outputs": [
    {
     "data": {
      "text/plain": [
       "                Unnamed: 0          0\n",
       "177  exchangeDataDelayedBy          0\n",
       "178   averageAnalystRating  2.0 - Buy\n",
       "179        cryptoTradeable      False\n",
       "180            displayName      Apple\n",
       "181       trailingPegRatio     2.4662"
      ],
      "text/html": [
       "<div>\n",
       "<style scoped>\n",
       "    .dataframe tbody tr th:only-of-type {\n",
       "        vertical-align: middle;\n",
       "    }\n",
       "\n",
       "    .dataframe tbody tr th {\n",
       "        vertical-align: top;\n",
       "    }\n",
       "\n",
       "    .dataframe thead th {\n",
       "        text-align: right;\n",
       "    }\n",
       "</style>\n",
       "<table border=\"1\" class=\"dataframe\">\n",
       "  <thead>\n",
       "    <tr style=\"text-align: right;\">\n",
       "      <th></th>\n",
       "      <th>Unnamed: 0</th>\n",
       "      <th>0</th>\n",
       "    </tr>\n",
       "  </thead>\n",
       "  <tbody>\n",
       "    <tr>\n",
       "      <th>177</th>\n",
       "      <td>exchangeDataDelayedBy</td>\n",
       "      <td>0</td>\n",
       "    </tr>\n",
       "    <tr>\n",
       "      <th>178</th>\n",
       "      <td>averageAnalystRating</td>\n",
       "      <td>2.0 - Buy</td>\n",
       "    </tr>\n",
       "    <tr>\n",
       "      <th>179</th>\n",
       "      <td>cryptoTradeable</td>\n",
       "      <td>False</td>\n",
       "    </tr>\n",
       "    <tr>\n",
       "      <th>180</th>\n",
       "      <td>displayName</td>\n",
       "      <td>Apple</td>\n",
       "    </tr>\n",
       "    <tr>\n",
       "      <th>181</th>\n",
       "      <td>trailingPegRatio</td>\n",
       "      <td>2.4662</td>\n",
       "    </tr>\n",
       "  </tbody>\n",
       "</table>\n",
       "</div>"
      ]
     },
     "execution_count": 20,
     "metadata": {},
     "output_type": "execute_result"
    }
   ],
   "execution_count": 20
  },
  {
   "metadata": {
    "ExecuteTime": {
     "end_time": "2025-10-09T10:40:10.658430Z",
     "start_time": "2025-10-09T10:40:10.653762Z"
    }
   },
   "cell_type": "code",
   "source": [
    "for value in info.iloc[:, 0]:\n",
    "    print(value, end=', ')"
   ],
   "id": "ce6aba54ed869237",
   "outputs": [
    {
     "name": "stdout",
     "output_type": "stream",
     "text": [
      "address1, city, state, zip, country, phone, website, industry, industryKey, industryDisp, sector, sectorKey, sectorDisp, longBusinessSummary, fullTimeEmployees, companyOfficers, auditRisk, boardRisk, compensationRisk, shareHolderRightsRisk, overallRisk, governanceEpochDate, compensationAsOfEpochDate, irWebsite, executiveTeam, maxAge, priceHint, previousClose, open, dayLow, dayHigh, regularMarketPreviousClose, regularMarketOpen, regularMarketDayLow, regularMarketDayHigh, dividendRate, dividendYield, exDividendDate, payoutRatio, fiveYearAvgDividendYield, beta, trailingPE, forwardPE, volume, regularMarketVolume, averageVolume, averageVolume10days, averageDailyVolume10Day, bid, ask, bidSize, askSize, marketCap, fiftyTwoWeekLow, fiftyTwoWeekHigh, allTimeHigh, allTimeLow, priceToSalesTrailing12Months, fiftyDayAverage, twoHundredDayAverage, trailingAnnualDividendRate, trailingAnnualDividendYield, currency, tradeable, enterpriseValue, profitMargins, floatShares, sharesOutstanding, sharesShort, sharesShortPriorMonth, sharesShortPreviousMonthDate, dateShortInterest, sharesPercentSharesOut, heldPercentInsiders, heldPercentInstitutions, shortRatio, shortPercentOfFloat, impliedSharesOutstanding, bookValue, priceToBook, lastFiscalYearEnd, nextFiscalYearEnd, mostRecentQuarter, earningsQuarterlyGrowth, netIncomeToCommon, trailingEps, forwardEps, lastSplitFactor, lastSplitDate, enterpriseToRevenue, enterpriseToEbitda, 52WeekChange, SandP52WeekChange, lastDividendValue, lastDividendDate, quoteType, currentPrice, targetHighPrice, targetLowPrice, targetMeanPrice, targetMedianPrice, recommendationMean, recommendationKey, numberOfAnalystOpinions, totalCash, totalCashPerShare, ebitda, totalDebt, quickRatio, currentRatio, totalRevenue, debtToEquity, revenuePerShare, returnOnAssets, returnOnEquity, grossProfits, freeCashflow, operatingCashflow, earningsGrowth, revenueGrowth, grossMargins, ebitdaMargins, operatingMargins, financialCurrency, symbol, language, region, typeDisp, quoteSourceName, triggerable, customPriceAlertConfidence, shortName, longName, corporateActions, postMarketTime, regularMarketTime, exchange, messageBoardId, exchangeTimezoneName, exchangeTimezoneShortName, gmtOffSetMilliseconds, market, esgPopulated, hasPrePostMarketData, firstTradeDateMilliseconds, postMarketChangePercent, postMarketPrice, postMarketChange, regularMarketChange, regularMarketDayRange, fullExchangeName, averageDailyVolume3Month, fiftyTwoWeekLowChange, fiftyTwoWeekLowChangePercent, fiftyTwoWeekRange, fiftyTwoWeekHighChange, fiftyTwoWeekHighChangePercent, fiftyTwoWeekChangePercent, dividendDate, earningsTimestamp, earningsTimestampStart, earningsTimestampEnd, earningsCallTimestampStart, earningsCallTimestampEnd, isEarningsDateEstimate, epsTrailingTwelveMonths, epsForward, epsCurrentYear, priceEpsCurrentYear, regularMarketChangePercent, regularMarketPrice, marketState, fiftyDayAverageChange, fiftyDayAverageChangePercent, twoHundredDayAverageChange, twoHundredDayAverageChangePercent, sourceInterval, exchangeDataDelayedBy, averageAnalystRating, cryptoTradeable, displayName, trailingPegRatio, "
     ]
    }
   ],
   "execution_count": 21
  },
  {
   "metadata": {},
   "cell_type": "markdown",
   "source": "Analysis and holdings",
   "id": "5ec341259cc76529"
  },
  {
   "metadata": {
    "ExecuteTime": {
     "end_time": "2025-10-09T10:40:10.846301Z",
     "start_time": "2025-10-09T10:40:10.830646Z"
    }
   },
   "cell_type": "code",
   "source": "earnings_estimate.tail()",
   "id": "3e31d30664b26a8d",
   "outputs": [
    {
     "data": {
      "text/plain": [
       "  period      avg   low  high  yearAgoEps  numberOfAnalysts  growth\n",
       "0     0q  1.75532  1.59  1.82     0.97000                31  0.8096\n",
       "1    +1q  2.48185  2.28  2.67     2.40000                26  0.0341\n",
       "2     0y  7.36557  7.09  7.47     6.08000                42  0.2114\n",
       "3    +1y  7.99103  7.13  9.00     7.36557                42  0.0849"
      ],
      "text/html": [
       "<div>\n",
       "<style scoped>\n",
       "    .dataframe tbody tr th:only-of-type {\n",
       "        vertical-align: middle;\n",
       "    }\n",
       "\n",
       "    .dataframe tbody tr th {\n",
       "        vertical-align: top;\n",
       "    }\n",
       "\n",
       "    .dataframe thead th {\n",
       "        text-align: right;\n",
       "    }\n",
       "</style>\n",
       "<table border=\"1\" class=\"dataframe\">\n",
       "  <thead>\n",
       "    <tr style=\"text-align: right;\">\n",
       "      <th></th>\n",
       "      <th>period</th>\n",
       "      <th>avg</th>\n",
       "      <th>low</th>\n",
       "      <th>high</th>\n",
       "      <th>yearAgoEps</th>\n",
       "      <th>numberOfAnalysts</th>\n",
       "      <th>growth</th>\n",
       "    </tr>\n",
       "  </thead>\n",
       "  <tbody>\n",
       "    <tr>\n",
       "      <th>0</th>\n",
       "      <td>0q</td>\n",
       "      <td>1.75532</td>\n",
       "      <td>1.59</td>\n",
       "      <td>1.82</td>\n",
       "      <td>0.97000</td>\n",
       "      <td>31</td>\n",
       "      <td>0.8096</td>\n",
       "    </tr>\n",
       "    <tr>\n",
       "      <th>1</th>\n",
       "      <td>+1q</td>\n",
       "      <td>2.48185</td>\n",
       "      <td>2.28</td>\n",
       "      <td>2.67</td>\n",
       "      <td>2.40000</td>\n",
       "      <td>26</td>\n",
       "      <td>0.0341</td>\n",
       "    </tr>\n",
       "    <tr>\n",
       "      <th>2</th>\n",
       "      <td>0y</td>\n",
       "      <td>7.36557</td>\n",
       "      <td>7.09</td>\n",
       "      <td>7.47</td>\n",
       "      <td>6.08000</td>\n",
       "      <td>42</td>\n",
       "      <td>0.2114</td>\n",
       "    </tr>\n",
       "    <tr>\n",
       "      <th>3</th>\n",
       "      <td>+1y</td>\n",
       "      <td>7.99103</td>\n",
       "      <td>7.13</td>\n",
       "      <td>9.00</td>\n",
       "      <td>7.36557</td>\n",
       "      <td>42</td>\n",
       "      <td>0.0849</td>\n",
       "    </tr>\n",
       "  </tbody>\n",
       "</table>\n",
       "</div>"
      ]
     },
     "execution_count": 22,
     "metadata": {},
     "output_type": "execute_result"
    }
   ],
   "execution_count": 22
  },
  {
   "metadata": {
    "ExecuteTime": {
     "end_time": "2025-10-09T10:40:11.008280Z",
     "start_time": "2025-10-09T10:40:10.998625Z"
    }
   },
   "cell_type": "code",
   "source": "earnings_history.tail()",
   "id": "d8882145109de7cb",
   "outputs": [
    {
     "data": {
      "text/plain": [
       "      quarter  epsActual  epsEstimate  epsDifference  surprisePercent\n",
       "0  2024-09-30       0.97      0.94654           0.02           0.0248\n",
       "1  2024-12-31       2.40      2.34102           0.06           0.0252\n",
       "2  2025-03-31       1.65      1.62253           0.03           0.0169\n",
       "3  2025-06-30       1.57      1.42572           0.14           0.1012"
      ],
      "text/html": [
       "<div>\n",
       "<style scoped>\n",
       "    .dataframe tbody tr th:only-of-type {\n",
       "        vertical-align: middle;\n",
       "    }\n",
       "\n",
       "    .dataframe tbody tr th {\n",
       "        vertical-align: top;\n",
       "    }\n",
       "\n",
       "    .dataframe thead th {\n",
       "        text-align: right;\n",
       "    }\n",
       "</style>\n",
       "<table border=\"1\" class=\"dataframe\">\n",
       "  <thead>\n",
       "    <tr style=\"text-align: right;\">\n",
       "      <th></th>\n",
       "      <th>quarter</th>\n",
       "      <th>epsActual</th>\n",
       "      <th>epsEstimate</th>\n",
       "      <th>epsDifference</th>\n",
       "      <th>surprisePercent</th>\n",
       "    </tr>\n",
       "  </thead>\n",
       "  <tbody>\n",
       "    <tr>\n",
       "      <th>0</th>\n",
       "      <td>2024-09-30</td>\n",
       "      <td>0.97</td>\n",
       "      <td>0.94654</td>\n",
       "      <td>0.02</td>\n",
       "      <td>0.0248</td>\n",
       "    </tr>\n",
       "    <tr>\n",
       "      <th>1</th>\n",
       "      <td>2024-12-31</td>\n",
       "      <td>2.40</td>\n",
       "      <td>2.34102</td>\n",
       "      <td>0.06</td>\n",
       "      <td>0.0252</td>\n",
       "    </tr>\n",
       "    <tr>\n",
       "      <th>2</th>\n",
       "      <td>2025-03-31</td>\n",
       "      <td>1.65</td>\n",
       "      <td>1.62253</td>\n",
       "      <td>0.03</td>\n",
       "      <td>0.0169</td>\n",
       "    </tr>\n",
       "    <tr>\n",
       "      <th>3</th>\n",
       "      <td>2025-06-30</td>\n",
       "      <td>1.57</td>\n",
       "      <td>1.42572</td>\n",
       "      <td>0.14</td>\n",
       "      <td>0.1012</td>\n",
       "    </tr>\n",
       "  </tbody>\n",
       "</table>\n",
       "</div>"
      ]
     },
     "execution_count": 23,
     "metadata": {},
     "output_type": "execute_result"
    }
   ],
   "execution_count": 23
  },
  {
   "metadata": {
    "ExecuteTime": {
     "end_time": "2025-10-09T10:40:11.524059Z",
     "start_time": "2025-10-09T10:40:11.517876Z"
    }
   },
   "cell_type": "code",
   "source": "eps_revisions.tail()",
   "id": "e17cf1791454e8f7",
   "outputs": [
    {
     "data": {
      "text/plain": [
       "  period  upLast7days  upLast30days  downLast30days  downLast7Days\n",
       "0     0q            2             3               1              0\n",
       "1    +1q            2             3               2              0\n",
       "2     0y            2             4               2              0\n",
       "3    +1y            2             5               2              0"
      ],
      "text/html": [
       "<div>\n",
       "<style scoped>\n",
       "    .dataframe tbody tr th:only-of-type {\n",
       "        vertical-align: middle;\n",
       "    }\n",
       "\n",
       "    .dataframe tbody tr th {\n",
       "        vertical-align: top;\n",
       "    }\n",
       "\n",
       "    .dataframe thead th {\n",
       "        text-align: right;\n",
       "    }\n",
       "</style>\n",
       "<table border=\"1\" class=\"dataframe\">\n",
       "  <thead>\n",
       "    <tr style=\"text-align: right;\">\n",
       "      <th></th>\n",
       "      <th>period</th>\n",
       "      <th>upLast7days</th>\n",
       "      <th>upLast30days</th>\n",
       "      <th>downLast30days</th>\n",
       "      <th>downLast7Days</th>\n",
       "    </tr>\n",
       "  </thead>\n",
       "  <tbody>\n",
       "    <tr>\n",
       "      <th>0</th>\n",
       "      <td>0q</td>\n",
       "      <td>2</td>\n",
       "      <td>3</td>\n",
       "      <td>1</td>\n",
       "      <td>0</td>\n",
       "    </tr>\n",
       "    <tr>\n",
       "      <th>1</th>\n",
       "      <td>+1q</td>\n",
       "      <td>2</td>\n",
       "      <td>3</td>\n",
       "      <td>2</td>\n",
       "      <td>0</td>\n",
       "    </tr>\n",
       "    <tr>\n",
       "      <th>2</th>\n",
       "      <td>0y</td>\n",
       "      <td>2</td>\n",
       "      <td>4</td>\n",
       "      <td>2</td>\n",
       "      <td>0</td>\n",
       "    </tr>\n",
       "    <tr>\n",
       "      <th>3</th>\n",
       "      <td>+1y</td>\n",
       "      <td>2</td>\n",
       "      <td>5</td>\n",
       "      <td>2</td>\n",
       "      <td>0</td>\n",
       "    </tr>\n",
       "  </tbody>\n",
       "</table>\n",
       "</div>"
      ]
     },
     "execution_count": 24,
     "metadata": {},
     "output_type": "execute_result"
    }
   ],
   "execution_count": 24
  },
  {
   "metadata": {
    "ExecuteTime": {
     "end_time": "2025-10-09T10:40:11.669049Z",
     "start_time": "2025-10-09T10:40:11.655272Z"
    }
   },
   "cell_type": "code",
   "source": "eps_trend.tail()",
   "id": "5602f08b9fe9b0bc",
   "outputs": [
    {
     "data": {
      "text/plain": [
       "  period  current  7daysAgo  30daysAgo  60daysAgo  90daysAgo\n",
       "0     0q  1.75532   1.76050    1.75923    1.75709    1.65350\n",
       "1    +1q  2.48185   2.49325    2.47123    2.46775    2.41761\n",
       "2     0y  7.36557   7.36913    7.38088    7.37341    7.17122\n",
       "3    +1y  7.99103   7.99959    7.96048    7.95049    7.81165"
      ],
      "text/html": [
       "<div>\n",
       "<style scoped>\n",
       "    .dataframe tbody tr th:only-of-type {\n",
       "        vertical-align: middle;\n",
       "    }\n",
       "\n",
       "    .dataframe tbody tr th {\n",
       "        vertical-align: top;\n",
       "    }\n",
       "\n",
       "    .dataframe thead th {\n",
       "        text-align: right;\n",
       "    }\n",
       "</style>\n",
       "<table border=\"1\" class=\"dataframe\">\n",
       "  <thead>\n",
       "    <tr style=\"text-align: right;\">\n",
       "      <th></th>\n",
       "      <th>period</th>\n",
       "      <th>current</th>\n",
       "      <th>7daysAgo</th>\n",
       "      <th>30daysAgo</th>\n",
       "      <th>60daysAgo</th>\n",
       "      <th>90daysAgo</th>\n",
       "    </tr>\n",
       "  </thead>\n",
       "  <tbody>\n",
       "    <tr>\n",
       "      <th>0</th>\n",
       "      <td>0q</td>\n",
       "      <td>1.75532</td>\n",
       "      <td>1.76050</td>\n",
       "      <td>1.75923</td>\n",
       "      <td>1.75709</td>\n",
       "      <td>1.65350</td>\n",
       "    </tr>\n",
       "    <tr>\n",
       "      <th>1</th>\n",
       "      <td>+1q</td>\n",
       "      <td>2.48185</td>\n",
       "      <td>2.49325</td>\n",
       "      <td>2.47123</td>\n",
       "      <td>2.46775</td>\n",
       "      <td>2.41761</td>\n",
       "    </tr>\n",
       "    <tr>\n",
       "      <th>2</th>\n",
       "      <td>0y</td>\n",
       "      <td>7.36557</td>\n",
       "      <td>7.36913</td>\n",
       "      <td>7.38088</td>\n",
       "      <td>7.37341</td>\n",
       "      <td>7.17122</td>\n",
       "    </tr>\n",
       "    <tr>\n",
       "      <th>3</th>\n",
       "      <td>+1y</td>\n",
       "      <td>7.99103</td>\n",
       "      <td>7.99959</td>\n",
       "      <td>7.96048</td>\n",
       "      <td>7.95049</td>\n",
       "      <td>7.81165</td>\n",
       "    </tr>\n",
       "  </tbody>\n",
       "</table>\n",
       "</div>"
      ]
     },
     "execution_count": 25,
     "metadata": {},
     "output_type": "execute_result"
    }
   ],
   "execution_count": 25
  },
  {
   "metadata": {
    "ExecuteTime": {
     "end_time": "2025-10-09T10:40:12.086442Z",
     "start_time": "2025-10-09T10:40:12.077150Z"
    }
   },
   "cell_type": "code",
   "source": "growth_estimates.tail()",
   "id": "d3343f1939cd1d58",
   "outputs": [
    {
     "data": {
      "text/plain": [
       "  period  stockTrend  indexTrend\n",
       "0     0q      0.0745      0.0689\n",
       "1    +1q      0.0366      0.0607\n",
       "2     0y      0.0960      0.0910\n",
       "3    +1y      0.0835      0.1419\n",
       "4    LTG         NaN      0.1220"
      ],
      "text/html": [
       "<div>\n",
       "<style scoped>\n",
       "    .dataframe tbody tr th:only-of-type {\n",
       "        vertical-align: middle;\n",
       "    }\n",
       "\n",
       "    .dataframe tbody tr th {\n",
       "        vertical-align: top;\n",
       "    }\n",
       "\n",
       "    .dataframe thead th {\n",
       "        text-align: right;\n",
       "    }\n",
       "</style>\n",
       "<table border=\"1\" class=\"dataframe\">\n",
       "  <thead>\n",
       "    <tr style=\"text-align: right;\">\n",
       "      <th></th>\n",
       "      <th>period</th>\n",
       "      <th>stockTrend</th>\n",
       "      <th>indexTrend</th>\n",
       "    </tr>\n",
       "  </thead>\n",
       "  <tbody>\n",
       "    <tr>\n",
       "      <th>0</th>\n",
       "      <td>0q</td>\n",
       "      <td>0.0745</td>\n",
       "      <td>0.0689</td>\n",
       "    </tr>\n",
       "    <tr>\n",
       "      <th>1</th>\n",
       "      <td>+1q</td>\n",
       "      <td>0.0366</td>\n",
       "      <td>0.0607</td>\n",
       "    </tr>\n",
       "    <tr>\n",
       "      <th>2</th>\n",
       "      <td>0y</td>\n",
       "      <td>0.0960</td>\n",
       "      <td>0.0910</td>\n",
       "    </tr>\n",
       "    <tr>\n",
       "      <th>3</th>\n",
       "      <td>+1y</td>\n",
       "      <td>0.0835</td>\n",
       "      <td>0.1419</td>\n",
       "    </tr>\n",
       "    <tr>\n",
       "      <th>4</th>\n",
       "      <td>LTG</td>\n",
       "      <td>NaN</td>\n",
       "      <td>0.1220</td>\n",
       "    </tr>\n",
       "  </tbody>\n",
       "</table>\n",
       "</div>"
      ]
     },
     "execution_count": 26,
     "metadata": {},
     "output_type": "execute_result"
    }
   ],
   "execution_count": 26
  },
  {
   "metadata": {
    "ExecuteTime": {
     "end_time": "2025-10-09T10:40:12.249002Z",
     "start_time": "2025-10-09T10:40:12.242548Z"
    }
   },
   "cell_type": "code",
   "source": "insider_purchases.tail()",
   "id": "1e950981446bb081",
   "outputs": [
    {
     "data": {
      "text/plain": [
       "   Unnamed: 0      Insider Purchases Last 6m     Shares  Trans\n",
       "2           2    Net Shares Purchased (Sold)    -109611    7.0\n",
       "3           3      Total Insider Shares Held  292355680    NaN\n",
       "4           4  % Net Shares Purchased (Sold)          0    NaN\n",
       "5           5                   % Buy Shares          0    NaN\n",
       "6           6                  % Sell Shares          0    NaN"
      ],
      "text/html": [
       "<div>\n",
       "<style scoped>\n",
       "    .dataframe tbody tr th:only-of-type {\n",
       "        vertical-align: middle;\n",
       "    }\n",
       "\n",
       "    .dataframe tbody tr th {\n",
       "        vertical-align: top;\n",
       "    }\n",
       "\n",
       "    .dataframe thead th {\n",
       "        text-align: right;\n",
       "    }\n",
       "</style>\n",
       "<table border=\"1\" class=\"dataframe\">\n",
       "  <thead>\n",
       "    <tr style=\"text-align: right;\">\n",
       "      <th></th>\n",
       "      <th>Unnamed: 0</th>\n",
       "      <th>Insider Purchases Last 6m</th>\n",
       "      <th>Shares</th>\n",
       "      <th>Trans</th>\n",
       "    </tr>\n",
       "  </thead>\n",
       "  <tbody>\n",
       "    <tr>\n",
       "      <th>2</th>\n",
       "      <td>2</td>\n",
       "      <td>Net Shares Purchased (Sold)</td>\n",
       "      <td>-109611</td>\n",
       "      <td>7.0</td>\n",
       "    </tr>\n",
       "    <tr>\n",
       "      <th>3</th>\n",
       "      <td>3</td>\n",
       "      <td>Total Insider Shares Held</td>\n",
       "      <td>292355680</td>\n",
       "      <td>NaN</td>\n",
       "    </tr>\n",
       "    <tr>\n",
       "      <th>4</th>\n",
       "      <td>4</td>\n",
       "      <td>% Net Shares Purchased (Sold)</td>\n",
       "      <td>0</td>\n",
       "      <td>NaN</td>\n",
       "    </tr>\n",
       "    <tr>\n",
       "      <th>5</th>\n",
       "      <td>5</td>\n",
       "      <td>% Buy Shares</td>\n",
       "      <td>0</td>\n",
       "      <td>NaN</td>\n",
       "    </tr>\n",
       "    <tr>\n",
       "      <th>6</th>\n",
       "      <td>6</td>\n",
       "      <td>% Sell Shares</td>\n",
       "      <td>0</td>\n",
       "      <td>NaN</td>\n",
       "    </tr>\n",
       "  </tbody>\n",
       "</table>\n",
       "</div>"
      ]
     },
     "execution_count": 27,
     "metadata": {},
     "output_type": "execute_result"
    }
   ],
   "execution_count": 27
  },
  {
   "metadata": {
    "ExecuteTime": {
     "end_time": "2025-10-09T10:40:12.668547Z",
     "start_time": "2025-10-09T10:40:12.657419Z"
    }
   },
   "cell_type": "code",
   "source": "insider_roster_holders.tail()",
   "id": "77dacaf1a6754e3f",
   "outputs": [
    {
     "data": {
      "text/plain": [
       "   Unnamed: 0                Name                 Position  URL  \\\n",
       "5           5     O'BRIEN DEIRDRE                  Officer  NaN   \n",
       "6           6        PAREKH KEVAN  Chief Financial Officer  NaN   \n",
       "7           7      SUGAR RONALD D                 Director  NaN   \n",
       "8           8      WAGNER SUSAN L                 Director  NaN   \n",
       "9           9  WILLIAMS JEFFREY E  Chief Operating Officer  NaN   \n",
       "\n",
       "                         Most Recent Transaction Latest Transaction Date  \\\n",
       "5                                           Sale              2025-08-08   \n",
       "6                                           Sale              2025-04-23   \n",
       "7  Conversion of Exercise of derivative security              2025-01-31   \n",
       "8  Conversion of Exercise of derivative security              2025-01-31   \n",
       "9                                           Sale              2025-04-02   \n",
       "\n",
       "   Shares Owned Directly Position Direct Date  \n",
       "5                 136687           2025-08-08  \n",
       "6                   4569           2025-04-23  \n",
       "7                 109311           2025-01-31  \n",
       "8                  68533           2025-01-31  \n",
       "9                 390059           2025-04-02  "
      ],
      "text/html": [
       "<div>\n",
       "<style scoped>\n",
       "    .dataframe tbody tr th:only-of-type {\n",
       "        vertical-align: middle;\n",
       "    }\n",
       "\n",
       "    .dataframe tbody tr th {\n",
       "        vertical-align: top;\n",
       "    }\n",
       "\n",
       "    .dataframe thead th {\n",
       "        text-align: right;\n",
       "    }\n",
       "</style>\n",
       "<table border=\"1\" class=\"dataframe\">\n",
       "  <thead>\n",
       "    <tr style=\"text-align: right;\">\n",
       "      <th></th>\n",
       "      <th>Unnamed: 0</th>\n",
       "      <th>Name</th>\n",
       "      <th>Position</th>\n",
       "      <th>URL</th>\n",
       "      <th>Most Recent Transaction</th>\n",
       "      <th>Latest Transaction Date</th>\n",
       "      <th>Shares Owned Directly</th>\n",
       "      <th>Position Direct Date</th>\n",
       "    </tr>\n",
       "  </thead>\n",
       "  <tbody>\n",
       "    <tr>\n",
       "      <th>5</th>\n",
       "      <td>5</td>\n",
       "      <td>O'BRIEN DEIRDRE</td>\n",
       "      <td>Officer</td>\n",
       "      <td>NaN</td>\n",
       "      <td>Sale</td>\n",
       "      <td>2025-08-08</td>\n",
       "      <td>136687</td>\n",
       "      <td>2025-08-08</td>\n",
       "    </tr>\n",
       "    <tr>\n",
       "      <th>6</th>\n",
       "      <td>6</td>\n",
       "      <td>PAREKH KEVAN</td>\n",
       "      <td>Chief Financial Officer</td>\n",
       "      <td>NaN</td>\n",
       "      <td>Sale</td>\n",
       "      <td>2025-04-23</td>\n",
       "      <td>4569</td>\n",
       "      <td>2025-04-23</td>\n",
       "    </tr>\n",
       "    <tr>\n",
       "      <th>7</th>\n",
       "      <td>7</td>\n",
       "      <td>SUGAR RONALD D</td>\n",
       "      <td>Director</td>\n",
       "      <td>NaN</td>\n",
       "      <td>Conversion of Exercise of derivative security</td>\n",
       "      <td>2025-01-31</td>\n",
       "      <td>109311</td>\n",
       "      <td>2025-01-31</td>\n",
       "    </tr>\n",
       "    <tr>\n",
       "      <th>8</th>\n",
       "      <td>8</td>\n",
       "      <td>WAGNER SUSAN L</td>\n",
       "      <td>Director</td>\n",
       "      <td>NaN</td>\n",
       "      <td>Conversion of Exercise of derivative security</td>\n",
       "      <td>2025-01-31</td>\n",
       "      <td>68533</td>\n",
       "      <td>2025-01-31</td>\n",
       "    </tr>\n",
       "    <tr>\n",
       "      <th>9</th>\n",
       "      <td>9</td>\n",
       "      <td>WILLIAMS JEFFREY E</td>\n",
       "      <td>Chief Operating Officer</td>\n",
       "      <td>NaN</td>\n",
       "      <td>Sale</td>\n",
       "      <td>2025-04-02</td>\n",
       "      <td>390059</td>\n",
       "      <td>2025-04-02</td>\n",
       "    </tr>\n",
       "  </tbody>\n",
       "</table>\n",
       "</div>"
      ]
     },
     "execution_count": 28,
     "metadata": {},
     "output_type": "execute_result"
    }
   ],
   "execution_count": 28
  },
  {
   "metadata": {
    "ExecuteTime": {
     "end_time": "2025-10-09T10:40:12.876606Z",
     "start_time": "2025-10-09T10:40:12.863418Z"
    }
   },
   "cell_type": "code",
   "source": "institutional_holders.tail()",
   "id": "2bbff234740429df",
   "outputs": [
    {
     "data": {
      "text/plain": [
       "   Unnamed: 0 Date Reported                         Holder  pctHeld  \\\n",
       "5           5    2025-06-30        Berkshire Hathaway, Inc   0.0189   \n",
       "6           6    2025-06-30                 Morgan Stanley   0.0157   \n",
       "7           7    2025-06-30            JPMORGAN CHASE & CO   0.0145   \n",
       "8           8    2025-06-30  Price (T.Rowe) Associates Inc   0.0137   \n",
       "9           9    2025-06-30                    NORGES BANK   0.0128   \n",
       "\n",
       "      Shares        Value  pctChange  \n",
       "5  280000000  72245596923    -0.0667  \n",
       "6  233198646  60169912078    -0.0333  \n",
       "7  214606399  55372740712     0.0798  \n",
       "8  202720404  52305916412    -0.0558  \n",
       "9  189804820  48973437571     0.0141  "
      ],
      "text/html": [
       "<div>\n",
       "<style scoped>\n",
       "    .dataframe tbody tr th:only-of-type {\n",
       "        vertical-align: middle;\n",
       "    }\n",
       "\n",
       "    .dataframe tbody tr th {\n",
       "        vertical-align: top;\n",
       "    }\n",
       "\n",
       "    .dataframe thead th {\n",
       "        text-align: right;\n",
       "    }\n",
       "</style>\n",
       "<table border=\"1\" class=\"dataframe\">\n",
       "  <thead>\n",
       "    <tr style=\"text-align: right;\">\n",
       "      <th></th>\n",
       "      <th>Unnamed: 0</th>\n",
       "      <th>Date Reported</th>\n",
       "      <th>Holder</th>\n",
       "      <th>pctHeld</th>\n",
       "      <th>Shares</th>\n",
       "      <th>Value</th>\n",
       "      <th>pctChange</th>\n",
       "    </tr>\n",
       "  </thead>\n",
       "  <tbody>\n",
       "    <tr>\n",
       "      <th>5</th>\n",
       "      <td>5</td>\n",
       "      <td>2025-06-30</td>\n",
       "      <td>Berkshire Hathaway, Inc</td>\n",
       "      <td>0.0189</td>\n",
       "      <td>280000000</td>\n",
       "      <td>72245596923</td>\n",
       "      <td>-0.0667</td>\n",
       "    </tr>\n",
       "    <tr>\n",
       "      <th>6</th>\n",
       "      <td>6</td>\n",
       "      <td>2025-06-30</td>\n",
       "      <td>Morgan Stanley</td>\n",
       "      <td>0.0157</td>\n",
       "      <td>233198646</td>\n",
       "      <td>60169912078</td>\n",
       "      <td>-0.0333</td>\n",
       "    </tr>\n",
       "    <tr>\n",
       "      <th>7</th>\n",
       "      <td>7</td>\n",
       "      <td>2025-06-30</td>\n",
       "      <td>JPMORGAN CHASE &amp; CO</td>\n",
       "      <td>0.0145</td>\n",
       "      <td>214606399</td>\n",
       "      <td>55372740712</td>\n",
       "      <td>0.0798</td>\n",
       "    </tr>\n",
       "    <tr>\n",
       "      <th>8</th>\n",
       "      <td>8</td>\n",
       "      <td>2025-06-30</td>\n",
       "      <td>Price (T.Rowe) Associates Inc</td>\n",
       "      <td>0.0137</td>\n",
       "      <td>202720404</td>\n",
       "      <td>52305916412</td>\n",
       "      <td>-0.0558</td>\n",
       "    </tr>\n",
       "    <tr>\n",
       "      <th>9</th>\n",
       "      <td>9</td>\n",
       "      <td>2025-06-30</td>\n",
       "      <td>NORGES BANK</td>\n",
       "      <td>0.0128</td>\n",
       "      <td>189804820</td>\n",
       "      <td>48973437571</td>\n",
       "      <td>0.0141</td>\n",
       "    </tr>\n",
       "  </tbody>\n",
       "</table>\n",
       "</div>"
      ]
     },
     "execution_count": 29,
     "metadata": {},
     "output_type": "execute_result"
    }
   ],
   "execution_count": 29
  },
  {
   "metadata": {
    "ExecuteTime": {
     "end_time": "2025-10-09T10:40:13.219572Z",
     "start_time": "2025-10-09T10:40:13.211990Z"
    }
   },
   "cell_type": "code",
   "source": "major_holders.tail()",
   "id": "b5c27cb3f219e6b4",
   "outputs": [
    {
     "data": {
      "text/plain": [
       "                     Unnamed: 0       Value\n",
       "0           insidersPercentHeld     0.01970\n",
       "1       institutionsPercentHeld     0.63630\n",
       "2  institutionsFloatPercentHeld     0.64909\n",
       "3             institutionsCount  6949.00000"
      ],
      "text/html": [
       "<div>\n",
       "<style scoped>\n",
       "    .dataframe tbody tr th:only-of-type {\n",
       "        vertical-align: middle;\n",
       "    }\n",
       "\n",
       "    .dataframe tbody tr th {\n",
       "        vertical-align: top;\n",
       "    }\n",
       "\n",
       "    .dataframe thead th {\n",
       "        text-align: right;\n",
       "    }\n",
       "</style>\n",
       "<table border=\"1\" class=\"dataframe\">\n",
       "  <thead>\n",
       "    <tr style=\"text-align: right;\">\n",
       "      <th></th>\n",
       "      <th>Unnamed: 0</th>\n",
       "      <th>Value</th>\n",
       "    </tr>\n",
       "  </thead>\n",
       "  <tbody>\n",
       "    <tr>\n",
       "      <th>0</th>\n",
       "      <td>insidersPercentHeld</td>\n",
       "      <td>0.01970</td>\n",
       "    </tr>\n",
       "    <tr>\n",
       "      <th>1</th>\n",
       "      <td>institutionsPercentHeld</td>\n",
       "      <td>0.63630</td>\n",
       "    </tr>\n",
       "    <tr>\n",
       "      <th>2</th>\n",
       "      <td>institutionsFloatPercentHeld</td>\n",
       "      <td>0.64909</td>\n",
       "    </tr>\n",
       "    <tr>\n",
       "      <th>3</th>\n",
       "      <td>institutionsCount</td>\n",
       "      <td>6949.00000</td>\n",
       "    </tr>\n",
       "  </tbody>\n",
       "</table>\n",
       "</div>"
      ]
     },
     "execution_count": 30,
     "metadata": {},
     "output_type": "execute_result"
    }
   ],
   "execution_count": 30
  },
  {
   "metadata": {
    "ExecuteTime": {
     "end_time": "2025-10-09T10:40:13.394520Z",
     "start_time": "2025-10-09T10:40:13.376473Z"
    }
   },
   "cell_type": "code",
   "source": "mutualfunds_holders.tail()",
   "id": "c0cd5d3dfa773e89",
   "outputs": [
    {
     "data": {
      "text/plain": [
       "   Unnamed: 0 Date Reported  \\\n",
       "5           5    2025-06-30   \n",
       "6           6    2025-08-31   \n",
       "7           7    2025-06-30   \n",
       "8           8    2025-05-31   \n",
       "9           9    2025-08-31   \n",
       "\n",
       "                                              Holder  pctHeld     Shares  \\\n",
       "5    VANGUARD INDEX FUNDS-Vanguard Growth Index Fund   0.0100  147872804   \n",
       "6                        Invesco QQQ Trust, Series 1   0.0084  124259866   \n",
       "7  VANGUARD INSTITUTIONAL INDEX FUNDS-Vanguard In...   0.0062   91543381   \n",
       "8  VANGUARD WORLD FUND-Vanguard Information Techn...   0.0050   74018868   \n",
       "9      iShares Trust-iShares Russell 1000 Growth ETF   0.0037   55486808   \n",
       "\n",
       "         Value  pctChange  \n",
       "5  38154139263     0.0145  \n",
       "6  32061529260    -0.0035  \n",
       "7  23620022159    -0.0115  \n",
       "8  19098347508     0.0272  \n",
       "9  14316705590    -0.0010  "
      ],
      "text/html": [
       "<div>\n",
       "<style scoped>\n",
       "    .dataframe tbody tr th:only-of-type {\n",
       "        vertical-align: middle;\n",
       "    }\n",
       "\n",
       "    .dataframe tbody tr th {\n",
       "        vertical-align: top;\n",
       "    }\n",
       "\n",
       "    .dataframe thead th {\n",
       "        text-align: right;\n",
       "    }\n",
       "</style>\n",
       "<table border=\"1\" class=\"dataframe\">\n",
       "  <thead>\n",
       "    <tr style=\"text-align: right;\">\n",
       "      <th></th>\n",
       "      <th>Unnamed: 0</th>\n",
       "      <th>Date Reported</th>\n",
       "      <th>Holder</th>\n",
       "      <th>pctHeld</th>\n",
       "      <th>Shares</th>\n",
       "      <th>Value</th>\n",
       "      <th>pctChange</th>\n",
       "    </tr>\n",
       "  </thead>\n",
       "  <tbody>\n",
       "    <tr>\n",
       "      <th>5</th>\n",
       "      <td>5</td>\n",
       "      <td>2025-06-30</td>\n",
       "      <td>VANGUARD INDEX FUNDS-Vanguard Growth Index Fund</td>\n",
       "      <td>0.0100</td>\n",
       "      <td>147872804</td>\n",
       "      <td>38154139263</td>\n",
       "      <td>0.0145</td>\n",
       "    </tr>\n",
       "    <tr>\n",
       "      <th>6</th>\n",
       "      <td>6</td>\n",
       "      <td>2025-08-31</td>\n",
       "      <td>Invesco QQQ Trust, Series 1</td>\n",
       "      <td>0.0084</td>\n",
       "      <td>124259866</td>\n",
       "      <td>32061529260</td>\n",
       "      <td>-0.0035</td>\n",
       "    </tr>\n",
       "    <tr>\n",
       "      <th>7</th>\n",
       "      <td>7</td>\n",
       "      <td>2025-06-30</td>\n",
       "      <td>VANGUARD INSTITUTIONAL INDEX FUNDS-Vanguard In...</td>\n",
       "      <td>0.0062</td>\n",
       "      <td>91543381</td>\n",
       "      <td>23620022159</td>\n",
       "      <td>-0.0115</td>\n",
       "    </tr>\n",
       "    <tr>\n",
       "      <th>8</th>\n",
       "      <td>8</td>\n",
       "      <td>2025-05-31</td>\n",
       "      <td>VANGUARD WORLD FUND-Vanguard Information Techn...</td>\n",
       "      <td>0.0050</td>\n",
       "      <td>74018868</td>\n",
       "      <td>19098347508</td>\n",
       "      <td>0.0272</td>\n",
       "    </tr>\n",
       "    <tr>\n",
       "      <th>9</th>\n",
       "      <td>9</td>\n",
       "      <td>2025-08-31</td>\n",
       "      <td>iShares Trust-iShares Russell 1000 Growth ETF</td>\n",
       "      <td>0.0037</td>\n",
       "      <td>55486808</td>\n",
       "      <td>14316705590</td>\n",
       "      <td>-0.0010</td>\n",
       "    </tr>\n",
       "  </tbody>\n",
       "</table>\n",
       "</div>"
      ]
     },
     "execution_count": 31,
     "metadata": {},
     "output_type": "execute_result"
    }
   ],
   "execution_count": 31
  },
  {
   "metadata": {
    "ExecuteTime": {
     "end_time": "2025-10-09T10:40:13.802829Z",
     "start_time": "2025-10-09T10:40:13.792120Z"
    }
   },
   "cell_type": "code",
   "source": "reccomendations.tail()",
   "id": "101e7aa7c8cb0fe3",
   "outputs": [
    {
     "data": {
      "text/plain": [
       "   Unnamed: 0 period  strongBuy  buy  hold  sell  strongSell\n",
       "0           0     0m          5   24    14     2           3\n",
       "1           1    -1m          5   23    15     1           3\n",
       "2           2    -2m          5   22    15     1           1\n",
       "3           3    -3m          5   23    15     1           1"
      ],
      "text/html": [
       "<div>\n",
       "<style scoped>\n",
       "    .dataframe tbody tr th:only-of-type {\n",
       "        vertical-align: middle;\n",
       "    }\n",
       "\n",
       "    .dataframe tbody tr th {\n",
       "        vertical-align: top;\n",
       "    }\n",
       "\n",
       "    .dataframe thead th {\n",
       "        text-align: right;\n",
       "    }\n",
       "</style>\n",
       "<table border=\"1\" class=\"dataframe\">\n",
       "  <thead>\n",
       "    <tr style=\"text-align: right;\">\n",
       "      <th></th>\n",
       "      <th>Unnamed: 0</th>\n",
       "      <th>period</th>\n",
       "      <th>strongBuy</th>\n",
       "      <th>buy</th>\n",
       "      <th>hold</th>\n",
       "      <th>sell</th>\n",
       "      <th>strongSell</th>\n",
       "    </tr>\n",
       "  </thead>\n",
       "  <tbody>\n",
       "    <tr>\n",
       "      <th>0</th>\n",
       "      <td>0</td>\n",
       "      <td>0m</td>\n",
       "      <td>5</td>\n",
       "      <td>24</td>\n",
       "      <td>14</td>\n",
       "      <td>2</td>\n",
       "      <td>3</td>\n",
       "    </tr>\n",
       "    <tr>\n",
       "      <th>1</th>\n",
       "      <td>1</td>\n",
       "      <td>-1m</td>\n",
       "      <td>5</td>\n",
       "      <td>23</td>\n",
       "      <td>15</td>\n",
       "      <td>1</td>\n",
       "      <td>3</td>\n",
       "    </tr>\n",
       "    <tr>\n",
       "      <th>2</th>\n",
       "      <td>2</td>\n",
       "      <td>-2m</td>\n",
       "      <td>5</td>\n",
       "      <td>22</td>\n",
       "      <td>15</td>\n",
       "      <td>1</td>\n",
       "      <td>1</td>\n",
       "    </tr>\n",
       "    <tr>\n",
       "      <th>3</th>\n",
       "      <td>3</td>\n",
       "      <td>-3m</td>\n",
       "      <td>5</td>\n",
       "      <td>23</td>\n",
       "      <td>15</td>\n",
       "      <td>1</td>\n",
       "      <td>1</td>\n",
       "    </tr>\n",
       "  </tbody>\n",
       "</table>\n",
       "</div>"
      ]
     },
     "execution_count": 32,
     "metadata": {},
     "output_type": "execute_result"
    }
   ],
   "execution_count": 32
  },
  {
   "metadata": {
    "ExecuteTime": {
     "end_time": "2025-10-09T10:40:13.948418Z",
     "start_time": "2025-10-09T10:40:13.934475Z"
    }
   },
   "cell_type": "code",
   "source": "revenue_estimate.tail()",
   "id": "7a99ef0dab37d907",
   "outputs": [
    {
     "data": {
      "text/plain": [
       "  period           avg           low          high  numberOfAnalysts  \\\n",
       "0     0q  101719746060   97854000000  103220000000                28   \n",
       "1    +1q  130743862550  125551070150  138910000000                22   \n",
       "2     0y  415273963930  404529000000  431783000000                41   \n",
       "3    +1y  438145978760  408100000000  477463000000                43   \n",
       "\n",
       "   yearAgoRevenue  growth  \n",
       "0     94930000000  0.0715  \n",
       "1    124300000000  0.0518  \n",
       "2    391035000000  0.0620  \n",
       "3    415273963930  0.0551  "
      ],
      "text/html": [
       "<div>\n",
       "<style scoped>\n",
       "    .dataframe tbody tr th:only-of-type {\n",
       "        vertical-align: middle;\n",
       "    }\n",
       "\n",
       "    .dataframe tbody tr th {\n",
       "        vertical-align: top;\n",
       "    }\n",
       "\n",
       "    .dataframe thead th {\n",
       "        text-align: right;\n",
       "    }\n",
       "</style>\n",
       "<table border=\"1\" class=\"dataframe\">\n",
       "  <thead>\n",
       "    <tr style=\"text-align: right;\">\n",
       "      <th></th>\n",
       "      <th>period</th>\n",
       "      <th>avg</th>\n",
       "      <th>low</th>\n",
       "      <th>high</th>\n",
       "      <th>numberOfAnalysts</th>\n",
       "      <th>yearAgoRevenue</th>\n",
       "      <th>growth</th>\n",
       "    </tr>\n",
       "  </thead>\n",
       "  <tbody>\n",
       "    <tr>\n",
       "      <th>0</th>\n",
       "      <td>0q</td>\n",
       "      <td>101719746060</td>\n",
       "      <td>97854000000</td>\n",
       "      <td>103220000000</td>\n",
       "      <td>28</td>\n",
       "      <td>94930000000</td>\n",
       "      <td>0.0715</td>\n",
       "    </tr>\n",
       "    <tr>\n",
       "      <th>1</th>\n",
       "      <td>+1q</td>\n",
       "      <td>130743862550</td>\n",
       "      <td>125551070150</td>\n",
       "      <td>138910000000</td>\n",
       "      <td>22</td>\n",
       "      <td>124300000000</td>\n",
       "      <td>0.0518</td>\n",
       "    </tr>\n",
       "    <tr>\n",
       "      <th>2</th>\n",
       "      <td>0y</td>\n",
       "      <td>415273963930</td>\n",
       "      <td>404529000000</td>\n",
       "      <td>431783000000</td>\n",
       "      <td>41</td>\n",
       "      <td>391035000000</td>\n",
       "      <td>0.0620</td>\n",
       "    </tr>\n",
       "    <tr>\n",
       "      <th>3</th>\n",
       "      <td>+1y</td>\n",
       "      <td>438145978760</td>\n",
       "      <td>408100000000</td>\n",
       "      <td>477463000000</td>\n",
       "      <td>43</td>\n",
       "      <td>415273963930</td>\n",
       "      <td>0.0551</td>\n",
       "    </tr>\n",
       "  </tbody>\n",
       "</table>\n",
       "</div>"
      ]
     },
     "execution_count": 33,
     "metadata": {},
     "output_type": "execute_result"
    }
   ],
   "execution_count": 33
  },
  {
   "metadata": {
    "ExecuteTime": {
     "end_time": "2025-10-09T10:40:14.345960Z",
     "start_time": "2025-10-09T10:40:14.337579Z"
    }
   },
   "cell_type": "code",
   "source": "sustainability.tail()",
   "id": "8c892fc9725d4ed",
   "outputs": [
    {
     "data": {
      "text/plain": [
       "    Unnamed: 0 esgScores\n",
       "31     nuclear     False\n",
       "32  pesticides     False\n",
       "33     palmOil     False\n",
       "34        coal     False\n",
       "35     tobacco     False"
      ],
      "text/html": [
       "<div>\n",
       "<style scoped>\n",
       "    .dataframe tbody tr th:only-of-type {\n",
       "        vertical-align: middle;\n",
       "    }\n",
       "\n",
       "    .dataframe tbody tr th {\n",
       "        vertical-align: top;\n",
       "    }\n",
       "\n",
       "    .dataframe thead th {\n",
       "        text-align: right;\n",
       "    }\n",
       "</style>\n",
       "<table border=\"1\" class=\"dataframe\">\n",
       "  <thead>\n",
       "    <tr style=\"text-align: right;\">\n",
       "      <th></th>\n",
       "      <th>Unnamed: 0</th>\n",
       "      <th>esgScores</th>\n",
       "    </tr>\n",
       "  </thead>\n",
       "  <tbody>\n",
       "    <tr>\n",
       "      <th>31</th>\n",
       "      <td>nuclear</td>\n",
       "      <td>False</td>\n",
       "    </tr>\n",
       "    <tr>\n",
       "      <th>32</th>\n",
       "      <td>pesticides</td>\n",
       "      <td>False</td>\n",
       "    </tr>\n",
       "    <tr>\n",
       "      <th>33</th>\n",
       "      <td>palmOil</td>\n",
       "      <td>False</td>\n",
       "    </tr>\n",
       "    <tr>\n",
       "      <th>34</th>\n",
       "      <td>coal</td>\n",
       "      <td>False</td>\n",
       "    </tr>\n",
       "    <tr>\n",
       "      <th>35</th>\n",
       "      <td>tobacco</td>\n",
       "      <td>False</td>\n",
       "    </tr>\n",
       "  </tbody>\n",
       "</table>\n",
       "</div>"
      ]
     },
     "execution_count": 34,
     "metadata": {},
     "output_type": "execute_result"
    }
   ],
   "execution_count": 34
  },
  {
   "metadata": {
    "ExecuteTime": {
     "end_time": "2025-10-09T10:40:14.521020Z",
     "start_time": "2025-10-09T10:40:14.508352Z"
    }
   },
   "cell_type": "code",
   "source": "upgrades_downgrades.tail()",
   "id": "ea2633535965c98f",
   "outputs": [
    {
     "data": {
      "text/plain": [
       "               GradeDate           Firm     ToGrade FromGrade Action  \\\n",
       "953  2016-09-22 10:22:56         Nomura         Buy       NaN   main   \n",
       "954  2016-09-16 11:12:49           CLSA         Buy       NaN   main   \n",
       "955  2016-09-15 12:10:08  Credit Suisse  Outperform       NaN   main   \n",
       "956  2016-09-15 12:08:11           BTIG         Buy       NaN   main   \n",
       "957  2012-09-12 11:51:00  Hudson Square         Buy       NaN   main   \n",
       "\n",
       "    priceTargetAction  currentPriceTarget  priorPriceTarget  \n",
       "953            Raises               135.0             120.0  \n",
       "954            Raises                32.5              30.0  \n",
       "955         Maintains               150.0               0.0  \n",
       "956            Raises               133.0             124.0  \n",
       "957            Raises               900.0             700.0  "
      ],
      "text/html": [
       "<div>\n",
       "<style scoped>\n",
       "    .dataframe tbody tr th:only-of-type {\n",
       "        vertical-align: middle;\n",
       "    }\n",
       "\n",
       "    .dataframe tbody tr th {\n",
       "        vertical-align: top;\n",
       "    }\n",
       "\n",
       "    .dataframe thead th {\n",
       "        text-align: right;\n",
       "    }\n",
       "</style>\n",
       "<table border=\"1\" class=\"dataframe\">\n",
       "  <thead>\n",
       "    <tr style=\"text-align: right;\">\n",
       "      <th></th>\n",
       "      <th>GradeDate</th>\n",
       "      <th>Firm</th>\n",
       "      <th>ToGrade</th>\n",
       "      <th>FromGrade</th>\n",
       "      <th>Action</th>\n",
       "      <th>priceTargetAction</th>\n",
       "      <th>currentPriceTarget</th>\n",
       "      <th>priorPriceTarget</th>\n",
       "    </tr>\n",
       "  </thead>\n",
       "  <tbody>\n",
       "    <tr>\n",
       "      <th>953</th>\n",
       "      <td>2016-09-22 10:22:56</td>\n",
       "      <td>Nomura</td>\n",
       "      <td>Buy</td>\n",
       "      <td>NaN</td>\n",
       "      <td>main</td>\n",
       "      <td>Raises</td>\n",
       "      <td>135.0</td>\n",
       "      <td>120.0</td>\n",
       "    </tr>\n",
       "    <tr>\n",
       "      <th>954</th>\n",
       "      <td>2016-09-16 11:12:49</td>\n",
       "      <td>CLSA</td>\n",
       "      <td>Buy</td>\n",
       "      <td>NaN</td>\n",
       "      <td>main</td>\n",
       "      <td>Raises</td>\n",
       "      <td>32.5</td>\n",
       "      <td>30.0</td>\n",
       "    </tr>\n",
       "    <tr>\n",
       "      <th>955</th>\n",
       "      <td>2016-09-15 12:10:08</td>\n",
       "      <td>Credit Suisse</td>\n",
       "      <td>Outperform</td>\n",
       "      <td>NaN</td>\n",
       "      <td>main</td>\n",
       "      <td>Maintains</td>\n",
       "      <td>150.0</td>\n",
       "      <td>0.0</td>\n",
       "    </tr>\n",
       "    <tr>\n",
       "      <th>956</th>\n",
       "      <td>2016-09-15 12:08:11</td>\n",
       "      <td>BTIG</td>\n",
       "      <td>Buy</td>\n",
       "      <td>NaN</td>\n",
       "      <td>main</td>\n",
       "      <td>Raises</td>\n",
       "      <td>133.0</td>\n",
       "      <td>124.0</td>\n",
       "    </tr>\n",
       "    <tr>\n",
       "      <th>957</th>\n",
       "      <td>2012-09-12 11:51:00</td>\n",
       "      <td>Hudson Square</td>\n",
       "      <td>Buy</td>\n",
       "      <td>NaN</td>\n",
       "      <td>main</td>\n",
       "      <td>Raises</td>\n",
       "      <td>900.0</td>\n",
       "      <td>700.0</td>\n",
       "    </tr>\n",
       "  </tbody>\n",
       "</table>\n",
       "</div>"
      ]
     },
     "execution_count": 35,
     "metadata": {},
     "output_type": "execute_result"
    }
   ],
   "execution_count": 35
  },
  {
   "metadata": {},
   "cell_type": "markdown",
   "source": "VIX",
   "id": "9d120bd8be1aa354"
  },
  {
   "metadata": {
    "ExecuteTime": {
     "end_time": "2025-10-09T10:40:14.804733Z",
     "start_time": "2025-10-09T10:40:14.796578Z"
    }
   },
   "cell_type": "code",
   "source": "vix.tail()",
   "id": "7c5adc2fcd882936",
   "outputs": [
    {
     "data": {
      "text/plain": [
       "               0          1          2          3          4  5\n",
       "9004  2025-10-02  16.629999  16.920000  15.930000  16.120001  0\n",
       "9005  2025-10-03  16.650000  17.059999  16.200001  16.350000  0\n",
       "9006  2025-10-06  16.370001  17.090000  16.290001  16.740000  0\n",
       "9007  2025-10-07  17.240000  17.549999  16.190001  16.580000  0\n",
       "9008  2025-10-08  16.559999  17.200001  16.459999  17.170000  0"
      ],
      "text/html": [
       "<div>\n",
       "<style scoped>\n",
       "    .dataframe tbody tr th:only-of-type {\n",
       "        vertical-align: middle;\n",
       "    }\n",
       "\n",
       "    .dataframe tbody tr th {\n",
       "        vertical-align: top;\n",
       "    }\n",
       "\n",
       "    .dataframe thead th {\n",
       "        text-align: right;\n",
       "    }\n",
       "</style>\n",
       "<table border=\"1\" class=\"dataframe\">\n",
       "  <thead>\n",
       "    <tr style=\"text-align: right;\">\n",
       "      <th></th>\n",
       "      <th>0</th>\n",
       "      <th>1</th>\n",
       "      <th>2</th>\n",
       "      <th>3</th>\n",
       "      <th>4</th>\n",
       "      <th>5</th>\n",
       "    </tr>\n",
       "  </thead>\n",
       "  <tbody>\n",
       "    <tr>\n",
       "      <th>9004</th>\n",
       "      <td>2025-10-02</td>\n",
       "      <td>16.629999</td>\n",
       "      <td>16.920000</td>\n",
       "      <td>15.930000</td>\n",
       "      <td>16.120001</td>\n",
       "      <td>0</td>\n",
       "    </tr>\n",
       "    <tr>\n",
       "      <th>9005</th>\n",
       "      <td>2025-10-03</td>\n",
       "      <td>16.650000</td>\n",
       "      <td>17.059999</td>\n",
       "      <td>16.200001</td>\n",
       "      <td>16.350000</td>\n",
       "      <td>0</td>\n",
       "    </tr>\n",
       "    <tr>\n",
       "      <th>9006</th>\n",
       "      <td>2025-10-06</td>\n",
       "      <td>16.370001</td>\n",
       "      <td>17.090000</td>\n",
       "      <td>16.290001</td>\n",
       "      <td>16.740000</td>\n",
       "      <td>0</td>\n",
       "    </tr>\n",
       "    <tr>\n",
       "      <th>9007</th>\n",
       "      <td>2025-10-07</td>\n",
       "      <td>17.240000</td>\n",
       "      <td>17.549999</td>\n",
       "      <td>16.190001</td>\n",
       "      <td>16.580000</td>\n",
       "      <td>0</td>\n",
       "    </tr>\n",
       "    <tr>\n",
       "      <th>9008</th>\n",
       "      <td>2025-10-08</td>\n",
       "      <td>16.559999</td>\n",
       "      <td>17.200001</td>\n",
       "      <td>16.459999</td>\n",
       "      <td>17.170000</td>\n",
       "      <td>0</td>\n",
       "    </tr>\n",
       "  </tbody>\n",
       "</table>\n",
       "</div>"
      ]
     },
     "execution_count": 36,
     "metadata": {},
     "output_type": "execute_result"
    }
   ],
   "execution_count": 36
  },
  {
   "metadata": {},
   "cell_type": "markdown",
   "source": "# Data preprocessing",
   "id": "dcd1d7d435229d0f"
  },
  {
   "metadata": {
    "ExecuteTime": {
     "end_time": "2025-10-09T10:40:14.951420Z",
     "start_time": "2025-10-09T10:40:14.935672Z"
    }
   },
   "cell_type": "code",
   "source": [
    "data = ohlc.copy()\n",
    "\n",
    "data.index = pd.to_datetime(data.index, format='%Y-%m-%d')"
   ],
   "id": "200daac9f35fd7f3",
   "outputs": [],
   "execution_count": 37
  },
  {
   "metadata": {},
   "cell_type": "markdown",
   "source": "# Feature engineering",
   "id": "ff9a5fe7536ceba7"
  },
  {
   "metadata": {},
   "cell_type": "markdown",
   "source": "Adding percentage change of the closing price",
   "id": "fa87261ca54ce755"
  },
  {
   "metadata": {
    "ExecuteTime": {
     "end_time": "2025-10-09T10:40:15.080198Z",
     "start_time": "2025-10-09T10:40:15.075663Z"
    }
   },
   "cell_type": "code",
   "source": "data['Return'] = data['Close'].pct_change()",
   "id": "408f7dbd79e92acc",
   "outputs": [],
   "execution_count": 38
  },
  {
   "metadata": {},
   "cell_type": "markdown",
   "source": "Adding volatility indicators",
   "id": "c27cd4f9c88e4710"
  },
  {
   "metadata": {
    "ExecuteTime": {
     "end_time": "2025-10-09T10:40:15.132591Z",
     "start_time": "2025-10-09T10:40:15.126813Z"
    }
   },
   "cell_type": "code",
   "source": [
    "data['Volatility_20'] = data['Close'].rolling(window=20).std()\n",
    "data['Volatility_50'] = data['Close'].rolling(window=50).std()"
   ],
   "id": "f7c726f26948a3e4",
   "outputs": [],
   "execution_count": 39
  },
  {
   "metadata": {},
   "cell_type": "markdown",
   "source": "Adding ATR (Average True Range) — captures volatility from high/low ranges",
   "id": "fff92b8a35744add"
  },
  {
   "metadata": {
    "ExecuteTime": {
     "end_time": "2025-10-09T10:40:15.451142Z",
     "start_time": "2025-10-09T10:40:15.176166Z"
    }
   },
   "cell_type": "code",
   "source": [
    "high_low = data['High'] - data['Low']\n",
    "high_close = (data['High'] - data['Close'].shift()).abs()\n",
    "low_close = (data['Low'] - data['Close'].shift()).abs()\n",
    "\n",
    "data['TR'] = high_low.combine(high_close, max).combine(low_close, max)\n",
    "data['ATR_14'] = data['TR'].rolling(window=14).mean()"
   ],
   "id": "b8d6fa15e79c9e98",
   "outputs": [],
   "execution_count": 40
  },
  {
   "metadata": {},
   "cell_type": "markdown",
   "source": "Adding moving averages",
   "id": "66a197511ccb2499"
  },
  {
   "metadata": {
    "ExecuteTime": {
     "end_time": "2025-10-09T10:40:15.467880Z",
     "start_time": "2025-10-09T10:40:15.459146Z"
    }
   },
   "cell_type": "code",
   "source": [
    "windows = [5, 20, 50, 200]\n",
    "\n",
    "for w in windows:\n",
    "    data[f'SMA_{w}'] = data['Close'].rolling(window=w).mean()\n",
    "    data[f'EMA_{w}'] = data['Close'].ewm(span=w, adjust=False).mean()"
   ],
   "id": "e32f1e1043e970da",
   "outputs": [],
   "execution_count": 41
  },
  {
   "metadata": {},
   "cell_type": "markdown",
   "source": "Momentum indicators",
   "id": "37e76de9c8d01a39"
  },
  {
   "metadata": {
    "ExecuteTime": {
     "end_time": "2025-10-09T10:40:15.544968Z",
     "start_time": "2025-10-09T10:40:15.511791Z"
    }
   },
   "cell_type": "code",
   "source": [
    "# RSI (Relative Strength Index)\n",
    "delta = data['Close'].diff()\n",
    "gain = delta.clip(lower=0)\n",
    "loss = -delta.clip(upper=0)\n",
    "\n",
    "avg_gain = gain.rolling(window=14).mean()\n",
    "avg_loss = loss.rolling(window=14).mean()\n",
    "\n",
    "rs = avg_gain / avg_loss\n",
    "data['RSI_14'] = 100 - (100 / (1 + rs))\n",
    "\n",
    "# MACD (Moving Average Convergence Divergence)\n",
    "ema_12 = data['Close'].ewm(span=12, adjust=False).mean()\n",
    "ema_26 = data['Close'].ewm(span=26, adjust=False).mean()\n",
    "\n",
    "data['MACD'] = ema_12 - ema_26\n",
    "data['MACD_signal'] = data['MACD'].ewm(span=9, adjust=False).mean()\n",
    "\n",
    "# Stochastic Oscillator\n",
    "low_14 = data['Low'].rolling(14).min()\n",
    "high_14 = data['High'].rolling(14).max()\n",
    "\n",
    "data['Stochastic'] = 100 * (data['Close'] - low_14) / (high_14 - low_14)\n",
    "\n",
    "# ADX (Average Directional Index)\n",
    "high = data['High']\n",
    "low = data['Low']\n",
    "close = data['Close']\n",
    "\n",
    "plus_dm = high.diff()\n",
    "minus_dm = low.diff().abs()\n",
    "plus_dm[plus_dm < 0] = 0\n",
    "minus_dm[minus_dm < 0] = 0\n",
    "\n",
    "tr = pd.concat([high - low, (high - close.shift()).abs(), (low - close.shift()).abs()], axis=1).max(axis=1)\n",
    "atr = tr.rolling(14).mean()\n",
    "\n",
    "plus_di = 100 * (plus_dm.rolling(14).sum() / atr)\n",
    "minus_di = 100 * (minus_dm.rolling(14).sum() / atr)\n",
    "\n",
    "dx = 100 * (abs(plus_di - minus_di) / (plus_di + minus_di))\n",
    "data['ADX_14'] = dx.rolling(14).mean()\n",
    "\n",
    "# On-Balance Volume (OBV)\n",
    "data['OBV'] = (np.sign(data['Close'].diff()) * data['Volume']).fillna(0).cumsum()\n",
    "\n",
    "# Money Flow Index (MFI) - fully vectorized\n",
    "typical_price = (data['High'] + data['Low'] + data['Close']) / 3\n",
    "money_flow = typical_price * data['Volume']\n",
    "tp_diff = typical_price.diff()\n",
    "\n",
    "positive_mf = money_flow.where(tp_diff > 0, 0).rolling(14).sum()\n",
    "negative_mf = money_flow.where(tp_diff < 0, 0).rolling(14).sum()\n",
    "data['MFI_14'] = 100 * (positive_mf / (positive_mf + negative_mf))\n",
    "\n",
    "# Basic Candlestick Patterns\n",
    "data['Doji'] = abs(data['Close'] - data['Open']) <= 0.1 * (data['High'] - data['Low'])\n",
    "data['Hammer'] = ((data['High'] - data['Low']) > 3 * (data['Open'] - data['Close'])) & \\\n",
    "                 ((data['Close'] - data['Low']) / (0.001 + data['High'] - data['Low']) > 0.6)\n",
    "data['Engulfing'] = ((data['Close'] > data['Open'].shift()) &\n",
    "                     (data['Open'] < data['Close'].shift()) &\n",
    "                     (data['Close'] - data['Open'] > data['Open'].shift() - data['Close'].shift()))"
   ],
   "id": "1595e24afb50f076",
   "outputs": [],
   "execution_count": 42
  },
  {
   "metadata": {},
   "cell_type": "markdown",
   "source": "Fundamental features",
   "id": "70d7f1c9cdf0c62d"
  },
  {
   "metadata": {},
   "cell_type": "markdown",
   "source": "Dividends (0/1)",
   "id": "cd960e4223950ee5"
  },
  {
   "metadata": {
    "ExecuteTime": {
     "end_time": "2025-10-09T10:40:15.602559Z",
     "start_time": "2025-10-09T10:40:15.568559Z"
    }
   },
   "cell_type": "code",
   "source": [
    "# Make sure data index is timezone-naive\n",
    "data.index = pd.to_datetime(data.index).tz_localize(None)\n",
    "\n",
    "# Convert dividends index to datetime (force conversion and make tz-naive safely)\n",
    "dividend_dates = pd.to_datetime(dividends.index, utc=True, errors='raise')  # convert all to UTC first\n",
    "dividend_dates = dividend_dates.tz_convert(None)  # then drop tz info\n",
    "\n",
    "# Remove any invalid (NaT) entries\n",
    "dividend_dates = dividend_dates.dropna()\n",
    "\n",
    "# Compare only by date (normalize removes the time part)\n",
    "dividend_dates = set(dividend_dates.normalize())\n",
    "\n",
    "# Create Dividends (0/1) column in data\n",
    "data['Dividends'] = data.index.normalize().isin(dividend_dates).astype(int)"
   ],
   "id": "c7ea59ff6c02e501",
   "outputs": [],
   "execution_count": 43
  },
  {
   "metadata": {},
   "cell_type": "markdown",
   "source": "Split (0/1)",
   "id": "39456974ab7e6f29"
  },
  {
   "metadata": {
    "ExecuteTime": {
     "end_time": "2025-10-09T10:40:15.635917Z",
     "start_time": "2025-10-09T10:40:15.628674Z"
    }
   },
   "cell_type": "code",
   "source": [
    "splits_dates = pd.to_datetime(splits.index, utc=True, errors='raise')\n",
    "splits_dates = splits_dates.tz_convert(None)\n",
    "\n",
    "splits_dates = splits_dates.dropna()\n",
    "\n",
    "splits_dates = set(splits_dates.normalize())\n",
    "\n",
    "data['Splits'] = data.index.normalize().isin(splits_dates).astype(int)"
   ],
   "id": "aed88ec33ee11ed5",
   "outputs": [],
   "execution_count": 44
  },
  {
   "metadata": {},
   "cell_type": "markdown",
   "source": [
    "VIX\n",
    "\n",
    "The VIX (Volatility Index) is often called the “fear gauge” of the market. It represents the market’s expectation of 30-day forward-looking volatility in the S&P 500 index, derived from options prices.\n",
    "* High VIX → Market expects high volatility, often during market stress or uncertainty.\n",
    "* Low VIX → Market expects low volatility, generally in calm or bullish periods.\n",
    "* VIX is expressed in percentage points (e.g., VIX = 20 means the market expects ~20% annualized volatility over the next 30 days).\n",
    "\n",
    "Important: VIX is not a price index; it’s a measure of expected volatility."
   ],
   "id": "cf36da9d2596ee9c"
  },
  {
   "metadata": {
    "ExecuteTime": {
     "end_time": "2025-10-09T10:40:15.701027Z",
     "start_time": "2025-10-09T10:40:15.682405Z"
    }
   },
   "cell_type": "code",
   "source": [
    "vix.columns = ['Date', 'Close', 'High', 'Low', 'Open', 'Volume']\n",
    "vix['Date'] = pd.to_datetime(vix['Date'])\n",
    "vix.set_index('Date', inplace=True)\n",
    "\n",
    "vix.drop(columns=['Volume'], inplace=True)\n",
    "\n",
    "data = data.join(vix, how='left', rsuffix='_VIX')"
   ],
   "id": "bbd4277a360f1b12",
   "outputs": [
    {
     "data": {
      "text/plain": [
       "Date\n",
       "2025-09-29    16.120001\n",
       "2025-09-30    16.280001\n",
       "2025-10-01    16.290001\n",
       "2025-10-02    16.629999\n",
       "2025-10-03    16.650000\n",
       "Name: Close_VIX, dtype: float64"
      ]
     },
     "execution_count": 45,
     "metadata": {},
     "output_type": "execute_result"
    }
   ],
   "execution_count": 45
  },
  {
   "metadata": {
    "ExecuteTime": {
     "end_time": "2025-10-09T10:52:13.830870Z",
     "start_time": "2025-10-09T10:52:13.807385Z"
    }
   },
   "cell_type": "code",
   "source": [
    "# VIX returns\n",
    "data['VIX_Return'] = data['Close_VIX'].pct_change()\n",
    "\n",
    "# Volatility\n",
    "data['VIX_Volatility_20'] = data['Close_VIX'].rolling(window=20).std()\n",
    "data['VIX_Volatility_50'] = data['Close_VIX'].rolling(window=50).std()\n",
    "\n",
    "# Trend\n",
    "data['VIX_SMA_20'] = data['Close_VIX'].rolling(window=20).mean()\n",
    "data['VIX_EMA_20'] = data['Close_VIX'].ewm(span=20, adjust=False).mean()\n",
    "data['VIX_RollingVol'] = data['Close_VIX'].rolling(5).std()\n",
    "data['VIX_Change'] = data['Close_VIX'] - data['Close_VIX'].shift(1)\n",
    "\n",
    "# Lagged features\n",
    "for lag in range(1, 6):\n",
    "    data[f'VIX_Close_lag{lag}'] = data['Close_VIX'].shift(lag)"
   ],
   "id": "235549a31be98219",
   "outputs": [],
   "execution_count": 49
  }
 ],
 "metadata": {
  "colab": {
   "provenance": []
  },
  "kernelspec": {
   "display_name": "Python 3 (ipykernel)",
   "language": "python",
   "name": "python3"
  },
  "language_info": {
   "codemirror_mode": {
    "name": "ipython",
    "version": 3
   },
   "file_extension": ".py",
   "mimetype": "text/x-python",
   "name": "python",
   "nbconvert_exporter": "python",
   "pygments_lexer": "ipython3",
   "version": "3.12.5"
  }
 },
 "nbformat": 4,
 "nbformat_minor": 5
}
