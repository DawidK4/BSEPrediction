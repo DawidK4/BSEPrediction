{
 "cells": [
  {
   "cell_type": "code",
   "id": "85e1da11",
   "metadata": {
    "id": "85e1da11",
    "ExecuteTime": {
     "end_time": "2025-10-03T17:24:53.811228Z",
     "start_time": "2025-10-03T17:24:51.083641Z"
    }
   },
   "source": [
    "import numpy as np\n",
    "import pandas as pd\n",
    "import matplotlib.pyplot as plt\n",
    "import seaborn as sns\n",
    "\n",
    "import os\n",
    "import sys\n",
    "\n",
    "import tensorflow as tf\n",
    "\n",
    "import yfinance as yf"
   ],
   "outputs": [
    {
     "name": "stderr",
     "output_type": "stream",
     "text": [
      "2025-10-03 19:24:51.326548: I external/local_xla/xla/tsl/cuda/cudart_stub.cc:31] Could not find cuda drivers on your machine, GPU will not be used.\n",
      "2025-10-03 19:24:51.326952: I tensorflow/core/util/port.cc:153] oneDNN custom operations are on. You may see slightly different numerical results due to floating-point round-off errors from different computation orders. To turn them off, set the environment variable `TF_ENABLE_ONEDNN_OPTS=0`.\n",
      "2025-10-03 19:24:51.388099: I tensorflow/core/platform/cpu_feature_guard.cc:210] This TensorFlow binary is optimized to use available CPU instructions in performance-critical operations.\n",
      "To enable the following instructions: AVX2 AVX512F AVX512_VNNI FMA, in other operations, rebuild TensorFlow with the appropriate compiler flags.\n",
      "2025-10-03 19:24:53.189181: I tensorflow/core/util/port.cc:153] oneDNN custom operations are on. You may see slightly different numerical results due to floating-point round-off errors from different computation orders. To turn them off, set the environment variable `TF_ENABLE_ONEDNN_OPTS=0`.\n",
      "2025-10-03 19:24:53.189743: I external/local_xla/xla/tsl/cuda/cudart_stub.cc:31] Could not find cuda drivers on your machine, GPU will not be used.\n"
     ]
    }
   ],
   "execution_count": 1
  },
  {
   "metadata": {},
   "cell_type": "markdown",
   "source": "# Loading the data",
   "id": "e313f7dd85387be4"
  },
  {
   "metadata": {},
   "cell_type": "markdown",
   "source": "Financials",
   "id": "53f3c7da5e164c90"
  },
  {
   "metadata": {
    "ExecuteTime": {
     "end_time": "2025-10-03T17:24:53.827677Z",
     "start_time": "2025-10-03T17:24:53.817367Z"
    }
   },
   "cell_type": "code",
   "source": [
    "balance_sheet = pd.read_csv('data/financials/AAPL_balance_sheet.csv', header=None)\n",
    "capital_gains = pd.read_csv('data/financials/AAPL_capital_gains.csv', header=None)\n",
    "cash_flow = pd.read_csv('data/financials/AAPL_cash_flow.csv', header=None)\n",
    "income_statement = pd.read_csv('data/financials/AAPL_income_statement.csv', header=None)\n",
    "ttm_cash_flow = pd.read_csv('data/financials/AAPL_ttm_cash_flow.csv', header=None)"
   ],
   "id": "2570581d0e5c9614",
   "outputs": [],
   "execution_count": 2
  },
  {
   "metadata": {},
   "cell_type": "markdown",
   "source": "Holders",
   "id": "2770b00712e4a493"
  },
  {
   "metadata": {
    "ExecuteTime": {
     "end_time": "2025-10-03T17:24:53.881639Z",
     "start_time": "2025-10-03T17:24:53.867054Z"
    }
   },
   "cell_type": "code",
   "source": [
    "insider_roster_holders = pd.read_csv('data/holders/AAPL_insider_roster_holders.csv')\n",
    "institutional_holders = pd.read_csv('data/holders/AAPL_institutional_holders.csv')\n",
    "mutualfund_holders = pd.read_csv('data/holders/AAPL_mutualfund_holders.csv')\n",
    "major_holders = pd.read_csv('data/holders/AAPL_major_holders.csv')"
   ],
   "id": "5ccf8740ff004275",
   "outputs": [],
   "execution_count": 3
  },
  {
   "metadata": {},
   "cell_type": "markdown",
   "source": "Insider",
   "id": "f96f955fbba25827"
  },
  {
   "metadata": {
    "ExecuteTime": {
     "end_time": "2025-10-03T17:24:53.929062Z",
     "start_time": "2025-10-03T17:24:53.918442Z"
    }
   },
   "cell_type": "code",
   "source": [
    "insider_purchases = pd.read_csv('data/insider/AAPL_insider_purchases.csv')\n",
    "insider_transactions = pd.read_csv('data/insider/AAPL_insider_transactions.csv')"
   ],
   "id": "1d37aeda7df5e54d",
   "outputs": [],
   "execution_count": 4
  },
  {
   "metadata": {},
   "cell_type": "markdown",
   "source": "Price",
   "id": "3e95245f785451a5"
  },
  {
   "metadata": {
    "ExecuteTime": {
     "end_time": "2025-10-03T17:24:54.078219Z",
     "start_time": "2025-10-03T17:24:53.971499Z"
    }
   },
   "cell_type": "code",
   "source": [
    "actions = pd.read_csv('data/price/AAPL_actions.csv')\n",
    "dividends = pd.read_csv('data/price/AAPL_dividends.csv', index_col=0, parse_dates=True)\n",
    "ohlc = pd.read_csv('data/price/AAPL_ohlc.csv', index_col=0, parse_dates=True)\n",
    "options = pd.read_csv('data/price/AAPL_options.csv')\n",
    "volume = pd.read_csv('data/price/AAPL_volume.csv', index_col=0, parse_dates=True)"
   ],
   "id": "870378c587d6f5c",
   "outputs": [
    {
     "name": "stderr",
     "output_type": "stream",
     "text": [
      "/tmp/ipykernel_10654/3647304182.py:3: UserWarning: Could not infer format, so each element will be parsed individually, falling back to `dateutil`. To ensure parsing is consistent and as-expected, please specify a format.\n",
      "  ohlc = pd.read_csv('data/price/AAPL_ohlc.csv', index_col=0, parse_dates=True)\n"
     ]
    }
   ],
   "execution_count": 5
  },
  {
   "metadata": {},
   "cell_type": "markdown",
   "source": "# Data exploration",
   "id": "77118a9921cf3be4"
  },
  {
   "metadata": {},
   "cell_type": "markdown",
   "source": "Price",
   "id": "aaa1357625167d0f"
  },
  {
   "metadata": {
    "ExecuteTime": {
     "end_time": "2025-10-03T17:24:54.099284Z",
     "start_time": "2025-10-03T17:24:54.086055Z"
    }
   },
   "cell_type": "code",
   "source": "ohlc.tail()",
   "id": "8f3c3c86df37a53d",
   "outputs": [
    {
     "data": {
      "text/plain": [
       "                         Close                High                 Low  \\\n",
       "Price                                                                    \n",
       "2025-09-24  252.30999755859375  255.74000549316406   251.0399932861328   \n",
       "2025-09-25   256.8699951171875   257.1700134277344   251.7100067138672   \n",
       "2025-09-26   255.4600067138672   257.6000061035156  253.77999877929688   \n",
       "2025-09-29  254.42999267578125               255.0  253.00999450683594   \n",
       "2025-09-30   254.5749969482422  255.91900634765625  253.82009887695312   \n",
       "\n",
       "                          Open  \n",
       "Price                           \n",
       "2025-09-24  255.22000122070312  \n",
       "2025-09-25   253.2100067138672  \n",
       "2025-09-26  254.10000610351562  \n",
       "2025-09-29  254.55999755859375  \n",
       "2025-09-30   254.8249969482422  "
      ],
      "text/html": [
       "<div>\n",
       "<style scoped>\n",
       "    .dataframe tbody tr th:only-of-type {\n",
       "        vertical-align: middle;\n",
       "    }\n",
       "\n",
       "    .dataframe tbody tr th {\n",
       "        vertical-align: top;\n",
       "    }\n",
       "\n",
       "    .dataframe thead th {\n",
       "        text-align: right;\n",
       "    }\n",
       "</style>\n",
       "<table border=\"1\" class=\"dataframe\">\n",
       "  <thead>\n",
       "    <tr style=\"text-align: right;\">\n",
       "      <th></th>\n",
       "      <th>Close</th>\n",
       "      <th>High</th>\n",
       "      <th>Low</th>\n",
       "      <th>Open</th>\n",
       "    </tr>\n",
       "    <tr>\n",
       "      <th>Price</th>\n",
       "      <th></th>\n",
       "      <th></th>\n",
       "      <th></th>\n",
       "      <th></th>\n",
       "    </tr>\n",
       "  </thead>\n",
       "  <tbody>\n",
       "    <tr>\n",
       "      <th>2025-09-24</th>\n",
       "      <td>252.30999755859375</td>\n",
       "      <td>255.74000549316406</td>\n",
       "      <td>251.0399932861328</td>\n",
       "      <td>255.22000122070312</td>\n",
       "    </tr>\n",
       "    <tr>\n",
       "      <th>2025-09-25</th>\n",
       "      <td>256.8699951171875</td>\n",
       "      <td>257.1700134277344</td>\n",
       "      <td>251.7100067138672</td>\n",
       "      <td>253.2100067138672</td>\n",
       "    </tr>\n",
       "    <tr>\n",
       "      <th>2025-09-26</th>\n",
       "      <td>255.4600067138672</td>\n",
       "      <td>257.6000061035156</td>\n",
       "      <td>253.77999877929688</td>\n",
       "      <td>254.10000610351562</td>\n",
       "    </tr>\n",
       "    <tr>\n",
       "      <th>2025-09-29</th>\n",
       "      <td>254.42999267578125</td>\n",
       "      <td>255.0</td>\n",
       "      <td>253.00999450683594</td>\n",
       "      <td>254.55999755859375</td>\n",
       "    </tr>\n",
       "    <tr>\n",
       "      <th>2025-09-30</th>\n",
       "      <td>254.5749969482422</td>\n",
       "      <td>255.91900634765625</td>\n",
       "      <td>253.82009887695312</td>\n",
       "      <td>254.8249969482422</td>\n",
       "    </tr>\n",
       "  </tbody>\n",
       "</table>\n",
       "</div>"
      ]
     },
     "execution_count": 6,
     "metadata": {},
     "output_type": "execute_result"
    }
   ],
   "execution_count": 6
  },
  {
   "metadata": {
    "ExecuteTime": {
     "end_time": "2025-10-03T17:24:54.203126Z",
     "start_time": "2025-10-03T17:24:54.189854Z"
    }
   },
   "cell_type": "code",
   "source": "ohlc.info()",
   "id": "68dca1b9294f0c27",
   "outputs": [
    {
     "name": "stdout",
     "output_type": "stream",
     "text": [
      "<class 'pandas.core.frame.DataFrame'>\n",
      "Index: 11293 entries, Ticker to 2025-09-30\n",
      "Data columns (total 4 columns):\n",
      " #   Column  Non-Null Count  Dtype \n",
      "---  ------  --------------  ----- \n",
      " 0   Close   11292 non-null  object\n",
      " 1   High    11292 non-null  object\n",
      " 2   Low     11292 non-null  object\n",
      " 3   Open    11292 non-null  object\n",
      "dtypes: object(4)\n",
      "memory usage: 441.1+ KB\n"
     ]
    }
   ],
   "execution_count": 7
  },
  {
   "metadata": {
    "ExecuteTime": {
     "end_time": "2025-10-03T17:24:54.359559Z",
     "start_time": "2025-10-03T17:24:54.354534Z"
    }
   },
   "cell_type": "code",
   "source": "ohlc.dtypes",
   "id": "bec98539ad82ecf5",
   "outputs": [
    {
     "data": {
      "text/plain": [
       "Close    object\n",
       "High     object\n",
       "Low      object\n",
       "Open     object\n",
       "dtype: object"
      ]
     },
     "execution_count": 8,
     "metadata": {},
     "output_type": "execute_result"
    }
   ],
   "execution_count": 8
  },
  {
   "metadata": {
    "ExecuteTime": {
     "end_time": "2025-10-03T17:24:54.532960Z",
     "start_time": "2025-10-03T17:24:54.491590Z"
    }
   },
   "cell_type": "code",
   "source": [
    "numeric_cols = ['Open', 'High', 'Low', 'Close']\n",
    "\n",
    "for col in numeric_cols:\n",
    "    ohlc[col] = pd.to_numeric(ohlc[col], errors='coerce')\n"
   ],
   "id": "d26e2cc372b8ebf1",
   "outputs": [],
   "execution_count": 9
  },
  {
   "metadata": {
    "ExecuteTime": {
     "end_time": "2025-10-03T17:24:54.678480Z",
     "start_time": "2025-10-03T17:24:54.649282Z"
    }
   },
   "cell_type": "code",
   "source": "ohlc.describe(include='all')",
   "id": "f3ff13592ea85358",
   "outputs": [
    {
     "data": {
      "text/plain": [
       "              Close          High           Low          Open\n",
       "count  11291.000000  11291.000000  11291.000000  11291.000000\n",
       "mean      26.628438     26.896547     26.333672     26.606028\n",
       "std       55.119763     55.661181     54.513908     55.061007\n",
       "min        0.037681      0.038109      0.037681      0.038109\n",
       "25%        0.245132      0.250684      0.240161      0.245127\n",
       "50%        0.466513      0.473755      0.458864      0.465311\n",
       "75%       20.886218     21.058807     20.690546     20.888417\n",
       "max      258.103729    259.179926    256.718662    257.276679"
      ],
      "text/html": [
       "<div>\n",
       "<style scoped>\n",
       "    .dataframe tbody tr th:only-of-type {\n",
       "        vertical-align: middle;\n",
       "    }\n",
       "\n",
       "    .dataframe tbody tr th {\n",
       "        vertical-align: top;\n",
       "    }\n",
       "\n",
       "    .dataframe thead th {\n",
       "        text-align: right;\n",
       "    }\n",
       "</style>\n",
       "<table border=\"1\" class=\"dataframe\">\n",
       "  <thead>\n",
       "    <tr style=\"text-align: right;\">\n",
       "      <th></th>\n",
       "      <th>Close</th>\n",
       "      <th>High</th>\n",
       "      <th>Low</th>\n",
       "      <th>Open</th>\n",
       "    </tr>\n",
       "  </thead>\n",
       "  <tbody>\n",
       "    <tr>\n",
       "      <th>count</th>\n",
       "      <td>11291.000000</td>\n",
       "      <td>11291.000000</td>\n",
       "      <td>11291.000000</td>\n",
       "      <td>11291.000000</td>\n",
       "    </tr>\n",
       "    <tr>\n",
       "      <th>mean</th>\n",
       "      <td>26.628438</td>\n",
       "      <td>26.896547</td>\n",
       "      <td>26.333672</td>\n",
       "      <td>26.606028</td>\n",
       "    </tr>\n",
       "    <tr>\n",
       "      <th>std</th>\n",
       "      <td>55.119763</td>\n",
       "      <td>55.661181</td>\n",
       "      <td>54.513908</td>\n",
       "      <td>55.061007</td>\n",
       "    </tr>\n",
       "    <tr>\n",
       "      <th>min</th>\n",
       "      <td>0.037681</td>\n",
       "      <td>0.038109</td>\n",
       "      <td>0.037681</td>\n",
       "      <td>0.038109</td>\n",
       "    </tr>\n",
       "    <tr>\n",
       "      <th>25%</th>\n",
       "      <td>0.245132</td>\n",
       "      <td>0.250684</td>\n",
       "      <td>0.240161</td>\n",
       "      <td>0.245127</td>\n",
       "    </tr>\n",
       "    <tr>\n",
       "      <th>50%</th>\n",
       "      <td>0.466513</td>\n",
       "      <td>0.473755</td>\n",
       "      <td>0.458864</td>\n",
       "      <td>0.465311</td>\n",
       "    </tr>\n",
       "    <tr>\n",
       "      <th>75%</th>\n",
       "      <td>20.886218</td>\n",
       "      <td>21.058807</td>\n",
       "      <td>20.690546</td>\n",
       "      <td>20.888417</td>\n",
       "    </tr>\n",
       "    <tr>\n",
       "      <th>max</th>\n",
       "      <td>258.103729</td>\n",
       "      <td>259.179926</td>\n",
       "      <td>256.718662</td>\n",
       "      <td>257.276679</td>\n",
       "    </tr>\n",
       "  </tbody>\n",
       "</table>\n",
       "</div>"
      ]
     },
     "execution_count": 10,
     "metadata": {},
     "output_type": "execute_result"
    }
   ],
   "execution_count": 10
  },
  {
   "metadata": {
    "ExecuteTime": {
     "end_time": "2025-10-03T17:24:54.828488Z",
     "start_time": "2025-10-03T17:24:54.819907Z"
    }
   },
   "cell_type": "code",
   "source": "ohlc.memory_usage()",
   "id": "9ad57df1951a4e9e",
   "outputs": [
    {
     "data": {
      "text/plain": [
       "Index    90344\n",
       "Close    90344\n",
       "High     90344\n",
       "Low      90344\n",
       "Open     90344\n",
       "dtype: int64"
      ]
     },
     "execution_count": 11,
     "metadata": {},
     "output_type": "execute_result"
    }
   ],
   "execution_count": 11
  },
  {
   "metadata": {
    "ExecuteTime": {
     "end_time": "2025-10-03T17:24:55.188801Z",
     "start_time": "2025-10-03T17:24:55.180867Z"
    }
   },
   "cell_type": "code",
   "source": "print(len(ohlc['Close'].unique()))",
   "id": "93559ceaf7684b93",
   "outputs": [
    {
     "name": "stdout",
     "output_type": "stream",
     "text": [
      "8279\n"
     ]
    }
   ],
   "execution_count": 12
  },
  {
   "metadata": {
    "ExecuteTime": {
     "end_time": "2025-10-03T17:24:55.241710Z",
     "start_time": "2025-10-03T17:24:55.235928Z"
    }
   },
   "cell_type": "code",
   "source": [
    "all_time_low = ohlc['Low'].min()\n",
    "all_time_low_date = ohlc['Low'].idxmin()\n",
    "print(f'All time low: {all_time_low} on {all_time_low_date}')\n",
    "\n",
    "all_time_high = ohlc['High'].max()\n",
    "all_time_high_date = ohlc['High'].idxmax()\n",
    "print(f'All time high: {all_time_high} on {all_time_high_date}')"
   ],
   "id": "97dabcddce2368cb",
   "outputs": [
    {
     "name": "stdout",
     "output_type": "stream",
     "text": [
      "All time low: 0.0376811251044273 on 1982-07-08\n",
      "All time high: 259.1799258751944 on 2024-12-26\n"
     ]
    }
   ],
   "execution_count": 13
  },
  {
   "metadata": {
    "ExecuteTime": {
     "end_time": "2025-10-03T17:24:55.304339Z",
     "start_time": "2025-10-03T17:24:55.289488Z"
    }
   },
   "cell_type": "code",
   "source": "ohlc.corr()",
   "id": "42c3998a40df5cdb",
   "outputs": [
    {
     "data": {
      "text/plain": [
       "          Close      High       Low      Open\n",
       "Close  1.000000  0.999940  0.999937  0.999868\n",
       "High   0.999940  1.000000  0.999911  0.999933\n",
       "Low    0.999937  0.999911  1.000000  0.999940\n",
       "Open   0.999868  0.999933  0.999940  1.000000"
      ],
      "text/html": [
       "<div>\n",
       "<style scoped>\n",
       "    .dataframe tbody tr th:only-of-type {\n",
       "        vertical-align: middle;\n",
       "    }\n",
       "\n",
       "    .dataframe tbody tr th {\n",
       "        vertical-align: top;\n",
       "    }\n",
       "\n",
       "    .dataframe thead th {\n",
       "        text-align: right;\n",
       "    }\n",
       "</style>\n",
       "<table border=\"1\" class=\"dataframe\">\n",
       "  <thead>\n",
       "    <tr style=\"text-align: right;\">\n",
       "      <th></th>\n",
       "      <th>Close</th>\n",
       "      <th>High</th>\n",
       "      <th>Low</th>\n",
       "      <th>Open</th>\n",
       "    </tr>\n",
       "  </thead>\n",
       "  <tbody>\n",
       "    <tr>\n",
       "      <th>Close</th>\n",
       "      <td>1.000000</td>\n",
       "      <td>0.999940</td>\n",
       "      <td>0.999937</td>\n",
       "      <td>0.999868</td>\n",
       "    </tr>\n",
       "    <tr>\n",
       "      <th>High</th>\n",
       "      <td>0.999940</td>\n",
       "      <td>1.000000</td>\n",
       "      <td>0.999911</td>\n",
       "      <td>0.999933</td>\n",
       "    </tr>\n",
       "    <tr>\n",
       "      <th>Low</th>\n",
       "      <td>0.999937</td>\n",
       "      <td>0.999911</td>\n",
       "      <td>1.000000</td>\n",
       "      <td>0.999940</td>\n",
       "    </tr>\n",
       "    <tr>\n",
       "      <th>Open</th>\n",
       "      <td>0.999868</td>\n",
       "      <td>0.999933</td>\n",
       "      <td>0.999940</td>\n",
       "      <td>1.000000</td>\n",
       "    </tr>\n",
       "  </tbody>\n",
       "</table>\n",
       "</div>"
      ]
     },
     "execution_count": 14,
     "metadata": {},
     "output_type": "execute_result"
    }
   ],
   "execution_count": 14
  },
  {
   "metadata": {},
   "cell_type": "markdown",
   "source": "Volume",
   "id": "ef97fcbd66c2b8b3"
  },
  {
   "metadata": {
    "ExecuteTime": {
     "end_time": "2025-10-03T17:24:55.451302Z",
     "start_time": "2025-10-03T17:24:55.444718Z"
    }
   },
   "cell_type": "code",
   "source": "volume.tail()",
   "id": "bc8e8096c1300173",
   "outputs": [
    {
     "data": {
      "text/plain": [
       "              Volume\n",
       "Date                \n",
       "2025-09-24  42303700\n",
       "2025-09-25  55202100\n",
       "2025-09-26  46076300\n",
       "2025-09-29  40091100\n",
       "2025-09-30  13712214"
      ],
      "text/html": [
       "<div>\n",
       "<style scoped>\n",
       "    .dataframe tbody tr th:only-of-type {\n",
       "        vertical-align: middle;\n",
       "    }\n",
       "\n",
       "    .dataframe tbody tr th {\n",
       "        vertical-align: top;\n",
       "    }\n",
       "\n",
       "    .dataframe thead th {\n",
       "        text-align: right;\n",
       "    }\n",
       "</style>\n",
       "<table border=\"1\" class=\"dataframe\">\n",
       "  <thead>\n",
       "    <tr style=\"text-align: right;\">\n",
       "      <th></th>\n",
       "      <th>Volume</th>\n",
       "    </tr>\n",
       "    <tr>\n",
       "      <th>Date</th>\n",
       "      <th></th>\n",
       "    </tr>\n",
       "  </thead>\n",
       "  <tbody>\n",
       "    <tr>\n",
       "      <th>2025-09-24</th>\n",
       "      <td>42303700</td>\n",
       "    </tr>\n",
       "    <tr>\n",
       "      <th>2025-09-25</th>\n",
       "      <td>55202100</td>\n",
       "    </tr>\n",
       "    <tr>\n",
       "      <th>2025-09-26</th>\n",
       "      <td>46076300</td>\n",
       "    </tr>\n",
       "    <tr>\n",
       "      <th>2025-09-29</th>\n",
       "      <td>40091100</td>\n",
       "    </tr>\n",
       "    <tr>\n",
       "      <th>2025-09-30</th>\n",
       "      <td>13712214</td>\n",
       "    </tr>\n",
       "  </tbody>\n",
       "</table>\n",
       "</div>"
      ]
     },
     "execution_count": 15,
     "metadata": {},
     "output_type": "execute_result"
    }
   ],
   "execution_count": 15
  },
  {
   "metadata": {
    "ExecuteTime": {
     "end_time": "2025-10-03T17:24:55.764408Z",
     "start_time": "2025-10-03T17:24:55.751130Z"
    }
   },
   "cell_type": "code",
   "source": "volume.info()",
   "id": "c7ad3d42db6f166c",
   "outputs": [
    {
     "name": "stdout",
     "output_type": "stream",
     "text": [
      "<class 'pandas.core.frame.DataFrame'>\n",
      "DatetimeIndex: 11291 entries, 1980-12-12 to 2025-09-30\n",
      "Data columns (total 1 columns):\n",
      " #   Column  Non-Null Count  Dtype\n",
      "---  ------  --------------  -----\n",
      " 0   Volume  11291 non-null  int64\n",
      "dtypes: int64(1)\n",
      "memory usage: 176.4 KB\n"
     ]
    }
   ],
   "execution_count": 16
  },
  {
   "metadata": {
    "ExecuteTime": {
     "end_time": "2025-10-03T17:24:55.845833Z",
     "start_time": "2025-10-03T17:24:55.836473Z"
    }
   },
   "cell_type": "code",
   "source": "volume.dtypes",
   "id": "50120aa59fc9a1e4",
   "outputs": [
    {
     "data": {
      "text/plain": [
       "Volume    int64\n",
       "dtype: object"
      ]
     },
     "execution_count": 17,
     "metadata": {},
     "output_type": "execute_result"
    }
   ],
   "execution_count": 17
  },
  {
   "metadata": {
    "ExecuteTime": {
     "end_time": "2025-10-03T17:24:56.002836Z",
     "start_time": "2025-10-03T17:24:55.985033Z"
    }
   },
   "cell_type": "code",
   "source": "volume.describe(include='all')",
   "id": "d2b878bad75cc0ba",
   "outputs": [
    {
     "data": {
      "text/plain": [
       "             Volume\n",
       "count  1.129100e+04\n",
       "mean   3.112278e+08\n",
       "std    3.337518e+08\n",
       "min    0.000000e+00\n",
       "25%    1.076945e+08\n",
       "50%    1.999520e+08\n",
       "75%    3.911250e+08\n",
       "max    7.421641e+09"
      ],
      "text/html": [
       "<div>\n",
       "<style scoped>\n",
       "    .dataframe tbody tr th:only-of-type {\n",
       "        vertical-align: middle;\n",
       "    }\n",
       "\n",
       "    .dataframe tbody tr th {\n",
       "        vertical-align: top;\n",
       "    }\n",
       "\n",
       "    .dataframe thead th {\n",
       "        text-align: right;\n",
       "    }\n",
       "</style>\n",
       "<table border=\"1\" class=\"dataframe\">\n",
       "  <thead>\n",
       "    <tr style=\"text-align: right;\">\n",
       "      <th></th>\n",
       "      <th>Volume</th>\n",
       "    </tr>\n",
       "  </thead>\n",
       "  <tbody>\n",
       "    <tr>\n",
       "      <th>count</th>\n",
       "      <td>1.129100e+04</td>\n",
       "    </tr>\n",
       "    <tr>\n",
       "      <th>mean</th>\n",
       "      <td>3.112278e+08</td>\n",
       "    </tr>\n",
       "    <tr>\n",
       "      <th>std</th>\n",
       "      <td>3.337518e+08</td>\n",
       "    </tr>\n",
       "    <tr>\n",
       "      <th>min</th>\n",
       "      <td>0.000000e+00</td>\n",
       "    </tr>\n",
       "    <tr>\n",
       "      <th>25%</th>\n",
       "      <td>1.076945e+08</td>\n",
       "    </tr>\n",
       "    <tr>\n",
       "      <th>50%</th>\n",
       "      <td>1.999520e+08</td>\n",
       "    </tr>\n",
       "    <tr>\n",
       "      <th>75%</th>\n",
       "      <td>3.911250e+08</td>\n",
       "    </tr>\n",
       "    <tr>\n",
       "      <th>max</th>\n",
       "      <td>7.421641e+09</td>\n",
       "    </tr>\n",
       "  </tbody>\n",
       "</table>\n",
       "</div>"
      ]
     },
     "execution_count": 18,
     "metadata": {},
     "output_type": "execute_result"
    }
   ],
   "execution_count": 18
  },
  {
   "metadata": {
    "ExecuteTime": {
     "end_time": "2025-10-03T17:24:56.318388Z",
     "start_time": "2025-10-03T17:24:56.314268Z"
    }
   },
   "cell_type": "code",
   "source": [
    "all_time_low_vol = volume['Volume'].min()\n",
    "all_time_low_vol_date = volume['Volume'].idxmin()\n",
    "print(f'All time low volume: {all_time_low_vol} on {all_time_low_date}')\n",
    "\n",
    "all_time_high_vol = volume['Volume'].max()\n",
    "all_time_high_vol_date = volume['Volume'].idxmax()\n",
    "print(f'All time high volume: {all_time_high_vol} on {all_time_high_date}')"
   ],
   "id": "48794abaaa061cb4",
   "outputs": [
    {
     "name": "stdout",
     "output_type": "stream",
     "text": [
      "All time low volume: 0 on 1982-07-08\n",
      "All time high volume: 7421640800 on 2024-12-26\n"
     ]
    }
   ],
   "execution_count": 19
  },
  {
   "metadata": {},
   "cell_type": "markdown",
   "source": "Balance Sheet",
   "id": "1f1c8f641a448fff"
  },
  {
   "metadata": {
    "ExecuteTime": {
     "end_time": "2025-10-03T17:24:56.372042Z",
     "start_time": "2025-10-03T17:24:56.365207Z"
    }
   },
   "cell_type": "code",
   "source": "balance_sheet.tail()",
   "id": "a42cbbeebeec3fee",
   "outputs": [
    {
     "data": {
      "text/plain": [
       "                                                   0              1  \\\n",
       "64  Cash Cash Equivalents And Short Term Investments  65171000000.0   \n",
       "65                      Other Short Term Investments  35228000000.0   \n",
       "66                         Cash And Cash Equivalents  29943000000.0   \n",
       "67                                  Cash Equivalents   2744000000.0   \n",
       "68                                    Cash Financial  27199000000.0   \n",
       "\n",
       "                2              3              4  \n",
       "64  61555000000.0  48304000000.0  62639000000.0  \n",
       "65  31590000000.0  24658000000.0  27699000000.0  \n",
       "66  29965000000.0  23646000000.0  34940000000.0  \n",
       "67   1606000000.0   5100000000.0  17635000000.0  \n",
       "68  28359000000.0  18546000000.0  17305000000.0  "
      ],
      "text/html": [
       "<div>\n",
       "<style scoped>\n",
       "    .dataframe tbody tr th:only-of-type {\n",
       "        vertical-align: middle;\n",
       "    }\n",
       "\n",
       "    .dataframe tbody tr th {\n",
       "        vertical-align: top;\n",
       "    }\n",
       "\n",
       "    .dataframe thead th {\n",
       "        text-align: right;\n",
       "    }\n",
       "</style>\n",
       "<table border=\"1\" class=\"dataframe\">\n",
       "  <thead>\n",
       "    <tr style=\"text-align: right;\">\n",
       "      <th></th>\n",
       "      <th>0</th>\n",
       "      <th>1</th>\n",
       "      <th>2</th>\n",
       "      <th>3</th>\n",
       "      <th>4</th>\n",
       "    </tr>\n",
       "  </thead>\n",
       "  <tbody>\n",
       "    <tr>\n",
       "      <th>64</th>\n",
       "      <td>Cash Cash Equivalents And Short Term Investments</td>\n",
       "      <td>65171000000.0</td>\n",
       "      <td>61555000000.0</td>\n",
       "      <td>48304000000.0</td>\n",
       "      <td>62639000000.0</td>\n",
       "    </tr>\n",
       "    <tr>\n",
       "      <th>65</th>\n",
       "      <td>Other Short Term Investments</td>\n",
       "      <td>35228000000.0</td>\n",
       "      <td>31590000000.0</td>\n",
       "      <td>24658000000.0</td>\n",
       "      <td>27699000000.0</td>\n",
       "    </tr>\n",
       "    <tr>\n",
       "      <th>66</th>\n",
       "      <td>Cash And Cash Equivalents</td>\n",
       "      <td>29943000000.0</td>\n",
       "      <td>29965000000.0</td>\n",
       "      <td>23646000000.0</td>\n",
       "      <td>34940000000.0</td>\n",
       "    </tr>\n",
       "    <tr>\n",
       "      <th>67</th>\n",
       "      <td>Cash Equivalents</td>\n",
       "      <td>2744000000.0</td>\n",
       "      <td>1606000000.0</td>\n",
       "      <td>5100000000.0</td>\n",
       "      <td>17635000000.0</td>\n",
       "    </tr>\n",
       "    <tr>\n",
       "      <th>68</th>\n",
       "      <td>Cash Financial</td>\n",
       "      <td>27199000000.0</td>\n",
       "      <td>28359000000.0</td>\n",
       "      <td>18546000000.0</td>\n",
       "      <td>17305000000.0</td>\n",
       "    </tr>\n",
       "  </tbody>\n",
       "</table>\n",
       "</div>"
      ]
     },
     "execution_count": 20,
     "metadata": {},
     "output_type": "execute_result"
    }
   ],
   "execution_count": 20
  },
  {
   "metadata": {},
   "cell_type": "markdown",
   "source": "Data preprocessing",
   "id": "ff9a5fe7536ceba7"
  },
  {
   "metadata": {
    "ExecuteTime": {
     "end_time": "2025-10-03T17:24:57.206117Z",
     "start_time": "2025-10-03T17:24:56.500900Z"
    }
   },
   "cell_type": "code",
   "source": [
    "import pandas as pd\n",
    "\n",
    "# Check the actual column names and index\n",
    "print(\"OHLC DataFrame columns:\", ohlc.columns.tolist())\n",
    "print(\"OHLC DataFrame index name:\", ohlc.index.name)\n",
    "print(\"\\nVolume DataFrame columns:\", volume.columns.tolist())\n",
    "print(\"Volume DataFrame index name:\", volume.index.name)\n",
    "print(\"\\n\" + \"=\"*50 + \"\\n\")\n",
    "\n",
    "# The date is likely in the index, not as a column\n",
    "# Reset index to make the date a column, then merge\n",
    "ohlc_reset = ohlc.reset_index()\n",
    "volume_reset = volume.reset_index()\n",
    "\n",
    "# Check what the index column is called after reset\n",
    "print(\"After reset_index:\")\n",
    "print(\"OHLC columns:\", ohlc_reset.columns.tolist())\n",
    "print(\"Volume columns:\", volume_reset.columns.tolist())\n",
    "print(\"\\n\" + \"=\"*50 + \"\\n\")\n",
    "\n",
    "# Get the names of the first columns (which were the indices)\n",
    "ohlc_date_col = ohlc_reset.columns[0]\n",
    "volume_date_col = volume_reset.columns[0]\n",
    "\n",
    "print(f\"OHLC date column: '{ohlc_date_col}'\")\n",
    "print(f\"Volume date column: '{volume_date_col}'\")\n",
    "print(\"\\n\" + \"=\"*50 + \"\\n\")\n",
    "\n",
    "# Merge using left_on and right_on since column names might differ\n",
    "merged_df = pd.merge(\n",
    "    ohlc_reset,\n",
    "    volume_reset,\n",
    "    left_on=ohlc_date_col,\n",
    "    right_on=volume_date_col,\n",
    "    how='outer'\n",
    ")\n",
    "\n",
    "# If the date columns had different names, drop the duplicate and rename\n",
    "if ohlc_date_col != volume_date_col:\n",
    "    merged_df = merged_df.drop(columns=[volume_date_col])\n",
    "    merged_df = merged_df.rename(columns={ohlc_date_col: 'Date'})\n",
    "elif ohlc_date_col != 'Date':\n",
    "    merged_df = merged_df.rename(columns={ohlc_date_col: 'Date'})\n",
    "\n",
    "print(\"Merged DataFrame:\")\n",
    "print(merged_df)\n",
    "print(\"\\nDataFrame Info:\")\n",
    "print(merged_df.info())"
   ],
   "id": "e59167543429686e",
   "outputs": [
    {
     "name": "stdout",
     "output_type": "stream",
     "text": [
      "OHLC DataFrame columns: ['Close', 'High', 'Low', 'Open']\n",
      "OHLC DataFrame index name: Price\n",
      "\n",
      "Volume DataFrame columns: ['Volume']\n",
      "Volume DataFrame index name: Date\n",
      "\n",
      "==================================================\n",
      "\n",
      "After reset_index:\n",
      "OHLC columns: ['Price', 'Close', 'High', 'Low', 'Open']\n",
      "Volume columns: ['Date', 'Volume']\n",
      "\n",
      "==================================================\n",
      "\n",
      "OHLC date column: 'Price'\n",
      "Volume date column: 'Date'\n",
      "\n",
      "==================================================\n",
      "\n"
     ]
    },
    {
     "ename": "ValueError",
     "evalue": "You are trying to merge on object and datetime64[ns] columns for key 'Price'. If you wish to proceed you should use pd.concat",
     "output_type": "error",
     "traceback": [
      "\u001B[31m---------------------------------------------------------------------------\u001B[39m",
      "\u001B[31mValueError\u001B[39m                                Traceback (most recent call last)",
      "\u001B[36mCell\u001B[39m\u001B[36m \u001B[39m\u001B[32mIn[21]\u001B[39m\u001B[32m, line 30\u001B[39m\n\u001B[32m     27\u001B[39m \u001B[38;5;28mprint\u001B[39m(\u001B[33m\"\u001B[39m\u001B[38;5;130;01m\\n\u001B[39;00m\u001B[33m\"\u001B[39m + \u001B[33m\"\u001B[39m\u001B[33m=\u001B[39m\u001B[33m\"\u001B[39m*\u001B[32m50\u001B[39m + \u001B[33m\"\u001B[39m\u001B[38;5;130;01m\\n\u001B[39;00m\u001B[33m\"\u001B[39m)\n\u001B[32m     29\u001B[39m \u001B[38;5;66;03m# Merge using left_on and right_on since column names might differ\u001B[39;00m\n\u001B[32m---> \u001B[39m\u001B[32m30\u001B[39m merged_df = \u001B[43mpd\u001B[49m\u001B[43m.\u001B[49m\u001B[43mmerge\u001B[49m\u001B[43m(\u001B[49m\n\u001B[32m     31\u001B[39m \u001B[43m    \u001B[49m\u001B[43mohlc_reset\u001B[49m\u001B[43m,\u001B[49m\n\u001B[32m     32\u001B[39m \u001B[43m    \u001B[49m\u001B[43mvolume_reset\u001B[49m\u001B[43m,\u001B[49m\n\u001B[32m     33\u001B[39m \u001B[43m    \u001B[49m\u001B[43mleft_on\u001B[49m\u001B[43m=\u001B[49m\u001B[43mohlc_date_col\u001B[49m\u001B[43m,\u001B[49m\n\u001B[32m     34\u001B[39m \u001B[43m    \u001B[49m\u001B[43mright_on\u001B[49m\u001B[43m=\u001B[49m\u001B[43mvolume_date_col\u001B[49m\u001B[43m,\u001B[49m\n\u001B[32m     35\u001B[39m \u001B[43m    \u001B[49m\u001B[43mhow\u001B[49m\u001B[43m=\u001B[49m\u001B[33;43m'\u001B[39;49m\u001B[33;43mouter\u001B[39;49m\u001B[33;43m'\u001B[39;49m\n\u001B[32m     36\u001B[39m \u001B[43m)\u001B[49m\n\u001B[32m     38\u001B[39m \u001B[38;5;66;03m# If the date columns had different names, drop the duplicate and rename\u001B[39;00m\n\u001B[32m     39\u001B[39m \u001B[38;5;28;01mif\u001B[39;00m ohlc_date_col != volume_date_col:\n",
      "\u001B[36mFile \u001B[39m\u001B[32m~/projects/BSEPrediction/.venv/lib/python3.12/site-packages/pandas/core/reshape/merge.py:170\u001B[39m, in \u001B[36mmerge\u001B[39m\u001B[34m(left, right, how, on, left_on, right_on, left_index, right_index, sort, suffixes, copy, indicator, validate)\u001B[39m\n\u001B[32m    155\u001B[39m     \u001B[38;5;28;01mreturn\u001B[39;00m _cross_merge(\n\u001B[32m    156\u001B[39m         left_df,\n\u001B[32m    157\u001B[39m         right_df,\n\u001B[32m   (...)\u001B[39m\u001B[32m    167\u001B[39m         copy=copy,\n\u001B[32m    168\u001B[39m     )\n\u001B[32m    169\u001B[39m \u001B[38;5;28;01melse\u001B[39;00m:\n\u001B[32m--> \u001B[39m\u001B[32m170\u001B[39m     op = \u001B[43m_MergeOperation\u001B[49m\u001B[43m(\u001B[49m\n\u001B[32m    171\u001B[39m \u001B[43m        \u001B[49m\u001B[43mleft_df\u001B[49m\u001B[43m,\u001B[49m\n\u001B[32m    172\u001B[39m \u001B[43m        \u001B[49m\u001B[43mright_df\u001B[49m\u001B[43m,\u001B[49m\n\u001B[32m    173\u001B[39m \u001B[43m        \u001B[49m\u001B[43mhow\u001B[49m\u001B[43m=\u001B[49m\u001B[43mhow\u001B[49m\u001B[43m,\u001B[49m\n\u001B[32m    174\u001B[39m \u001B[43m        \u001B[49m\u001B[43mon\u001B[49m\u001B[43m=\u001B[49m\u001B[43mon\u001B[49m\u001B[43m,\u001B[49m\n\u001B[32m    175\u001B[39m \u001B[43m        \u001B[49m\u001B[43mleft_on\u001B[49m\u001B[43m=\u001B[49m\u001B[43mleft_on\u001B[49m\u001B[43m,\u001B[49m\n\u001B[32m    176\u001B[39m \u001B[43m        \u001B[49m\u001B[43mright_on\u001B[49m\u001B[43m=\u001B[49m\u001B[43mright_on\u001B[49m\u001B[43m,\u001B[49m\n\u001B[32m    177\u001B[39m \u001B[43m        \u001B[49m\u001B[43mleft_index\u001B[49m\u001B[43m=\u001B[49m\u001B[43mleft_index\u001B[49m\u001B[43m,\u001B[49m\n\u001B[32m    178\u001B[39m \u001B[43m        \u001B[49m\u001B[43mright_index\u001B[49m\u001B[43m=\u001B[49m\u001B[43mright_index\u001B[49m\u001B[43m,\u001B[49m\n\u001B[32m    179\u001B[39m \u001B[43m        \u001B[49m\u001B[43msort\u001B[49m\u001B[43m=\u001B[49m\u001B[43msort\u001B[49m\u001B[43m,\u001B[49m\n\u001B[32m    180\u001B[39m \u001B[43m        \u001B[49m\u001B[43msuffixes\u001B[49m\u001B[43m=\u001B[49m\u001B[43msuffixes\u001B[49m\u001B[43m,\u001B[49m\n\u001B[32m    181\u001B[39m \u001B[43m        \u001B[49m\u001B[43mindicator\u001B[49m\u001B[43m=\u001B[49m\u001B[43mindicator\u001B[49m\u001B[43m,\u001B[49m\n\u001B[32m    182\u001B[39m \u001B[43m        \u001B[49m\u001B[43mvalidate\u001B[49m\u001B[43m=\u001B[49m\u001B[43mvalidate\u001B[49m\u001B[43m,\u001B[49m\n\u001B[32m    183\u001B[39m \u001B[43m    \u001B[49m\u001B[43m)\u001B[49m\n\u001B[32m    184\u001B[39m     \u001B[38;5;28;01mreturn\u001B[39;00m op.get_result(copy=copy)\n",
      "\u001B[36mFile \u001B[39m\u001B[32m~/projects/BSEPrediction/.venv/lib/python3.12/site-packages/pandas/core/reshape/merge.py:807\u001B[39m, in \u001B[36m_MergeOperation.__init__\u001B[39m\u001B[34m(self, left, right, how, on, left_on, right_on, left_index, right_index, sort, suffixes, indicator, validate)\u001B[39m\n\u001B[32m    803\u001B[39m \u001B[38;5;28mself\u001B[39m._validate_tolerance(\u001B[38;5;28mself\u001B[39m.left_join_keys)\n\u001B[32m    805\u001B[39m \u001B[38;5;66;03m# validate the merge keys dtypes. We may need to coerce\u001B[39;00m\n\u001B[32m    806\u001B[39m \u001B[38;5;66;03m# to avoid incompatible dtypes\u001B[39;00m\n\u001B[32m--> \u001B[39m\u001B[32m807\u001B[39m \u001B[38;5;28;43mself\u001B[39;49m\u001B[43m.\u001B[49m\u001B[43m_maybe_coerce_merge_keys\u001B[49m\u001B[43m(\u001B[49m\u001B[43m)\u001B[49m\n\u001B[32m    809\u001B[39m \u001B[38;5;66;03m# If argument passed to validate,\u001B[39;00m\n\u001B[32m    810\u001B[39m \u001B[38;5;66;03m# check if columns specified as unique\u001B[39;00m\n\u001B[32m    811\u001B[39m \u001B[38;5;66;03m# are in fact unique.\u001B[39;00m\n\u001B[32m    812\u001B[39m \u001B[38;5;28;01mif\u001B[39;00m validate \u001B[38;5;129;01mis\u001B[39;00m \u001B[38;5;129;01mnot\u001B[39;00m \u001B[38;5;28;01mNone\u001B[39;00m:\n",
      "\u001B[36mFile \u001B[39m\u001B[32m~/projects/BSEPrediction/.venv/lib/python3.12/site-packages/pandas/core/reshape/merge.py:1515\u001B[39m, in \u001B[36m_MergeOperation._maybe_coerce_merge_keys\u001B[39m\u001B[34m(self)\u001B[39m\n\u001B[32m   1513\u001B[39m     \u001B[38;5;28;01mraise\u001B[39;00m \u001B[38;5;167;01mValueError\u001B[39;00m(msg)\n\u001B[32m   1514\u001B[39m \u001B[38;5;28;01melif\u001B[39;00m \u001B[38;5;129;01mnot\u001B[39;00m needs_i8_conversion(lk.dtype) \u001B[38;5;129;01mand\u001B[39;00m needs_i8_conversion(rk.dtype):\n\u001B[32m-> \u001B[39m\u001B[32m1515\u001B[39m     \u001B[38;5;28;01mraise\u001B[39;00m \u001B[38;5;167;01mValueError\u001B[39;00m(msg)\n\u001B[32m   1516\u001B[39m \u001B[38;5;28;01melif\u001B[39;00m \u001B[38;5;28misinstance\u001B[39m(lk.dtype, DatetimeTZDtype) \u001B[38;5;129;01mand\u001B[39;00m \u001B[38;5;129;01mnot\u001B[39;00m \u001B[38;5;28misinstance\u001B[39m(\n\u001B[32m   1517\u001B[39m     rk.dtype, DatetimeTZDtype\n\u001B[32m   1518\u001B[39m ):\n\u001B[32m   1519\u001B[39m     \u001B[38;5;28;01mraise\u001B[39;00m \u001B[38;5;167;01mValueError\u001B[39;00m(msg)\n",
      "\u001B[31mValueError\u001B[39m: You are trying to merge on object and datetime64[ns] columns for key 'Price'. If you wish to proceed you should use pd.concat"
     ]
    }
   ],
   "execution_count": 21
  }
 ],
 "metadata": {
  "colab": {
   "provenance": []
  },
  "kernelspec": {
   "display_name": "Python 3 (ipykernel)",
   "language": "python",
   "name": "python3"
  },
  "language_info": {
   "codemirror_mode": {
    "name": "ipython",
    "version": 3
   },
   "file_extension": ".py",
   "mimetype": "text/x-python",
   "name": "python",
   "nbconvert_exporter": "python",
   "pygments_lexer": "ipython3",
   "version": "3.12.5"
  }
 },
 "nbformat": 4,
 "nbformat_minor": 5
}
